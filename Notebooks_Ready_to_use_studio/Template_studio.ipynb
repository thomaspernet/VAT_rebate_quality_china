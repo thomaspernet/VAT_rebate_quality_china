{
  "cells": [
    {
      "cell_type": "markdown",
      "source": [
        "# TITLE Data Studio\n",
        "\n",
        "This notebook has been generated on XX\n",
        "\n",
        "## Instruction to create connection\n",
        "\n",
        "1. Sign in\n",
        "\n",
        "To load the Data from Google, you need log in  with your Google Account. You need to run the cell with the function `connector.get_token()`. \n",
        "\n",
        "During this step, you'll be prompt to accept the app to read data in Google Doc, Spreadsheet and Drive. The app **will not** read data in your account since the data are uploaded from the owner of the dataset. \n",
        "\n",
        "For safety reason, Google warns you that the app isn't verify. We haven't verify the app since it is a private use only. Click on **Advanced** and then **connect to connect_py**\n",
        "\n",
        "![](https://github.com/thomaspernet/DataLab-JupyterNotebooks/blob/master/Instruction_workflow/verify_app_1.png?raw=true)\n",
        "\n",
        "It will download a token in the virtual machine. Since the machine is destroy when the jupyter  notebook is closed, **the credentials will not be saved**\n",
        "\n",
        "Note, if you use the studio locally, and you have already a token, you can use you your personal token. In this case, you don't need to run the cell `connector.get_token()`. However, you need to change the cell \n",
        "\n",
        "```\n",
        "gs = connector.open_connection(online_connection = True)\n",
        "```\n",
        "\n",
        "to \n",
        "\n",
        "```\n",
        "gs = connector.open_connection(online_connection = False, path_credential = '/PATH_CREDENTIAL/')\n",
        "```\n"
      ],
      "metadata": {
        "heading_collapsed": true
      }
    },
    {
      "cell_type": "code",
      "source": [
        "import pandas as pd\n",
        "from Fast_connectCloud import connector"
      ],
      "outputs": [],
      "execution_count": null,
      "metadata": {
        "hidden": true
      }
    },
    {
      "cell_type": "markdown",
      "source": [
        "### Sign in to console\n",
        "\n",
        "Run the cell below to log in to the console. If you run the notebook locally, skip the next cell and change `connector.open_connection(public_connection=None)` to `connector.open_connection(online_connection = False, path_credential = '/PATH_CREDENTIAL/')`\n"
      ],
      "metadata": {
        "hidden": true
      }
    },
    {
      "cell_type": "code",
      "source": [
        "connector.get_token()"
      ],
      "outputs": [],
      "execution_count": null,
      "metadata": {
        "collapsed": false,
        "outputHidden": false,
        "inputHidden": false
      }
    },
    {
      "cell_type": "markdown",
      "source": [
        "### Open the connection\n",
        "\nThe cell below create the connection with Google Cloud. "
      ],
      "metadata": {
        "collapsed": false,
        "outputHidden": false,
        "inputHidden": false
      }
    },
    {
      "cell_type": "code",
      "source": [
        "gs = connector.open_connection(online_connection = True)\n",
        "\nservice = gs.connect_remote()"
      ],
      "outputs": [],
      "execution_count": null,
      "metadata": {
        "hidden": true
      }
    },
    {
      "cell_type": "markdown",
      "source": [
        "# Load the data\n",
        "\n",
        "Data is located in Google Sheet:\n",
        "\n",
        "- [XXX](HERE)\n",
        "\nThe variables names and labels are the following:"
      ],
      "metadata": {
        "heading_collapsed": true
      }
    },
    {
      "cell_type": "markdown",
      "source": [],
      "metadata": {}
    },
    {
      "cell_type": "markdown",
      "source": [
        "## Load the data"
      ],
      "metadata": {}
    },
    {
      "cell_type": "code",
      "source": [],
      "outputs": [],
      "execution_count": null,
      "metadata": {
        "hidden": true
      }
    },
    {
      "cell_type": "markdown",
      "source": [
        "## Load DataViz Studio\n",
        "\n",
        "- Remember to select:\n",
        "    - Cells -> Current output -> Toggle\n",
        "\nWe set cdr to cdr since we want to save the report in the drive"
      ],
      "metadata": {
        "hidden": true
      }
    },
    {
      "cell_type": "code",
      "source": [
        "from DataAnalysisPy.AnalysisPy import QuickDescriptive\n",
        "%matplotlib inline"
      ],
      "outputs": [],
      "execution_count": null,
      "metadata": {
        "hidden": true
      }
    },
    {
      "cell_type": "markdown",
      "source": [
        "You can filter the cell below and re-launch the studio to get the filtered dataframe"
      ],
      "metadata": {
        "hidden": true
      }
    },
    {
      "cell_type": "code",
      "source": [
        "### Load interactive frame\n",
        "qgrid_widget = QuickDescriptive.grid_search(df = df_final,\n",
        "                             rows_to_display = 10)\n",
        "qgrid_widget"
      ],
      "outputs": [],
      "execution_count": null,
      "metadata": {
        "hidden": true
      }
    },
    {
      "cell_type": "code",
      "source": [
        "#### temporary method\n",
        "new_df = qgrid_widget.get_changed_df()\n",
        "QuickDescriptive.PyAnalysis(dataframe=new_df,\n",
        "                           automatic = True,\n",
        "                           Date = 'CHANGE VARIABLE',\n",
        "                            cdr = False)"
      ],
      "outputs": [],
      "execution_count": null,
      "metadata": {
        "hidden": true
      }
    }
  ],
  "metadata": {
    "kernelspec": {
      "name": "python3",
      "language": "python",
      "display_name": "Python 3"
    },
    "language_info": {
      "name": "python",
      "version": "3.6.7",
      "mimetype": "text/x-python",
      "codemirror_mode": {
        "name": "ipython",
        "version": 3
      },
      "pygments_lexer": "ipython3",
      "nbconvert_exporter": "python",
      "file_extension": ".py"
    },
    "toc": {
      "toc_position": {},
      "skip_h1_title": false,
      "number_sections": true,
      "title_cell": "Table of Contents",
      "toc_window_display": false,
      "base_numbering": 1,
      "toc_section_display": true,
      "title_sidebar": "Contents",
      "toc_cell": false,
      "nav_menu": {},
      "sideBar": true
    },
    "kernel_info": {
      "name": "python3"
    },
    "nteract": {
      "version": "0.12.3"
    }
  },
  "nbformat": 4,
  "nbformat_minor": 2
}