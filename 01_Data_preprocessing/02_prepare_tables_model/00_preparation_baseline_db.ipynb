{
 "cells": [
  {
   "cell_type": "markdown",
   "metadata": {
    "lines_to_next_cell": 0
   },
   "source": [
    "# Baseline dataset paper Quality data preprocessing\n",
    "\n",
    "# Objective(s)\n",
    "\n",
    "*  Create a dataset with year 2002 to 2010, which join the export, tax and tariff tables. \n",
    "* Add the query to the parameter_ETL.json \n",
    "* Please, update the Source URL by clicking on the button after the information have been pasted\n",
    "  * US 02 create baseline tables Modify rows\n",
    "  * Delete tables and Github related to the US: Delete rows\n",
    "  \n",
    "# Metadata\n",
    "\n",
    "* Epic: Epic 1\n",
    "* US: US 2\n",
    "* Date Begin: 9/25/2020\n",
    "* Duration Task: 1\n",
    "* Description: Join export, tax and tariff tables\n",
    "* Status: Active\n",
    "  * Change Status task: Active\n",
    "  * Update table: Modify rows\n",
    "* Source URL: US 02 create baseline tables\n",
    "* Task type: Jupyter Notebook\n",
    "* Users: Thomas Pernet\n",
    "* Watchers: Thomas Pernet\n",
    "* User Account: https://468786073381.signin.aws.amazon.com/console\n",
    "* Estimated Log points: 8\n",
    "* Task tag: #athena,#sql,#data-preparation\n",
    "* Toggl Tag: #data-preparation\n",
    "\n",
    "# Input Cloud Storage [AWS/GCP]\n",
    "\n",
    "If link from the internet, save it to the cloud first\n",
    "\n",
    "## Table/file\n",
    "\n",
    "* Origin: \n",
    "* Athena\n",
    "* Name: \n",
    "* applied_mfn_tariffs_hs02_china_2002_2010\n",
    "* base_hs6_VAT_2002_2012\n",
    "* import_export\n",
    "* Github: * 01_tables_trade_tariffs_taxes\n",
    "\n",
    "# Destination Output/Delivery\n",
    "\n",
    "## Table/file\n",
    "\n",
    "* Origin: \n",
    "* Athena\n",
    "* Name:\n",
    "* VAT_export_2002_2010\n",
    "* GitHub:\n",
    "  *  00_preparation_baseline_db"
   ]
  },
  {
   "cell_type": "markdown",
   "metadata": {
    "heading_collapsed": true
   },
   "source": [
    "## Destination Output/Delivery\n",
    "\n",
    "* Jupyter Notebook (Github Link):\n",
    "  * md : [00_preparation_baseline_db.md](https://github.com/thomaspernet/VAT_rebate_quality_china/blob/master/Data_preprocessing/00_preparation_baseline_db.md)\n",
    "  * ipynb: [00_preparation_baseline_db.ipynb](https://github.com/thomaspernet/VAT_rebate_quality_china/blob/master/Data_preprocessing/00_preparation_baseline_db.ipynb)\n",
    "  \n",
    "* GCP:\n",
    "  * Project: valid-pagoda-132423 \n",
    "  * Database: China \n",
    "  * Table: VAT_export_2002_2010 "
   ]
  },
  {
   "cell_type": "markdown",
   "metadata": {},
   "source": [
    "# Load Dataset\n"
   ]
  },
  {
   "cell_type": "code",
   "execution_count": null,
   "metadata": {
    "collapsed": false,
    "inputHidden": false,
    "jupyter": {
     "outputs_hidden": false
    },
    "outputHidden": false
   },
   "outputs": [],
   "source": [
    "import pandas as pd \n",
    "import numpy as np\n",
    "from pathlib import Path\n",
    "import os, re,  requests, json \n",
    "from GoogleDrivePy.google_authorization import authorization_service\n",
    "from GoogleDrivePy.google_platform import connect_cloud_platform"
   ]
  },
  {
   "cell_type": "code",
   "execution_count": null,
   "metadata": {
    "collapsed": false,
    "inputHidden": false,
    "jupyter": {
     "outputs_hidden": false
    },
    "outputHidden": false
   },
   "outputs": [],
   "source": [
    "path = os.getcwd()\n",
    "parent_path = str(Path(path).parent)\n",
    "project = 'valid-pagoda-132423'\n",
    "\n",
    "\n",
    "auth = authorization_service.get_authorization(\n",
    "    path_credential_gcp = \"{}/creds/service.json\".format(parent_path),\n",
    "    verbose = False#\n",
    ")\n",
    "\n",
    "gcp_auth = auth.authorization_gcp()\n",
    "gcp = connect_cloud_platform.connect_console(project = project, \n",
    "                                             service_account = gcp_auth) "
   ]
  },
  {
   "cell_type": "markdown",
   "metadata": {
    "heading_collapsed": true
   },
   "source": [
    "## Things to know (Steps, Attention points or new flow of information)\n",
    "\n",
    "### Steps\n",
    "\n",
    "1. Filter export, trade type, business type and interemediaries  \n",
    "2. Append data 2003 to 2009\n",
    "3. Create regime\n",
    "4. Merge with VAT rebate -> Use lag\n",
    "5. Keep pair year, city, HS when both regime available\n",
    "6. Merge geocode\n",
    "7. Remove NULL vat rebate\n",
    "\n",
    "\n",
    "### Consideration’s point for the developers/analyst\n",
    "\n",
    "* Here is the list of trade type needed: Trade_type \n",
    "  * Processing with imported materials => 进料加工贸易 : eligible to vat refund\n",
    "  * Ordinary trade 一般贸易: eligible to vat refund\n",
    "  * Processing with supplied materials => 来料加工装配贸易 : no eligible to vat refund\n",
    "* Keep the following business type Business_type :\n",
    "  * 国有企业\n",
    "  * 私营企业\n",
    "  * 集体企业\n",
    "* Remove intermediate: intermediate \n",
    "  * keep No \n",
    "* Make sure there is at least one firm per: City-HS6-Destination\n",
    "* Computation VAT rebate:\n",
    "  * rebate: (vat_m-vat_reb_m)\n",
    "  * ln_vat_tax = log(1+(vat_m-vat_reb_m))"
   ]
  },
  {
   "cell_type": "code",
   "execution_count": null,
   "metadata": {
    "collapsed": false,
    "inputHidden": false,
    "jupyter": {
     "outputs_hidden": false
    },
    "outputHidden": false
   },
   "outputs": [],
   "source": [
    "query = \"\"\"\n",
    "WITH merge_data AS (\n",
    "  SELECT \n",
    "    CAST(Date AS STRING) as year, \n",
    "    ID, \n",
    "    Trade_type, \n",
    "    Business_type, \n",
    "    CASE WHEN length(\n",
    "      CAST(HS AS STRING)\n",
    "    ) < 5 THEN CONCAT(\n",
    "      \"0\", \n",
    "      CAST(HS AS STRING)\n",
    "    ) ELSE CAST(HS AS STRING) END as HS6, \n",
    "    city_prod, \n",
    "    Origin_or_destination as destination, \n",
    "    Quantity, \n",
    "    value,\n",
    "    CASE WHEN Trade_type = '进料加工贸易' \n",
    "    OR Trade_type = '一般贸易' THEN 'Eligible' ELSE 'Not_Eligible' END as regime \n",
    "  FROM \n",
    "    `China.tradedata_*` \n",
    "  WHERE \n",
    "    (\n",
    "      _TABLE_SUFFIX BETWEEN '2002' \n",
    "      AND '2006'\n",
    "    ) \n",
    "    AND imp_exp = '出口' \n",
    "    AND (\n",
    "      Trade_type = '进料加工贸易' \n",
    "      OR Trade_type = '一般贸易' \n",
    "      OR Trade_type = '来料加工装配贸易'\n",
    "    ) \n",
    "    AND intermediate = 'No' \n",
    "    AND (\n",
    "      Business_type = '国有企业' \n",
    "      OR Business_type = '私营企业' \n",
    "      OR Business_type = '集体企业' \n",
    "      OR Business_type = '国有' \n",
    "      OR Business_type = '私营' \n",
    "      OR Business_type = '集体'\n",
    "      \n",
    "    ) \n",
    "  UNION ALL \n",
    "  SELECT \n",
    "    CAST(Date AS STRING) as year, \n",
    "    ID, \n",
    "    Trade_type, \n",
    "    Business_type, \n",
    "    CASE WHEN length(\n",
    "      CAST(HS AS STRING)\n",
    "    ) < 5 THEN CONCAT(\n",
    "      \"0\", \n",
    "      CAST(HS AS STRING)\n",
    "    ) ELSE CAST(HS AS STRING) END as HS6, \n",
    "    city_prod, \n",
    "    Origin_or_destination as destination, \n",
    "    Quantity, \n",
    "    value,\n",
    "    CASE WHEN Trade_type = '进料加工贸易' \n",
    "    OR Trade_type = '一般贸易' THEN 'Eligible' ELSE 'Not_Eligible' END as regime \n",
    "  FROM \n",
    "    `China.tradedata_*` \n",
    "  WHERE \n",
    "    NOT(\n",
    "      _TABLE_SUFFIX BETWEEN '2000' \n",
    "      AND '2006'\n",
    "    ) \n",
    "    AND imp_exp = '出口' \n",
    "    AND intermediate = 'No' \n",
    "    AND (\n",
    "      Business_type = '国有企业' \n",
    "      OR Business_type = '私营企业' \n",
    "      OR Business_type = '集体企业'\n",
    "    )\n",
    ") \n",
    "SELECT \n",
    "      * \n",
    "    FROM \n",
    "      (\n",
    "        WITH aggregate AS (\n",
    "          SELECT  \n",
    "            city_prod, \n",
    "            year, \n",
    "            regime,\n",
    "            HS6, \n",
    "            destination, \n",
    "            SUM(Quantity) as Quantity, \n",
    "            SUM(value) as value \n",
    "          FROM \n",
    "            merge_data \n",
    "          GROUP BY \n",
    "            year, \n",
    "            regime, \n",
    "            HS6, \n",
    "            city_prod, \n",
    "            destination\n",
    "        ) \n",
    "        SELECT\n",
    "          cityen,\n",
    "          geocode4_corr, \n",
    "          aggregate.year, \n",
    "          regime, \n",
    "          aggregate.HS6, \n",
    "          Country_en, \n",
    "          ISO_alpha, \n",
    "          Quantity, \n",
    "          value, \n",
    "          SAFE_DIVIDE(value, Quantity) AS unit_price ,\n",
    "          lag_tax_rebate, \n",
    "          ln(1 + lag_tax_rebate) as ln_lag_tax_rebate, \n",
    "          lag_import_tax, \n",
    "          ln(1 + lag_import_tax) AS ln_lag_import_tax\n",
    "        FROM \n",
    "          aggregate \n",
    "        INNER JOIN (SELECT DISTINCT(citycn) as citycn, cityen,geocode4_corr FROM China.city_cn_en )AS city_cn_en\n",
    "        ON city_cn_en.citycn = aggregate.city_prod   \n",
    "        LEFT JOIN China.country_cn_en ON country_cn_en.Country_cn = aggregate.destination\n",
    "        INNER JOIN (\n",
    "            SELECT \n",
    "              year, \n",
    "              HS02, \n",
    "              LAG(import_tax, 1) OVER (\n",
    "                PARTITION BY HS02 \n",
    "                ORDER BY \n",
    "                  HS02, \n",
    "                  year\n",
    "              ) AS lag_import_tax \n",
    "            FROM \n",
    "              China.applied_MFN_Tariffs_hs02_china_2002_2010 \n",
    "            WHERE \n",
    "              import_tax IS NOT NULL\n",
    "          ) as import_tarrif ON import_tarrif.year = aggregate.year \n",
    "          AND import_tarrif.HS02 = aggregate.HS6\n",
    "          LEFT JOIN (\n",
    "            SELECT \n",
    "              HS6, \n",
    "              year, \n",
    "              tax_rebate, \n",
    "              vat_m, \n",
    "              vat_reb_m, \n",
    "              LAG(vat_m, 1) OVER (\n",
    "                PARTITION BY HS6 \n",
    "                ORDER BY \n",
    "                  HS6, \n",
    "                  year\n",
    "              ) AS lag_vat_m, \n",
    "              LAG(vat_reb_m, 1) OVER (\n",
    "                PARTITION BY HS6 \n",
    "                ORDER BY \n",
    "                  HS6, \n",
    "                  year\n",
    "              ) AS lag_vat_reb_m, \n",
    "              LAG(tax_rebate, 1) OVER (\n",
    "                PARTITION BY HS6 \n",
    "                ORDER BY \n",
    "                  HS6, \n",
    "                  year\n",
    "              ) AS lag_tax_rebate, \n",
    "            FROM \n",
    "              China.base_hs6_VAT_2002_2012 \n",
    "            WHERE \n",
    "              vat_m IS NOT NULL\n",
    "          ) as vat \n",
    "          ON aggregate.year = vat.year \n",
    "          AND aggregate.HS6 = vat.HS6\n",
    "          WHERE lag_tax_rebate IS NOT NULL AND lag_import_tax IS NOT NULL\n",
    "          ORDER BY geocode4_corr, HS6, year, regime\n",
    "        )\n",
    "-- 7 587 818\n",
    "-- 6 455 025\n",
    "-- 6 455 025\n",
    "-- 6 241 309\n",
    "-- 5 848 017\n",
    "\"\"\""
   ]
  },
  {
   "cell_type": "code",
   "execution_count": null,
   "metadata": {},
   "outputs": [],
   "source": [
    "query = (\n",
    "          \"SELECT * \"\n",
    "            \"FROM China.VAT_export_2002_2010 \"\n",
    "\n",
    "        )\n",
    "df_final = gcp.upload_data_from_bigquery(query = query, location = 'US')\n",
    "df_final.head()"
   ]
  },
  {
   "cell_type": "code",
   "execution_count": null,
   "metadata": {},
   "outputs": [],
   "source": [
    "df_final.shape"
   ]
  },
  {
   "cell_type": "code",
   "execution_count": null,
   "metadata": {},
   "outputs": [],
   "source": [
    "import sidetable\n",
    "df_final.stb.freq(['year'])"
   ]
  },
  {
   "cell_type": "code",
   "execution_count": null,
   "metadata": {},
   "outputs": [],
   "source": [
    "df_final['year'].unique()"
   ]
  },
  {
   "cell_type": "markdown",
   "metadata": {},
   "source": [
    "# Upload to cloud\n",
    "\n",
    "The dataset is ready to be shared with your colleagues. \n",
    "\n"
   ]
  },
  {
   "cell_type": "markdown",
   "metadata": {
    "nteract": {
     "transient": {
      "deleting": false
     }
    }
   },
   "source": [
    "# Generate Studio\n",
    "\n",
    "To generate a notebook ready to use in the studio, please fill in the variables below:\n",
    "\n",
    "- 'project_name' : Name of the repository\n",
    "- 'input_datasets' : name of the table\n",
    "- 'sheetnames' : Name of the sheet, if table saved in Google Spreadsheet\n",
    "- 'bigquery_dataset' : Dataset name\n",
    "- 'destination_engine' : 'GCP' or 'GS,\n",
    "- 'path_destination_studio' : path to `Notebooks_Ready_to_use_studio`\n",
    "- 'project' : 'valid-pagoda-132423',\n",
    "- 'username' : \"thomas\",\n",
    "- 'pathtoken' : Path to GCP token,\n",
    "- 'connector' : 'GBQ', ## change to GS if spreadsheet\n",
    "- 'labels' : Add any labels to the variables,\n",
    "- 'date_var' : Date variable"
   ]
  },
  {
   "cell_type": "code",
   "execution_count": null,
   "metadata": {
    "collapsed": false,
    "jupyter": {
     "outputs_hidden": false,
     "source_hidden": false
    },
    "nteract": {
     "transient": {
      "deleting": false
     }
    }
   },
   "outputs": [],
   "source": [
    "labels = []\n",
    "date_var = 'year'"
   ]
  },
  {
   "cell_type": "code",
   "execution_count": null,
   "metadata": {
    "collapsed": false,
    "jupyter": {
     "outputs_hidden": false,
     "source_hidden": false
    },
    "nteract": {
     "transient": {
      "deleting": false
     }
    }
   },
   "outputs": [],
   "source": [
    "regex = r\"(.*)/(.*)\"\n",
    "path = os.getcwd()\n",
    "parent_path = Path(path).parent\n",
    "test_str = str(parent_path)\n",
    "matches = re.search(regex, test_str)\n",
    "github_repo = matches.group(2)\n",
    "\n",
    "path_credential = '/Users/Thomas/Google Drive/Projects/Data_science/Google_code_n_Oauth/Client_Oauth/Google_auth/'\n",
    "\n",
    "dic_ = {\n",
    "    \n",
    "          'project_name' : github_repo,\n",
    "          'input_datasets' : 'PROJECTNAME',\n",
    "          'sheetnames' : '',\n",
    "          'bigquery_dataset' : 'China',\n",
    "          'destination_engine' : 'GCP',\n",
    "          'path_destination_studio' : os.path.join(test_str,\n",
    "                                       'Notebooks_Ready_to_use_studio'),\n",
    "          'project' : 'valid-pagoda-132423',\n",
    "          'username' : \"thomas\",\n",
    "          'pathtoken' : path_credential,\n",
    "          'connector' : 'GBQ', ## change to GS if spreadsheet\n",
    "          'labels' : labels,\n",
    "          'date_var' : date_var\n",
    "}\n",
    "#create_studio = studio.connector_notebook(dic_)\n",
    "#create_studio.generate_notebook_studio()"
   ]
  },
  {
   "cell_type": "markdown",
   "metadata": {
    "nteract": {
     "transient": {
      "deleting": false
     }
    }
   },
   "source": [
    "# Add data to catalogue\n",
    "\n",
    "Now that the dataset is ready, you need to add the underlying information to the data catalogue. The data catalogue is stored in [Coda](https://coda.io/d/MasterFile-Database_dvfMWDBnHh8/MetaDatabase_suYFO#_ludIZ), more precisely, in the table named `DataSource`. \n",
    "\n",
    "The cells below helps you to push the information directly to the table using Coda API.\n",
    "\n",
    "The columns are as follow:\n",
    "\n",
    "- `Storage`: Define the location of the table\n",
    "    - GBQ, GS, MongoDB\n",
    "- `Theme`: Define a theme attached to the table\n",
    "    - Accountancy, Complexity, Correspondance, Customer_prediction, Distance, Environment, Finance, Macro, Production, Productivity, Survey, Trade\n",
    "- `Database`: Name of the dataset. Use only for GBQ or MongoDB (collection)\n",
    "    - Business, China, Steamforged, Trade\n",
    "- `Path`:A URL with the path of the location of the dataset\n",
    "- `Filename`: Name of the table\n",
    "- `Description`: Description of the table. Be very specific. \n",
    "- `Source_data`: A list of the data sources used to construct the table.\n",
    "- `Link_methodology`: URL linked to the notebook\n",
    "- `Dataset_documentation`: Github repository attached to the table\n",
    "- `Status`: Status of the table. \n",
    "    - `Closed` if the table won't be altered in the future\n",
    "    - `Active` if the table will be altered in the future\n",
    "- `Profiling`: Specify if the user created a Pandas profiling\n",
    "    - `True` if the profiling has been created\n",
    "    - `False` otherwise\n",
    "- `Profiling_URL`: Profiling URL (link to Github). Always located in `Data_catalogue/table_profiling`\n",
    "- `JupyterStudio`: Specify if the user created a notebook to open the studio\n",
    "    - `True` if the notebook has been created\n",
    "    - `False` otherwise\n",
    "- `JupyterStudio_launcher`: Notebook URL (link to Github). Always located in `Notebooks_Ready_to_use_studio`\n",
    "- `Nb_projects`: Number of projects using this dataset. A Coda formula. Do not update this row\n",
    "- `Created on`: Date of creation. A Coda formula. Do not update this row\n",
    "\n",
    "Remember to commit in GitHub to activate the URL link for the profiling and Studio"
   ]
  },
  {
   "cell_type": "code",
   "execution_count": null,
   "metadata": {
    "collapsed": false,
    "jupyter": {
     "outputs_hidden": false,
     "source_hidden": false
    },
    "nteract": {
     "transient": {
      "deleting": false
     }
    }
   },
   "outputs": [],
   "source": [
    "Storage = 'GBQ'\n",
    "Theme = 'Trade' \n",
    "Database = 'China'\n",
    "Description = \"The table is related to the paper that studies the effect of industrial policy in China, the VAT export tax, on the quality upgrading. We use Chinese transaction data for 2002-2006 to isolate the causal impact of the exogenous variation of VAT refund tax and within firm-product change in HS6 exported quality products.\"\n",
    "Filename = 'VAT_export_2002_2010'\n",
    "Status = 'Active'"
   ]
  },
  {
   "cell_type": "markdown",
   "metadata": {
    "nteract": {
     "transient": {
      "deleting": false
     }
    }
   },
   "source": [
    "The next cell pushes the information to [Coda](https://coda.io/d/MasterFile-Database_dvfMWDBnHh8/Test-API_suDBp#API_tuDK4)"
   ]
  },
  {
   "cell_type": "code",
   "execution_count": null,
   "metadata": {
    "collapsed": false,
    "jupyter": {
     "outputs_hidden": false,
     "source_hidden": false
    },
    "nteract": {
     "transient": {
      "deleting": false
     }
    }
   },
   "outputs": [],
   "source": [
    "regex = r\"(.*)/(.*)\"\n",
    "path = os.getcwd()\n",
    "parent_path = Path(path).parent\n",
    "test_str = str(parent_path)\n",
    "matches = re.search(regex, test_str)\n",
    "github_repo = matches.group(2)\n",
    "Source_data = ['tradedata_*', 'base_hs6_VAT_2002_2012', 'city_cn_en']\n",
    "\n",
    "Profiling = True\n",
    "if Profiling:\n",
    "    Profiling_URL = 'http://htmlpreview.github.io/?https://github.com/' \\\n",
    "    'thomaspernet/{}/blob/master/Data_catalogue/table_profiling/{}.html'.format(github_repo,\n",
    "                                                                               Filename)\n",
    "else:\n",
    "    Profiling_URL = ''\n",
    "JupyterStudio = False\n",
    "if JupyterStudio:\n",
    "    JupyterStudio_URL = '\"https://mybinder.org/v2/gh/thomaspernet/{0}/' \\\n",
    "    'master?filepath=Notebooks_Ready_to_use_studio%2F{1}_studio.ipynb'.format(github_repo, Filename)\n",
    "else:\n",
    "    JupyterStudio_URL = ''\n",
    "### BigQuery only \n",
    "path_url = 'https://console.cloud.google.com/bigquery?project=valid-pagoda-132423' \\\n",
    "'&p=valid-pagoda-132423&d=China&t={}&page=table'.format(Filename)\n",
    "\n",
    "Link_methodology = 'https://nbviewer.jupyter.org/github/thomaspernet/' \\\n",
    "    '{0}/blob/master/Data_preprocessing/' \\\n",
    "    '{1}.ipynb'.format(github_repo,\n",
    "    Filename)\n",
    "\n",
    "Dataset_documentation = 'https://github.com/thomaspernet/{}'.format(github_repo)\n",
    "\n",
    "to_add = {\n",
    "    'Storage': Storage,\n",
    "    'Theme': Theme,\n",
    "    'Database': Database,\n",
    "    'Path_url': path_url,\n",
    "    'Filename': Filename,\n",
    "    'Description': Description,\n",
    "    'Source_data': Source_data,\n",
    "    'Link_methodology': Link_methodology,\n",
    "    'Dataset_documentation': Dataset_documentation,\n",
    "    'Status': Status,\n",
    "    'Profiling_URL': Profiling_URL,\n",
    "    'JupyterStudio_launcher': JupyterStudio_URL\n",
    "\n",
    "}\n",
    "cols= []\n",
    "for key, value in to_add.items():\n",
    "    coda = {\n",
    "    'column': key,\n",
    "    'value':value\n",
    "    }\n",
    "    cols.append(coda)\n",
    "    \n",
    "###load token coda\n",
    "with open('token_coda.json') as json_file:\n",
    "    data = json.load(json_file)\n",
    "    \n",
    "token = data[0]['token'] \n",
    "\n",
    "uri = f'https://coda.io/apis/v1beta1/docs/vfMWDBnHh8/tables/grid-HgpAnIEhpP/rows'\n",
    "headers = {'Authorization': 'Bearer {}'.format(token)}\n",
    "payload = {\n",
    "  'rows': [\n",
    "    {\n",
    "      'cells': cols,\n",
    "    },\n",
    "  ],\n",
    "}\n",
    "req = requests.post(uri, headers=headers, json=payload)\n",
    "req.raise_for_status() # Throw if there was an error.\n",
    "res = req.json()"
   ]
  },
  {
   "cell_type": "code",
   "execution_count": null,
   "metadata": {
    "collapsed": false,
    "jupyter": {
     "outputs_hidden": false,
     "source_hidden": false
    },
    "nteract": {
     "transient": {
      "deleting": false
     }
    }
   },
   "outputs": [],
   "source": [
    "req.raise_for_status() "
   ]
  }
 ],
 "metadata": {
  "jupytext": {
   "formats": "ipynb,md"
  },
  "kernel_info": {
   "name": "python3"
  },
  "kernelspec": {
   "display_name": "Python 3",
   "language": "python",
   "name": "python3"
  },
  "language_info": {
   "codemirror_mode": {
    "name": "ipython",
    "version": 3
   },
   "file_extension": ".py",
   "mimetype": "text/x-python",
   "name": "python",
   "nbconvert_exporter": "python",
   "pygments_lexer": "ipython3",
   "version": "3.7.6"
  },
  "nteract": {
   "version": "0.22.0"
  },
  "toc": {
   "base_numbering": 1,
   "nav_menu": {},
   "number_sections": true,
   "sideBar": true,
   "skip_h1_title": false,
   "title_cell": "Table of Contents",
   "title_sidebar": "Contents",
   "toc_cell": false,
   "toc_position": {},
   "toc_section_display": true,
   "toc_window_display": false
  }
 },
 "nbformat": 4,
 "nbformat_minor": 4
}
