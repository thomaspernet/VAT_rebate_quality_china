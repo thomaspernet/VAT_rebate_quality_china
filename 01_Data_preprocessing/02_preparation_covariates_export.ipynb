{
 "cells": [
  {
   "cell_type": "markdown",
   "metadata": {},
   "source": [
    "# Add Export covariates\n",
    "\n",
    "This notebook has been generated on 08/16/2020\n",
    "\n",
    "## Objective(s)\n",
    "\n",
    "*   Add covariates related to the export profil of a given city. Six covariates can be added to the model:\n",
    "  * Lag Export growth by city, product, destination\n",
    "  * Lag Export growth by city, product\n",
    "  * Lag foreign export share by city, product, destination, regime\n",
    "  * Lag foreign export share by city, product, regime\n",
    "  * Lag SOE export share by city, product, destination, regime\n",
    "  * Lag SOE export share by city, product, regime\n",
    "* Include DataStudio (tick if yes): false\n",
    "\n",
    "## Metadata\n",
    "\n",
    "* Task type:\n",
    "  * Jupyter Notebook\n",
    "* Users: :\n",
    "  * Thomas Pernet\n",
    "* Watchers:\n",
    "  * Thomas Pernet\n",
    "* Estimated Log points:\n",
    "  * One being a simple task, 15 a very difficult one\n",
    "  *  5\n",
    "* Task tag\n",
    "  *  #covariates\n",
    "* Toggl Tag\n",
    "  * #variable-computation\n",
    "\n",
    "## Input Cloud Storage [AWS/GCP]\n",
    "\n",
    "1. BigQuery \n",
    "  * Table: quality_vat_export_2003_2010 \n",
    "    * Notebook construction file (data lineage) \n",
    "      * md : [00_preparation_baseline_db.md](https://github.com/thomaspernet/VAT_rebate_quality_china/blob/master/01_Data_preprocessing/00_preparation_baseline_db.md)\n",
    "      * md : [01_preparation_quality.md](https://github.com/thomaspernet/VAT_rebate_quality_china/blob/master/01_Data_preprocessing/01_preparation_quality.md)\n",
    "  * Table: tradedata_* \n",
    "    * Notebook construction file (data lineage) \n",
    "      * md : \n",
    "      * github: https://github.com/thomaspernet/Chinese-Trade-Data\n",
    "  * Table: city_cn_en \n",
    "    * Notebook construction file (data lineage) \n",
    "      * md : \n",
    "  * Table: country_cn_en \n",
    "    * Origin:\n",
    "      * https://docs.google.com/spreadsheets/d/1QYWcLI-ybZ6l7JeWvHPNhhIurNxSM3-sDyrrLB-l2VQ/edit#gid=909268406\n",
    "    * Notebook construction file (data lineage) \n",
    "      * md : \n",
    "\n",
    "## Destination Output/Delivery\n",
    "\n",
    "* BigQuery: \n",
    "  * Project: valid-pagoda-132423 \n",
    "  * Database:China \n",
    "  *  Table: quality_vat_export_2003_2010    \n",
    "\n",
    "## Things to know (Steps, Attention points or new flow of information)\n",
    "\n",
    "1. Paper 1: Trade policy repercussions: the role of local product space-Evidence from China\n",
    "  * Paperpile: https://paperpile.com/shared/WCeap6\n",
    "  * Paper: https://docs.google.com/file/d/1n8ociwqDVBaUKRTOmFX1mJepwIYqXlbd/edit\n",
    "  * Authors: Gourdon, Julien; Hering, Laura; Monjon, Stéphanie; Poncet, Sandra "
   ]
  },
  {
   "cell_type": "markdown",
   "metadata": {},
   "source": [
    "# Load Dataset\n",
    "\n",
    "## inputs\n",
    "\n",
    "- Filename: VAT_export_2003_2010\n",
    "- Link: https://console.cloud.google.com/bigquery?project=valid-pagoda-132423&p=valid-pagoda-132423&d=China&t=VAT_export_2003_2010&page=table\n",
    "- Type: Table\n",
    "\n",
    "Save locally because too slow to load"
   ]
  },
  {
   "cell_type": "code",
   "execution_count": null,
   "metadata": {},
   "outputs": [],
   "source": [
    "import pandas as pd \n",
    "import numpy as np\n",
    "from pathlib import Path\n",
    "import os, re,  requests, json \n",
    "from GoogleDrivePy.google_authorization import authorization_service\n",
    "from GoogleDrivePy.google_platform import connect_cloud_platform"
   ]
  },
  {
   "cell_type": "code",
   "execution_count": null,
   "metadata": {},
   "outputs": [],
   "source": [
    "path = os.getcwd()\n",
    "parent_path = str(Path(path).parent)\n",
    "project = 'valid-pagoda-132423'\n",
    "\n",
    "\n",
    "auth = authorization_service.get_authorization(\n",
    "    path_credential_gcp = \"{}/creds/service.json\".format(parent_path),\n",
    "    verbose = False#\n",
    ")\n",
    "\n",
    "gcp_auth = auth.authorization_gcp()\n",
    "gcp = connect_cloud_platform.connect_console(project = project, \n",
    "                                             service_account = gcp_auth) "
   ]
  },
  {
   "cell_type": "code",
   "execution_count": null,
   "metadata": {},
   "outputs": [],
   "source": [
    "query = (\n",
    "          \"SELECT * \"\n",
    "            \"FROM China.VAT_export_2003_2010 \"\n",
    "\n",
    "        )\n",
    "df_vat = gcp.upload_data_from_bigquery(query = query, location = 'US')\n",
    "df_vat.head()"
   ]
  },
  {
   "cell_type": "code",
   "execution_count": null,
   "metadata": {},
   "outputs": [],
   "source": [
    "#df_vat.to_csv('../00_Data_catalogue/temporary_local_data/VAT_export_2003_2010.csv', index = False)"
   ]
  },
  {
   "cell_type": "markdown",
   "metadata": {},
   "source": [
    "# Steps\n",
    "\n",
    "1."
   ]
  },
  {
   "cell_type": "markdown",
   "metadata": {},
   "source": [
    "## Consideration’s point for the developers/analyst\n",
    "\n",
    "From [Trade policy repercussions: the role of local product space-Evidence from China](https://docs.google.com/file/d/1n8ociwqDVBaUKRTOmFX1mJepwIYqXlbd/edit)\n",
    "\n",
    "2 Need to keep this variable Business_type  to compute the share, and the business types we are interested in are\n",
    "  * SOE: 国有企业 \n",
    "  * Foreign: 外商独资企业 \n",
    "  \n",
    "\n",
    "\n",
    "### B-1 Construction and data sources of control variables\n",
    "\n",
    "Since it is still possible that local export dynamics for a given product vary by trade\n",
    "regime or city, we add a vector of control variables $X_{c,k,j, t-1}^{R}$, with coefficient vector $\\lambda$. Therefore, we include the share of exports by foreign firms ($\\text{Foreign export share}_{c,k,j, t-1}^{R}$) and the share of state-owned firms ($\\text{State export share}_{c,k,j, t-1}^{R}$) defined at the city-product-regime level. \n",
    "\n",
    "These two controls are crucial to account for the time-varying ability of different localities to export\n",
    "different products (under different regimes) as export performance in China varies greatly by\n",
    "firm ownership (Amiti and Freund, 2010). We further include the change in city-product\n",
    "export values from t-2 to t-1 ($\\text{Export growth}_{c,k,j, t-1}$) to account for export dynamics at the\n",
    "city and HS6 product level.\n",
    "\n",
    "The Customs trade data is used to obtain several of our control variables: $\\text{Export growth}_{k,j,t-1}$,\n",
    "$\\text{Export growth}_{c,k,j, t-1}$, $\\text{Foreign export share}_{c,k,j, t-1}^{R}$\n",
    "and $\\text{State export share}_{c,k,j, t-1}^{R}$.\n",
    "\n",
    "$\\text{Export growth}_{k,j,t-1}$ and $\\text{Export growth}_{c,k,j, t-1}$ are yearly export growth at the product-level\n",
    "and at the city-product level respectively. These proxies of export dynamics are computed\n",
    "using the mid-point growth rate formula using export values from t-2 and t-1. $\\text{Foreign export share}_{c,k,j, t-1}^{R}$\n",
    "and $\\text{State export share}_{c,k,j, t-1}^{R}$ measure respectively the share of export quantities by foreign and state-owned firms for each product-city-regime combination.\n"
   ]
  },
  {
   "cell_type": "markdown",
   "metadata": {},
   "source": [
    "### Step "
   ]
  },
  {
   "cell_type": "code",
   "execution_count": null,
   "metadata": {},
   "outputs": [],
   "source": [
    "df_quality.shape"
   ]
  },
  {
   "cell_type": "markdown",
   "metadata": {},
   "source": [
    "# Upload to cloud\n",
    "\n",
    "The dataset is ready to be shared with your colleagues. \n",
    "\n",
    "## Output \n",
    "\n",
    "- Filename: quality_vat_export_2003_2010\n",
    "- Link: https://console.cloud.google.com/bigquery?project=valid-pagoda-132423&p=valid-pagoda-132423&d=China&t=quality_vat_export_2003_2010&page=table\n",
    "- Cloud Storage: \n",
    "- Type:  Table\n"
   ]
  },
  {
   "cell_type": "code",
   "execution_count": null,
   "metadata": {},
   "outputs": [],
   "source": [
    "df_quality.to_csv('quality_vat_export_2003_2010.csv', index = False)"
   ]
  },
  {
   "cell_type": "code",
   "execution_count": null,
   "metadata": {},
   "outputs": [],
   "source": [
    "bucket_name = 'chinese_data'\n",
    "destination_blob_name = 'paper_project/Processed'\n",
    "source_file_name = 'quality_vat_export_2003_2010.csv'"
   ]
  },
  {
   "cell_type": "code",
   "execution_count": null,
   "metadata": {},
   "outputs": [],
   "source": [
    "gcp.delete_blob(bucket_name, 'paper_project/Processed/quality_vat_export_2003_2010.csv')"
   ]
  },
  {
   "cell_type": "code",
   "execution_count": null,
   "metadata": {},
   "outputs": [],
   "source": [
    "gcp.upload_blob(bucket_name, destination_blob_name, source_file_name)"
   ]
  },
  {
   "cell_type": "code",
   "execution_count": null,
   "metadata": {},
   "outputs": [],
   "source": [
    "gcp.delete_table(dataset_name = 'China', name_table = 'quality_vat_export_2003_2010')"
   ]
  },
  {
   "cell_type": "code",
   "execution_count": null,
   "metadata": {},
   "outputs": [],
   "source": [
    "bucket_gcs ='chinese_data/paper_project/Processed/quality_vat_export_2003_2010.csv'\n",
    "gcp.move_to_bq_autodetect(dataset_name= 'China',\n",
    "\t\t\t\t\t\t\t name_table= 'quality_vat_export_2003_2010',\n",
    "\t\t\t\t\t\t\t bucket_gcs=bucket_gcs)"
   ]
  },
  {
   "cell_type": "code",
   "execution_count": null,
   "metadata": {},
   "outputs": [],
   "source": [
    "import shutil\n",
    "shutil.move('quality_vat_export_2003_2010.csv',\n",
    "            '../00_Data_catalogue/temporary_local_data/quality_vat_export_2003_2010.csv')"
   ]
  },
  {
   "cell_type": "markdown",
   "metadata": {},
   "source": [
    "# Add data to catalogue\n",
    "\n",
    "Now that the dataset is ready, you need to add the underlying information to the data catalogue. The data catalogue is stored in [Coda](https://coda.io/d/MasterFile-Database_dvfMWDBnHh8/MetaDatabase_suYFO#_ludIZ), more precisely, in the table named `DataSource`. \n",
    "\n",
    "The cells below helps you to push the information directly to the table using Coda API.\n",
    "\n",
    "The columns are as follow:\n",
    "\n",
    "- `Storage`: Define the location of the table\n",
    "    - GBQ, GS, MongoDB\n",
    "- `Theme`: Define a theme attached to the table\n",
    "    - Accountancy, Complexity, Correspondance, Customer_prediction, Distance, Environment, Finance, Macro, Production, Productivity, Survey, Trade\n",
    "- `Database`: Name of the dataset. Use only for GBQ or MongoDB (collection)\n",
    "    - Business, China, Steamforged, Trade\n",
    "- `Path`:A URL with the path of the location of the dataset\n",
    "- `Filename`: Name of the table\n",
    "- `Description`: Description of the table. Be very specific. \n",
    "- `Source_data`: A list of the data sources used to construct the table.\n",
    "- `Link_methodology`: URL linked to the notebook\n",
    "- `Dataset_documentation`: Github repository attached to the table\n",
    "- `Status`: Status of the table. \n",
    "    - `Closed` if the table won't be altered in the future\n",
    "    - `Active` if the table will be altered in the future\n",
    "- `Profiling`: Specify if the user created a Pandas profiling\n",
    "    - `True` if the profiling has been created\n",
    "    - `False` otherwise\n",
    "- `Profiling_URL`: Profiling URL (link to Github). Always located in `Data_catalogue/table_profiling`\n",
    "- `JupyterStudio`: Specify if the user created a notebook to open the studio\n",
    "    - `True` if the notebook has been created\n",
    "    - `False` otherwise\n",
    "- `JupyterStudio_launcher`: Notebook URL (link to Github). Always located in `Notebooks_Ready_to_use_studio`\n",
    "- `Nb_projects`: Number of projects using this dataset. A Coda formula. Do not update this row\n",
    "- `Created on`: Date of creation. A Coda formula. Do not update this row\n",
    "\n",
    "Remember to commit in GitHub to activate the URL link for the profiling and Studio"
   ]
  },
  {
   "cell_type": "code",
   "execution_count": null,
   "metadata": {},
   "outputs": [],
   "source": [
    "Storage = 'GBQ'\n",
    "Theme = 'Trade' \n",
    "Database = 'China'\n",
    "Description = \"The table is related to the paper that studies the effect of industrial policy in China, the VAT export tax, on the quality upgrading. We use Chinese transaction data for 2002-2006 to isolate the causal impact of the exogenous variation of VAT refund tax and within firm-product change in HS6 exported quality products.\"\n",
    "Filename = 'quality_vat_export_2003_2010'\n",
    "Status = 'Active'"
   ]
  },
  {
   "cell_type": "markdown",
   "metadata": {},
   "source": [
    "The next cell pushes the information to [Coda](https://coda.io/d/MasterFile-Database_dvfMWDBnHh8/Test-API_suDBp#API_tuDK4)"
   ]
  },
  {
   "cell_type": "code",
   "execution_count": null,
   "metadata": {},
   "outputs": [],
   "source": [
    "regex = r\"(.*)/(.*)\"\n",
    "path = os.getcwd()\n",
    "parent_path = Path(path).parent\n",
    "test_str = str(parent_path)\n",
    "matches = re.search(regex, test_str)\n",
    "github_repo = matches.group(2)\n",
    "Source_data = ['VAT_export_2002_2010', 'Sigmas_3digit_China', 'city_cn_en']\n",
    "\n",
    "Profiling = True\n",
    "if Profiling:\n",
    "    Profiling_URL = 'http://htmlpreview.github.io/?https://github.com/' \\\n",
    "    'thomaspernet/{}/blob/master/Data_catalogue/table_profiling/{}.html'.format(github_repo,\n",
    "                                                                               Filename)\n",
    "else:\n",
    "    Profiling_URL = ''\n",
    "JupyterStudio = False\n",
    "if JupyterStudio:\n",
    "    JupyterStudio_URL = '\"https://mybinder.org/v2/gh/thomaspernet/{0}/' \\\n",
    "    'master?filepath=Notebooks_Ready_to_use_studio%2F{1}_studio.ipynb'.format(github_repo, Filename)\n",
    "else:\n",
    "    JupyterStudio_URL = ''\n",
    "### BigQuery only \n",
    "path_url = 'https://console.cloud.google.com/bigquery?project=valid-pagoda-132423' \\\n",
    "'&p=valid-pagoda-132423&d=China&t={}&page=table'.format(Filename)\n",
    "\n",
    "Link_methodology = 'https://nbviewer.jupyter.org/github/thomaspernet/' \\\n",
    "    '{0}/blob/master/Data_preprocessing/' \\\n",
    "    '{1}.ipynb'.format(github_repo,\n",
    "    Filename)\n",
    "\n",
    "Dataset_documentation = 'https://github.com/thomaspernet/{}'.format(github_repo)\n",
    "\n",
    "to_add = {\n",
    "    'Storage': Storage,\n",
    "    'Theme': Theme,\n",
    "    'Database': Database,\n",
    "    'Path_url': path_url,\n",
    "    'Filename': Filename,\n",
    "    'Description': Description,\n",
    "    'Source_data': Source_data,\n",
    "    'Link_methodology': Link_methodology,\n",
    "    'Dataset_documentation': Dataset_documentation,\n",
    "    'Status': Status,\n",
    "    'Profiling_URL': Profiling_URL,\n",
    "    'JupyterStudio_launcher': JupyterStudio_URL\n",
    "\n",
    "}\n",
    "cols= []\n",
    "for key, value in to_add.items():\n",
    "    coda = {\n",
    "    'column': key,\n",
    "    'value':value\n",
    "    }\n",
    "    cols.append(coda)\n",
    "    \n",
    "###load token coda\n",
    "with open('token_coda.json') as json_file:\n",
    "    data = json.load(json_file)\n",
    "    \n",
    "token = data[0]['token'] \n",
    "\n",
    "uri = f'https://coda.io/apis/v1beta1/docs/vfMWDBnHh8/tables/grid-HgpAnIEhpP/rows'\n",
    "headers = {'Authorization': 'Bearer {}'.format(token)}\n",
    "payload = {\n",
    "  'rows': [\n",
    "    {\n",
    "      'cells': cols,\n",
    "    },\n",
    "  ],\n",
    "}\n",
    "req = requests.post(uri, headers=headers, json=payload)\n",
    "req.raise_for_status() # Throw if there was an error.\n",
    "res = req.json()"
   ]
  },
  {
   "cell_type": "code",
   "execution_count": null,
   "metadata": {},
   "outputs": [],
   "source": [
    "req"
   ]
  }
 ],
 "metadata": {
  "jupytext": {
   "formats": "ipynb,md"
  },
  "kernelspec": {
   "display_name": "Python 3",
   "language": "python",
   "name": "python3"
  },
  "language_info": {
   "codemirror_mode": {
    "name": "ipython",
    "version": 3
   },
   "file_extension": ".py",
   "mimetype": "text/x-python",
   "name": "python",
   "nbconvert_exporter": "python",
   "pygments_lexer": "ipython3",
   "version": "3.8.5"
  }
 },
 "nbformat": 4,
 "nbformat_minor": 4
}
