{
 "cells": [
  {
   "cell_type": "markdown",
   "metadata": {
    "kernel": "SoS"
   },
   "source": [
    "# POC replicate table 5 of the previous paper by subsetting according to tax level\n",
    "\n",
    "# Objective(s)\n",
    "\n",
    "Replicate table 5 of the previous paper\n",
    "\n",
    "https://drive.google.com/uc?export=view&id=151HkrKsUMiAEEgNQ66JkrIvIaoVZvYQI\n",
    "\n",
    "* Column 1 add shocks with the main fixed effect:\n",
    "  * city-product-regime: fe_ckr \n",
    "  * city-sector-regime-year: fe_csrt \n",
    "  * product-year: fe_kt \n",
    "  * Shocks: hs6 + destination + year = 2003 \n",
    "* Column 2 includes cities presents full years with the main fixed effect:\n",
    "  * city-product-regime: fe_ckr \n",
    "  * city-sector-regime-year: fe_csrt \n",
    "  * product-year: fe_kt \n",
    "* Column 3 switch eligible to non eligle with the main fixed effect:\n",
    "  * city-product-regime: fe_ckr \n",
    "  * city-sector-regime-year: fe_csrt \n",
    "  * product-year: fe_kt \n",
    "* Column 4 switch non eligible to eligible with the main fixed effect:\n",
    "  * city-product-regime: fe_ckr \n",
    "  * city-sector-regime-year: fe_csrt \n",
    "  * product-year: fe_kt \n",
    "* Column 5 keep rebates 17% with the main fixed effect:\n",
    "  * city-product-regime: fe_ckr \n",
    "  * city-sector-regime-year: fe_csrt \n",
    "  * product-year: fe_kt \n",
    "* Column 6 exclude rebates 0% with the main fixed effect:\n",
    "  * city-product-regime: fe_ckr \n",
    "  * city-sector-regime-year: fe_csrt \n",
    "  * product-year: fe_kt \n",
    "\n",
    "# Metadata\n",
    "\n",
    "* Epic: Epic 2\n",
    "* US: US 5\n",
    "* Date Begin: 10/5/2020\n",
    "* Duration Task: 0\n",
    "* Description: Replicate table 5 with and without the export share covariates\n",
    "* Step type:  \n",
    "* Status: Active\n",
    "* Source URL: US 05 Table 5 Tax level\n",
    "* Task type: Jupyter Notebook\n",
    "* Users: Thomas Pernet\n",
    "* Watchers: Thomas Pernet\n",
    "* User Account: https://468786073381.signin.aws.amazon.com/console\n",
    "* Estimated Log points: 5\n",
    "* Task tag: #econometrics,#ols\n",
    "* Toggl Tag: #model-training\n",
    "* Meetings:  \n",
    "* Email Information:  \n",
    "  * thread: Number of threads: 0(Default 0, to avoid display email)\n",
    "  *  \n",
    "\n",
    "# Input Cloud Storage [AWS/GCP]\n",
    "\n",
    "## Table/file\n",
    "\n",
    "* Origin: \n",
    "* Athena\n",
    "* Name: \n",
    "    * quality_vat_export_covariate_2003_2010\n",
    "    * base_hs6_VAT_2002_2012\n",
    "* Github: \n",
    "  * https://github.com/thomaspernet/VAT_rebate_quality_china/blob/master/01_data_preprocessing/02_prepare_tables_model/02_transform_table_baseline_covariates.md\n",
    "  * https://github.com/thomaspernet/VAT_rebate_quality_china/blob/master/01_data_preprocessing/01_prepare_tables/01_tables_trade_tariffs_taxes.md"
   ]
  },
  {
   "cell_type": "markdown",
   "metadata": {
    "kernel": "SoS"
   },
   "source": [
    "# Connexion server"
   ]
  },
  {
   "cell_type": "code",
   "execution_count": null,
   "metadata": {
    "kernel": "Python 3"
   },
   "outputs": [],
   "source": [
    "from awsPy.aws_authorization import aws_connector\n",
    "from awsPy.aws_s3 import service_s3\n",
    "from awsPy.aws_glue import service_glue\n",
    "from pathlib import Path\n",
    "import pandas as pd\n",
    "import numpy as np\n",
    "#import seaborn as sns\n",
    "import os, shutil\n",
    "\n",
    "path = os.getcwd()\n",
    "parent_path = str(Path(path).parent.parent.parent)\n",
    "\n",
    "\n",
    "name_credential = 'thomas_vat_credentials.csv'\n",
    "region = 'eu-west-3'\n",
    "bucket = 'chinese-data'\n",
    "path_cred = \"{0}/creds/{1}\".format(parent_path, name_credential)"
   ]
  },
  {
   "cell_type": "code",
   "execution_count": null,
   "metadata": {
    "kernel": "Python 3"
   },
   "outputs": [],
   "source": [
    "os.environ['KMP_DUPLICATE_LIB_OK']='True'"
   ]
  },
  {
   "cell_type": "code",
   "execution_count": null,
   "metadata": {
    "kernel": "Python 3"
   },
   "outputs": [],
   "source": [
    "con = aws_connector.aws_instantiate(credential = path_cred,\n",
    "                                       region = region)\n",
    "client= con.client_boto()\n",
    "s3 = service_s3.connect_S3(client = client,\n",
    "                      bucket = bucket, verbose = False)\n",
    "glue = service_glue.connect_glue(client = client) "
   ]
  },
  {
   "cell_type": "code",
   "execution_count": null,
   "metadata": {
    "kernel": "Python 3"
   },
   "outputs": [],
   "source": [
    "pandas_setting = True\n",
    "if pandas_setting:\n",
    "    #cm = sns.light_palette(\"green\", as_cmap=True)\n",
    "    pd.set_option('display.max_columns', None)\n",
    "    pd.set_option('display.max_colwidth', None)"
   ]
  },
  {
   "cell_type": "code",
   "execution_count": null,
   "metadata": {
    "kernel": "R"
   },
   "outputs": [],
   "source": [
    "#density\\_china\\_ville:ln\\_lag\\_import\\_tax\n",
    "change_import_tax_order <- function(table){\n",
    "    check_three_int <- grep(\"density_china_ville:regimeELIGIBLE:ln_lag_import_tax$\", rownames(table$coef))\n",
    "    check_two_int <- grep(\"density_china_ville:ln_lag_import_tax$\", rownames(table$coef))\n",
    "    check_two_eligible <- grep(\"^regimeELIGIBLE:balassa$\", rownames(table$coef))\n",
    "    \n",
    "    if (length(check_three_int) !=0) {\n",
    "    rownames(table$coefficients)[check_three_int] <- 'ln_lag_import_tax:density_china_ville:regimeELIGIBLE'\n",
    "    rownames(table$beta)[check_three_int] <- 'ln_lag_import_tax:density_china_ville:regimeELIGIBLE'\n",
    "}\n",
    "    if (length(check_two_int) !=0) {\n",
    "    rownames(table$coefficients)[check_two_int] <- 'ln_lag_import_tax:density_china_ville'\n",
    "    rownames(table$beta)[check_two_int] <- 'ln_lag_import_tax:density_china_ville'\n",
    "}\n",
    "    if (length(check_two_eligible) !=0) {\n",
    "    rownames(table$coefficients)[check_two_eligible] <- 'balassa:regimeELIGIBLE'\n",
    "    rownames(table$beta)[check_two_eligible] <- 'balassa:regimeELIGIBLE'\n",
    "}\n",
    "    \n",
    "    return (table)\n",
    "}"
   ]
  },
  {
   "cell_type": "code",
   "execution_count": null,
   "metadata": {
    "kernel": "R"
   },
   "outputs": [],
   "source": [
    "loadRData <- function(fileName){\n",
    "#loads an RData file, and returns it\n",
    "    load(fileName)\n",
    "    get(ls()[ls() != \"fileName\"])\n",
    "}"
   ]
  },
  {
   "cell_type": "markdown",
   "metadata": {
    "kernel": "SoS"
   },
   "source": [
    "# Load tables\n",
    "\n",
    "Since we load the data as a Pandas DataFrame, we want to pass the `dtypes`. We load the schema from Glue to guess the types"
   ]
  },
  {
   "cell_type": "markdown",
   "metadata": {
    "kernel": "SoS"
   },
   "source": [
    "- Filename: XX\n",
    "- Main table S3: https://s3.console.aws.amazon.com/s3/buckets/vat-rebate-quality/DATA/TRANSFORMED/?region=eu-west-3&tab=overview\n",
    "- Athena:\n",
    "    - base_hs6_vat_2002_2012"
   ]
  },
  {
   "cell_type": "code",
   "execution_count": null,
   "metadata": {
    "kernel": "Python 3"
   },
   "outputs": [],
   "source": [
    "download_data = True\n",
    "db = 'chinese_trade'\n",
    "if download_data:\n",
    "\n",
    "    query = \"\"\"\n",
    "    SELECT *\n",
    "    FROM chinese_trade.base_hs6_vat_2002_2012\n",
    "    \"\"\"\n",
    "    output = s3.run_query(\n",
    "            query=query,\n",
    "            database=db,\n",
    "            s3_output='SQL_OUTPUT_ATHENA',\n",
    "            filename=None,  # Add filename to print dataframe\n",
    "            destination_key=None # Add destination key if need to copy output\n",
    "        )\n",
    "    s3.download_file(\n",
    "        key = os.path.join('SQL_OUTPUT_ATHENA', \"{}.csv\".format(output['QueryID'])),\n",
    "    path_local = os.path.join(str(Path(path).parent.parent.parent), \n",
    "                              \"00_data_catalogue/temporary_local_data\")\n",
    ")\n",
    "    os.rename(os.path.join(str(Path(path).parent.parent.parent), \n",
    "                              \"00_data_catalogue/temporary_local_data\", \"{}.csv\".format(output['QueryID'])),\n",
    "         os.path.join(str(Path(path).parent.parent.parent), \n",
    "                              \"00_data_catalogue/temporary_local_data/base_hs6_vat_2002_2012.csv\")\n",
    "         )\n",
    "    "
   ]
  },
  {
   "cell_type": "markdown",
   "metadata": {
    "kernel": "SoS"
   },
   "source": [
    "# Models to estimate\n",
    "\n",
    "The model to estimate is: \n",
    "\n",
    "## Fixed Effect\n",
    "\n",
    "| Benchmark | Origin            | Name                     | Description                                                                                                                                                                                                                                                                                                                                    | Math_notebook     |\n",
    "|-----------|-------------------|--------------------------|------------------------------------------------------------------------------------------------------------------------------------------------------------------------------------------------------------------------------------------------------------------------------------------------------------------------------------------------|-------------------|\n",
    "| Yes       | Current           | city-product             |                                                                                                                                                                                                                                                                                                                                                | $\\alpha_{ck}$     |\n",
    "| Yes       | Current           | city-product-regime      |                                                                                                                                                                                                                                                                                                                                                | $\\alpha_{ck}^R$   |\n",
    "| Yes       | Current           | city-sector-year         | Sector is defined as GBT 4 digit                                                                                                                                                                                                                                                                                                               | $\\alpha_{cst}$    |\n",
    "| Yes       | Current           | city-sectorーregime-year | Sector is defined as GBT 4 digit                                                                                                                                                                                                                                                                                                               | $\\alpha_{cst}^R$  |\n",
    "| Yes       | Current           | product-destination      |                                                                                                                                                                                                                                                                                                                                                | $\\alpha_{pj}$     |\n",
    "| Yes       | Previous baseline | Product-year             | account for all factors that affect product-level export irrespective of the trade regime in a given year                                                                                                                                                                                                                                      | $\\alpha_{pt}$     |\n",
    "| No        | Previous baseline | firm-product-eligibility | captures all the factors that affect firms regardless of the time and type of regime. This firm‒product pair eliminates the demand shocks that firms face and that are not correlated with the types of status. The fixed effects are also responsible for potential correlations between subsidies, R&D, or trade policies and VAT rebates.   | $\\alpha^{E}_{it}$ |\n",
    "| No        | Previous baseline | HS4-year-eligibility     |                                                                                                                                                                                                                                                                                                                                                | $\\alpha^{E}_{st}$ |\n",
    "| No        | Previous baseline | city-year                | captures the differences in demand, capital intensity, or labor supply that prevail between cities each year                                                                                                                                                                                                                                   | $\\alpha_{ct}$     |\n",
    "| No        | Candidate         | destination-year         | Captures additional level of control, encompassing all the shocks and developments in the economies to which China exports.                                                                                                                                                                                                                    | $\\alpha_{dt}$     |\n",
    "\n",
    "\n",
    "- city-product: `fe_ck`\n",
    "- City-sector-year: `fe_cst`\n",
    "- City-product-regime: `fe_ckr`\n",
    "- City-sector-regime-year: `fe_csrt`\n",
    "- Product-year: `fe_kt`\n",
    "- Product-destination: `fe_pj`\n",
    "- Destination-year: `fe_jt`"
   ]
  },
  {
   "cell_type": "code",
   "execution_count": null,
   "metadata": {
    "kernel": "Python 3"
   },
   "outputs": [],
   "source": [
    "import function.latex_beautify as lb\n",
    "\n",
    "%load_ext autoreload\n",
    "%autoreload 2"
   ]
  },
  {
   "cell_type": "code",
   "execution_count": null,
   "metadata": {
    "kernel": "R"
   },
   "outputs": [],
   "source": [
    "options(warn=-1)\n",
    "library(tidyverse)\n",
    "library(lfe)\n",
    "#library(lazyeval)\n",
    "library('progress')\n",
    "path = \"function/table_golatex.R\"\n",
    "source(path)"
   ]
  },
  {
   "cell_type": "markdown",
   "metadata": {
    "kernel": "R"
   },
   "source": [
    "Create the fixed effect using Pandas is faster. We then save it locally and we will remove the file at the end of the notebook"
   ]
  },
  {
   "cell_type": "code",
   "execution_count": null,
   "metadata": {
    "kernel": "Python 3"
   },
   "outputs": [],
   "source": [
    "add_shock = True\n",
    "if add_shock:\n",
    "    path = '../../../00_Data_catalogue/temporary_local_data/quality_vat_export_covariate_2003_2010.csv'\n",
    "    temp = pd.read_csv(path)\n",
    "    ## Shocks\n",
    "    temp[\"fe_group_shock\"] = pd.factorize(\n",
    "        temp[\"hs6\"].astype('str') +\n",
    "        temp[\"country_en\"].astype('str') + \n",
    "        temp[\"year\"].astype('str'))[0]\n",
    "    path_to_save = '../../../00_Data_catalogue/temporary_local_data/quality_vat_export_covariate_2003_2010_temp.csv'\n",
    "    temp.to_csv(path_to_save, index = False)"
   ]
  },
  {
   "cell_type": "code",
   "execution_count": null,
   "metadata": {
    "kernel": "R"
   },
   "outputs": [],
   "source": [
    "path_vat = '../../../00_Data_catalogue/temporary_local_data/base_hs6_vat_2002_2012.csv'\n",
    "vat <- read_csv(path_vat, col_types = \"dddddd\")"
   ]
  },
  {
   "cell_type": "code",
   "execution_count": null,
   "metadata": {
    "kernel": "R"
   },
   "outputs": [],
   "source": [
    "path_density = '../../../00_Data_catalogue/temporary_local_data/density.Rda'\n",
    "density_city <- loadRData(file = path_density) \n",
    "density_city <- density_city %>% ungroup() %>% mutate(\n",
    "    hs6 = as.double(hs6), geocode4_corr = as.double(geocode4_corr))"
   ]
  },
  {
   "cell_type": "markdown",
   "metadata": {
    "kernel": "SoS"
   },
   "source": [
    "## Table 1: Tax level, no covariates\n",
    "\n",
    "$$\n",
    "\\begin{aligned}\n",
    "\\operatorname{Quality}_{c,k,j, t}^{R} &=\\alpha \\ln \\operatorname{VAT} \\operatorname{Export} \\operatorname{tax}_{k, t-1} \\times \\text { Eligibility }^{R} \\\\\n",
    "&+F E_{c,k}^{R}+F E_{c,s,t}^{R}+ F E_{k, t}+\\epsilon_{ck,j, t}^{R}\n",
    "\\end{aligned}\n",
    "$$\n",
    "\n",
    "* Column 1 add shocks with the main fixed effect:\n",
    "  * city-product-regime: `fe_ckr`\n",
    "  * city-sector-regime-year: `fe_csrt`\n",
    "  * product-year: `fe_kt`\n",
    "  * Shocks: `hs6` + `country_en` + `year` \n",
    "* Column 2 includes cities presents full years with the main fixed effect:\n",
    "  * city-product-regime: `fe_ckr`\n",
    "  * city-sector-regime-year: `fe_csrt`\n",
    "  * product-year: `fe_kt`\n",
    "* Column 3 switch eligible to non eligle with the main fixed effect:\n",
    "  * city-product-regime: `fe_ckr`\n",
    "  * city-sector-regime-year: `fe_csrt`\n",
    "  * product-year: `fe_kt`\n",
    "* Column 4 switch non eligible to eligible with the main fixed effect:\n",
    "  * city-product-regime: `fe_ckr`\n",
    "  * city-sector-regime-year: `fe_csrt`\n",
    "  * product-year: `fe_kt`\n",
    "* Column 5 keep rebates 17% with the main fixed effect:\n",
    "  * city-product-regime: `fe_ckr`\n",
    "  * city-sector-regime-year: `fe_csrt`\n",
    "  * product-year: `fe_kt`\n",
    "* Column 6 exclude rebates 0% with the main fixed effect:\n",
    "  * city-product-regime: `fe_ckr`\n",
    "  * city-sector-regime-year: `fe_csrt`\n",
    "  * product-year: `fe_kt`\n",
    "  \n",
    "Sector is defined as the GBT 4 digits"
   ]
  },
  {
   "cell_type": "code",
   "execution_count": null,
   "metadata": {
    "kernel": "R"
   },
   "outputs": [],
   "source": [
    "path = '../../../00_Data_catalogue/temporary_local_data/quality_vat_export_covariate_2003_2010_temp.csv'\n",
    "df_final <- read_csv(path) %>%\n",
    "mutate_if(is.character, as.factor) %>%\n",
    "mutate_at(vars(starts_with(\"fe\")), as.factor) %>%\n",
    "mutate(regime = relevel(regime, ref='NOT_ELIGIBLE')) %>%\n",
    "left_join(vat)\n",
    "\n",
    "# Dataset `switch eligible to non eligle` and `switch non eligible to eligible`\n",
    "temp <- df_final %>%\n",
    "  group_by(geocode4_corr, hs6, year) %>%\n",
    "  select(c(\"geocode4_corr\",\"hs6\",\"regime\",\"year\")) %>%\n",
    "  arrange(geocode4_corr, hs6, year) %>%\n",
    "  distinct(.keep_all = TRUE) %>%\n",
    "  ungroup() %>%\n",
    "  group_by(geocode4_corr, hs6) %>%\n",
    "  filter(row_number()==1)\n",
    "\n",
    "temp_2 <- df_final %>%\n",
    "  group_by(geocode4_corr, hs6, year) %>%\n",
    "  select(c(\"geocode4_corr\",\"hs6\",\"regime\",\"year\")) %>%\n",
    "  arrange(geocode4_corr, hs6, year) %>%\n",
    "  distinct(.keep_all = TRUE)%>%\n",
    "  ungroup() %>%\n",
    "  group_by(geocode4_corr, hs6) %>%\n",
    "  filter(row_number()==2)"
   ]
  },
  {
   "cell_type": "code",
   "execution_count": null,
   "metadata": {
    "kernel": "R"
   },
   "outputs": [],
   "source": [
    "#### SHOCKS\n",
    "t_0 <- felm(kandhelwal_quality ~ln_lag_tax_rebate* regime + ln_lag_import_tax * regime+ ln_lag_import_tax\n",
    "            | fe_ckr + fe_csrt+fe_kt + fe_group_shock|0 | hs6, df_final,\n",
    "            exactDOF = TRUE)\n",
    "\n",
    "#### BALANCE\n",
    "t_1 <- felm(kandhelwal_quality ~ln_lag_tax_rebate* regime + ln_lag_import_tax * regime+ ln_lag_import_tax \n",
    "            | fe_ckr + fe_csrt+fe_kt|0 | hs6, df_final %>% group_by(geocode4_corr) %>%\n",
    "  mutate(length = length(unique(year))) %>%\n",
    "  filter(length ==8),\n",
    "            exactDOF = TRUE)"
   ]
  },
  {
   "cell_type": "code",
   "execution_count": null,
   "metadata": {
    "kernel": "R"
   },
   "outputs": [],
   "source": [
    "temp_f_no_eli <- temp_2 %>%\n",
    "  filter(regime ==\"NOT_ELIGIBLE\")\n",
    "\n",
    "temp_f_eli <- temp %>%\n",
    "  filter(regime ==\"ELIGIBLE\") %>%\n",
    "  inner_join(temp_f_no_eli, by = c(\"geocode4_corr\",\"hs6\")) \n",
    "\n",
    "temp_f_eli <-temp_f_eli%>%\n",
    "  filter(year.x != year.y)    \n",
    "#### ELIGIBLE TO NON ELIGIBLE\n",
    "t_2 <- felm(kandhelwal_quality ~ln_lag_tax_rebate* regime + ln_lag_import_tax * regime+ ln_lag_import_tax\n",
    "            | fe_ckr + fe_csrt+fe_kt|0 | hs6, df_final %>% anti_join(temp_f_eli),\n",
    "            exactDOF = TRUE)"
   ]
  },
  {
   "cell_type": "code",
   "execution_count": null,
   "metadata": {
    "kernel": "R"
   },
   "outputs": [],
   "source": [
    "temp_f_no_eli <- temp_2 %>%\n",
    "  filter(regime ==\"ELIGIBLE\")\n",
    "\n",
    "temp_f_eli <- temp %>%\n",
    "  filter(regime ==\"NOT_ELIGIBLE\") %>%\n",
    "  inner_join(temp_f_no_eli, by = c(\"geocode4_corr\",\"hs6\")) \n",
    "\n",
    "temp_f_eli <-temp_f_eli%>%\n",
    "  filter(year.x != year.y)\n",
    "    \n",
    "#### NON ELIGIBLE TO ELIGIBLE\n",
    "t_3 <- felm(kandhelwal_quality ~ln_lag_tax_rebate* regime + ln_lag_import_tax * regime+ ln_lag_import_tax\n",
    "            | fe_ckr + fe_csrt+fe_kt|0 | hs6, df_final %>% anti_join(temp_f_eli),\n",
    "            exactDOF = TRUE)"
   ]
  },
  {
   "cell_type": "code",
   "execution_count": null,
   "metadata": {
    "kernel": "R"
   },
   "outputs": [],
   "source": [
    "##### ONLY 17% \n",
    "t_4 <- felm(kandhelwal_quality ~ln_lag_tax_rebate* regime + ln_lag_import_tax * regime+ ln_lag_import_tax\n",
    "            | fe_ckr + fe_csrt+fe_kt|0 | hs6, df_final %>% filter(vat_m==17),\n",
    "            exactDOF = TRUE)\n",
    "\n",
    "##### EXCLUDE 0%\n",
    "t_5 <- felm(kandhelwal_quality ~ln_lag_tax_rebate* regime + ln_lag_import_tax * regime+ ln_lag_import_tax\n",
    "            | fe_ckr + fe_csrt+fe_kt|0 | hs6, df_final %>% filter(vat_reb_m != 0),\n",
    "            exactDOF = TRUE)"
   ]
  },
  {
   "cell_type": "code",
   "execution_count": null,
   "metadata": {
    "kernel": "Python 3"
   },
   "outputs": [],
   "source": [
    "import os\n",
    "try:\n",
    "    os.remove(\"Tables/table_0.txt\")\n",
    "except:\n",
    "    pass\n",
    "try:\n",
    "    os.remove(\"Tables/table_0.tex\")\n",
    "except:\n",
    "    pass\n",
    "try:\n",
    "    os.remove(\"Tables/table_0.pdf\")\n",
    "except:\n",
    "    pass"
   ]
  },
  {
   "cell_type": "code",
   "execution_count": null,
   "metadata": {
    "kernel": "R"
   },
   "outputs": [],
   "source": [
    "dep <- \"Dependent variable: Product quality\"\n",
    "fe1 <- list(\n",
    "    c(\"City-product-regime fixed effects\",\"Yes\", \"Yes\", \"Yes\", \"Yes\",\"Yes\",\"Yes\"),\n",
    "    \n",
    "    c(\"City-sector-regime-year fixed effects\",\"Yes\", \"Yes\", \"Yes\", \"Yes\",\"Yes\",\"Yes\"),\n",
    "    \n",
    "    c(\"product-year fixed effects\", \"Yes\", \"Yes\", \"Yes\", \"Yes\",\"Yes\",\"Yes\"),\n",
    "    \n",
    "    c(\"product-year-destination fixed effects\", \"Yes\", \"No\", \"No\", \"No\",\"No\",\"No\")\n",
    "             )\n",
    "\n",
    "table_1 <- go_latex(list(\n",
    "    t_0,t_1, t_2, t_3, t_4,t_5\n",
    "),\n",
    "    title=\"VAT export tax and firm’s quality upgrading, Robustness checks\",\n",
    "    dep_var = dep,\n",
    "    addFE=fe1,\n",
    "    save=TRUE,\n",
    "    note = FALSE,\n",
    "    name=\"Tables/table_0.txt\"\n",
    ")"
   ]
  },
  {
   "cell_type": "code",
   "execution_count": null,
   "metadata": {
    "kernel": "Python 3"
   },
   "outputs": [],
   "source": [
    "tbe1  = \"\"\"\n",
    "This table estimates eq(3). \n",
    "Note that 'Eligible' refers to the regime entitle to VAT refund, our treatment group.\n",
    "Our control group is processing trade with supplied input, 'Non-Eligible' to VAT refund.\n",
    "Sectors are defined following the Chinese 4-digit GB/T industry\n",
    "classification and regroup several products.\n",
    "Heteroskedasticity-robust standard errors\n",
    "clustered at the product level appear inparentheses.\n",
    "\\sym{*} Significance at the 10\\%, \\sym{**} Significance at the 5\\%, \\sym{***} Significance at the 1\\%.\"\"\"\n",
    "\n",
    "multicolumn ={\n",
    "    'Shocks': 1,\n",
    "    'Balance': 1,\n",
    "    'Eligible to non eligible': 1,\n",
    "    'Non eligible to eligible': 1,\n",
    "    'Only 17\\%': 1,\n",
    "    'No zero rebate': 1\n",
    "}\n",
    "multi_lines_dep = '(city/product/trade regime/year)'\n",
    "#new_r = ['& Eligible', 'Non-Eligible', 'All', 'All benchmark']\n",
    "lb.beautify(table_number = 0,\n",
    "            #multi_lines_dep = None,\n",
    "            multi_lines_dep = multi_lines_dep,\n",
    "            new_row= False,\n",
    "            multicolumn = multicolumn,\n",
    "            table_nte = tbe1,\n",
    "            jupyter_preview = True,\n",
    "            resolution = 200)"
   ]
  },
  {
   "cell_type": "markdown",
   "metadata": {
    "kernel": "Python 3"
   },
   "source": [
    "## Table 2: Density, Tax level, with covariates city, regime destination, product\n",
    "\n",
    "* Column 1 add shocks with the main fixed effect:\n",
    "  * city-product-regime: `fe_ckr`\n",
    "  * city-sector-year: `fe_cst` \n",
    "  * product-destination: `fe_pj` \n",
    "  * Shocks: `hs6` + `country_en` + `year` \n",
    "* Column 2 add shocks with the main fixed effect:\n",
    "  * city-product-regime: `fe_ckr`\n",
    "  * city-sector-year: `fe_cst` \n",
    "  * product-year: `fe_kt` \n",
    "  * Shocks: `hs6` + `country_en` + `year` \n",
    "* Column 3 includes cities presents full years with the main fixed effect:\n",
    "  * city-product-regime: `fe_ckr`\n",
    "  * city-sector-year: `fe_cst` \n",
    "  * product-destination: `fe_pj`\n",
    "* Column 4 includes cities presents full years with the main fixed effect:\n",
    "  * city-product-regime: `fe_ckr`\n",
    "  * city-sector-regime-year: `fe_csrt`\n",
    "  * product-year: `fe_kt` \n",
    "* Column 5 switch eligible to non eligle with the main fixed effect:\n",
    "  * city-product-regime: `fe_ckr`\n",
    "  * city-sector-year: `fe_cst` \n",
    "  * product-destination: `fe_pj`\n",
    "* Column 6 switch eligible to non eligle with the main fixed effect:\n",
    "  * city-product-regime: `fe_ckr`\n",
    "  * city-sector-regime-year: `fe_csrt`\n",
    "  * product-year: `fe_kt` \n",
    "* Column 7 switch non eligible to eligible with the main fixed effect:\n",
    "  * city-product-regime: `fe_ckr`\n",
    "  * city-sector-year: `fe_cst` \n",
    "  * product-destination: `fe_pj`\n",
    "* Column 8 switch non eligible to eligible with the main fixed effect:\n",
    "  * city-product-regime: `fe_ckr`\n",
    "  * city-sector-year: `fe_cst` \n",
    "  * product-year: `fe_kt` \n",
    "* Column 9 keep rebates 17% with the main fixed effect:\n",
    "  * city-product-regime: `fe_ckr`\n",
    "  * city-sector-year: `fe_cst` \n",
    "  * product-destination: `fe_pj`\n",
    "* Column 10 keep rebates 17% with the main fixed effect:\n",
    "  * city-product-regime: `fe_ckr`\n",
    "  * city-sector-year: `fe_cst` \n",
    "  * product-year: `fe_kt` \n",
    "* Column 11 exclude rebates 0% with the main fixed effect:\n",
    "  * city-product-regime: `fe_ckr`\n",
    "  * city-sector-year: `fe_cst` \n",
    "  * product-destination: `fe_pj`\n",
    "* Column 12 exclude rebates 0% with the main fixed effect:\n",
    "  * city-product-regime: `fe_ckr`\n",
    "  * city-sector-year: `fe_cst` \n",
    "  * product-year: `fe_kt` "
   ]
  },
  {
   "cell_type": "code",
   "execution_count": null,
   "metadata": {
    "kernel": "R"
   },
   "outputs": [],
   "source": [
    "path = '../../../00_Data_catalogue/temporary_local_data/quality_vat_export_covariate_2003_2010_temp.csv'\n",
    "df_final <- read_csv(path) %>%\n",
    "mutate_if(is.character, as.factor) %>%\n",
    "mutate_at(vars(starts_with(\"fe\")), as.factor) %>%\n",
    "mutate(regime = relevel(regime, ref='NOT_ELIGIBLE')) %>%\n",
    "left_join(vat) %>%\n",
    "inner_join(density_city)\n",
    "\n",
    "# Dataset `switch eligible to non eligle` and `switch non eligible to eligible`\n",
    "temp <- df_final %>%\n",
    "  group_by(geocode4_corr, hs6, year) %>%\n",
    "  select(c(\"geocode4_corr\",\"hs6\",\"regime\",\"year\")) %>%\n",
    "  arrange(geocode4_corr, hs6, year) %>%\n",
    "  distinct(.keep_all = TRUE) %>%\n",
    "  ungroup() %>%\n",
    "  group_by(geocode4_corr, hs6) %>%\n",
    "  filter(row_number()==1)\n",
    "\n",
    "temp_2 <- df_final %>%\n",
    "  group_by(geocode4_corr, hs6, year) %>%\n",
    "  select(c(\"geocode4_corr\",\"hs6\",\"regime\",\"year\")) %>%\n",
    "  arrange(geocode4_corr, hs6, year) %>%\n",
    "  distinct(.keep_all = TRUE)%>%\n",
    "  ungroup() %>%\n",
    "  group_by(geocode4_corr, hs6) %>%\n",
    "  filter(row_number()==2)"
   ]
  },
  {
   "cell_type": "code",
   "execution_count": null,
   "metadata": {
    "kernel": "R"
   },
   "outputs": [],
   "source": [
    "#### SHOCKS\n",
    "t_0 <- felm(kandhelwal_quality ~\n",
    "            ln_lag_tax_rebate * density_china_ville * regime + \n",
    "            ln_lag_import_tax * density_china_ville * regime\n",
    "            | fe_ckr + fe_cst+fe_pj + fe_group_shock|0 | hs6, df_final,\n",
    "            exactDOF = TRUE)\n",
    "t_0<- change_import_tax_order(t_0)\n",
    "t_1<- felm(kandhelwal_quality ~\n",
    "            ln_lag_tax_rebate * density_china_ville * regime + \n",
    "            ln_lag_import_tax * density_china_ville * regime\n",
    "            | fe_ckr + fe_cst+fe_kt + fe_group_shock|0 | hs6, df_final,\n",
    "            exactDOF = TRUE)\n",
    "t_1 <- change_import_tax_order(t_1)\n",
    "#### BALANCE\n",
    "t_2 <- felm(kandhelwal_quality ~\n",
    "            ln_lag_tax_rebate * density_china_ville * regime + \n",
    "            ln_lag_import_tax * density_china_ville * regime\n",
    "            | fe_ckr + fe_cst+fe_pj|0 | hs6, df_final %>% group_by(geocode4_corr) %>%\n",
    "  mutate(length = length(unique(year))) %>%\n",
    "  filter(length ==8),\n",
    "            exactDOF = TRUE)\n",
    "t_2<- change_import_tax_order(t_2)\n",
    "t_3<- felm(kandhelwal_quality ~\n",
    "            ln_lag_tax_rebate * density_china_ville * regime + \n",
    "            ln_lag_import_tax * density_china_ville * regime\n",
    "            | fe_ckr + fe_cst+fe_kt|0 | hs6, df_final %>% group_by(geocode4_corr) %>%\n",
    "  mutate(length = length(unique(year))) %>%\n",
    "  filter(length ==8),\n",
    "            exactDOF = TRUE)\n",
    "t_3 <- change_import_tax_order(t_3)"
   ]
  },
  {
   "cell_type": "code",
   "execution_count": null,
   "metadata": {
    "kernel": "R"
   },
   "outputs": [],
   "source": [
    "#### ELIGIBLE TO NON ELIGIBLE\n",
    "temp_f_no_eli <- temp_2 %>%\n",
    "  filter(regime ==\"NOT_ELIGIBLE\")\n",
    "\n",
    "temp_f_eli <- temp %>%\n",
    "  filter(regime ==\"ELIGIBLE\") %>%\n",
    "  inner_join(temp_f_no_eli, by = c(\"geocode4_corr\",\"hs6\")) \n",
    "\n",
    "temp_f_eli <-temp_f_eli%>%\n",
    "  filter(year.x != year.y)   \n",
    "\n",
    "\n",
    "t_4 <- felm(kandhelwal_quality ~\n",
    "            ln_lag_tax_rebate * density_china_ville * regime + \n",
    "            ln_lag_import_tax * density_china_ville * regime\n",
    "            | fe_ckr + fe_cst+fe_pj|0 | hs6, df_final %>% anti_join(temp_f_eli),\n",
    "            exactDOF = TRUE)\n",
    "t_4<- change_import_tax_order(t_4)\n",
    "t_5<- felm(kandhelwal_quality ~\n",
    "            ln_lag_tax_rebate * density_china_ville * regime + \n",
    "            ln_lag_import_tax * density_china_ville * regime\n",
    "            | fe_ckr + fe_cst+fe_kt|0 | hs6, df_final %>% anti_join(temp_f_eli),\n",
    "            exactDOF = TRUE)\n",
    "t_5 <- change_import_tax_order(t_5)"
   ]
  },
  {
   "cell_type": "code",
   "execution_count": null,
   "metadata": {
    "kernel": "R"
   },
   "outputs": [],
   "source": [
    "#### NON ELIGIBLE TO ELIGIBLE\n",
    "temp_f_no_eli <- temp_2 %>%\n",
    "  filter(regime ==\"ELIGIBLE\")\n",
    "\n",
    "temp_f_eli <- temp %>%\n",
    "  filter(regime ==\"NOT_ELIGIBLE\") %>%\n",
    "  inner_join(temp_f_no_eli, by = c(\"geocode4_corr\",\"hs6\")) \n",
    "\n",
    "temp_f_eli <-temp_f_eli%>%\n",
    "  filter(year.x != year.y)\n",
    "    \n",
    "t_6 <- felm(kandhelwal_quality ~\n",
    "            ln_lag_tax_rebate * density_china_ville * regime + \n",
    "            ln_lag_import_tax * density_china_ville * regime\n",
    "            | fe_ckr + fe_cst+fe_pj|0 | hs6, df_final %>% anti_join(temp_f_eli),\n",
    "            exactDOF = TRUE)\n",
    "t_6<- change_import_tax_order(t_6)\n",
    "t_7<- felm(kandhelwal_quality ~\n",
    "            ln_lag_tax_rebate * density_china_ville * regime + \n",
    "            ln_lag_import_tax * density_china_ville * regime\n",
    "            | fe_ckr + fe_cst+fe_kt|0 | hs6, df_final %>% anti_join(temp_f_eli),\n",
    "            exactDOF = TRUE)\n",
    "t_7 <- change_import_tax_order(t_7)"
   ]
  },
  {
   "cell_type": "code",
   "execution_count": null,
   "metadata": {
    "kernel": "R"
   },
   "outputs": [],
   "source": [
    "##### ONLY 17% \n",
    "t_8 <- felm(kandhelwal_quality ~\n",
    "            ln_lag_tax_rebate * density_china_ville * regime + \n",
    "            ln_lag_import_tax * density_china_ville * regime\n",
    "            | fe_ckr + fe_cst+fe_pj|0 | hs6, df_final %>% filter(vat_m==17),\n",
    "            exactDOF = TRUE)\n",
    "t_8<- change_import_tax_order(t_8)\n",
    "t_9<- felm(kandhelwal_quality ~\n",
    "            ln_lag_tax_rebate * density_china_ville * regime + \n",
    "            ln_lag_import_tax * density_china_ville * regime\n",
    "            | fe_ckr + fe_cst+fe_kt|0 | hs6, df_final %>% filter(vat_m==17),\n",
    "            exactDOF = TRUE)\n",
    "t_9 <- change_import_tax_order(t_9)\n",
    "\n",
    "##### EXCLUDE 0%\n",
    "t_10 <- felm(kandhelwal_quality ~\n",
    "            ln_lag_tax_rebate * density_china_ville * regime + \n",
    "            ln_lag_import_tax * density_china_ville * regime\n",
    "            | fe_ckr + fe_cst+fe_pj|0 | hs6, df_final %>% filter(vat_reb_m != 0),\n",
    "            exactDOF = TRUE)\n",
    "t_10<- change_import_tax_order(t_10)\n",
    "t_11<- felm(kandhelwal_quality ~\n",
    "            ln_lag_tax_rebate * density_china_ville * regime + \n",
    "            ln_lag_import_tax * density_china_ville * regime\n",
    "            | fe_ckr + fe_cst+fe_kt|0 | hs6, df_final %>% filter(vat_reb_m != 0),\n",
    "            exactDOF = TRUE)\n",
    "t_11 <- change_import_tax_order(t_11)"
   ]
  },
  {
   "cell_type": "code",
   "execution_count": null,
   "metadata": {
    "kernel": "Python 3"
   },
   "outputs": [],
   "source": [
    "import os\n",
    "try:\n",
    "    os.remove(\"Tables/table_1.txt\")\n",
    "except:\n",
    "    pass\n",
    "try:\n",
    "    os.remove(\"Tables/table_1.tex\")\n",
    "except:\n",
    "    pass\n",
    "try:\n",
    "    os.remove(\"Tables/table_1.pdf\")\n",
    "except:\n",
    "    pass"
   ]
  },
  {
   "cell_type": "code",
   "execution_count": null,
   "metadata": {
    "kernel": "R"
   },
   "outputs": [],
   "source": [
    "dep <- \"Dependent variable: Product quality\"\n",
    "fe1 <- list(\n",
    "    \n",
    "    c(\"City-product-regime fixed effects\", \"Yes\", \"Yes\", \"Yes\", \"Yes\", \"Yes\", \"Yes\", \"Yes\", \"Yes\", \"Yes\", \"Yes\", \"Yes\", \"Yes\"),\n",
    "    \n",
    "    c(\"City-sector-year fixed effects\", \"Yes\", \"Yes\", \"Yes\", \"Yes\", \"Yes\", \"Yes\", \"Yes\", \"Yes\", \"Yes\", \"Yes\", \"Yes\", \"Yes\"),\n",
    "    \n",
    "    c(\"Product-destination fixed effect\",\"Yes\", \"No\", \"Yes\", \"No\", \"Yes\", \"No\", \"Yes\", \"No\", \"Yes\", \"No\", \"Yes\", \"No\"),\n",
    "        \n",
    "    c(\"product-year fixed effects\", \"No\", \"Yes\", \"No\", \"Yes\", \"No\", \"Yes\", \"No\", \"Yes\", \"No\", \"Yes\", \"No\", \"Yes\")\n",
    "             )\n",
    "\n",
    "table_1 <- go_latex(list(\n",
    "    t_0,t_1, t_2, t_3, t_4, t_5, t_6, t_7, t_8, t_9, t_10, t_11\n",
    "),\n",
    "    title=\"VAT export tax and firm’s quality upgrading, Robustness checks\",\n",
    "    dep_var = dep,\n",
    "    addFE=fe1,\n",
    "    save=TRUE,\n",
    "    note = FALSE,\n",
    "    name=\"Tables/table_1.txt\"\n",
    ")"
   ]
  },
  {
   "cell_type": "code",
   "execution_count": null,
   "metadata": {
    "kernel": "Python 3"
   },
   "outputs": [],
   "source": [
    "reorder = {\n",
    "    # Old, New\n",
    "    4:2, ## Density * eligible\n",
    "    8:3, ## comp * eligibile\n",
    "}\n",
    "\n",
    "tbe1  = \"\"\"\n",
    "This table estimates eq(3). \n",
    "Note that 'Eligible' refers to the regime entitle to VAT refund, our treatment group.\n",
    "Our control group is processing trade with supplied input, 'Non-Eligible' to VAT refund.\n",
    "Sectors are defined following the Chinese 4-digit GB/T industry\n",
    "classification and regroup several products.\n",
    "Heteroskedasticity-robust standard errors\n",
    "clustered at the product level appear inparentheses.\n",
    "\\sym{*} Significance at the 10\\%, \\sym{**} Significance at the 5\\%, \\sym{***} Significance at the 1\\%.\"\"\"\n",
    "\n",
    "multicolumn ={\n",
    "    'Shocks': 2,\n",
    "    'Balance': 2,\n",
    "    'Eligible to non eligible': 2,\n",
    "    'Non eligible to eligible': 2,\n",
    "    'Only 17\\%': 2,\n",
    "    'No zero rebate': 2\n",
    "}\n",
    "multi_lines_dep = '(city/product/trade regime/year)'\n",
    "#new_r = ['& Eligible', 'Non-Eligible', 'All', 'All benchmark']\n",
    "lb.beautify(table_number = 1,\n",
    "            #multi_lines_dep = None,\n",
    "            multi_lines_dep = multi_lines_dep,\n",
    "            new_row= False,\n",
    "            multicolumn = multicolumn,\n",
    "            reorder_var = None,\n",
    "            table_nte = tbe1,\n",
    "            jupyter_preview = True,\n",
    "            resolution = 300)"
   ]
  },
  {
   "cell_type": "markdown",
   "metadata": {
    "kernel": "Python 3"
   },
   "source": [
    "## Table 3: Tax level, with covariates city, regime destination, product\n",
    "\n",
    "$$\n",
    "\\begin{aligned}\n",
    "\\operatorname{Quality}_{c,k,j, t}^{R} &=\\alpha \\ln \\operatorname{VAT} \\operatorname{Export} \\operatorname{tax}_{k, t-1} \\times \\text { Eligibility }^{R} \\\\\n",
    "&+F E_{c,k}^{R}+F E_{c,s,t}^{R}+ F E_{k, t}+\\epsilon_{ck,j, t}^{R}\n",
    "\\end{aligned}\n",
    "$$\n",
    "\n",
    "* Column 1 add shocks with the main fixed effect:\n",
    "  * city-product-regime: `fe_ckr`\n",
    "  * city-sector-regime-year: `fe_csrt`\n",
    "  * product-year: `fe_kt`\n",
    "  * Shocks: `hs6` + `country_en` + `year` \n",
    "* Column 2 includes cities presents full years with the main fixed effect:\n",
    "  * city-product-regime: `fe_ckr`\n",
    "  * city-sector-regime-year: `fe_csrt`\n",
    "  * product-year: `fe_kt`\n",
    "* Column 3 switch eligible to non eligle with the main fixed effect:\n",
    "  * city-product-regime: `fe_ckr`\n",
    "  * city-sector-regime-year: `fe_csrt`\n",
    "  * product-year: `fe_kt`\n",
    "* Column 4 switch non eligible to eligible with the main fixed effect:\n",
    "  * city-product-regime: `fe_ckr`\n",
    "  * city-sector-regime-year: `fe_csrt`\n",
    "  * product-year: `fe_kt`\n",
    "* Column 5 keep rebates 17% with the main fixed effect:\n",
    "  * city-product-regime: `fe_ckr`\n",
    "  * city-sector-regime-year: `fe_csrt`\n",
    "  * product-year: `fe_kt`\n",
    "* Column 6 exclude rebates 0% with the main fixed effect:\n",
    "  * city-product-regime: `fe_ckr`\n",
    "  * city-sector-regime-year: `fe_csrt`\n",
    "  * product-year: `fe_kt`\n",
    "  \n",
    "Sector is defined as the GBT 4 digits"
   ]
  },
  {
   "cell_type": "code",
   "execution_count": null,
   "metadata": {
    "kernel": "R"
   },
   "outputs": [],
   "source": [
    "path = '../../../00_Data_catalogue/temporary_local_data/quality_vat_export_covariate_2003_2010_temp.csv'\n",
    "df_final <- read_csv(path) %>%\n",
    "mutate_if(is.character, as.factor) %>%\n",
    "mutate_at(vars(starts_with(\"fe\")), as.factor) %>%\n",
    "mutate(regime = relevel(regime, ref='NOT_ELIGIBLE')) %>%\n",
    "left_join(vat)\n",
    "\n",
    "# Dataset `switch eligible to non eligle` and `switch non eligible to eligible`\n",
    "temp <- df_final %>%\n",
    "  group_by(geocode4_corr, hs6, year) %>%\n",
    "  select(c(\"geocode4_corr\",\"hs6\",\"regime\",\"year\")) %>%\n",
    "  arrange(geocode4_corr, hs6, year) %>%\n",
    "  distinct(.keep_all = TRUE) %>%\n",
    "  ungroup() %>%\n",
    "  group_by(geocode4_corr, hs6) %>%\n",
    "  filter(row_number()==1)\n",
    "\n",
    "temp_2 <- df_final %>%\n",
    "  group_by(geocode4_corr, hs6, year) %>%\n",
    "  select(c(\"geocode4_corr\",\"hs6\",\"regime\",\"year\")) %>%\n",
    "  arrange(geocode4_corr, hs6, year) %>%\n",
    "  distinct(.keep_all = TRUE)%>%\n",
    "  ungroup() %>%\n",
    "  group_by(geocode4_corr, hs6) %>%\n",
    "  filter(row_number()==2)"
   ]
  },
  {
   "cell_type": "code",
   "execution_count": null,
   "metadata": {
    "kernel": "R"
   },
   "outputs": [],
   "source": [
    "#### SHOCKS\n",
    "t_0 <- felm(kandhelwal_quality ~ln_lag_tax_rebate* regime + ln_lag_import_tax * regime+ ln_lag_import_tax +\n",
    "            lag_foreign_export_share_ckjr + lag_soe_export_share_ckjr\n",
    "            | fe_ckr + fe_csrt+fe_kt + fe_group_shock|0 | hs6, df_final,\n",
    "            exactDOF = TRUE)\n",
    "\n",
    "#### BALANCE\n",
    "t_1 <- felm(kandhelwal_quality ~ln_lag_tax_rebate* regime + ln_lag_import_tax * regime+ ln_lag_import_tax +\n",
    "            lag_foreign_export_share_ckjr + lag_soe_export_share_ckjr\n",
    "            | fe_ckr + fe_csrt+fe_kt|0 | hs6, df_final %>% group_by(geocode4_corr) %>%\n",
    "  mutate(length = length(unique(year))) %>%\n",
    "  filter(length ==8),\n",
    "            exactDOF = TRUE)"
   ]
  },
  {
   "cell_type": "code",
   "execution_count": null,
   "metadata": {
    "kernel": "R"
   },
   "outputs": [],
   "source": [
    "temp_f_no_eli <- temp_2 %>%\n",
    "  filter(regime ==\"NOT_ELIGIBLE\")\n",
    "\n",
    "temp_f_eli <- temp %>%\n",
    "  filter(regime ==\"ELIGIBLE\") %>%\n",
    "  inner_join(temp_f_no_eli, by = c(\"geocode4_corr\",\"hs6\")) \n",
    "\n",
    "temp_f_eli <-temp_f_eli%>%\n",
    "  filter(year.x != year.y)\n",
    "\n",
    "#data_set_d <- data_set %>%\n",
    "#  anti_join(temp_f_eli)\n",
    "    \n",
    "#### ELIGIBLE TO NON ELIGIBLE\n",
    "t_2 <- felm(kandhelwal_quality ~ln_lag_tax_rebate* regime + ln_lag_import_tax * regime+ ln_lag_import_tax +\n",
    "            lag_foreign_export_share_ckjr + lag_soe_export_share_ckjr\n",
    "            | fe_ckr + fe_csrt+fe_kt|0 | hs6, df_final %>% anti_join(temp_f_eli),\n",
    "            exactDOF = TRUE)"
   ]
  },
  {
   "cell_type": "code",
   "execution_count": null,
   "metadata": {
    "kernel": "R"
   },
   "outputs": [],
   "source": [
    "temp_f_no_eli <- temp_2 %>%\n",
    "  filter(regime ==\"ELIGIBLE\")\n",
    "\n",
    "temp_f_eli <- temp %>%\n",
    "  filter(regime ==\"NOT_ELIGIBLE\") %>%\n",
    "  inner_join(temp_f_no_eli, by = c(\"geocode4_corr\",\"hs6\")) \n",
    "\n",
    "temp_f_eli <-temp_f_eli%>%\n",
    "  filter(year.x != year.y)\n",
    "\n",
    "#data_set_d <- data_set %>%\n",
    "#  anti_join(temp_f_eli)\n",
    "    \n",
    "#### NON ELIGIBLE TO ELIGIBLE\n",
    "t_3 <- felm(kandhelwal_quality ~ln_lag_tax_rebate* regime + ln_lag_import_tax * regime+ ln_lag_import_tax +\n",
    "            lag_foreign_export_share_ckjr + lag_soe_export_share_ckjr\n",
    "            | fe_ckr + fe_csrt+fe_kt|0 | hs6, df_final %>% anti_join(temp_f_eli),\n",
    "            exactDOF = TRUE)"
   ]
  },
  {
   "cell_type": "code",
   "execution_count": null,
   "metadata": {
    "kernel": "R"
   },
   "outputs": [],
   "source": [
    "##### ONLY 17% \n",
    "t_4 <- felm(kandhelwal_quality ~ln_lag_tax_rebate* regime + ln_lag_import_tax * regime+ ln_lag_import_tax +\n",
    "            lag_foreign_export_share_ckjr + lag_soe_export_share_ckjr\n",
    "            | fe_ckr + fe_csrt+fe_kt|0 | hs6, df_final %>% filter(vat_m==17),\n",
    "            exactDOF = TRUE)\n",
    "\n",
    "##### EXCLUDE 0%\n",
    "t_5 <- felm(kandhelwal_quality ~ln_lag_tax_rebate* regime + ln_lag_import_tax * regime+ ln_lag_import_tax +\n",
    "            lag_foreign_export_share_ckjr + lag_soe_export_share_ckjr\n",
    "            | fe_ckr + fe_csrt+fe_kt|0 | hs6, df_final %>% filter(vat_reb_m != 0),\n",
    "            exactDOF = TRUE)"
   ]
  },
  {
   "cell_type": "code",
   "execution_count": null,
   "metadata": {
    "kernel": "Python 3"
   },
   "outputs": [],
   "source": [
    "import os\n",
    "try:\n",
    "    os.remove(\"Tables/table_2.txt\")\n",
    "except:\n",
    "    pass\n",
    "try:\n",
    "    os.remove(\"Tables/table_2.tex\")\n",
    "except:\n",
    "    pass\n",
    "try:\n",
    "    os.remove(\"Tables/table_2.pdf\")\n",
    "except:\n",
    "    pass"
   ]
  },
  {
   "cell_type": "code",
   "execution_count": null,
   "metadata": {
    "kernel": "R"
   },
   "outputs": [],
   "source": [
    "dep <- \"Dependent variable: Product quality\"\n",
    "fe1 <- list(\n",
    "    c(\"City-product-regime fixed effects\",\"Yes\", \"Yes\", \"Yes\", \"Yes\",\"Yes\",\"Yes\"),\n",
    "    \n",
    "    c(\"City-sector-regime-year fixed effects\",\"Yes\", \"Yes\", \"Yes\", \"Yes\",\"Yes\",\"Yes\"),\n",
    "    \n",
    "    c(\"product-year fixed effects\", \"Yes\", \"Yes\", \"Yes\", \"Yes\",\"Yes\",\"Yes\"),\n",
    "    \n",
    "    c(\"product-year-destination fixed effects\", \"Yes\", \"No\", \"No\", \"No\",\"No\",\"No\")\n",
    "             )\n",
    "\n",
    "table_1 <- go_latex(list(\n",
    "    t_0,t_1, t_2, t_3, t_4, t_5\n",
    "),\n",
    "    title=\"VAT export tax and firm’s quality upgrading, Robustness checks\",\n",
    "    dep_var = dep,\n",
    "    addFE=fe1,\n",
    "    save=TRUE,\n",
    "    note = FALSE,\n",
    "    name=\"Tables/table_2.txt\"\n",
    ")"
   ]
  },
  {
   "cell_type": "code",
   "execution_count": null,
   "metadata": {
    "kernel": "Python 3"
   },
   "outputs": [],
   "source": [
    "tbe1  = \"\"\"\n",
    "This table estimates eq(3). \n",
    "Note that 'Eligible' refers to the regime entitle to VAT refund, our treatment group.\n",
    "Our control group is processing trade with supplied input, 'Non-Eligible' to VAT refund.\n",
    "Sectors are defined following the Chinese 4-digit GB/T industry\n",
    "classification and regroup several products.\n",
    "Heteroskedasticity-robust standard errors\n",
    "clustered at the product level appear inparentheses.\n",
    "\\sym{*} Significance at the 10\\%, \\sym{**} Significance at the 5\\%, \\sym{***} Significance at the 1\\%.\"\"\"\n",
    "\n",
    "multicolumn ={\n",
    "    'Shocks': 1,\n",
    "    'Balance': 1,\n",
    "    'Eligible to non eligible': 1,\n",
    "    'Non eligible to eligible': 1,\n",
    "    'Only 17\\%': 1,\n",
    "    'No zero rebate': 1\n",
    "}\n",
    "multi_lines_dep = '(city/product/trade regime/year)'\n",
    "#new_r = ['& Eligible', 'Non-Eligible', 'All', 'All benchmark']\n",
    "lb.beautify(table_number = 2,\n",
    "            #multi_lines_dep = None,\n",
    "            multi_lines_dep = multi_lines_dep,\n",
    "            new_row= False,\n",
    "            multicolumn = multicolumn,\n",
    "            table_nte = tbe1,\n",
    "            jupyter_preview = True,\n",
    "            resolution = 200)"
   ]
  },
  {
   "cell_type": "markdown",
   "metadata": {
    "kernel": "Python 3"
   },
   "source": [
    "## Table 4: Density, Tax level, with covariates city, regime destination, product\n",
    "\n",
    "* Column 1 add shocks with the main fixed effect:\n",
    "  * city-product-regime: `fe_ckr`\n",
    "  * city-sector-year: `fe_cst` \n",
    "  * product-destination: `fe_pj` \n",
    "  * Shocks: `hs6` + `country_en` + `year` \n",
    "* Column 2 add shocks with the main fixed effect:\n",
    "  * city-product-regime: `fe_ckr`\n",
    "  * city-sector-year: `fe_cst` \n",
    "  * product-year: `fe_kt` \n",
    "  * Shocks: `hs6` + `country_en` + `year` \n",
    "* Column 3 includes cities presents full years with the main fixed effect:\n",
    "  * city-product-regime: `fe_ckr`\n",
    "  * city-sector-year: `fe_cst` \n",
    "  * product-destination: `fe_pj`\n",
    "* Column 4 includes cities presents full years with the main fixed effect:\n",
    "  * city-product-regime: `fe_ckr`\n",
    "  * city-sector-regime-year: `fe_csrt`\n",
    "  * product-year: `fe_kt` \n",
    "* Column 5 switch eligible to non eligle with the main fixed effect:\n",
    "  * city-product-regime: `fe_ckr`\n",
    "  * city-sector-year: `fe_cst` \n",
    "  * product-destination: `fe_pj`\n",
    "* Column 6 switch eligible to non eligle with the main fixed effect:\n",
    "  * city-product-regime: `fe_ckr`\n",
    "  * city-sector-regime-year: `fe_csrt`\n",
    "  * product-year: `fe_kt` \n",
    "* Column 7 switch non eligible to eligible with the main fixed effect:\n",
    "  * city-product-regime: `fe_ckr`\n",
    "  * city-sector-year: `fe_cst` \n",
    "  * product-destination: `fe_pj`\n",
    "* Column 8 switch non eligible to eligible with the main fixed effect:\n",
    "  * city-product-regime: `fe_ckr`\n",
    "  * city-sector-year: `fe_cst` \n",
    "  * product-year: `fe_kt` \n",
    "* Column 9 keep rebates 17% with the main fixed effect:\n",
    "  * city-product-regime: `fe_ckr`\n",
    "  * city-sector-year: `fe_cst` \n",
    "  * product-destination: `fe_pj`\n",
    "* Column 10 keep rebates 17% with the main fixed effect:\n",
    "  * city-product-regime: `fe_ckr`\n",
    "  * city-sector-year: `fe_cst` \n",
    "  * product-year: `fe_kt` \n",
    "* Column 11 exclude rebates 0% with the main fixed effect:\n",
    "  * city-product-regime: `fe_ckr`\n",
    "  * city-sector-year: `fe_cst` \n",
    "  * product-destination: `fe_pj`\n",
    "* Column 12 exclude rebates 0% with the main fixed effect:\n",
    "  * city-product-regime: `fe_ckr`\n",
    "  * city-sector-year: `fe_cst` \n",
    "  * product-year: `fe_kt` "
   ]
  },
  {
   "cell_type": "code",
   "execution_count": null,
   "metadata": {
    "kernel": "R"
   },
   "outputs": [],
   "source": [
    "path = '../../../00_Data_catalogue/temporary_local_data/quality_vat_export_covariate_2003_2010_temp.csv'\n",
    "df_final <- read_csv(path) %>%\n",
    "mutate_if(is.character, as.factor) %>%\n",
    "mutate_at(vars(starts_with(\"fe\")), as.factor) %>%\n",
    "mutate(regime = relevel(regime, ref='NOT_ELIGIBLE')) %>%\n",
    "left_join(vat)%>%\n",
    "inner_join(density_city)\n",
    "\n",
    "# Dataset `switch eligible to non eligle` and `switch non eligible to eligible`\n",
    "temp <- df_final %>%\n",
    "  group_by(geocode4_corr, hs6, year) %>%\n",
    "  select(c(\"geocode4_corr\",\"hs6\",\"regime\",\"year\")) %>%\n",
    "  arrange(geocode4_corr, hs6, year) %>%\n",
    "  distinct(.keep_all = TRUE) %>%\n",
    "  ungroup() %>%\n",
    "  group_by(geocode4_corr, hs6) %>%\n",
    "  filter(row_number()==1)\n",
    "\n",
    "temp_2 <- df_final %>%\n",
    "  group_by(geocode4_corr, hs6, year) %>%\n",
    "  select(c(\"geocode4_corr\",\"hs6\",\"regime\",\"year\")) %>%\n",
    "  arrange(geocode4_corr, hs6, year) %>%\n",
    "  distinct(.keep_all = TRUE)%>%\n",
    "  ungroup() %>%\n",
    "  group_by(geocode4_corr, hs6) %>%\n",
    "  filter(row_number()==2)"
   ]
  },
  {
   "cell_type": "code",
   "execution_count": null,
   "metadata": {
    "kernel": "R"
   },
   "outputs": [],
   "source": [
    "#### SHOCKS\n",
    "t_0 <- felm(kandhelwal_quality ~\n",
    "            ln_lag_tax_rebate * density_china_ville * regime + \n",
    "            ln_lag_import_tax * density_china_ville * regime +\n",
    "            lag_foreign_export_share_ckjr + lag_soe_export_share_ckjr\n",
    "            | fe_ckr + fe_cst+fe_pj + fe_group_shock|0 | hs6, df_final,\n",
    "            exactDOF = TRUE)\n",
    "t_0<- change_import_tax_order(t_0)\n",
    "t_1<- felm(kandhelwal_quality ~\n",
    "            ln_lag_tax_rebate * density_china_ville * regime + \n",
    "            ln_lag_import_tax * density_china_ville * regime +\n",
    "            lag_foreign_export_share_ckjr + lag_soe_export_share_ckjr\n",
    "            | fe_ckr + fe_cst+fe_kt + fe_group_shock|0 | hs6, df_final,\n",
    "            exactDOF = TRUE)\n",
    "t_1 <- change_import_tax_order(t_1)\n",
    "#### BALANCE\n",
    "t_2 <- felm(kandhelwal_quality ~\n",
    "            ln_lag_tax_rebate * density_china_ville * regime + \n",
    "            ln_lag_import_tax * density_china_ville * regime +\n",
    "            lag_foreign_export_share_ckjr + lag_soe_export_share_ckjr\n",
    "            | fe_ckr + fe_cst+fe_pj|0 | hs6, df_final %>% group_by(geocode4_corr) %>%\n",
    "  mutate(length = length(unique(year))) %>%\n",
    "  filter(length ==8),\n",
    "            exactDOF = TRUE)\n",
    "t_2<- change_import_tax_order(t_2)\n",
    "t_3<- felm(kandhelwal_quality ~\n",
    "            ln_lag_tax_rebate * density_china_ville * regime + \n",
    "            ln_lag_import_tax * density_china_ville * regime +\n",
    "            lag_foreign_export_share_ckjr + lag_soe_export_share_ckjr\n",
    "            | fe_ckr + fe_cst+fe_kt|0 | hs6, df_final %>% group_by(geocode4_corr) %>%\n",
    "  mutate(length = length(unique(year))) %>%\n",
    "  filter(length ==8),\n",
    "            exactDOF = TRUE)\n",
    "t_3 <- change_import_tax_order(t_3)"
   ]
  },
  {
   "cell_type": "code",
   "execution_count": null,
   "metadata": {
    "kernel": "R"
   },
   "outputs": [],
   "source": [
    "#### ELIGIBLE TO NON ELIGIBLE\n",
    "temp_f_no_eli <- temp_2 %>%\n",
    "  filter(regime ==\"NOT_ELIGIBLE\")\n",
    "\n",
    "temp_f_eli <- temp %>%\n",
    "  filter(regime ==\"ELIGIBLE\") %>%\n",
    "  inner_join(temp_f_no_eli, by = c(\"geocode4_corr\",\"hs6\")) \n",
    "\n",
    "temp_f_eli <-temp_f_eli%>%\n",
    "  filter(year.x != year.y)   \n",
    "\n",
    "\n",
    "t_4 <- felm(kandhelwal_quality ~\n",
    "            ln_lag_tax_rebate * density_china_ville * regime + \n",
    "            ln_lag_import_tax * density_china_ville * regime +\n",
    "            lag_foreign_export_share_ckjr + lag_soe_export_share_ckjr\n",
    "            | fe_ckr + fe_cst+fe_pj|0 | hs6, df_final %>% anti_join(temp_f_eli),\n",
    "            exactDOF = TRUE)\n",
    "t_4<- change_import_tax_order(t_4)\n",
    "t_5<- felm(kandhelwal_quality ~\n",
    "            ln_lag_tax_rebate * density_china_ville * regime + \n",
    "            ln_lag_import_tax * density_china_ville * regime +\n",
    "            lag_foreign_export_share_ckjr + lag_soe_export_share_ckjr\n",
    "            | fe_ckr + fe_cst+fe_kt|0 | hs6, df_final %>% anti_join(temp_f_eli),\n",
    "            exactDOF = TRUE)\n",
    "t_5 <- change_import_tax_order(t_5)"
   ]
  },
  {
   "cell_type": "code",
   "execution_count": null,
   "metadata": {
    "kernel": "R"
   },
   "outputs": [],
   "source": [
    "#### NON ELIGIBLE TO ELIGIBLE\n",
    "temp_f_no_eli <- temp_2 %>%\n",
    "  filter(regime ==\"ELIGIBLE\")\n",
    "\n",
    "temp_f_eli <- temp %>%\n",
    "  filter(regime ==\"NOT_ELIGIBLE\") %>%\n",
    "  inner_join(temp_f_no_eli, by = c(\"geocode4_corr\",\"hs6\")) \n",
    "\n",
    "temp_f_eli <-temp_f_eli%>%\n",
    "  filter(year.x != year.y)\n",
    "    \n",
    "t_6 <- felm(kandhelwal_quality ~\n",
    "            ln_lag_tax_rebate * density_china_ville * regime + \n",
    "            ln_lag_import_tax * density_china_ville * regime +\n",
    "            lag_foreign_export_share_ckjr + lag_soe_export_share_ckjr\n",
    "            | fe_ckr + fe_cst+fe_pj|0 | hs6, df_final %>% anti_join(temp_f_eli),\n",
    "            exactDOF = TRUE)\n",
    "t_6<- change_import_tax_order(t_6)\n",
    "t_7<- felm(kandhelwal_quality ~\n",
    "            ln_lag_tax_rebate * density_china_ville * regime + \n",
    "            ln_lag_import_tax * density_china_ville * regime +\n",
    "            lag_foreign_export_share_ckjr + lag_soe_export_share_ckjr\n",
    "            | fe_ckr + fe_cst+fe_kt|0 | hs6, df_final %>% anti_join(temp_f_eli),\n",
    "            exactDOF = TRUE)\n",
    "t_7 <- change_import_tax_order(t_7)"
   ]
  },
  {
   "cell_type": "code",
   "execution_count": null,
   "metadata": {
    "kernel": "R"
   },
   "outputs": [],
   "source": [
    "##### ONLY 17% \n",
    "t_8 <- felm(kandhelwal_quality ~\n",
    "            ln_lag_tax_rebate * density_china_ville * regime + \n",
    "            ln_lag_import_tax * density_china_ville * regime +\n",
    "            lag_foreign_export_share_ckjr + lag_soe_export_share_ckjr\n",
    "            | fe_ckr + fe_cst+fe_pj|0 | hs6, df_final %>% filter(vat_m==17),\n",
    "            exactDOF = TRUE)\n",
    "t_8<- change_import_tax_order(t_8)\n",
    "t_9<- felm(kandhelwal_quality ~\n",
    "            ln_lag_tax_rebate * density_china_ville * regime + \n",
    "            ln_lag_import_tax * density_china_ville * regime +\n",
    "            lag_foreign_export_share_ckjr + lag_soe_export_share_ckjr\n",
    "            | fe_ckr + fe_cst+fe_kt|0 | hs6, df_final %>% filter(vat_m==17),\n",
    "            exactDOF = TRUE)\n",
    "t_9 <- change_import_tax_order(t_9)\n",
    "\n",
    "##### EXCLUDE 0%\n",
    "t_10 <- felm(kandhelwal_quality ~\n",
    "            ln_lag_tax_rebate * density_china_ville * regime + \n",
    "            ln_lag_import_tax * density_china_ville * regime +\n",
    "            lag_foreign_export_share_ckjr + lag_soe_export_share_ckjr\n",
    "            | fe_ckr + fe_cst+fe_pj|0 | hs6, df_final %>% filter(vat_reb_m != 0),\n",
    "            exactDOF = TRUE)\n",
    "t_10<- change_import_tax_order(t_10)\n",
    "t_11<- felm(kandhelwal_quality ~\n",
    "            ln_lag_tax_rebate * density_china_ville * regime + \n",
    "            ln_lag_import_tax * density_china_ville * regime +\n",
    "            lag_foreign_export_share_ckjr + lag_soe_export_share_ckjr\n",
    "            | fe_ckr + fe_cst+fe_kt|0 | hs6, df_final %>% filter(vat_reb_m != 0),\n",
    "            exactDOF = TRUE)\n",
    "t_11 <- change_import_tax_order(t_11)"
   ]
  },
  {
   "cell_type": "code",
   "execution_count": null,
   "metadata": {
    "kernel": "Python 3"
   },
   "outputs": [],
   "source": [
    "import os\n",
    "try:\n",
    "    os.remove(\"Tables/table_3.txt\")\n",
    "except:\n",
    "    pass\n",
    "try:\n",
    "    os.remove(\"Tables/table_3.tex\")\n",
    "except:\n",
    "    pass\n",
    "try:\n",
    "    os.remove(\"Tables/table_3.pdf\")\n",
    "except:\n",
    "    pass"
   ]
  },
  {
   "cell_type": "code",
   "execution_count": null,
   "metadata": {
    "kernel": "R"
   },
   "outputs": [],
   "source": [
    "dep <- \"Dependent variable: Product quality\"\n",
    "fe1 <- list(\n",
    "    \n",
    "    c(\"City-product-regime fixed effects\", \"Yes\", \"Yes\", \"Yes\", \"Yes\", \"Yes\", \"Yes\", \"Yes\", \"Yes\", \"Yes\", \"Yes\", \"Yes\", \"Yes\"),\n",
    "    \n",
    "    c(\"City-sector-year fixed effects\", \"Yes\", \"Yes\", \"Yes\", \"Yes\", \"Yes\", \"Yes\", \"Yes\", \"Yes\", \"Yes\", \"Yes\", \"Yes\", \"Yes\"),\n",
    "    \n",
    "    c(\"Product-destination fixed effect\",\"Yes\", \"No\", \"Yes\", \"No\", \"Yes\", \"No\", \"Yes\", \"No\", \"Yes\", \"No\", \"Yes\", \"No\"),\n",
    "        \n",
    "    c(\"product-year fixed effects\", \"No\", \"Yes\", \"No\", \"Yes\", \"No\", \"Yes\", \"No\", \"Yes\", \"No\", \"Yes\", \"No\", \"Yes\")\n",
    "             )\n",
    "\n",
    "table_1 <- go_latex(list(\n",
    "    t_0,t_1, t_2, t_3, t_4, t_5, t_6, t_7, t_8, t_9, t_10, t_11\n",
    "),\n",
    "    title=\"VAT export tax and firm’s quality upgrading, Robustness checks\",\n",
    "    dep_var = dep,\n",
    "    addFE=fe1,\n",
    "    save=TRUE,\n",
    "    note = FALSE,\n",
    "    name=\"Tables/table_3.txt\"\n",
    ")"
   ]
  },
  {
   "cell_type": "code",
   "execution_count": null,
   "metadata": {
    "kernel": "Python 3"
   },
   "outputs": [],
   "source": [
    "reorder = {\n",
    "    # Old, New\n",
    "    4:2, ## Density * eligible\n",
    "    8:3, ## comp * eligibile\n",
    "}\n",
    "\n",
    "tbe1  = \"\"\"\n",
    "This table estimates eq(3). \n",
    "Note that 'Eligible' refers to the regime entitle to VAT refund, our treatment group.\n",
    "Our control group is processing trade with supplied input, 'Non-Eligible' to VAT refund.\n",
    "Sectors are defined following the Chinese 4-digit GB/T industry\n",
    "classification and regroup several products.\n",
    "Heteroskedasticity-robust standard errors\n",
    "clustered at the product level appear inparentheses.\n",
    "\\sym{*} Significance at the 10\\%, \\sym{**} Significance at the 5\\%, \\sym{***} Significance at the 1\\%.\"\"\"\n",
    "\n",
    "multicolumn ={\n",
    "    'Shocks': 2,\n",
    "    'Balance': 2,\n",
    "    'Eligible to non eligible': 2,\n",
    "    'Non eligible to eligible': 2,\n",
    "    'Only 17\\%': 2,\n",
    "    'No zero rebate': 2\n",
    "}\n",
    "multi_lines_dep = '(city/product/trade regime/year)'\n",
    "#new_r = ['& Eligible', 'Non-Eligible', 'All', 'All benchmark']\n",
    "lb.beautify(table_number = 3,\n",
    "            #multi_lines_dep = None,\n",
    "            multi_lines_dep = multi_lines_dep,\n",
    "            new_row= False,\n",
    "            multicolumn = multicolumn,\n",
    "            reorder_var = None,\n",
    "            table_nte = tbe1,\n",
    "            jupyter_preview = True,\n",
    "            resolution = 300)"
   ]
  },
  {
   "cell_type": "markdown",
   "metadata": {
    "kernel": "Python 3"
   },
   "source": [
    "## Table 5: Tax level, with covariates city, regime, product\n",
    "\n",
    "$$\n",
    "\\begin{aligned}\n",
    "\\operatorname{Quality}_{c,k,j, t}^{R} &=\\alpha \\ln \\operatorname{VAT} \\operatorname{Export} \\operatorname{tax}_{k, t-1} \\times \\text { Eligibility }^{R} \\\\\n",
    "&+F E_{c,k}^{R}+F E_{c,s,t}^{R}+ F E_{k, t}+\\epsilon_{ck,j, t}^{R}\n",
    "\\end{aligned}\n",
    "$$\n",
    "\n",
    "\n",
    "* Column 1 add shocks with the main fixed effect:\n",
    "  * city-product-regime: `fe_ckr`\n",
    "  * city-sector-regime-year: `fe_csrt`\n",
    "  * product-year: `fe_kt`\n",
    "  * Shocks: `hs6` + `country_en` + `year` \n",
    "* Column 2 includes cities presents full years with the main fixed effect:\n",
    "  * city-product-regime: `fe_ckr`\n",
    "  * city-sector-regime-year: `fe_csrt`\n",
    "  * product-year: `fe_kt`\n",
    "* Column 3 switch eligible to non eligle with the main fixed effect:\n",
    "  * city-product-regime: `fe_ckr`\n",
    "  * city-sector-regime-year: `fe_csrt`\n",
    "  * product-year: `fe_kt`\n",
    "* Column 4 switch non eligible to eligible with the main fixed effect:\n",
    "  * city-product-regime: `fe_ckr`\n",
    "  * city-sector-regime-year: `fe_csrt`\n",
    "  * product-year: `fe_kt`\n",
    "* Column 5 keep rebates 17% with the main fixed effect:\n",
    "  * city-product-regime: `fe_ckr`\n",
    "  * city-sector-regime-year: `fe_csrt`\n",
    "  * product-year: `fe_kt`\n",
    "* Column 6 exclude rebates 0% with the main fixed effect:\n",
    "  * city-product-regime: `fe_ckr`\n",
    "  * city-sector-regime-year: `fe_csrt`\n",
    "  * product-year: `fe_kt`\n",
    "  \n",
    "Sector is defined as the GBT 4 digits"
   ]
  },
  {
   "cell_type": "code",
   "execution_count": null,
   "metadata": {
    "kernel": "R"
   },
   "outputs": [],
   "source": [
    "path = '../../../00_Data_catalogue/temporary_local_data/quality_vat_export_covariate_2003_2010_temp.csv'\n",
    "df_final <- read_csv(path) %>%\n",
    "mutate_if(is.character, as.factor) %>%\n",
    "mutate_at(vars(starts_with(\"fe\")), as.factor) %>%\n",
    "mutate(regime = relevel(regime, ref='NOT_ELIGIBLE')) %>%\n",
    "left_join(vat)\n",
    "\n",
    "# Dataset `switch eligible to non eligle` and `switch non eligible to eligible`\n",
    "temp <- df_final %>%\n",
    "  group_by(geocode4_corr, hs6, year) %>%\n",
    "  select(c(\"geocode4_corr\",\"hs6\",\"regime\",\"year\")) %>%\n",
    "  arrange(geocode4_corr, hs6, year) %>%\n",
    "  distinct(.keep_all = TRUE) %>%\n",
    "  ungroup() %>%\n",
    "  group_by(geocode4_corr, hs6) %>%\n",
    "  filter(row_number()==1)\n",
    "\n",
    "temp_2 <- df_final %>%\n",
    "  group_by(geocode4_corr, hs6, year) %>%\n",
    "  select(c(\"geocode4_corr\",\"hs6\",\"regime\",\"year\")) %>%\n",
    "  arrange(geocode4_corr, hs6, year) %>%\n",
    "  distinct(.keep_all = TRUE)%>%\n",
    "  ungroup() %>%\n",
    "  group_by(geocode4_corr, hs6) %>%\n",
    "  filter(row_number()==2)"
   ]
  },
  {
   "cell_type": "code",
   "execution_count": null,
   "metadata": {
    "kernel": "R"
   },
   "outputs": [],
   "source": [
    "#### SHOCKS\n",
    "t_0 <- felm(kandhelwal_quality ~ln_lag_tax_rebate* regime + ln_lag_import_tax * regime+ ln_lag_import_tax +\n",
    "            lag_foreign_export_share_ckr + lag_soe_export_share_ckr\n",
    "            | fe_ckr + fe_csrt+fe_kt + fe_group_shock|0 | hs6, df_final,\n",
    "            exactDOF = TRUE)\n",
    "\n",
    "#### BALANCE\n",
    "t_1 <- felm(kandhelwal_quality ~ln_lag_tax_rebate* regime + ln_lag_import_tax * regime+ ln_lag_import_tax +\n",
    "            lag_foreign_export_share_ckr + lag_soe_export_share_ckr\n",
    "            | fe_ckr + fe_csrt+fe_kt|0 | hs6, df_final %>% group_by(geocode4_corr) %>%\n",
    "  mutate(length = length(unique(year))) %>%\n",
    "  filter(length ==8),\n",
    "            exactDOF = TRUE)"
   ]
  },
  {
   "cell_type": "code",
   "execution_count": null,
   "metadata": {
    "kernel": "R"
   },
   "outputs": [],
   "source": [
    "temp_f_no_eli <- temp_2 %>%\n",
    "  filter(regime ==\"NOT_ELIGIBLE\")\n",
    "\n",
    "temp_f_eli <- temp %>%\n",
    "  filter(regime ==\"ELIGIBLE\") %>%\n",
    "  inner_join(temp_f_no_eli, by = c(\"geocode4_corr\",\"hs6\")) \n",
    "\n",
    "temp_f_eli <-temp_f_eli%>%\n",
    "  filter(year.x != year.y)\n",
    "\n",
    "#data_set_d <- data_set %>%\n",
    "#  anti_join(temp_f_eli)\n",
    "    \n",
    "#### ELIGIBLE TO NON ELIGIBLE\n",
    "t_2 <- felm(kandhelwal_quality ~ln_lag_tax_rebate* regime + ln_lag_import_tax * regime+ ln_lag_import_tax +\n",
    "            lag_foreign_export_share_ckr + lag_soe_export_share_ckr\n",
    "            | fe_ckr + fe_csrt+fe_kt|0 | hs6, df_final %>% anti_join(temp_f_eli),\n",
    "            exactDOF = TRUE)"
   ]
  },
  {
   "cell_type": "code",
   "execution_count": null,
   "metadata": {
    "kernel": "R"
   },
   "outputs": [],
   "source": [
    "temp_f_no_eli <- temp_2 %>%\n",
    "  filter(regime ==\"ELIGIBLE\")\n",
    "\n",
    "temp_f_eli <- temp %>%\n",
    "  filter(regime ==\"NOT_ELIGIBLE\") %>%\n",
    "  inner_join(temp_f_no_eli, by = c(\"geocode4_corr\",\"hs6\")) \n",
    "\n",
    "temp_f_eli <-temp_f_eli%>%\n",
    "  filter(year.x != year.y)\n",
    "\n",
    "#data_set_d <- data_set %>%\n",
    "#  anti_join(temp_f_eli)\n",
    "    \n",
    "#### NON ELIGIBLE TO ELIGIBLE\n",
    "t_3 <- felm(kandhelwal_quality ~ln_lag_tax_rebate* regime + ln_lag_import_tax * regime+ ln_lag_import_tax +\n",
    "            lag_foreign_export_share_ckr + lag_soe_export_share_ckr\n",
    "            | fe_ckr + fe_csrt+fe_kt|0 | hs6, df_final %>% anti_join(temp_f_eli),\n",
    "            exactDOF = TRUE)"
   ]
  },
  {
   "cell_type": "code",
   "execution_count": null,
   "metadata": {
    "kernel": "R"
   },
   "outputs": [],
   "source": [
    "##### ONLY 17% \n",
    "t_4 <- felm(kandhelwal_quality ~ln_lag_tax_rebate* regime + ln_lag_import_tax * regime+ ln_lag_import_tax +\n",
    "            lag_foreign_export_share_ckr + lag_soe_export_share_ckr\n",
    "            | fe_ckr + fe_csrt+fe_kt|0 | hs6, df_final %>% filter(vat_m==17),\n",
    "            exactDOF = TRUE)\n",
    "\n",
    "##### EXCLUDE 0%\n",
    "t_5 <- felm(kandhelwal_quality ~ln_lag_tax_rebate* regime + ln_lag_import_tax * regime+ ln_lag_import_tax +\n",
    "            lag_foreign_export_share_ckr + lag_soe_export_share_ckr\n",
    "            | fe_ckr + fe_csrt+fe_kt|0 | hs6, df_final %>% filter(vat_reb_m != 0),\n",
    "            exactDOF = TRUE)"
   ]
  },
  {
   "cell_type": "code",
   "execution_count": null,
   "metadata": {
    "kernel": "Python 3"
   },
   "outputs": [],
   "source": [
    "import os\n",
    "try:\n",
    "    os.remove(\"Tables/table_4.txt\")\n",
    "except:\n",
    "    pass\n",
    "try:\n",
    "    os.remove(\"Tables/table_4.tex\")\n",
    "except:\n",
    "    pass\n",
    "try:\n",
    "    os.remove(\"Tables/table_4.pdf\")\n",
    "except:\n",
    "    pass"
   ]
  },
  {
   "cell_type": "code",
   "execution_count": null,
   "metadata": {
    "kernel": "R"
   },
   "outputs": [],
   "source": [
    "dep <- \"Dependent variable: Product quality\"\n",
    "fe1 <- list(\n",
    "    c(\"City-product-regime fixed effects\",\"Yes\", \"Yes\", \"Yes\", \"Yes\",\"Yes\",\"Yes\"),\n",
    "    \n",
    "    c(\"City-sector-regime-year fixed effects\",\"Yes\", \"Yes\", \"Yes\", \"Yes\",\"Yes\",\"Yes\"),\n",
    "    \n",
    "    c(\"product-year fixed effects\", \"Yes\", \"Yes\", \"Yes\", \"Yes\",\"Yes\",\"Yes\"),\n",
    "    \n",
    "    c(\"product-year-destination fixed effects\", \"Yes\", \"No\", \"No\", \"No\",\"No\",\"No\")\n",
    "             )\n",
    "\n",
    "table_1 <- go_latex(list(\n",
    "    t_0,t_1, t_2, t_3, t_4, t_5\n",
    "),\n",
    "    title=\"VAT export tax and firm’s quality upgrading, Robustness checks\",\n",
    "    dep_var = dep,\n",
    "    addFE=fe1,\n",
    "    save=TRUE,\n",
    "    note = FALSE,\n",
    "    name=\"Tables/table_4.txt\"\n",
    ")"
   ]
  },
  {
   "cell_type": "code",
   "execution_count": null,
   "metadata": {
    "kernel": "Python 3"
   },
   "outputs": [],
   "source": [
    "tbe1  = \"\"\"\n",
    "This table estimates eq(3). \n",
    "Our control group is processing trade with supplied input, 'Non-Eligible' to VAT refund.\n",
    "Sectors are defined following the Chinese 4-digit GB/T industry\n",
    "classification and regroup several products.\n",
    "Heteroskedasticity-robust standard errors\n",
    "clustered at the product level appear inparentheses.\n",
    "\\sym{*} Significance at the 10\\%, \\sym{**} Significance at the 5\\%, \\sym{***} Significance at the 1\\%.\"\"\"\n",
    "\n",
    "multicolumn ={\n",
    "    'Shocks': 1,\n",
    "    'Balance': 1,\n",
    "    'Eligible to non eligible': 1,\n",
    "    'Non eligible to eligible': 1,\n",
    "    'Only 17\\%': 1,\n",
    "    'No zero rebate': 1\n",
    "}\n",
    "multi_lines_dep = '(city/product/trade regime/year)'\n",
    "#new_r = ['& Eligible', 'Non-Eligible', 'All', 'All benchmark']\n",
    "lb.beautify(table_number = 4,\n",
    "            #multi_lines_dep = None,\n",
    "            multi_lines_dep = multi_lines_dep,\n",
    "            new_row= False,\n",
    "            multicolumn = multicolumn,\n",
    "            table_nte = tbe1,\n",
    "            jupyter_preview = True,\n",
    "            resolution = 200)"
   ]
  },
  {
   "cell_type": "markdown",
   "metadata": {
    "kernel": "Python 3"
   },
   "source": [
    "## Table 6: Density, Tax level, with covariates city, regime, product\n",
    "\n",
    "* Column 1 add shocks with the main fixed effect:\n",
    "  * city-product-regime: `fe_ckr`\n",
    "  * city-sector-year: `fe_cst` \n",
    "  * product-destination: `fe_pj` \n",
    "  * Shocks: `hs6` + `country_en` + `year` \n",
    "* Column 2 add shocks with the main fixed effect:\n",
    "  * city-product-regime: `fe_ckr`\n",
    "  * city-sector-year: `fe_cst` \n",
    "  * product-year: `fe_kt` \n",
    "  * Shocks: `hs6` + `country_en` + `year` \n",
    "* Column 3 includes cities presents full years with the main fixed effect:\n",
    "  * city-product-regime: `fe_ckr`\n",
    "  * city-sector-year: `fe_cst` \n",
    "  * product-destination: `fe_pj`\n",
    "* Column 4 includes cities presents full years with the main fixed effect:\n",
    "  * city-product-regime: `fe_ckr`\n",
    "  * city-sector-regime-year: `fe_csrt`\n",
    "  * product-year: `fe_kt` \n",
    "* Column 5 switch eligible to non eligle with the main fixed effect:\n",
    "  * city-product-regime: `fe_ckr`\n",
    "  * city-sector-year: `fe_cst` \n",
    "  * product-destination: `fe_pj`\n",
    "* Column 6 switch eligible to non eligle with the main fixed effect:\n",
    "  * city-product-regime: `fe_ckr`\n",
    "  * city-sector-regime-year: `fe_csrt`\n",
    "  * product-year: `fe_kt` \n",
    "* Column 7 switch non eligible to eligible with the main fixed effect:\n",
    "  * city-product-regime: `fe_ckr`\n",
    "  * city-sector-year: `fe_cst` \n",
    "  * product-destination: `fe_pj`\n",
    "* Column 8 switch non eligible to eligible with the main fixed effect:\n",
    "  * city-product-regime: `fe_ckr`\n",
    "  * city-sector-year: `fe_cst` \n",
    "  * product-year: `fe_kt` \n",
    "* Column 9 keep rebates 17% with the main fixed effect:\n",
    "  * city-product-regime: `fe_ckr`\n",
    "  * city-sector-year: `fe_cst` \n",
    "  * product-destination: `fe_pj`\n",
    "* Column 10 keep rebates 17% with the main fixed effect:\n",
    "  * city-product-regime: `fe_ckr`\n",
    "  * city-sector-year: `fe_cst` \n",
    "  * product-year: `fe_kt` \n",
    "* Column 11 exclude rebates 0% with the main fixed effect:\n",
    "  * city-product-regime: `fe_ckr`\n",
    "  * city-sector-year: `fe_cst` \n",
    "  * product-destination: `fe_pj`\n",
    "* Column 12 exclude rebates 0% with the main fixed effect:\n",
    "  * city-product-regime: `fe_ckr`\n",
    "  * city-sector-year: `fe_cst` \n",
    "  * product-year: `fe_kt` "
   ]
  },
  {
   "cell_type": "code",
   "execution_count": null,
   "metadata": {
    "kernel": "R"
   },
   "outputs": [],
   "source": [
    "path = '../../../00_Data_catalogue/temporary_local_data/quality_vat_export_covariate_2003_2010_temp.csv'\n",
    "df_final <- read_csv(path) %>%\n",
    "mutate_if(is.character, as.factor) %>%\n",
    "mutate_at(vars(starts_with(\"fe\")), as.factor) %>%\n",
    "mutate(regime = relevel(regime, ref='NOT_ELIGIBLE')) %>%\n",
    "left_join(vat)%>%\n",
    "inner_join(density_city)\n",
    "\n",
    "# Dataset `switch eligible to non eligle` and `switch non eligible to eligible`\n",
    "temp <- df_final %>%\n",
    "  group_by(geocode4_corr, hs6, year) %>%\n",
    "  select(c(\"geocode4_corr\",\"hs6\",\"regime\",\"year\")) %>%\n",
    "  arrange(geocode4_corr, hs6, year) %>%\n",
    "  distinct(.keep_all = TRUE) %>%\n",
    "  ungroup() %>%\n",
    "  group_by(geocode4_corr, hs6) %>%\n",
    "  filter(row_number()==1)\n",
    "\n",
    "temp_2 <- df_final %>%\n",
    "  group_by(geocode4_corr, hs6, year) %>%\n",
    "  select(c(\"geocode4_corr\",\"hs6\",\"regime\",\"year\")) %>%\n",
    "  arrange(geocode4_corr, hs6, year) %>%\n",
    "  distinct(.keep_all = TRUE)%>%\n",
    "  ungroup() %>%\n",
    "  group_by(geocode4_corr, hs6) %>%\n",
    "  filter(row_number()==2) "
   ]
  },
  {
   "cell_type": "code",
   "execution_count": null,
   "metadata": {
    "kernel": "R"
   },
   "outputs": [],
   "source": [
    "#### SHOCKS\n",
    "t_0 <- felm(kandhelwal_quality ~\n",
    "            ln_lag_tax_rebate * density_china_ville * regime + \n",
    "            ln_lag_import_tax * density_china_ville * regime + \n",
    "            lag_foreign_export_share_ckr + lag_soe_export_share_ckr\n",
    "            | fe_ckr + fe_cst+fe_pj + fe_group_shock|0 | hs6, df_final,\n",
    "            exactDOF = TRUE)\n",
    "t_0<- change_import_tax_order(t_0)\n",
    "t_1<- felm(kandhelwal_quality ~\n",
    "            ln_lag_tax_rebate * density_china_ville * regime + \n",
    "            ln_lag_import_tax * density_china_ville * regime +\n",
    "            lag_foreign_export_share_ckr + lag_soe_export_share_ckr\n",
    "            | fe_ckr + fe_cst+fe_kt + fe_group_shock|0 | hs6, df_final,\n",
    "            exactDOF = TRUE)\n",
    "t_1 <- change_import_tax_order(t_1)\n",
    "#### BALANCE\n",
    "t_2 <- felm(kandhelwal_quality ~\n",
    "            ln_lag_tax_rebate * density_china_ville * regime + \n",
    "            ln_lag_import_tax * density_china_ville * regime +\n",
    "            lag_foreign_export_share_ckr + lag_soe_export_share_ckr\n",
    "            | fe_ckr + fe_cst+fe_pj|0 | hs6, df_final %>% group_by(geocode4_corr) %>%\n",
    "  mutate(length = length(unique(year))) %>%\n",
    "  filter(length ==8),\n",
    "            exactDOF = TRUE)\n",
    "t_2<- change_import_tax_order(t_2)\n",
    "t_3<- felm(kandhelwal_quality ~\n",
    "            ln_lag_tax_rebate * density_china_ville * regime + \n",
    "            ln_lag_import_tax * density_china_ville * regime +\n",
    "            lag_foreign_export_share_ckr + lag_soe_export_share_ckr\n",
    "            | fe_ckr + fe_cst+fe_kt|0 | hs6, df_final %>% group_by(geocode4_corr) %>%\n",
    "  mutate(length = length(unique(year))) %>%\n",
    "  filter(length ==8),\n",
    "            exactDOF = TRUE)\n",
    "t_3 <- change_import_tax_order(t_3)"
   ]
  },
  {
   "cell_type": "code",
   "execution_count": null,
   "metadata": {
    "kernel": "R"
   },
   "outputs": [],
   "source": [
    "#### ELIGIBLE TO NON ELIGIBLE\n",
    "temp_f_no_eli <- temp_2 %>%\n",
    "  filter(regime ==\"NOT_ELIGIBLE\")\n",
    "\n",
    "temp_f_eli <- temp %>%\n",
    "  filter(regime ==\"ELIGIBLE\") %>%\n",
    "  inner_join(temp_f_no_eli, by = c(\"geocode4_corr\",\"hs6\")) \n",
    "\n",
    "temp_f_eli <-temp_f_eli%>%\n",
    "  filter(year.x != year.y)   \n",
    "\n",
    "\n",
    "t_4 <- felm(kandhelwal_quality ~\n",
    "            ln_lag_tax_rebate * density_china_ville * regime + \n",
    "            ln_lag_import_tax * density_china_ville * regime +\n",
    "            lag_foreign_export_share_ckr + lag_soe_export_share_ckr\n",
    "            | fe_ckr + fe_cst+fe_pj|0 | hs6, df_final %>% anti_join(temp_f_eli),\n",
    "            exactDOF = TRUE)\n",
    "t_4<- change_import_tax_order(t_4)\n",
    "t_5<- felm(kandhelwal_quality ~\n",
    "            ln_lag_tax_rebate * density_china_ville * regime + \n",
    "            ln_lag_import_tax * density_china_ville * regime +\n",
    "            lag_foreign_export_share_ckr + lag_soe_export_share_ckr\n",
    "            | fe_ckr + fe_cst+fe_kt|0 | hs6, df_final %>% anti_join(temp_f_eli),\n",
    "            exactDOF = TRUE)\n",
    "t_5 <- change_import_tax_order(t_5)"
   ]
  },
  {
   "cell_type": "code",
   "execution_count": null,
   "metadata": {
    "kernel": "R"
   },
   "outputs": [],
   "source": [
    "#### NON ELIGIBLE TO ELIGIBLE\n",
    "temp_f_no_eli <- temp_2 %>%\n",
    "  filter(regime ==\"ELIGIBLE\")\n",
    "\n",
    "temp_f_eli <- temp %>%\n",
    "  filter(regime ==\"NOT_ELIGIBLE\") %>%\n",
    "  inner_join(temp_f_no_eli, by = c(\"geocode4_corr\",\"hs6\")) \n",
    "\n",
    "temp_f_eli <-temp_f_eli%>%\n",
    "  filter(year.x != year.y)\n",
    "    \n",
    "t_6 <- felm(kandhelwal_quality ~\n",
    "            ln_lag_tax_rebate * density_china_ville * regime + \n",
    "            ln_lag_import_tax * density_china_ville * regime +\n",
    "            lag_foreign_export_share_ckr + lag_soe_export_share_ckr\n",
    "            | fe_ckr + fe_cst+fe_pj|0 | hs6, df_final %>% anti_join(temp_f_eli),\n",
    "            exactDOF = TRUE)\n",
    "t_6<- change_import_tax_order(t_6)\n",
    "t_7<- felm(kandhelwal_quality ~\n",
    "            ln_lag_tax_rebate * density_china_ville * regime + \n",
    "            ln_lag_import_tax * density_china_ville * regime +\n",
    "            lag_foreign_export_share_ckr + lag_soe_export_share_ckr\n",
    "            | fe_ckr + fe_cst+fe_kt|0 | hs6, df_final %>% anti_join(temp_f_eli),\n",
    "            exactDOF = TRUE)\n",
    "t_7 <- change_import_tax_order(t_7)"
   ]
  },
  {
   "cell_type": "code",
   "execution_count": null,
   "metadata": {
    "kernel": "R"
   },
   "outputs": [],
   "source": [
    "##### ONLY 17% \n",
    "t_8 <- felm(kandhelwal_quality ~\n",
    "            ln_lag_tax_rebate * density_china_ville * regime + \n",
    "            ln_lag_import_tax * density_china_ville * regime +\n",
    "            lag_foreign_export_share_ckr + lag_soe_export_share_ckr\n",
    "            | fe_ckr + fe_cst+fe_pj|0 | hs6, df_final %>% filter(vat_m==17),\n",
    "            exactDOF = TRUE)\n",
    "t_8<- change_import_tax_order(t_8)\n",
    "t_9<- felm(kandhelwal_quality ~\n",
    "            ln_lag_tax_rebate * density_china_ville * regime + \n",
    "            ln_lag_import_tax * density_china_ville * regime +\n",
    "            lag_foreign_export_share_ckr + lag_soe_export_share_ckr\n",
    "            | fe_ckr + fe_cst+fe_kt|0 | hs6, df_final %>% filter(vat_m==17),\n",
    "            exactDOF = TRUE)\n",
    "t_9 <- change_import_tax_order(t_9)\n",
    "\n",
    "##### EXCLUDE 0%\n",
    "t_10 <- felm(kandhelwal_quality ~\n",
    "            ln_lag_tax_rebate * density_china_ville * regime + \n",
    "            ln_lag_import_tax * density_china_ville * regime +\n",
    "            lag_foreign_export_share_ckr + lag_soe_export_share_ckr\n",
    "            | fe_ckr + fe_cst+fe_pj|0 | hs6, df_final %>% filter(vat_reb_m != 0),\n",
    "            exactDOF = TRUE)\n",
    "t_10<- change_import_tax_order(t_10)\n",
    "t_11<- felm(kandhelwal_quality ~\n",
    "            ln_lag_tax_rebate * density_china_ville * regime + \n",
    "            ln_lag_import_tax * density_china_ville * regime +\n",
    "            lag_foreign_export_share_ckr + lag_soe_export_share_ckr\n",
    "            | fe_ckr + fe_cst+fe_kt|0 | hs6, df_final %>% filter(vat_reb_m != 0),\n",
    "            exactDOF = TRUE)\n",
    "t_11 <- change_import_tax_order(t_11)"
   ]
  },
  {
   "cell_type": "code",
   "execution_count": null,
   "metadata": {
    "kernel": "Python 3"
   },
   "outputs": [],
   "source": [
    "import os\n",
    "try:\n",
    "    os.remove(\"Tables/table_5.txt\")\n",
    "except:\n",
    "    pass\n",
    "try:\n",
    "    os.remove(\"Tables/table_5.tex\")\n",
    "except:\n",
    "    pass\n",
    "try:\n",
    "    os.remove(\"Tables/table_5.pdf\")\n",
    "except:\n",
    "    pass"
   ]
  },
  {
   "cell_type": "code",
   "execution_count": null,
   "metadata": {
    "kernel": "R"
   },
   "outputs": [],
   "source": [
    "dep <- \"Dependent variable: Product quality\"\n",
    "fe1 <- list(\n",
    "    \n",
    "    c(\"City-product-regime fixed effects\", \"Yes\", \"Yes\", \"Yes\", \"Yes\", \"Yes\", \"Yes\", \"Yes\", \"Yes\", \"Yes\", \"Yes\", \"Yes\", \"Yes\"),\n",
    "    \n",
    "    c(\"City-sector-year fixed effects\", \"Yes\", \"Yes\", \"Yes\", \"Yes\", \"Yes\", \"Yes\", \"Yes\", \"Yes\", \"Yes\", \"Yes\", \"Yes\", \"Yes\"),\n",
    "    \n",
    "    c(\"Product-destination fixed effect\",\"Yes\", \"No\", \"Yes\", \"No\", \"Yes\", \"No\", \"Yes\", \"No\", \"Yes\", \"No\", \"Yes\", \"No\"),\n",
    "        \n",
    "    c(\"product-year fixed effects\", \"No\", \"Yes\", \"No\", \"Yes\", \"No\", \"Yes\", \"No\", \"Yes\", \"No\", \"Yes\", \"No\", \"Yes\")\n",
    "             )\n",
    "\n",
    "table_1 <- go_latex(list(\n",
    "    t_0,t_1, t_2, t_3, t_4, t_5, t_6, t_7, t_8, t_9, t_10, t_11\n",
    "),\n",
    "    title=\"VAT export tax and firm’s quality upgrading, Robustness checks\",\n",
    "    dep_var = dep,\n",
    "    addFE=fe1,\n",
    "    save=TRUE,\n",
    "    note = FALSE,\n",
    "    name=\"Tables/table_5.txt\"\n",
    ")"
   ]
  },
  {
   "cell_type": "code",
   "execution_count": null,
   "metadata": {
    "kernel": "Python 3"
   },
   "outputs": [],
   "source": [
    "reorder = {\n",
    "    # Old, New\n",
    "    4:2, ## Density * eligible\n",
    "    8:3, ## comp * eligibile\n",
    "}\n",
    "\n",
    "tbe1  = \"\"\"\n",
    "This table estimates eq(3). \n",
    "Note that 'Eligible' refers to the regime entitle to VAT refund, our treatment group.\n",
    "Our control group is processing trade with supplied input, 'Non-Eligible' to VAT refund.\n",
    "Sectors are defined following the Chinese 4-digit GB/T industry\n",
    "classification and regroup several products.\n",
    "Heteroskedasticity-robust standard errors\n",
    "clustered at the product level appear inparentheses.\n",
    "\\sym{*} Significance at the 10\\%, \\sym{**} Significance at the 5\\%, \\sym{***} Significance at the 1\\%.\"\"\"\n",
    "\n",
    "multicolumn ={\n",
    "    'Shocks': 2,\n",
    "    'Balance': 2,\n",
    "    'Eligible to non eligible': 2,\n",
    "    'Non eligible to eligible': 2,\n",
    "    'Only 17\\%': 2,\n",
    "    'No zero rebate': 2\n",
    "}\n",
    "multi_lines_dep = '(city/product/trade regime/year)'\n",
    "#new_r = ['& Eligible', 'Non-Eligible', 'All', 'All benchmark']\n",
    "lb.beautify(table_number = 5,\n",
    "            #multi_lines_dep = None,\n",
    "            multi_lines_dep = multi_lines_dep,\n",
    "            new_row= False,\n",
    "            multicolumn = multicolumn,\n",
    "            reorder_var = None,\n",
    "            table_nte = tbe1,\n",
    "            jupyter_preview = True,\n",
    "            resolution = 300)"
   ]
  },
  {
   "cell_type": "code",
   "execution_count": null,
   "metadata": {
    "kernel": "Python 3"
   },
   "outputs": [],
   "source": [
    "os.remove(path_to_save)\n",
    "os.remove(os.path.join(str(Path(path).parent.parent.parent), \n",
    "                              \"00_data_catalogue/temporary_local_data/base_hs6_vat_2002_2012.csv\"))"
   ]
  },
  {
   "cell_type": "markdown",
   "metadata": {
    "kernel": "SoS",
    "nteract": {
     "transient": {
      "deleting": false
     }
    }
   },
   "source": [
    "# Generate reports"
   ]
  },
  {
   "cell_type": "code",
   "execution_count": null,
   "metadata": {
    "kernel": "Python 3",
    "nteract": {
     "transient": {
      "deleting": false
     }
    },
    "outputExpanded": false
   },
   "outputs": [],
   "source": [
    "import os, time, shutil, urllib, ipykernel, json\n",
    "from pathlib import Path\n",
    "from notebook import notebookapp"
   ]
  },
  {
   "cell_type": "code",
   "execution_count": null,
   "metadata": {
    "kernel": "Python 3",
    "nteract": {
     "transient": {
      "deleting": false
     }
    },
    "outputExpanded": false
   },
   "outputs": [],
   "source": [
    "def create_report(extension = \"html\", keep_code = False):\n",
    "    \"\"\"\n",
    "    Create a report from the current notebook and save it in the \n",
    "    Report folder (Parent-> child directory)\n",
    "    \n",
    "    1. Exctract the current notbook name\n",
    "    2. Convert the Notebook \n",
    "    3. Move the newly created report\n",
    "    \n",
    "    Args:\n",
    "    extension: string. Can be \"html\", \"pdf\", \"md\"\n",
    "    \n",
    "    \n",
    "    \"\"\"\n",
    "    \n",
    "    ### Get notebook name\n",
    "    connection_file = os.path.basename(ipykernel.get_connection_file())\n",
    "    kernel_id = connection_file.split('-', 1)[0].split('.')[0]\n",
    "\n",
    "    for srv in notebookapp.list_running_servers():\n",
    "        try:\n",
    "            if srv['token']=='' and not srv['password']:  \n",
    "                req = urllib.request.urlopen(srv['url']+'api/sessions')\n",
    "            else:\n",
    "                req = urllib.request.urlopen(srv['url']+ \\\n",
    "                                             'api/sessions?token=' + \\\n",
    "                                             srv['token'])\n",
    "            sessions = json.load(req)\n",
    "            notebookname = sessions[0]['name']\n",
    "        except:\n",
    "            pass  \n",
    "    \n",
    "    sep = '.'\n",
    "    path = os.getcwd()\n",
    "    #parent_path = str(Path(path).parent)\n",
    "    \n",
    "    ### Path report\n",
    "    #path_report = \"{}/Reports\".format(parent_path)\n",
    "    #path_report = \"{}/Reports\".format(path)\n",
    "    \n",
    "    ### Path destination\n",
    "    name_no_extension = notebookname.split(sep, 1)[0]\n",
    "    source_to_move = name_no_extension +'.{}'.format(extension)\n",
    "    dest = os.path.join(path,'Reports', source_to_move)\n",
    "    \n",
    "    ### Generate notebook\n",
    "    if keep_code:\n",
    "        os.system('jupyter nbconvert --to {} {}'.format(\n",
    "    extension,notebookname))\n",
    "    else:\n",
    "        os.system('jupyter nbconvert --no-input --to {} {}'.format(\n",
    "    extension,notebookname))\n",
    "    \n",
    "    ### Move notebook to report folder\n",
    "    #time.sleep(5)\n",
    "    shutil.move(source_to_move, dest)\n",
    "    print(\"Report Available at this adress:\\n {}\".format(dest))"
   ]
  },
  {
   "cell_type": "code",
   "execution_count": null,
   "metadata": {
    "kernel": "Python 3",
    "nteract": {
     "transient": {
      "deleting": false
     }
    },
    "outputExpanded": false
   },
   "outputs": [],
   "source": [
    "create_report(extension = \"html\", keep_code = True)"
   ]
  }
 ],
 "metadata": {
  "jupytext": {
   "formats": "ipynb,md"
  },
  "kernel_info": {
   "name": "python3"
  },
  "kernelspec": {
   "display_name": "SoS",
   "language": "sos",
   "name": "sos"
  },
  "language_info": {
   "codemirror_mode": "sos",
   "file_extension": ".sos",
   "mimetype": "text/x-sos",
   "name": "sos",
   "nbconvert_exporter": "sos_notebook.converter.SoS_Exporter",
   "pygments_lexer": "sos"
  },
  "nteract": {
   "version": "0.23.1"
  },
  "sos": {
   "kernels": [
    [
     "Python 3",
     "python3",
     "python3",
     "",
     {
      "name": "ipython",
      "version": 3
     }
    ],
    [
     "R",
     "ir",
     "R",
     "#DCDCDA",
     "r"
    ]
   ],
   "version": "0.21.13"
  },
  "toc": {
   "base_numbering": 1,
   "nav_menu": {},
   "number_sections": true,
   "sideBar": true,
   "skip_h1_title": false,
   "title_cell": "Table of Contents",
   "title_sidebar": "Contents",
   "toc_cell": false,
   "toc_position": {},
   "toc_section_display": true,
   "toc_window_display": false
  }
 },
 "nbformat": 4,
 "nbformat_minor": 4
}
