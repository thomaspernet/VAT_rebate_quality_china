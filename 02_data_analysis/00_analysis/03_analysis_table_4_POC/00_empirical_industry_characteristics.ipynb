{
 "cells": [
  {
   "cell_type": "markdown",
   "metadata": {
    "kernel": "SoS"
   },
   "source": [
    "# POC replicate table 4 of the previous paper by subsetting according to industry characteristics\n",
    "\n",
    "# Objective(s)\n",
    "\n",
    "Replicate the second table of the previous paper\n",
    "\n",
    "![](https://drive.google.com/uc?export=view&id=1dUWzs5Uqm4A23E-i5aPpKYADx10RJevk)\n",
    "\n",
    "* LDC and DC comes from the world bank classification, and are already in the table\n",
    "* The list of homogeneous goods is in the S3\n",
    "* Small/large city is be computed by using:\n",
    "  *  the number of product exported in 2003. If the count of product is above average, then it can be consider as a large firm\n",
    "  * The average quantity\n",
    "\n",
    "# Metadata\n",
    "\n",
    "* Epic: Epic 2\n",
    "* US: US 2\n",
    "* Date Begin: 10/4/2020\n",
    "* Duration Task: 1\n",
    "* Description: Replicate table 2 with and without the export share covariates\n",
    "* Step type:  \n",
    "* Status: Active\n",
    "* Source URL: US 02 Table 2 country, good city\n",
    "* Task type: Jupyter Notebook\n",
    "* Users: Thomas Pernet\n",
    "* Watchers: Thomas Pernet\n",
    "* User Account: https://468786073381.signin.aws.amazon.com/console\n",
    "* Estimated Log points: 10\n",
    "* Task tag: #econometrics,#ols\n",
    "* Toggl Tag: #model-training\n",
    "* Meetings:  \n",
    "* Email Information:  \n",
    "  * thread: Number of threads: 0(Default 0, to avoid display email)\n",
    "  *  \n",
    "\n",
    "# Input Cloud Storage [AWS/GCP]\n",
    "\n",
    "## Table/file\n",
    "\n",
    "* Origin: \n",
    "* Athena\n",
    "* Name: \n",
    "* quality_vat_export_covariate_2003_2010\n",
    "* Github: \n",
    "  * https://github.com/thomaspernet/VAT_rebate_quality_china/blob/master/01_data_preprocessing/02_prepare_tables_model/02_transform_table_baseline_covariates.md"
   ]
  },
  {
   "cell_type": "markdown",
   "metadata": {
    "kernel": "SoS"
   },
   "source": [
    "# Connexion server"
   ]
  },
  {
   "cell_type": "code",
   "execution_count": null,
   "metadata": {
    "kernel": "Python 3"
   },
   "outputs": [],
   "source": [
    "from awsPy.aws_authorization import aws_connector\n",
    "from awsPy.aws_s3 import service_s3\n",
    "from awsPy.aws_glue import service_glue\n",
    "from pathlib import Path\n",
    "import pandas as pd\n",
    "import numpy as np\n",
    "#import seaborn as sns\n",
    "import os, shutil\n",
    "\n",
    "path = os.getcwd()\n",
    "parent_path = str(Path(path).parent.parent.parent)\n",
    "\n",
    "\n",
    "name_credential = 'thomas_vat_credentials.csv'\n",
    "region = 'eu-west-3'\n",
    "bucket = 'chinese-data'\n",
    "path_cred = \"{0}/creds/{1}\".format(parent_path, name_credential)"
   ]
  },
  {
   "cell_type": "code",
   "execution_count": null,
   "metadata": {
    "kernel": "Python 3"
   },
   "outputs": [],
   "source": [
    "os.environ['KMP_DUPLICATE_LIB_OK']='True'"
   ]
  },
  {
   "cell_type": "code",
   "execution_count": null,
   "metadata": {
    "kernel": "Python 3"
   },
   "outputs": [],
   "source": [
    "con = aws_connector.aws_instantiate(credential = path_cred,\n",
    "                                       region = region)\n",
    "client= con.client_boto()\n",
    "s3 = service_s3.connect_S3(client = client,\n",
    "                      bucket = bucket, verbose = False)\n",
    "glue = service_glue.connect_glue(client = client) "
   ]
  },
  {
   "cell_type": "code",
   "execution_count": null,
   "metadata": {
    "kernel": "Python 3"
   },
   "outputs": [],
   "source": [
    "pandas_setting = True\n",
    "if pandas_setting:\n",
    "    #cm = sns.light_palette(\"green\", as_cmap=True)\n",
    "    pd.set_option('display.max_columns', None)\n",
    "    pd.set_option('display.max_colwidth', None)"
   ]
  },
  {
   "cell_type": "markdown",
   "metadata": {
    "kernel": "SoS"
   },
   "source": [
    "# Load tables\n",
    "\n",
    "Since we load the data as a Pandas DataFrame, we want to pass the `dtypes`. We load the schema from Glue to guess the types"
   ]
  },
  {
   "cell_type": "markdown",
   "metadata": {
    "kernel": "SoS"
   },
   "source": [
    "- Filename: XX\n",
    "- Main table S3: https://s3.console.aws.amazon.com/s3/buckets/vat-rebate-quality/DATA/TRANSFORMED/?region=eu-west-3&tab=overview\n",
    "- Extra table: https://s3.console.aws.amazon.com/s3/buckets/chinese-data/ADDITIONAL_DATA/INDUSTRY_CHARACTERISTICS/?region=eu-west-3\n",
    "    - Energy: energy.csv\n",
    "    - high tech: high_tech.csv\n",
    "    - skill-oriented: test_es.csv\n",
    "    - RD oriented: test_rd.csv"
   ]
  },
  {
   "cell_type": "code",
   "execution_count": null,
   "metadata": {
    "kernel": "Python 3"
   },
   "outputs": [],
   "source": [
    "list(\n",
    "    map(\n",
    "        lambda x:\n",
    "        \n",
    "    s3.download_file(\n",
    "        key = 'ADDITIONAL_DATA/INDUSTRY_CHARACTERISTICS/{}'.format(x),\n",
    "    path_local = os.path.join(str(Path(path).parent.parent.parent), \n",
    "                              \"00_data_catalogue/temporary_local_data\")\n",
    "    ), \n",
    "        ['energy.csv','high_tech.csv', 'test_es.csv', 'test_rd.csv']\n",
    "    )\n",
    ")"
   ]
  },
  {
   "cell_type": "markdown",
   "metadata": {
    "kernel": "SoS"
   },
   "source": [
    "# Models to estimate\n",
    "\n",
    "The model to estimate is: \n",
    "\n",
    "## Fixed Effect\n",
    "\n",
    "| Benchmark | Origin            | Name                     | Description                                                                                                                                                                                                                                                                                                                                    | Math_notebook     |\n",
    "|-----------|-------------------|--------------------------|------------------------------------------------------------------------------------------------------------------------------------------------------------------------------------------------------------------------------------------------------------------------------------------------------------------------------------------------|-------------------|\n",
    "| Yes       | Current           | city-product             |                                                                                                                                                                                                                                                                                                                                                | $\\alpha_{ck}$     |\n",
    "| Yes       | Current           | city-product-regime      |                                                                                                                                                                                                                                                                                                                                                | $\\alpha_{ck}^R$   |\n",
    "| Yes       | Current           | city-sector-year         | Sector is defined as GBT 4 digit                                                                                                                                                                                                                                                                                                               | $\\alpha_{cst}$    |\n",
    "| Yes       | Current           | city-sectorーregime-year | Sector is defined as GBT 4 digit                                                                                                                                                                                                                                                                                                               | $\\alpha_{cst}^R$  |\n",
    "| Yes       | Current           | product-destination      |                                                                                                                                                                                                                                                                                                                                                | $\\alpha_{pj}$     |\n",
    "| Yes       | Previous baseline | Product-year             | account for all factors that affect product-level export irrespective of the trade regime in a given year                                                                                                                                                                                                                                      | $\\alpha_{pt}$     |\n",
    "| No        | Previous baseline | firm-product-eligibility | captures all the factors that affect firms regardless of the time and type of regime. This firm‒product pair eliminates the demand shocks that firms face and that are not correlated with the types of status. The fixed effects are also responsible for potential correlations between subsidies, R&D, or trade policies and VAT rebates.   | $\\alpha^{E}_{it}$ |\n",
    "| No        | Previous baseline | HS4-year-eligibility     |                                                                                                                                                                                                                                                                                                                                                | $\\alpha^{E}_{st}$ |\n",
    "| No        | Previous baseline | city-year                | captures the differences in demand, capital intensity, or labor supply that prevail between cities each year                                                                                                                                                                                                                                   | $\\alpha_{ct}$     |\n",
    "| No        | Candidate         | destination-year         | Captures additional level of control, encompassing all the shocks and developments in the economies to which China exports.                                                                                                                                                                                                                    | $\\alpha_{dt}$     |\n",
    "\n",
    "\n",
    "- city-product: `fe_ck`\n",
    "- City-sector-year: `fe_cst`\n",
    "- City-product-regime: `fe_ckr`\n",
    "- City-sector-regime-year: `fe_csrt`\n",
    "- Product-year: `fe_kt`\n",
    "- Product-destination: `fe_pj`\n",
    "- Destination-year: `fe_jt`"
   ]
  },
  {
   "cell_type": "code",
   "execution_count": null,
   "metadata": {
    "kernel": "Python 3"
   },
   "outputs": [],
   "source": [
    "import function.latex_beautify as lb\n",
    "\n",
    "%load_ext autoreload\n",
    "%autoreload 2"
   ]
  },
  {
   "cell_type": "code",
   "execution_count": null,
   "metadata": {
    "kernel": "R"
   },
   "outputs": [],
   "source": [
    "options(warn=-1)\n",
    "library(tidyverse)\n",
    "library(lfe)\n",
    "#library(lazyeval)\n",
    "library('progress')\n",
    "path = \"function/table_golatex.R\"\n",
    "source(path)"
   ]
  },
  {
   "cell_type": "markdown",
   "metadata": {
    "kernel": "R"
   },
   "source": [
    "Load industrial data"
   ]
  },
  {
   "cell_type": "code",
   "execution_count": null,
   "metadata": {
    "kernel": "R"
   },
   "outputs": [],
   "source": [
    "path_energy = '../../../00_Data_catalogue/temporary_local_data/energy.csv'\n",
    "energy <- read_csv(path_energy, col_types = \"d\") %>% mutate(energy = 'ENERGY')\n",
    "table(energy$energy)"
   ]
  },
  {
   "cell_type": "code",
   "execution_count": null,
   "metadata": {
    "kernel": "R"
   },
   "outputs": [],
   "source": [
    "path_high_tech = '../../../00_Data_catalogue/temporary_local_data/high_tech.csv'\n",
    "high_tech <- read_csv(path_high_tech, col_types = \"d\")  %>% mutate(high_tech = 'HIGHTECH')\n",
    "table(high_tech$high_tech)"
   ]
  },
  {
   "cell_type": "code",
   "execution_count": null,
   "metadata": {
    "kernel": "R"
   },
   "outputs": [],
   "source": [
    "path_es = '../../../00_Data_catalogue/temporary_local_data/test_es.csv'\n",
    "skilled <- read_csv(path_es, col_types = \"dc\") %>% \n",
    "mutate(skilled = ifelse( hi_s_e1 == 1, 'SKILLED', 'UNSKILLED')) %>%\n",
    "filter(skilled == 'SKILLED')\n",
    "table(skilled$skilled)"
   ]
  },
  {
   "cell_type": "code",
   "execution_count": null,
   "metadata": {
    "kernel": "R"
   },
   "outputs": [],
   "source": [
    "path_rd = '../../../00_Data_catalogue/temporary_local_data/test_rd.csv'\n",
    "rd <- read_csv(path_rd, col_types = \"dd\") %>% \n",
    "mutate(rd = ifelse( rd_o == 0, 'RD', 'NO_RD')) %>%\n",
    "filter(rd == 'RD')\n",
    "table(rd$rd)"
   ]
  },
  {
   "cell_type": "code",
   "execution_count": null,
   "metadata": {
    "kernel": "R"
   },
   "outputs": [],
   "source": [
    "path = '../../../00_Data_catalogue/temporary_local_data/quality_vat_export_covariate_2003_2010.csv'\n",
    "df_final <- read_csv(path) %>%\n",
    "mutate_if(is.character, as.factor) %>%\n",
    "    mutate_at(vars(starts_with(\"fe\")), as.factor) %>%\n",
    "mutate(regime = relevel(regime, ref='NOT_ELIGIBLE')) %>%\n",
    "left_join(energy, by= \"hs6\") %>%\n",
    "left_join(high_tech, by= \"hs6\") %>%\n",
    "left_join(skilled, by= c(\"hs4\" = \"gbt\")) %>%\n",
    "left_join(rd, by= c(\"hs4\" = \"gbt\"))"
   ]
  },
  {
   "cell_type": "markdown",
   "metadata": {
    "kernel": "SoS"
   },
   "source": [
    "## Table 1: Industry characteristics, no covariates\n",
    "\n",
    "$$\n",
    "\\begin{aligned}\n",
    "\\operatorname{Quality}_{c,k,j, t}^{R} &=\\alpha \\ln \\operatorname{VAT} \\operatorname{Export} \\operatorname{tax}_{k, t-1} \\times \\text { Eligibility }^{R} \\\\\n",
    "&+F E_{c,k}^{R}+F E_{c,s,t}^{R}+ F E_{k, t}+\\epsilon_{ck,j, t}^{R}\n",
    "\\end{aligned}\n",
    "$$\n",
    "\n",
    "* Column 1 excludes rare earth products with the main fixed effect:\n",
    "  * city-product-regime: `fe_ckr`\n",
    "  * city-sector-regime-year: `fe_csrt` \n",
    "  * product-year: `fe_kt` \n",
    "* Column 2 excludes energy intensive industries with the main fixed effect:\n",
    "  * city-product-regime: `fe_ckr` \n",
    "  * city-sector-regime-year: `fe_csrt` \n",
    "  * product-year: `fe_kt` \n",
    "* Column 3 excludes high tech industries with the main fixed effect:\n",
    "  * city-product-regime: `fe_ckr` \n",
    "  * city-sector-regime-year: `fe_csrt` \n",
    "  * product-year: `fe_kt` \n",
    "* Column 4 excludes RD oriented indusrtries with the main fixed effect:\n",
    "  * city-product-regime: `fe_ckr` \n",
    "  * city-sector-regime-year: `fe_csrt` \n",
    "  * product-year: `fe_kt` \n",
    "* Column 5 excludes High skilled oriented with the main fixed effect:\n",
    "  * city-product-regime: `fe_ckr` \n",
    "  * city-sector-regime-year: `fe_csrt` \n",
    "  * product-year: `fe_kt`\n",
    "  \n",
    "Sector is defined as the GBT 4 digits"
   ]
  },
  {
   "cell_type": "code",
   "execution_count": null,
   "metadata": {
    "kernel": "R"
   },
   "outputs": [],
   "source": [
    "#### RARE HEARTH\n",
    "t_0 <- felm(kandhelwal_quality ~ln_lag_tax_rebate* regime + ln_lag_import_tax * regime+ ln_lag_import_tax\n",
    "            | fe_ckr + fe_csrt+fe_kt|0 | hs6, df_final %>% filter(hs6 != 850511),\n",
    "            exactDOF = TRUE)\n",
    "\n",
    "#### ENERGY\n",
    "t_1 <- felm(kandhelwal_quality ~ln_lag_tax_rebate* regime + ln_lag_import_tax * regime+ ln_lag_import_tax \n",
    "            | fe_ckr + fe_csrt+fe_kt|0 | hs6, df_final %>% filter( is.na(energy)),\n",
    "            exactDOF = TRUE)\n",
    "\n",
    "#### HIGH TECH\n",
    "t_2 <- felm(kandhelwal_quality ~ln_lag_tax_rebate* regime + ln_lag_import_tax * regime+ ln_lag_import_tax\n",
    "            | fe_ckr + fe_csrt+fe_kt|0 | hs6, df_final %>% filter(is.na(high_tech)),\n",
    "            exactDOF = TRUE)\n",
    "\n",
    "#### SKILLED\n",
    "t_3 <- felm(kandhelwal_quality ~ln_lag_tax_rebate* regime + ln_lag_import_tax * regime+ ln_lag_import_tax\n",
    "            | fe_ckr + fe_csrt+fe_kt|0 | hs6, df_final %>% filter(is.na(skilled)),\n",
    "            exactDOF = TRUE)\n",
    "##### RD\n",
    "t_4 <- felm(kandhelwal_quality ~ln_lag_tax_rebate* regime + ln_lag_import_tax * regime+ ln_lag_import_tax\n",
    "            | fe_ckr + fe_csrt+fe_kt|0 | hs6, df_final %>% filter(is.na(rd)),\n",
    "            exactDOF = TRUE)"
   ]
  },
  {
   "cell_type": "code",
   "execution_count": null,
   "metadata": {
    "kernel": "Python 3"
   },
   "outputs": [],
   "source": [
    "import os\n",
    "try:\n",
    "    os.remove(\"Tables/table_0.txt\")\n",
    "except:\n",
    "    pass\n",
    "try:\n",
    "    os.remove(\"Tables/table_0.tex\")\n",
    "except:\n",
    "    pass\n",
    "try:\n",
    "    os.remove(\"Tables/table_0.pdf\")\n",
    "except:\n",
    "    pass"
   ]
  },
  {
   "cell_type": "code",
   "execution_count": null,
   "metadata": {
    "kernel": "R"
   },
   "outputs": [],
   "source": [
    "dep <- \"Dependent variable: Product quality\"\n",
    "fe1 <- list(\n",
    "    c(\"City-product-regime fixed effects\",\"Yes\", \"Yes\", \"Yes\", \"Yes\",\"Yes\"),\n",
    "    \n",
    "    c(\"City-sector-regime-year fixed effects\",\"Yes\", \"Yes\", \"Yes\", \"Yes\",\"Yes\"),\n",
    "    \n",
    "    c(\"product-year fixed effects\", \"Yes\", \"Yes\", \"Yes\", \"Yes\",\"Yes\")\n",
    "             )\n",
    "\n",
    "table_1 <- go_latex(list(\n",
    "    t_0,t_1, t_2, t_3, t_4\n",
    "),\n",
    "    title=\"VAT export tax and firm’s quality upgrading, characteristics of sensible sectors\",\n",
    "    dep_var = dep,\n",
    "    addFE=fe1,\n",
    "    save=TRUE,\n",
    "    note = FALSE,\n",
    "    name=\"Tables/table_0.txt\"\n",
    ")"
   ]
  },
  {
   "cell_type": "code",
   "execution_count": null,
   "metadata": {
    "kernel": "Python 3"
   },
   "outputs": [],
   "source": [
    "tbe1  = \"\"\"\n",
    "This table estimates eq(3). \n",
    "Note that 'Eligible' refers to the regime entitle to VAT refund, our treatment group.\n",
    "Our control group is processing trade with supplied input, 'Non-Eligible' to VAT refund.\n",
    "Sectors are defined following the Chinese 4-digit GB/T industry\n",
    "classification and regroup several products.\n",
    "Heteroskedasticity-robust standard errors\n",
    "clustered at the product level appear inparentheses.\n",
    "\\sym{*} Significance at the 10\\%, \\sym{**} Significance at the 5\\%, \\sym{***} Significance at the 1\\%.\"\"\"\n",
    "\n",
    "multicolumn ={\n",
    "    'No rare-earth': 1,\n",
    "    'No energy intensive': 1,\n",
    "    'No high tech': 1,\n",
    "    'No RD oriented': 1,\n",
    "    'No high skilled oriented': 1,\n",
    "}\n",
    "multi_lines_dep = '(city/product/trade regime/year)'\n",
    "#new_r = ['& Eligible', 'Non-Eligible', 'All', 'All benchmark']\n",
    "lb.beautify(table_number = 0,\n",
    "            #multi_lines_dep = None,\n",
    "            multi_lines_dep = multi_lines_dep,\n",
    "            new_row= False,\n",
    "            multicolumn = multicolumn,\n",
    "            table_nte = tbe1,\n",
    "            jupyter_preview = True,\n",
    "            resolution = 200)"
   ]
  },
  {
   "cell_type": "markdown",
   "metadata": {
    "kernel": "Python 3"
   },
   "source": [
    "## Table 2: Industry characteristics, with covariates city, regime destination, product\n",
    "\n",
    "$$\n",
    "\\begin{aligned}\n",
    "\\operatorname{Quality}_{c,k,j, t}^{R} &=\\alpha \\ln \\operatorname{VAT} \\operatorname{Export} \\operatorname{tax}_{k, t-1} \\times \\text { Eligibility }^{R} \\\\\n",
    "&+F E_{c,k}^{R}+F E_{c,s,t}^{R}+ F E_{k, t}+\\epsilon_{ck,j, t}^{R}\n",
    "\\end{aligned}\n",
    "$$\n",
    "\n",
    "* Column 1 excludes rare earth products with the main fixed effect:\n",
    "  * city-product-regime: `fe_ckr`\n",
    "  * city-sector-regime-year: `fe_csrt` \n",
    "  * product-year: `fe_kt` \n",
    "* Column 2 excludes energy intensive industries with the main fixed effect:\n",
    "  * city-product-regime: `fe_ckr` \n",
    "  * city-sector-regime-year: `fe_csrt` \n",
    "  * product-year: `fe_kt` \n",
    "* Column 3 excludes high tech industries with the main fixed effect:\n",
    "  * city-product-regime: `fe_ckr` \n",
    "  * city-sector-regime-year: `fe_csrt` \n",
    "  * product-year: `fe_kt` \n",
    "* Column 4 excludes RD oriented indusrtries with the main fixed effect:\n",
    "  * city-product-regime: `fe_ckr` \n",
    "  * city-sector-regime-year: `fe_csrt` \n",
    "  * product-year: `fe_kt` \n",
    "* Column 5 excludes High skilled oriented with the main fixed effect:\n",
    "  * city-product-regime: `fe_ckr` \n",
    "  * city-sector-regime-year: `fe_csrt` \n",
    "  * product-year: `fe_kt`\n",
    "\n",
    "Sector is defined as the GBT 4 digits"
   ]
  },
  {
   "cell_type": "code",
   "execution_count": null,
   "metadata": {
    "kernel": "R"
   },
   "outputs": [],
   "source": [
    "#### RARE HEARTH\n",
    "t_0 <- felm(kandhelwal_quality ~ln_lag_tax_rebate* regime + ln_lag_import_tax * regime+ ln_lag_import_tax +\n",
    "            lag_foreign_export_share_ckjr + lag_soe_export_share_ckjr\n",
    "            | fe_ckr + fe_csrt+fe_kt|0 | hs6, df_final %>% filter(hs6 != 850511),\n",
    "            exactDOF = TRUE)\n",
    "#### ENERGY\n",
    "t_1 <- felm(kandhelwal_quality ~ln_lag_tax_rebate* regime + ln_lag_import_tax * regime+ ln_lag_import_tax +\n",
    "            lag_foreign_export_share_ckjr + lag_soe_export_share_ckjr\n",
    "            | fe_ckr + fe_csrt+fe_kt|0 | hs6, df_final %>% filter( is.na(energy)),\n",
    "            exactDOF = TRUE)\n",
    "\n",
    "#### HIGH TECH\n",
    "t_2 <- felm(kandhelwal_quality ~ln_lag_tax_rebate* regime + ln_lag_import_tax * regime+ ln_lag_import_tax +\n",
    "            lag_foreign_export_share_ckjr + lag_soe_export_share_ckjr\n",
    "            | fe_ckr + fe_csrt+fe_kt|0 | hs6, df_final %>% filter(is.na(high_tech)),\n",
    "            exactDOF = TRUE)\n",
    "\n",
    "#### SKILLED \n",
    "t_3 <- felm(kandhelwal_quality ~ln_lag_tax_rebate* regime + ln_lag_import_tax * regime+ ln_lag_import_tax +\n",
    "            lag_foreign_export_share_ckjr + lag_soe_export_share_ckjr\n",
    "            | fe_ckr + fe_csrt+fe_kt|0 | hs6, df_final %>% filter(is.na(skilled)),\n",
    "            exactDOF = TRUE)\n",
    "##### RD\n",
    "t_4 <- felm(kandhelwal_quality ~ln_lag_tax_rebate* regime + ln_lag_import_tax * regime+ ln_lag_import_tax +\n",
    "            lag_foreign_export_share_ckjr + lag_soe_export_share_ckjr\n",
    "            | fe_ckr + fe_csrt+fe_kt|0 | hs6, df_final %>% filter(is.na(rd)), \n",
    "            exactDOF = TRUE)"
   ]
  },
  {
   "cell_type": "code",
   "execution_count": null,
   "metadata": {
    "kernel": "Python 3"
   },
   "outputs": [],
   "source": [
    "import os\n",
    "try:\n",
    "    os.remove(\"Tables/table_1.txt\")\n",
    "except:\n",
    "    pass\n",
    "try:\n",
    "    os.remove(\"Tables/table_1.tex\")\n",
    "except:\n",
    "    pass\n",
    "try:\n",
    "    os.remove(\"Tables/table_1.pdf\")\n",
    "except:\n",
    "    pass"
   ]
  },
  {
   "cell_type": "code",
   "execution_count": null,
   "metadata": {
    "kernel": "R"
   },
   "outputs": [],
   "source": [
    "dep <- \"Dependent variable: Product quality\"\n",
    "fe1 <- list(\n",
    "    c(\"City-product-regime fixed effects\",\"Yes\", \"Yes\", \"Yes\", \"Yes\",\"Yes\"),\n",
    "    \n",
    "    c(\"City-sector-regime-year fixed effects\",\"Yes\", \"Yes\", \"Yes\", \"Yes\",\"Yes\"),\n",
    "    \n",
    "    c(\"product-year fixed effects\", \"Yes\", \"Yes\", \"Yes\", \"Yes\",\"Yes\")\n",
    "             )\n",
    "\n",
    "table_1 <- go_latex(list(\n",
    "    t_0,t_1, t_2, t_3, t_4\n",
    "),\n",
    "    title=\"VAT export tax and firm’s quality upgrading, characteristics of sensible sectors\",\n",
    "    dep_var = dep,\n",
    "    addFE=fe1,\n",
    "    save=TRUE,\n",
    "    note = FALSE,\n",
    "    name=\"Tables/table_1.txt\"\n",
    ")"
   ]
  },
  {
   "cell_type": "code",
   "execution_count": null,
   "metadata": {
    "kernel": "Python 3"
   },
   "outputs": [],
   "source": [
    "tbe1  = \"\"\"\n",
    "This table estimates eq(3). \n",
    "Note that 'Eligible' refers to the regime entitle to VAT refund, our treatment group.\n",
    "Our control group is processing trade with supplied input, 'Non-Eligible' to VAT refund.\n",
    "Sectors are defined following the Chinese 4-digit GB/T industry\n",
    "classification and regroup several products.\n",
    "Heteroskedasticity-robust standard errors\n",
    "clustered at the product level appear inparentheses.\n",
    "\\sym{*} Significance at the 10\\%, \\sym{**} Significance at the 5\\%, \\sym{***} Significance at the 1\\%.\"\"\"\n",
    "\n",
    "multicolumn ={\n",
    "    'No rare-earth': 1,\n",
    "    'No energy intensive': 1,\n",
    "    'No high tech': 1,\n",
    "    'No RD oriented': 1,\n",
    "    'No high skilled oriented': 1,\n",
    "}\n",
    "multi_lines_dep = '(city/product/trade regime/year)'\n",
    "#new_r = ['& Eligible', 'Non-Eligible', 'All', 'All benchmark']\n",
    "lb.beautify(table_number = 1,\n",
    "            #multi_lines_dep = None,\n",
    "            multi_lines_dep = multi_lines_dep,\n",
    "            new_row= False,\n",
    "            multicolumn = multicolumn,\n",
    "            table_nte = tbe1,\n",
    "            jupyter_preview = True,\n",
    "            resolution = 200)"
   ]
  },
  {
   "cell_type": "markdown",
   "metadata": {
    "kernel": "Python 3"
   },
   "source": [
    "## Table 3: Industry characteristics, with covariates city, regime, product\n",
    "\n",
    "$$\n",
    "\\begin{aligned}\n",
    "\\operatorname{Quality}_{c,k,j, t}^{R} &=\\alpha \\ln \\operatorname{VAT} \\operatorname{Export} \\operatorname{tax}_{k, t-1} \\times \\text { Eligibility }^{R} \\\\\n",
    "&+F E_{c,k}^{R}+F E_{c,s,t}^{R}+ F E_{k, t}+\\epsilon_{ck,j, t}^{R}\n",
    "\\end{aligned}\n",
    "$$\n",
    "\n",
    "\n",
    "* Column 1 excludes rare earth products with the main fixed effect:\n",
    "  * city-product-regime: `fe_ckr`\n",
    "  * city-sector-regime-year: `fe_csrt` \n",
    "  * product-year: `fe_kt` \n",
    "* Column 2 excludes energy intensive industries with the main fixed effect:\n",
    "  * city-product-regime: `fe_ckr` \n",
    "  * city-sector-regime-year: `fe_csrt` \n",
    "  * product-year: `fe_kt` \n",
    "* Column 3 excludes high tech industries with the main fixed effect:\n",
    "  * city-product-regime: `fe_ckr` \n",
    "  * city-sector-regime-year: `fe_csrt` \n",
    "  * product-year: `fe_kt` \n",
    "* Column 4 excludes RD oriented indusrtries with the main fixed effect:\n",
    "  * city-product-regime: `fe_ckr` \n",
    "  * city-sector-regime-year: `fe_csrt` \n",
    "  * product-year: `fe_kt` \n",
    "* Column 5 excludes High skilled oriented with the main fixed effect:\n",
    "  * city-product-regime: `fe_ckr` \n",
    "  * city-sector-regime-year: `fe_csrt` \n",
    "  * product-year: `fe_kt`\n",
    "\n",
    "Sector is defined as the GBT 4 digits"
   ]
  },
  {
   "cell_type": "code",
   "execution_count": null,
   "metadata": {
    "kernel": "R"
   },
   "outputs": [],
   "source": [
    "#### RARE HEARTH\n",
    "t_0 <- felm(kandhelwal_quality ~ln_lag_tax_rebate* regime + ln_lag_import_tax * regime+ ln_lag_import_tax +\n",
    "            lag_foreign_export_share_ckr + lag_soe_export_share_ckr\n",
    "            | fe_ckr + fe_csrt+fe_kt|0 | hs6, df_final %>% filter(hs6 != 850511),\n",
    "            exactDOF = TRUE)\n",
    "\n",
    "#### ENERGY\n",
    "t_1 <- felm(kandhelwal_quality ~ln_lag_tax_rebate* regime + ln_lag_import_tax * regime+ ln_lag_import_tax +\n",
    "            lag_foreign_export_share_ckr + lag_soe_export_share_ckr\n",
    "            | fe_ckr + fe_csrt+fe_kt|0 | hs6, df_final %>% filter( is.na(energy)),\n",
    "            exactDOF = TRUE)\n",
    "\n",
    "#### HIGH TECH\n",
    "t_2 <- felm(kandhelwal_quality ~ln_lag_tax_rebate* regime + ln_lag_import_tax * regime+ ln_lag_import_tax +\n",
    "            lag_foreign_export_share_ckr + lag_soe_export_share_ckr\n",
    "            | fe_ckr + fe_csrt+fe_kt|0 | hs6, df_final %>% filter(is.na(high_tech)),\n",
    "            exactDOF = TRUE)\n",
    "\n",
    "#### SKILLED \n",
    "t_3 <- felm(kandhelwal_quality ~ln_lag_tax_rebate* regime + ln_lag_import_tax * regime+ ln_lag_import_tax +\n",
    "            lag_foreign_export_share_ckr + lag_soe_export_share_ckr\n",
    "            | fe_ckr + fe_csrt+fe_kt|0 | hs6, df_final %>% filter(is.na(skilled)),\n",
    "            exactDOF = TRUE)\n",
    "##### RD\n",
    "t_4 <- felm(kandhelwal_quality ~ln_lag_tax_rebate* regime + ln_lag_import_tax * regime+ ln_lag_import_tax +\n",
    "            lag_foreign_export_share_ckr + lag_soe_export_share_ckr\n",
    "            | fe_ckr + fe_csrt+fe_kt|0 | hs6, df_final %>% filter(is.na(rd)), \n",
    "            exactDOF = TRUE)"
   ]
  },
  {
   "cell_type": "code",
   "execution_count": null,
   "metadata": {
    "kernel": "Python 3"
   },
   "outputs": [],
   "source": [
    "import os\n",
    "try:\n",
    "    os.remove(\"Tables/table_2.txt\")\n",
    "except:\n",
    "    pass\n",
    "try:\n",
    "    os.remove(\"Tables/table_2.tex\")\n",
    "except:\n",
    "    pass\n",
    "try:\n",
    "    os.remove(\"Tables/table_2.pdf\")\n",
    "except:\n",
    "    pass"
   ]
  },
  {
   "cell_type": "code",
   "execution_count": null,
   "metadata": {
    "kernel": "R"
   },
   "outputs": [],
   "source": [
    "dep <- \"Dependent variable: Product quality\"\n",
    "fe1 <- list(\n",
    "    c(\"City-product-regime fixed effects\",\"Yes\", \"Yes\", \"Yes\", \"Yes\",\"Yes\"),\n",
    "    \n",
    "    c(\"City-sector-regime-year fixed effects\",\"Yes\", \"Yes\", \"Yes\", \"Yes\",\"Yes\"),\n",
    "    \n",
    "    c(\"product-year fixed effects\", \"Yes\", \"Yes\", \"Yes\", \"Yes\",\"Yes\")\n",
    "             )\n",
    "\n",
    "table_1 <- go_latex(list(\n",
    "    t_0,t_1, t_2, t_3, t_4\n",
    "),\n",
    "    title=\"VAT export tax and firm’s quality upgrading, characteristics of sensible sectors\",\n",
    "    dep_var = dep,\n",
    "    addFE=fe1,\n",
    "    save=TRUE,\n",
    "    note = FALSE,\n",
    "    name=\"Tables/table_2.txt\"\n",
    ")"
   ]
  },
  {
   "cell_type": "code",
   "execution_count": null,
   "metadata": {
    "kernel": "Python 3"
   },
   "outputs": [],
   "source": [
    "tbe1  = \"\"\"\n",
    "This table estimates eq(3). \n",
    "Our control group is processing trade with supplied input, 'Non-Eligible' to VAT refund.\n",
    "Sectors are defined following the Chinese 4-digit GB/T industry\n",
    "classification and regroup several products.\n",
    "Heteroskedasticity-robust standard errors\n",
    "clustered at the product level appear inparentheses.\n",
    "\\sym{*} Significance at the 10\\%, \\sym{**} Significance at the 5\\%, \\sym{***} Significance at the 1\\%.\"\"\"\n",
    "\n",
    "multicolumn ={\n",
    "    'No rare-earth': 1,\n",
    "    'No energy intensive': 1,\n",
    "    'No high tech': 1,\n",
    "    'No RD oriented': 1,\n",
    "    'No high skilled oriented': 1,\n",
    "}\n",
    "multi_lines_dep = '(city/product/trade regime/year)'\n",
    "#new_r = ['& Eligible', 'Non-Eligible', 'All', 'All benchmark']\n",
    "lb.beautify(table_number = 2,\n",
    "            #multi_lines_dep = None,\n",
    "            multi_lines_dep = multi_lines_dep,\n",
    "            new_row= False,\n",
    "            multicolumn = multicolumn,\n",
    "            table_nte = tbe1,\n",
    "            jupyter_preview = True,\n",
    "            resolution = 200)"
   ]
  },
  {
   "cell_type": "markdown",
   "metadata": {
    "kernel": "SoS",
    "nteract": {
     "transient": {
      "deleting": false
     }
    }
   },
   "source": [
    "# Generate reports"
   ]
  },
  {
   "cell_type": "code",
   "execution_count": null,
   "metadata": {
    "kernel": "Python 3",
    "nteract": {
     "transient": {
      "deleting": false
     }
    },
    "outputExpanded": false
   },
   "outputs": [],
   "source": [
    "import os, time, shutil, urllib, ipykernel, json\n",
    "from pathlib import Path\n",
    "from notebook import notebookapp"
   ]
  },
  {
   "cell_type": "code",
   "execution_count": null,
   "metadata": {
    "kernel": "Python 3",
    "nteract": {
     "transient": {
      "deleting": false
     }
    },
    "outputExpanded": false
   },
   "outputs": [],
   "source": [
    "def create_report(extension = \"html\", keep_code = False):\n",
    "    \"\"\"\n",
    "    Create a report from the current notebook and save it in the \n",
    "    Report folder (Parent-> child directory)\n",
    "    \n",
    "    1. Exctract the current notbook name\n",
    "    2. Convert the Notebook \n",
    "    3. Move the newly created report\n",
    "    \n",
    "    Args:\n",
    "    extension: string. Can be \"html\", \"pdf\", \"md\"\n",
    "    \n",
    "    \n",
    "    \"\"\"\n",
    "    \n",
    "    ### Get notebook name\n",
    "    connection_file = os.path.basename(ipykernel.get_connection_file())\n",
    "    kernel_id = connection_file.split('-', 1)[0].split('.')[0]\n",
    "\n",
    "    for srv in notebookapp.list_running_servers():\n",
    "        try:\n",
    "            if srv['token']=='' and not srv['password']:  \n",
    "                req = urllib.request.urlopen(srv['url']+'api/sessions')\n",
    "            else:\n",
    "                req = urllib.request.urlopen(srv['url']+ \\\n",
    "                                             'api/sessions?token=' + \\\n",
    "                                             srv['token'])\n",
    "            sessions = json.load(req)\n",
    "            notebookname = sessions[0]['name']\n",
    "        except:\n",
    "            pass  \n",
    "    \n",
    "    sep = '.'\n",
    "    path = os.getcwd()\n",
    "    #parent_path = str(Path(path).parent)\n",
    "    \n",
    "    ### Path report\n",
    "    #path_report = \"{}/Reports\".format(parent_path)\n",
    "    #path_report = \"{}/Reports\".format(path)\n",
    "    \n",
    "    ### Path destination\n",
    "    name_no_extension = notebookname.split(sep, 1)[0]\n",
    "    source_to_move = name_no_extension +'.{}'.format(extension)\n",
    "    dest = os.path.join(path,'Reports', source_to_move)\n",
    "    \n",
    "    ### Generate notebook\n",
    "    if keep_code:\n",
    "        os.system('jupyter nbconvert --to {} {}'.format(\n",
    "    extension,notebookname))\n",
    "    else:\n",
    "        os.system('jupyter nbconvert --no-input --to {} {}'.format(\n",
    "    extension,notebookname))\n",
    "    \n",
    "    ### Move notebook to report folder\n",
    "    #time.sleep(5)\n",
    "    shutil.move(source_to_move, dest)\n",
    "    print(\"Report Available at this adress:\\n {}\".format(dest))"
   ]
  },
  {
   "cell_type": "code",
   "execution_count": null,
   "metadata": {
    "kernel": "Python 3",
    "nteract": {
     "transient": {
      "deleting": false
     }
    },
    "outputExpanded": false
   },
   "outputs": [],
   "source": [
    "create_report(extension = \"html\", keep_code = True)"
   ]
  }
 ],
 "metadata": {
  "jupytext": {
   "formats": "ipynb,md"
  },
  "kernel_info": {
   "name": "python3"
  },
  "kernelspec": {
   "display_name": "SoS",
   "language": "sos",
   "name": "sos"
  },
  "language_info": {
   "codemirror_mode": "sos",
   "file_extension": ".sos",
   "mimetype": "text/x-sos",
   "name": "sos",
   "nbconvert_exporter": "sos_notebook.converter.SoS_Exporter",
   "pygments_lexer": "sos"
  },
  "nteract": {
   "version": "0.23.1"
  },
  "sos": {
   "kernels": [
    [
     "Python 3",
     "python3",
     "python3",
     "",
     {
      "name": "ipython",
      "version": 3
     }
    ],
    [
     "R",
     "ir",
     "R",
     "#DCDCDA",
     "r"
    ]
   ],
   "version": "0.21.13"
  },
  "toc": {
   "base_numbering": 1,
   "nav_menu": {},
   "number_sections": true,
   "sideBar": true,
   "skip_h1_title": false,
   "title_cell": "Table of Contents",
   "title_sidebar": "Contents",
   "toc_cell": false,
   "toc_position": {},
   "toc_section_display": true,
   "toc_window_display": false
  }
 },
 "nbformat": 4,
 "nbformat_minor": 4
}
