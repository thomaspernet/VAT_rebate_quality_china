{
 "cells": [
  {
   "cell_type": "markdown",
   "metadata": {
    "kernel": "SoS"
   },
   "source": [
    "# POC replicate table 3 of the previous paper by analysing the effect of density\n",
    "\n",
    "# Objective(s)\n",
    "\n",
    "Replicate table 3 of the previous paper\n",
    "\n",
    "https://drive.google.com/uc?export=view&id=1hmtmIb6BF4zBg4NIgNzTqT4HqETcdA-G\n",
    "* Column 1 is the baseline column with the main fixed effect:\n",
    "  * city-product-regime: fe_ckr \n",
    "  * city-sector-regime-year: fe_csrt \n",
    "  * product-year: fe_kt \n",
    "* Columns 2 and 3 split the dataset into Eligible and Non eligible. Fixed effect are :\n",
    "  * city-product: fe_ck \n",
    "  * city-sector-year: fe_cst \n",
    "  * product-destination: fe_pj \n",
    "* Column 4 include Comparative advantages with the main fixed effect:\n",
    "  * city-product-regime: fe_ckr \n",
    "  * city-sector-regime-year: fe_csrt \n",
    "  * product-year: fe_kt \n",
    "* Comparative advantage should be computed in the notebook with R. The code will be provided\n",
    "* Repeat with and without export share covariates\n",
    "\n",
    "# Metadata\n",
    "\n",
    "* Epic: Epic 2\n",
    "* US: US 3\n",
    "* Date Begin: 10/5/2020\n",
    "* Duration Task: 1\n",
    "* Description: Replicate table 3 with and without the export share covariates\n",
    "* Step type:  \n",
    "* Status: Active\n",
    "* Source URL:  \n",
    "* Task type: Jupyter Notebook\n",
    "* Users: Thomas Pernet\n",
    "* Watchers: Thomas Pernet\n",
    "* User Account: https://468786073381.signin.aws.amazon.com/console\n",
    "* Estimated Log points: 10\n",
    "* Task tag: #density,#econometrics,#ols\n",
    "* Toggl Tag: #model-training\n",
    "* Meetings:  \n",
    "* Email Information:  \n",
    "  * thread: Number of threads: 0(Default 0, to avoid display email)\n",
    "  *  \n",
    "\n",
    "# Input Cloud Storage [AWS/GCP]\n",
    "\n",
    "## Table/file\n",
    "\n",
    "* Origin: \n",
    "* Athena\n",
    "* S3\n",
    "* Name: \n",
    "    * quality_vat_export_covariate_2003_2010\n",
    "    * ADDITIONAL_DATA/BACI\n",
    "    * ADDITIONAL_DATA/DENSITY\n",
    "    * import_export\n",
    "* Github: \n",
    "  * https://github.com/thomaspernet/VAT_rebate_quality_china/blob/master/01_data_preprocessing/02_prepare_tables_model/02_transform_table_baseline_covariates.md\n",
    "  * https://github.com/thomaspernet/VAT_rebate_quality_china/blob/master/01_data_preprocessing/00_download_data_from_/BACI/baci_92_2002.py\n",
    "  * https://github.com/thomaspernet/VAT_rebate_quality_china/blob/master/01_data_preprocessing/00_download_data_from_/DENSITY/density.py\n",
    "  * https://github.com/thomaspernet/VAT_rebate_quality_china/blob/master/01_data_preprocessing/01_prepare_tables/01_tables_trade_tariffs_taxes.md"
   ]
  },
  {
   "cell_type": "markdown",
   "metadata": {
    "kernel": "SoS"
   },
   "source": [
    "# Connexion server"
   ]
  },
  {
   "cell_type": "code",
   "execution_count": null,
   "metadata": {
    "kernel": "Python 3"
   },
   "outputs": [],
   "source": [
    "from awsPy.aws_authorization import aws_connector\n",
    "from awsPy.aws_s3 import service_s3\n",
    "from awsPy.aws_glue import service_glue\n",
    "from pathlib import Path\n",
    "import pandas as pd\n",
    "import numpy as np\n",
    "#import seaborn as sns\n",
    "import os, shutil\n",
    "\n",
    "path = os.getcwd()\n",
    "parent_path = str(Path(path).parent.parent.parent)\n",
    "\n",
    "\n",
    "name_credential = 'thomas_vat_credentials.csv'\n",
    "region = 'eu-west-3'\n",
    "bucket = 'chinese-data'\n",
    "path_cred = \"{0}/creds/{1}\".format(parent_path, name_credential)"
   ]
  },
  {
   "cell_type": "code",
   "execution_count": null,
   "metadata": {
    "kernel": "Python 3"
   },
   "outputs": [],
   "source": [
    "con = aws_connector.aws_instantiate(credential = path_cred,\n",
    "                                       region = region)\n",
    "client= con.client_boto()\n",
    "s3 = service_s3.connect_S3(client = client,\n",
    "                      bucket = bucket, verbose = False)\n",
    "glue = service_glue.connect_glue(client = client) "
   ]
  },
  {
   "cell_type": "code",
   "execution_count": null,
   "metadata": {
    "kernel": "Python 3"
   },
   "outputs": [],
   "source": [
    "pandas_setting = True\n",
    "if pandas_setting:\n",
    "    #cm = sns.light_palette(\"green\", as_cmap=True)\n",
    "    pd.set_option('display.max_columns', None)\n",
    "    pd.set_option('display.max_colwidth', None)"
   ]
  },
  {
   "cell_type": "markdown",
   "metadata": {
    "kernel": "SoS"
   },
   "source": [
    "# Load tables\n",
    "\n",
    "Since we load the data as a Pandas DataFrame, we want to pass the `dtypes`. We load the schema from Glue to guess the types"
   ]
  },
  {
   "cell_type": "markdown",
   "metadata": {
    "kernel": "SoS"
   },
   "source": [
    "- Filename:\n",
    "    - Main table S3: https://s3.console.aws.amazon.com/s3/buckets/vat-rebate-quality/DATA/TRANSFORMED/?region=eu-west-3&tab=overview\n",
    "    - Density: https://s3.console.aws.amazon.com/s3/buckets/chinese-data/ADDITIONAL_DATA/DENSITY/?region=eu-west-3&tab=overview\n",
    "    - baci: https://s3.console.aws.amazon.com/s3/buckets/chinese-data/ADDITIONAL_DATA/BACI/?region=eu-west-3&tab=overview\n",
    "- Export 2002 from Athena"
   ]
  },
  {
   "cell_type": "code",
   "execution_count": null,
   "metadata": {
    "kernel": "Python 3"
   },
   "outputs": [],
   "source": [
    "s3.download_file(\n",
    "        key = 'ADDITIONAL_DATA/DENSITY/density.Rda',\n",
    "    path_local = os.path.join(str(Path(path).parent.parent.parent), \n",
    "                              \"00_data_catalogue/temporary_local_data\")\n",
    ")"
   ]
  },
  {
   "cell_type": "code",
   "execution_count": null,
   "metadata": {
    "kernel": "Python 3"
   },
   "outputs": [],
   "source": [
    "s3.download_file(\n",
    "        key = 'ADDITIONAL_DATA/BACI/baci92_2002.csv',\n",
    "    path_local = os.path.join(str(Path(path).parent.parent.parent), \n",
    "                              \"00_data_catalogue/temporary_local_data\")\n",
    ")"
   ]
  },
  {
   "cell_type": "code",
   "execution_count": null,
   "metadata": {
    "kernel": "Python 3"
   },
   "outputs": [],
   "source": [
    "download_data = True\n",
    "db = 'chinese_trade'\n",
    "if download_data:\n",
    "    s3 = service_s3.connect_S3(client = client,\n",
    "                          bucket = 'vat-rebate-quality', verbose = False)\n",
    "    query  = \"\"\"\n",
    "    WITH trade AS (\n",
    "      SELECT \n",
    "        date as year, \n",
    "        CASE WHEN length(hs) < 5 THEN CONCAT('0', hs) ELSE hs END as hs6, \n",
    "        value, \n",
    "        city_prod, \n",
    "        geocode4_corr \n",
    "      FROM \n",
    "        chinese_trade.import_export \n",
    "        INNER JOIN chinese_lookup.city_cn_en ON import_export.city_prod = city_cn_en.citycn \n",
    "      WHERE \n",
    "        date = '2002' \n",
    "    ) \n",
    "    SELECT \n",
    "      year, \n",
    "      hs6, \n",
    "      geocode4_corr, \n",
    "      CAST(SUM(value) AS DECIMAL(16,5))/1000 as total_value_city\n",
    "    FROM \n",
    "      trade \n",
    "    GROUP BY \n",
    "      year, \n",
    "      hs6, \n",
    "      geocode4_corr\n",
    "      \n",
    "    \"\"\"\n",
    "    \n",
    "    output = s3.run_query(\n",
    "            query=query,\n",
    "            database=db,\n",
    "            s3_output='SQL_OUTPUT_ATHENA',\n",
    "            filename=None,  # Add filename to print dataframe\n",
    "            destination_key=None # Add destination key if need to copy output\n",
    "        )\n",
    "    \n",
    "    s3.copy_object_s3(\n",
    "    source_key = os.path.join('SQL_OUTPUT_ATHENA', \"{}.csv\".format(output['QueryID'])),\n",
    "    destination_key = \"DATA/TRANSFORMED/export_2002.csv\",\n",
    "    remove = True\n",
    ")\n",
    "    \n",
    "    s3.download_file(\n",
    "        key = 'DATA/TRANSFORMED/export_2002.csv',\n",
    "    path_local = os.path.join(str(Path(path).parent.parent.parent), \n",
    "                              \"00_data_catalogue/temporary_local_data\")\n",
    ")"
   ]
  },
  {
   "cell_type": "markdown",
   "metadata": {
    "kernel": "SoS"
   },
   "source": [
    "# Models to estimate\n",
    "\n",
    "The model to estimate is: \n",
    "\n",
    "## Fixed Effect\n",
    "\n",
    "| Benchmark | Origin            | Name                     | Description                                                                                                                                                                                                                                                                                                                                    | Math_notebook     |\n",
    "|-----------|-------------------|--------------------------|------------------------------------------------------------------------------------------------------------------------------------------------------------------------------------------------------------------------------------------------------------------------------------------------------------------------------------------------|-------------------|\n",
    "| Yes       | Current           | city-product             |                                                                                                                                                                                                                                                                                                                                                | $\\alpha_{ck}$     |\n",
    "| Yes       | Current           | city-product-regime      |                                                                                                                                                                                                                                                                                                                                                | $\\alpha_{ck}^R$   |\n",
    "| Yes       | Current           | city-sector-year         | Sector is defined as GBT 4 digit                                                                                                                                                                                                                                                                                                               | $\\alpha_{cst}$    |\n",
    "| Yes       | Current           | city-sectorーregime-year | Sector is defined as GBT 4 digit                                                                                                                                                                                                                                                                                                               | $\\alpha_{cst}^R$  |\n",
    "| Yes       | Current           | product-destination      |                                                                                                                                                                                                                                                                                                                                                | $\\alpha_{pj}$     |\n",
    "| Yes       | Previous baseline | Product-year             | account for all factors that affect product-level export irrespective of the trade regime in a given year                                                                                                                                                                                                                                      | $\\alpha_{pt}$     |\n",
    "| No        | Previous baseline | firm-product-eligibility | captures all the factors that affect firms regardless of the time and type of regime. This firm‒product pair eliminates the demand shocks that firms face and that are not correlated with the types of status. The fixed effects are also responsible for potential correlations between subsidies, R&D, or trade policies and VAT rebates.   | $\\alpha^{E}_{it}$ |\n",
    "| No        | Previous baseline | HS4-year-eligibility     |                                                                                                                                                                                                                                                                                                                                                | $\\alpha^{E}_{st}$ |\n",
    "| No        | Previous baseline | city-year                | captures the differences in demand, capital intensity, or labor supply that prevail between cities each year                                                                                                                                                                                                                                   | $\\alpha_{ct}$     |\n",
    "| No        | Candidate         | destination-year         | Captures additional level of control, encompassing all the shocks and developments in the economies to which China exports.                                                                                                                                                                                                                    | $\\alpha_{dt}$     |\n",
    "\n",
    "\n",
    "- city-product: `fe_ck`\n",
    "- City-sector-year: `fe_cst`\n",
    "- City-product-regime: `fe_ckr`\n",
    "- City-sector-regime-year: `fe_csrt`\n",
    "- Product-year: `fe_kt`\n",
    "- Product-destination: `fe_pj`\n",
    "- Destination-year: `fe_jt`"
   ]
  },
  {
   "cell_type": "code",
   "execution_count": null,
   "metadata": {
    "kernel": "Python 3"
   },
   "outputs": [],
   "source": [
    "import function.latex_beautify as lb\n",
    "\n",
    "%load_ext autoreload\n",
    "%autoreload 2"
   ]
  },
  {
   "cell_type": "code",
   "execution_count": null,
   "metadata": {
    "kernel": "R"
   },
   "outputs": [],
   "source": [
    "options(warn=-1)\n",
    "library(tidyverse)\n",
    "library(lfe)\n",
    "#library(lazyeval)\n",
    "library('progress')\n",
    "path = \"function/table_golatex.R\"\n",
    "source(path)"
   ]
  },
  {
   "cell_type": "markdown",
   "metadata": {
    "kernel": "R"
   },
   "source": [
    "Load R dataset: https://stackoverflow.com/questions/5577221/how-can-i-load-an-object-into-a-variable-name-that-i-specify-from-an-r-data-file"
   ]
  },
  {
   "cell_type": "code",
   "execution_count": null,
   "metadata": {
    "kernel": "R"
   },
   "outputs": [],
   "source": [
    "loadRData <- function(fileName){\n",
    "#loads an RData file, and returns it\n",
    "    load(fileName)\n",
    "    get(ls()[ls() != \"fileName\"])\n",
    "}"
   ]
  },
  {
   "cell_type": "markdown",
   "metadata": {
    "kernel": "R"
   },
   "source": [
    "## Compute RCA\n",
    "\n",
    "In this part, we use the previous code to compute the RCA.\n",
    "\n",
    "$$\n",
    "\\frac{\\sum_{\\mathrm{d}} \\mathrm{x}_{\\mathrm{isd}} / \\sum_{\\mathrm{d}} \\mathrm{X}_{\\mathrm{sd}}}{\\sum_{\\mathrm{wd}} \\mathrm{x}_{\\mathrm{iwd}} / \\sum_{\\mathrm{wd}} \\mathrm{X}_{\\mathrm{wd}}}\n",
    "$$\n",
    "\n",
    "Where s is the country of interest, d and w are the set of all countries in the world, i is the sector of interest, x is the commodity export flow and X is the total export flow. The numerator is the share of good i in the exports of country s, while the denominator is the share of good i in the exports of the world.\n",
    "\n",
    "What does it tell us? Comparative advantage\n",
    "underlies economists’ explanations for the\n",
    "observed pattern of inter-industry trade. In\n",
    "theoretical models, comparative advantage is\n",
    "expressed in terms of relative prices evaluated in\n",
    "the absence of trade. Since these are not observed,\n",
    "in practice we measure comparative advantage\n",
    "indirectly. Revealed comparative advantage\n",
    "indices (RCA) use the trade pattern to identify the\n",
    "sectors in which an economy has a comparative\n",
    "advantage, by comparing the country of interests’\n",
    "trade profile with the world average.\n",
    "Definition: The RCA index is defined as the ratio\n",
    "of two shares. The numerator is the share of a\n",
    "country’s total exports of the commodity of\n",
    "interest in its total exports. The denominator is\n",
    "share of world exports of the same commodity in\n",
    "total world exports.\n",
    "Range of values: Takes a value between 0 and\n",
    "+∞. A country is said to have a revealed\n",
    "comparative advantage if the value exceeds unity.\n",
    "Limitations: The index is affected by anything\n",
    "that distorts the trade pattern, e.g., trade barriers."
   ]
  },
  {
   "cell_type": "code",
   "execution_count": null,
   "metadata": {
    "kernel": "R"
   },
   "outputs": [],
   "source": [
    "path_rca <- \"../../../00_Data_catalogue/temporary_local_data/baci92_2002.csv\"\n",
    "path_export <- \"../../../00_Data_catalogue/temporary_local_data/export_2002.csv\"\n",
    "export <- read_csv(path_export,col_types = \"ccdd\")"
   ]
  },
  {
   "cell_type": "code",
   "execution_count": null,
   "metadata": {
    "kernel": "R"
   },
   "outputs": [],
   "source": [
    "rca <- read_csv(path_rca) %>%\n",
    "  select(-q, -t) %>%\n",
    "  filter(i !=\"156\" ) %>%\n",
    "  group_by(hs6)%>%\n",
    "  summarise(total_value_world = sum(v)) %>%\n",
    "  ungroup() %>%\n",
    "  mutate(hs6 = as.character(hs6),\n",
    "         total_world = sum(total_value_world)) %>%\n",
    "  inner_join(export, by= \"hs6\") %>%\n",
    "group_by(geocode4_corr)%>% \n",
    "mutate(total_city = sum(total_value_city)) %>%\n",
    "ungroup() %>%\n",
    "mutate( up = total_value_city / total_city,\n",
    "       down = total_value_world/total_world,\n",
    "      rca = up/down,\n",
    "      balassa = as.numeric(rca> 1),\n",
    "      hs6 = as.double(hs6))\n",
    "table(rca$balassa)"
   ]
  },
  {
   "cell_type": "code",
   "execution_count": null,
   "metadata": {
    "kernel": "R"
   },
   "outputs": [],
   "source": [
    "path_density = '../../../00_Data_catalogue/temporary_local_data/density.Rda'\n",
    "density_city <- loadRData(file = path_density) \n",
    "density_city <- density_city %>% ungroup() %>% mutate(\n",
    "    hs6 = as.double(hs6), geocode4_corr = as.double(geocode4_corr))"
   ]
  },
  {
   "cell_type": "code",
   "execution_count": null,
   "metadata": {
    "kernel": "R"
   },
   "outputs": [],
   "source": [
    "path = '../../../00_Data_catalogue/temporary_local_data/quality_vat_export_covariate_2003_2010.csv'\n",
    "df_final <- read_csv(path) %>%\n",
    "mutate_if(is.character, as.factor) %>%\n",
    "    mutate_at(vars(starts_with(\"fe\")), as.factor) %>%\n",
    "mutate(regime = relevel(regime, ref='NOT_ELIGIBLE')) %>%\n",
    "left_join(rca %>% select(geocode4_corr, hs6, balassa), by = c(\"geocode4_corr\", \"hs6\")) %>%\n",
    "mutate(balassa =ifelse(is.na(balassa),0, balassa)) %>%\n",
    "inner_join(density_city)"
   ]
  },
  {
   "cell_type": "code",
   "execution_count": null,
   "metadata": {
    "kernel": "R"
   },
   "outputs": [],
   "source": [
    "dim(df_final)"
   ]
  },
  {
   "cell_type": "markdown",
   "metadata": {
    "kernel": "SoS"
   },
   "source": [
    "## Table 1: Density, no covariates\n",
    "\n",
    "$$\n",
    "\\begin{equation}\n",
    "\\begin{split}\n",
    "Quality_{kcdt} & = \\beta_{1}Ordinary^{E}_{i}*\\text{Ln VAT export tax}_{k, t-1}*Density_{ck}+ \\\\\n",
    "& \\beta_{5}Ordinary_{i}^{E}*\\text{Ln import tax}_{k, t-1} + \\\\\n",
    "& \\alpha_{ik}+\\alpha_{ct}+\\alpha_{dt}+\\alpha_{st}^{E}+ \\epsilon_{kcdt}\n",
    "\\end{split}\n",
    "\\end{equation}\n",
    "$$\n",
    "\n",
    "* Column 1 is the baseline column with the main fixed effect:\n",
    "  * city-product-regime: `fe_ckr`\n",
    "  * city-sector-regime-year: `fe_csrt` \n",
    "  * product-year: `fe_kt` \n",
    "* Columns 2 and 3 split the dataset into Eligible and Non eligible. Fixed effect are :\n",
    "  * city-product: `fe_ck` \n",
    "  * city-sector-year: `fe_cst` \n",
    "  * product-destination: `fe_pj` \n",
    "* Column 4 include Comparative advantages with the main fixed effect:\n",
    "  * city-product-regime: `fe_ckr` \n",
    "  * city-sector-regime-year: `fe_csrt` \n",
    "  * product-year: `fe_kt` \n",
    "\n",
    "Sector is defined as the GBT 4 digits"
   ]
  },
  {
   "cell_type": "code",
   "execution_count": null,
   "metadata": {
    "kernel": "R"
   },
   "outputs": [],
   "source": [
    "#### COUNTRIES\n",
    "t_0 <- felm(kandhelwal_quality ~ln_lag_tax_rebate * density_china_ville * regime + \n",
    "            ln_lag_import_tax * regime + ln_lag_import_tax\n",
    "            | fe_ckr + fe_csrt+fe_kt|0 | hs6, df_final,\n",
    "            exactDOF = TRUE)\n",
    "\n",
    "t_1 <- felm(kandhelwal_quality ~ln_lag_tax_rebate * density_china_ville  + \n",
    "            ln_lag_import_tax + ln_lag_import_tax\n",
    "            | fe_ck + fe_cst+fe_pj |0 | hs6, df_final %>% filter(regime == 'ELIGIBLE'),\n",
    "            exactDOF = TRUE)\n",
    "\n",
    "#### GOODS\n",
    "t_2 <- felm(kandhelwal_quality ~ln_lag_tax_rebate * density_china_ville  + \n",
    "            ln_lag_import_tax + ln_lag_import_tax \n",
    "            | fe_ck + fe_cst+fe_pj |0 | hs6, df_final %>% filter(regime != 'ELIGIBLE'),\n",
    "            exactDOF = TRUE)\n",
    "\n",
    "t_3 <- felm(kandhelwal_quality ~ln_lag_tax_rebate * density_china_ville * regime + \n",
    "            ln_lag_tax_rebate* balassa * regime + \n",
    "            ln_lag_import_tax * regime+ ln_lag_import_tax \n",
    "            | fe_ckr + fe_csrt+fe_kt|0 | hs6, df_final,\n",
    "            exactDOF = TRUE)"
   ]
  },
  {
   "cell_type": "code",
   "execution_count": null,
   "metadata": {
    "kernel": "Python 3"
   },
   "outputs": [],
   "source": [
    "import os\n",
    "try:\n",
    "    os.remove(\"Tables/table_0.txt\")\n",
    "except:\n",
    "    pass\n",
    "try:\n",
    "    os.remove(\"Tables/table_0.tex\")\n",
    "except:\n",
    "    pass\n",
    "try:\n",
    "    os.remove(\"Tables/table_0.pdf\")\n",
    "except:\n",
    "    pass"
   ]
  },
  {
   "cell_type": "code",
   "execution_count": null,
   "metadata": {
    "kernel": "R"
   },
   "outputs": [],
   "source": [
    "dep <- \"Dependent variable: Product quality\"\n",
    "fe1 <- list(\n",
    "    c(\"City-product fixed effects\", \"No\", \"Yes\", \"Yes\", \"No\"),\n",
    "    \n",
    "    c(\"City-sector-year fixed effects\", \"No\", \"Yes\", \"Yes\", \"No\"),\n",
    "    \n",
    "    c(\"Product-destination fixed effect\",\"No\", \"Yes\", \"Yes\", \"No\"),\n",
    "    \n",
    "    c(\"City-product-regime fixed effects\",\"Yes\", \"No\", \"No\", \"Yes\"),\n",
    "    \n",
    "    c(\"City-sector-regime-year fixed effects\",\"Yes\", \"No\", \"No\", \"Yes\"),\n",
    "    \n",
    "    c(\"product-year fixed effects\", \"Yes\", \"No\", \"No\", \"Yes\")\n",
    "             )\n",
    "\n",
    "table_1 <- go_latex(list(\n",
    "    t_0,t_1, t_2, t_3\n",
    "),\n",
    "    title=\"VAT export tax and firm’s quality upgrading, Effect of density\",\n",
    "    dep_var = dep,\n",
    "    addFE=fe1,\n",
    "    save=TRUE,\n",
    "    note = FALSE,\n",
    "    name=\"Tables/table_0.txt\"\n",
    ")"
   ]
  },
  {
   "cell_type": "code",
   "execution_count": null,
   "metadata": {
    "kernel": "Python 3"
   },
   "outputs": [],
   "source": [
    "os.environ['KMP_DUPLICATE_LIB_OK']='True'"
   ]
  },
  {
   "cell_type": "code",
   "execution_count": null,
   "metadata": {
    "kernel": "Python 3"
   },
   "outputs": [],
   "source": [
    "tbe1  = \"\"\"\n",
    "This table estimates eq(3). \n",
    "LDC and DC are defined according to the World Bank country classification.\n",
    "Homogeneous and heterogeneous goods are defined according to the official list of goods`s classification, Rauch (1999).\n",
    "Small and large are computed based on either the count of HS6 exported by city $c$ or the total quantity exported.\n",
    "When one of these two metrics are above national average, the city is considered as large.\n",
    "Note that 'Eligible' refers to the regime entitle to VAT refund, our treatment group.\n",
    "Our control group is processing trade with supplied input, 'Non-Eligible' to VAT refund.\n",
    "Sectors are defined following the Chinese 4-digit GB/T industry\n",
    "classification and regroup several products.\n",
    "Heteroskedasticity-robust standard errors\n",
    "clustered at the product level appear inparentheses.\n",
    "\\sym{*} Significance at the 10\\%, \\sym{**} Significance at the 5\\%, \\sym{***} Significance at the 1\\%.\"\"\"\n",
    "\n",
    "multicolumn ={\n",
    "    '': 1,\n",
    "    'Eligible': 1,\n",
    "    'Non-Eligible': 1,\n",
    "    '': 1,\n",
    "}\n",
    "multi_lines_dep = '(city/product/trade regime/year)'\n",
    "#new_r = ['& Eligible', 'Non-Eligible', 'All', 'All benchmark']\n",
    "lb.beautify(table_number = 0,\n",
    "            #multi_lines_dep = None,\n",
    "            multi_lines_dep = multi_lines_dep,\n",
    "            new_row= False,\n",
    "            multicolumn = multicolumn,\n",
    "            table_nte = tbe1,\n",
    "            jupyter_preview = True,\n",
    "            resolution = 200)"
   ]
  },
  {
   "cell_type": "markdown",
   "metadata": {
    "kernel": "Python 3"
   },
   "source": [
    "## Table 2: Countries, goods and cities characteristics, with covariates city, regime destination, product\n",
    "\n",
    "$$\n",
    "\\begin{equation}\n",
    "\\begin{split}\n",
    "Quality_{kcdt} & = \\beta_{1}Ordinary^{E}_{i}*\\text{Ln VAT export tax}_{k, t-1}*Density_{ck}+ \\\\\n",
    "& \\beta_{5}Ordinary_{i}^{E}*\\text{Ln import tax}_{k, t-1} + \\\\\n",
    "& \\alpha_{ik}+\\alpha_{ct}+\\alpha_{dt}+\\alpha_{st}^{E}+ \\epsilon_{kcdt}\n",
    "\\end{split}\n",
    "\\end{equation}\n",
    "$$\n",
    "\n",
    "\n",
    "* Column 1 is the baseline column with the main fixed effect:\n",
    "  * city-product-regime: `fe_ckr`\n",
    "  * city-sector-regime-year: `fe_csrt` \n",
    "  * product-year: `fe_kt` \n",
    "* Columns 2 and 3 split the dataset into Eligible and Non eligible. Fixed effect are :\n",
    "  * city-product: `fe_ck` \n",
    "  * city-sector-year: `fe_cst` \n",
    "  * product-destination: `fe_pj` \n",
    "* Column 4 include Comparative advantages with the main fixed effect:\n",
    "  * city-product-regime: `fe_ckr` \n",
    "  * city-sector-regime-year: `fe_csrt` \n",
    "  * product-year: `fe_kt` \n",
    "\n",
    "Sector is defined as the GBT 4 digits"
   ]
  },
  {
   "cell_type": "code",
   "execution_count": null,
   "metadata": {
    "kernel": "R"
   },
   "outputs": [],
   "source": [
    "#### COUNTRIES\n",
    "t_0 <- felm(kandhelwal_quality ~ln_lag_tax_rebate * density_china_ville * regime + \n",
    "            lag_foreign_export_share_ckjr + lag_soe_export_share_ckjr + \n",
    "            ln_lag_import_tax * regime + ln_lag_import_tax \n",
    "            | fe_ckr + fe_csrt+fe_kt|0 | hs6, df_final,\n",
    "            exactDOF = TRUE)\n",
    "\n",
    "t_1 <- felm(kandhelwal_quality ~ln_lag_tax_rebate * density_china_ville  + \n",
    "            lag_foreign_export_share_ckjr + lag_soe_export_share_ckjr +\n",
    "            ln_lag_import_tax + ln_lag_import_tax\n",
    "            | fe_ck + fe_cst+fe_pj |0 | hs6, df_final %>% filter(regime == 'ELIGIBLE'),\n",
    "            exactDOF = TRUE)\n",
    "\n",
    "#### GOODS\n",
    "t_2 <- felm(kandhelwal_quality ~ln_lag_tax_rebate * density_china_ville  + \n",
    "            lag_foreign_export_share_ckjr + lag_soe_export_share_ckjr +\n",
    "            ln_lag_import_tax + ln_lag_import_tax \n",
    "            | fe_ck + fe_cst+fe_pj |0 | hs6, df_final %>% filter(regime != 'ELIGIBLE'),\n",
    "            exactDOF = TRUE)\n",
    "\n",
    "t_3 <- felm(kandhelwal_quality ~ln_lag_tax_rebate * density_china_ville * regime + \n",
    "            lag_foreign_export_share_ckjr + lag_soe_export_share_ckjr +\n",
    "            ln_lag_tax_rebate* balassa * regime + \n",
    "            ln_lag_import_tax * regime+ ln_lag_import_tax \n",
    "            | fe_ckr + fe_csrt+fe_kt|0 | hs6, df_final,\n",
    "            exactDOF = TRUE)"
   ]
  },
  {
   "cell_type": "code",
   "execution_count": null,
   "metadata": {
    "kernel": "Python 3"
   },
   "outputs": [],
   "source": [
    "import os\n",
    "try:\n",
    "    os.remove(\"Tables/table_1.txt\")\n",
    "except:\n",
    "    pass\n",
    "try:\n",
    "    os.remove(\"Tables/table_1.tex\")\n",
    "except:\n",
    "    pass\n",
    "try:\n",
    "    os.remove(\"Tables/table_1.pdf\")\n",
    "except:\n",
    "    pass"
   ]
  },
  {
   "cell_type": "code",
   "execution_count": null,
   "metadata": {
    "kernel": "R"
   },
   "outputs": [],
   "source": [
    "dep <- \"Dependent variable: Product quality\"\n",
    "fe1 <- list(\n",
    "    c(\"City-product fixed effects\", \"No\", \"Yes\", \"Yes\", \"No\"),\n",
    "    \n",
    "    c(\"City-sector-year fixed effects\", \"No\", \"Yes\", \"Yes\", \"No\"),\n",
    "    \n",
    "    c(\"Product-destination fixed effect\",\"No\", \"Yes\", \"Yes\", \"No\"),\n",
    "    \n",
    "    c(\"City-product-regime fixed effects\",\"Yes\", \"No\", \"No\", \"Yes\"),\n",
    "    \n",
    "    c(\"City-sector-regime-year fixed effects\",\"Yes\", \"No\", \"No\", \"Yes\"),\n",
    "    \n",
    "    c(\"product-year fixed effects\", \"Yes\", \"No\", \"No\", \"Yes\")\n",
    "             )\n",
    "\n",
    "table_1 <- go_latex(list(\n",
    "    t_0,t_1, t_2, t_3\n",
    "),\n",
    "    title=\"VAT export tax and firm’s quality upgrading, Effect of density\",\n",
    "    dep_var = dep,\n",
    "    addFE=fe1,\n",
    "    save=TRUE,\n",
    "    note = FALSE,\n",
    "    name=\"Tables/table_1.txt\"\n",
    ")"
   ]
  },
  {
   "cell_type": "code",
   "execution_count": null,
   "metadata": {
    "kernel": "Python 3"
   },
   "outputs": [],
   "source": [
    "tbe1  = \"\"\"\n",
    "This table estimates eq(3). \n",
    "LDC and DC are defined according to the World Bank country classification.\n",
    "Homogeneous and heterogeneous goods are defined according to the official list of goods`s classification, Rauch (1999).\n",
    "Small and large are computed based on either the count of HS6 exported by city $c$ or the total quantity exported.\n",
    "When one of these two metrics are above national average, the city is considered as large.\n",
    "Note that 'Eligible' refers to the regime entitle to VAT refund, our treatment group.\n",
    "Our control group is processing trade with supplied input, 'Non-Eligible' to VAT refund.\n",
    "Sectors are defined following the Chinese 4-digit GB/T industry\n",
    "classification and regroup several products.\n",
    "Heteroskedasticity-robust standard errors\n",
    "clustered at the product level appear inparentheses.\n",
    "\\sym{*} Significance at the 10\\%, \\sym{**} Significance at the 5\\%, \\sym{***} Significance at the 1\\%.\"\"\"\n",
    "\n",
    "multicolumn ={\n",
    "    '': 1,\n",
    "    'Eligible': 1,\n",
    "    'Non-Eligible': 1,\n",
    "    '': 1,\n",
    "}\n",
    "multi_lines_dep = '(city/product/trade regime/year)'\n",
    "#new_r = ['& Eligible', 'Non-Eligible', 'All', 'All benchmark']\n",
    "lb.beautify(table_number = 1,\n",
    "            #multi_lines_dep = None,\n",
    "            multi_lines_dep = multi_lines_dep,\n",
    "            new_row= False,\n",
    "            multicolumn = multicolumn,\n",
    "            table_nte = tbe1,\n",
    "            jupyter_preview = True,\n",
    "            resolution = 200)"
   ]
  },
  {
   "cell_type": "markdown",
   "metadata": {
    "kernel": "Python 3"
   },
   "source": [
    "## Table 3: Density, with covariates city, regime, product\n",
    "\n",
    "$$\n",
    "\\begin{equation}\n",
    "\\begin{split}\n",
    "Quality_{kcdt} & = \\beta_{1}Ordinary^{E}_{i}*\\text{Ln VAT export tax}_{k, t-1}*Density_{ck}+ \\\\\n",
    "& \\beta_{5}Ordinary_{i}^{E}*\\text{Ln import tax}_{k, t-1} + \\\\\n",
    "& \\alpha_{ik}+\\alpha_{ct}+\\alpha_{dt}+\\alpha_{st}^{E}+ \\epsilon_{kcdt}\n",
    "\\end{split}\n",
    "\\end{equation}\n",
    "$$\n",
    "\n",
    "\n",
    "* Column 1 is the baseline column with the main fixed effect:\n",
    "  * city-product-regime: `fe_ckr`\n",
    "  * city-sector-regime-year: `fe_csrt` \n",
    "  * product-year: `fe_kt` \n",
    "* Columns 2 and 3 split the dataset into Eligible and Non eligible. Fixed effect are :\n",
    "  * city-product: `fe_ck` \n",
    "  * city-sector-year: `fe_cst` \n",
    "  * product-destination: `fe_pj` \n",
    "* Column 4 include Comparative advantages with the main fixed effect:\n",
    "  * city-product-regime: `fe_ckr` \n",
    "  * city-sector-regime-year: `fe_csrt` \n",
    "  * product-year: `fe_kt` \n",
    "\n",
    "Sector is defined as the GBT 4 digits"
   ]
  },
  {
   "cell_type": "code",
   "execution_count": null,
   "metadata": {
    "kernel": "R"
   },
   "outputs": [],
   "source": [
    "#### COUNTRIES\n",
    "t_0 <- felm(kandhelwal_quality ~ln_lag_tax_rebate * density_china_ville * regime + \n",
    "            lag_foreign_export_share_ckr + lag_soe_export_share_ckr + \n",
    "            ln_lag_import_tax * regime + ln_lag_import_tax\n",
    "            | fe_ckr + fe_csrt+fe_kt|0 | hs6, df_final,\n",
    "            exactDOF = TRUE)\n",
    "\n",
    "t_1 <- felm(kandhelwal_quality ~ln_lag_tax_rebate * density_china_ville  + \n",
    "            lag_foreign_export_share_ckr + lag_soe_export_share_ckr +\n",
    "            ln_lag_import_tax + ln_lag_import_tax\n",
    "            | fe_ck + fe_cst+fe_pj |0 | hs6, df_final %>% filter(regime == 'ELIGIBLE'),\n",
    "            exactDOF = TRUE)\n",
    "\n",
    "#### GOODS\n",
    "t_2 <- felm(kandhelwal_quality ~ln_lag_tax_rebate * density_china_ville  + \n",
    "            lag_foreign_export_share_ckr + lag_soe_export_share_ckr +\n",
    "            ln_lag_import_tax + ln_lag_import_tax \n",
    "            | fe_ck + fe_cst+fe_pj |0 | hs6, df_final %>% filter(regime != 'ELIGIBLE'),\n",
    "            exactDOF = TRUE)\n",
    "\n",
    "t_3 <- felm(kandhelwal_quality ~ln_lag_tax_rebate * density_china_ville * regime + \n",
    "            lag_foreign_export_share_ckr + lag_soe_export_share_ckr +\n",
    "            ln_lag_tax_rebate* balassa * regime + \n",
    "            ln_lag_import_tax * regime+ ln_lag_import_tax \n",
    "            | fe_ckr + fe_csrt+fe_kt|0 | hs6, df_final,\n",
    "            exactDOF = TRUE)"
   ]
  },
  {
   "cell_type": "code",
   "execution_count": null,
   "metadata": {
    "kernel": "Python 3"
   },
   "outputs": [],
   "source": [
    "import os\n",
    "try:\n",
    "    os.remove(\"Tables/table_2.txt\")\n",
    "except:\n",
    "    pass\n",
    "try:\n",
    "    os.remove(\"Tables/table_2.tex\")\n",
    "except:\n",
    "    pass\n",
    "try:\n",
    "    os.remove(\"Tables/table_2.pdf\")\n",
    "except:\n",
    "    pass"
   ]
  },
  {
   "cell_type": "code",
   "execution_count": null,
   "metadata": {
    "kernel": "R"
   },
   "outputs": [],
   "source": [
    "dep <- \"Dependent variable: Product quality\"\n",
    "fe1 <- list(\n",
    "    c(\"City-product fixed effects\", \"No\", \"Yes\", \"Yes\", \"No\"),\n",
    "    \n",
    "    c(\"City-sector-year fixed effects\", \"No\", \"Yes\", \"Yes\", \"No\"),\n",
    "    \n",
    "    c(\"Product-destination fixed effect\",\"No\", \"Yes\", \"Yes\", \"No\"),\n",
    "    \n",
    "    c(\"City-product-regime fixed effects\",\"Yes\", \"No\", \"No\", \"Yes\"),\n",
    "    \n",
    "    c(\"City-sector-regime-year fixed effects\",\"Yes\", \"No\", \"No\", \"Yes\"),\n",
    "    \n",
    "    c(\"product-year fixed effects\", \"Yes\", \"No\", \"No\", \"Yes\")\n",
    "             )\n",
    "\n",
    "table_1 <- go_latex(list(\n",
    "    t_0,t_1, t_2, t_3\n",
    "),\n",
    "    title=\"VAT export tax and firm’s quality upgrading, Effect of density\",\n",
    "    dep_var = dep,\n",
    "    addFE=fe1,\n",
    "    save=TRUE,\n",
    "    note = FALSE,\n",
    "    name=\"Tables/table_2.txt\"\n",
    ")"
   ]
  },
  {
   "cell_type": "code",
   "execution_count": null,
   "metadata": {
    "kernel": "Python 3"
   },
   "outputs": [],
   "source": [
    "tbe1  = \"\"\"\n",
    "This table estimates eq(3). \n",
    "LDC and DC are defined according to the World Bank country classification.\n",
    "Homogeneous and heterogeneous goods are defined according to the official list of goods`s classification, Rauch (1999).\n",
    "Small and large are computed based on either the count of HS6 exported by city $c$ or the total quantity exported.\n",
    "When one of these two metrics are above national average, the city is considered as large.\n",
    "Note that 'Eligible' refers to the regime entitle to VAT refund, our treatment group.\n",
    "Our control group is processing trade with supplied input, 'Non-Eligible' to VAT refund.\n",
    "Sectors are defined following the Chinese 4-digit GB/T industry\n",
    "classification and regroup several products.\n",
    "Heteroskedasticity-robust standard errors\n",
    "clustered at the product level appear inparentheses.\n",
    "\\sym{*} Significance at the 10\\%, \\sym{**} Significance at the 5\\%, \\sym{***} Significance at the 1\\%.\"\"\"\n",
    "\n",
    "multicolumn ={\n",
    "    '': 1,\n",
    "    'Eligible': 1,\n",
    "    'Non-Eligible': 1,\n",
    "    '': 1,\n",
    "}\n",
    "multi_lines_dep = '(city/product/trade regime/year)'\n",
    "#new_r = ['& Eligible', 'Non-Eligible', 'All', 'All benchmark']\n",
    "lb.beautify(table_number = 2,\n",
    "            #multi_lines_dep = None,\n",
    "            multi_lines_dep = multi_lines_dep,\n",
    "            new_row= False,\n",
    "            multicolumn = multicolumn,\n",
    "            table_nte = tbe1,\n",
    "            jupyter_preview = True,\n",
    "            resolution = 200)"
   ]
  },
  {
   "cell_type": "markdown",
   "metadata": {
    "kernel": "SoS",
    "nteract": {
     "transient": {
      "deleting": false
     }
    }
   },
   "source": [
    "# Generate reports"
   ]
  },
  {
   "cell_type": "code",
   "execution_count": null,
   "metadata": {
    "kernel": "Python 3",
    "nteract": {
     "transient": {
      "deleting": false
     }
    },
    "outputExpanded": false
   },
   "outputs": [],
   "source": [
    "import os, time, shutil, urllib, ipykernel, json\n",
    "from pathlib import Path\n",
    "from notebook import notebookapp"
   ]
  },
  {
   "cell_type": "code",
   "execution_count": null,
   "metadata": {
    "kernel": "Python 3",
    "nteract": {
     "transient": {
      "deleting": false
     }
    },
    "outputExpanded": false
   },
   "outputs": [],
   "source": [
    "def create_report(extension = \"html\", keep_code = False):\n",
    "    \"\"\"\n",
    "    Create a report from the current notebook and save it in the \n",
    "    Report folder (Parent-> child directory)\n",
    "    \n",
    "    1. Exctract the current notbook name\n",
    "    2. Convert the Notebook \n",
    "    3. Move the newly created report\n",
    "    \n",
    "    Args:\n",
    "    extension: string. Can be \"html\", \"pdf\", \"md\"\n",
    "    \n",
    "    \n",
    "    \"\"\"\n",
    "    \n",
    "    ### Get notebook name\n",
    "    connection_file = os.path.basename(ipykernel.get_connection_file())\n",
    "    kernel_id = connection_file.split('-', 1)[0].split('.')[0]\n",
    "\n",
    "    for srv in notebookapp.list_running_servers():\n",
    "        try:\n",
    "            if srv['token']=='' and not srv['password']:  \n",
    "                req = urllib.request.urlopen(srv['url']+'api/sessions')\n",
    "            else:\n",
    "                req = urllib.request.urlopen(srv['url']+ \\\n",
    "                                             'api/sessions?token=' + \\\n",
    "                                             srv['token'])\n",
    "            sessions = json.load(req)\n",
    "            notebookname = sessions[0]['name']\n",
    "        except:\n",
    "            pass  \n",
    "    \n",
    "    sep = '.'\n",
    "    path = os.getcwd()\n",
    "    #parent_path = str(Path(path).parent)\n",
    "    \n",
    "    ### Path report\n",
    "    #path_report = \"{}/Reports\".format(parent_path)\n",
    "    #path_report = \"{}/Reports\".format(path)\n",
    "    \n",
    "    ### Path destination\n",
    "    name_no_extension = notebookname.split(sep, 1)[0]\n",
    "    source_to_move = name_no_extension +'.{}'.format(extension)\n",
    "    dest = os.path.join(path,'Reports', source_to_move)\n",
    "    \n",
    "    ### Generate notebook\n",
    "    if keep_code:\n",
    "        os.system('jupyter nbconvert --to {} {}'.format(\n",
    "    extension,notebookname))\n",
    "    else:\n",
    "        os.system('jupyter nbconvert --no-input --to {} {}'.format(\n",
    "    extension,notebookname))\n",
    "    \n",
    "    ### Move notebook to report folder\n",
    "    #time.sleep(5)\n",
    "    shutil.move(source_to_move, dest)\n",
    "    print(\"Report Available at this adress:\\n {}\".format(dest))"
   ]
  },
  {
   "cell_type": "code",
   "execution_count": null,
   "metadata": {
    "kernel": "Python 3",
    "nteract": {
     "transient": {
      "deleting": false
     }
    },
    "outputExpanded": false
   },
   "outputs": [],
   "source": [
    "create_report(extension = \"html\", keep_code = True)"
   ]
  }
 ],
 "metadata": {
  "jupytext": {
   "formats": "ipynb,md"
  },
  "kernel_info": {
   "name": "python3"
  },
  "kernelspec": {
   "display_name": "SoS",
   "language": "sos",
   "name": "sos"
  },
  "language_info": {
   "codemirror_mode": "sos",
   "file_extension": ".sos",
   "mimetype": "text/x-sos",
   "name": "sos",
   "nbconvert_exporter": "sos_notebook.converter.SoS_Exporter",
   "pygments_lexer": "sos"
  },
  "nteract": {
   "version": "0.23.1"
  },
  "sos": {
   "kernels": [
    [
     "Python 3",
     "python3",
     "python3",
     "",
     {
      "name": "ipython",
      "version": 3
     }
    ],
    [
     "R",
     "ir",
     "R",
     "#DCDCDA",
     "r"
    ]
   ],
   "version": "0.21.13"
  },
  "toc": {
   "base_numbering": 1,
   "nav_menu": {},
   "number_sections": true,
   "sideBar": true,
   "skip_h1_title": false,
   "title_cell": "Table of Contents",
   "title_sidebar": "Contents",
   "toc_cell": false,
   "toc_position": {},
   "toc_section_display": true,
   "toc_window_display": false
  }
 },
 "nbformat": 4,
 "nbformat_minor": 4
}
