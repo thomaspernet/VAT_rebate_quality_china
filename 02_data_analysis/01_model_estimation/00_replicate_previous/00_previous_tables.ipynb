{
 "cells": [
  {
   "cell_type": "markdown",
   "metadata": {
    "kernel": "SoS"
   },
   "source": [
    "# US Name\n",
    "Estimate kandhelwal_quality as a function of  ln_lag_tax_rebate and others variables\n",
    "\n",
    "\n",
    "# Description\n",
    "\n",
    "- Compute fixed effect\n",
    "- Estimate table 1\n",
    "- Estimate table 2\n",
    "- Estimate table 4\n",
    "- Estimate table 5\n",
    "\n",
    "## Variables\n",
    "### Target\n",
    "\n",
    "- kandhelwal_quality\n",
    "\n",
    "### Features\n",
    "\n",
    "- ln_lag_tax_rebate\n",
    "- regime\n",
    "\n",
    "## Complementary information\n",
    "\n",
    "\n",
    "\n",
    "# Metadata\n",
    "\n",
    "- Key: 183_VAT_rebate_quality\n",
    "- Epic: Models\n",
    "- US: \n",
    "- Task tag: #data-analysis\n",
    "- Analytics reports: \n",
    "\n",
    "# Input Cloud Storage\n",
    "\n",
    "## Table/file\n",
    "\n",
    "**Name**\n",
    "\n",
    "- https://github.com/thomaspernet/VAT_rebate_quality_china/blob/master/01_data_preprocessing/02_transform_tables/04_baseline_vat_quantity_covariates.md\n",
    "\n",
    "**Github**\n",
    "\n",
    "- china_vat_quality\n",
    "\n"
   ]
  },
  {
   "cell_type": "markdown",
   "metadata": {
    "kernel": "SoS"
   },
   "source": [
    "# Connexion server"
   ]
  },
  {
   "cell_type": "code",
   "execution_count": 1,
   "metadata": {
    "kernel": "SoS"
   },
   "outputs": [],
   "source": [
    "from awsPy.aws_authorization import aws_connector\n",
    "from awsPy.aws_s3 import service_s3\n",
    "from awsPy.aws_glue import service_glue\n",
    "from pathlib import Path\n",
    "import pandas as pd\n",
    "import numpy as np\n",
    "#import seaborn as sns\n",
    "import os, shutil, json\n",
    "import sys\n",
    "\n",
    "path = os.getcwd()\n",
    "parent_path = str(Path(path).parent.parent.parent)\n",
    "\n",
    "\n",
    "name_credential = 'financial_dep_SO2_accessKeys.csv'\n",
    "region = 'eu-west-3'\n",
    "bucket = 'datalake-datascience'\n",
    "path_cred = \"{0}/creds/{1}\".format(parent_path, name_credential)"
   ]
  },
  {
   "cell_type": "code",
   "execution_count": 2,
   "metadata": {
    "kernel": "SoS"
   },
   "outputs": [],
   "source": [
    "con = aws_connector.aws_instantiate(credential = path_cred,\n",
    "                                       region = region)\n",
    "client= con.client_boto()\n",
    "s3 = service_s3.connect_S3(client = client,\n",
    "                      bucket = bucket, verbose = False)\n",
    "glue = service_glue.connect_glue(client = client) "
   ]
  },
  {
   "cell_type": "code",
   "execution_count": 3,
   "metadata": {
    "kernel": "SoS"
   },
   "outputs": [],
   "source": [
    "pandas_setting = True\n",
    "if pandas_setting:\n",
    "    #cm = sns.light_palette(\"green\", as_cmap=True)\n",
    "    pd.set_option('display.max_columns', None)\n",
    "    pd.set_option('display.max_colwidth', None)"
   ]
  },
  {
   "cell_type": "code",
   "execution_count": 4,
   "metadata": {
    "kernel": "SoS",
    "nteract": {
     "transient": {
      "deleting": false
     }
    }
   },
   "outputs": [],
   "source": [
    "os.environ['KMP_DUPLICATE_LIB_OK']='True'\n"
   ]
  },
  {
   "cell_type": "code",
   "execution_count": 5,
   "metadata": {
    "kernel": "R"
   },
   "outputs": [],
   "source": [
    "change_target <- function(table){\n",
    "    ## Regime\n",
    "    check_target <- grep(\"regimeELIGIBLE:ln_lag_import_tax\", rownames(table$coef))\n",
    "    \n",
    "    if (length(check_target) !=0) {\n",
    "    ## SOE\n",
    "    rownames(table$coefficients)[check_target] <- 'ln_lag_import_tax:regimeELIGIBLE'\n",
    "    rownames(table$beta)[check_target] <- 'ln_lag_import_tax:regimeELIGIBLE'\n",
    "    } \n",
    "    return (table)\n",
    "}"
   ]
  },
  {
   "cell_type": "markdown",
   "metadata": {
    "kernel": "SoS"
   },
   "source": [
    "# Load tables\n",
    "\n",
    "Since we load the data as a Pandas DataFrame, we want to pass the `dtypes`. We load the schema from Glue to guess the types"
   ]
  },
  {
   "cell_type": "code",
   "execution_count": 6,
   "metadata": {
    "kernel": "SoS"
   },
   "outputs": [],
   "source": [
    "db = 'chinese_trade'\n",
    "table = 'china_vat_quality'"
   ]
  },
  {
   "cell_type": "code",
   "execution_count": 7,
   "metadata": {
    "kernel": "SoS"
   },
   "outputs": [],
   "source": [
    "dtypes = {}\n",
    "schema = (glue.get_table_information(database = db,\n",
    "                           table = table)\n",
    "          ['Table']['StorageDescriptor']['Columns']\n",
    "         )\n",
    "for key, value in enumerate(schema):\n",
    "    if value['Type'] in ['varchar(12)',\n",
    "                         'varchar(3)',\n",
    "                        'varchar(14)', 'varchar(11)']:\n",
    "        format_ = 'string'\n",
    "    elif value['Type'] in ['decimal(21,5)', 'double', 'bigint', 'int', 'float']:\n",
    "        format_ = 'float'\n",
    "    else:\n",
    "        format_ = value['Type'] \n",
    "    dtypes.update(\n",
    "        {value['Name']:format_}\n",
    "    )"
   ]
  },
  {
   "cell_type": "code",
   "execution_count": 8,
   "metadata": {
    "kernel": "SoS"
   },
   "outputs": [],
   "source": [
    "download_data = False\n",
    "filename = 'df_{}'.format(table)\n",
    "full_path_filename = 'SQL_OUTPUT_ATHENA/CSV/{}.csv'.format(filename)\n",
    "path_local = os.path.join(str(Path(path).parent.parent.parent), \n",
    "                              \"00_data_catalog/temporary_local_data\")\n",
    "df_path = os.path.join(path_local, filename + '.csv')\n",
    "if download_data:\n",
    "    \n",
    "    s3 = service_s3.connect_S3(client = client,\n",
    "                          bucket = bucket, verbose = False)\n",
    "    query = \"\"\"\n",
    "    SELECT * \n",
    "    FROM {}.{}\n",
    "    \"\"\".format(db, table)\n",
    "    try:\n",
    "        df = (s3.run_query(\n",
    "            query=query,\n",
    "            database=db,\n",
    "            s3_output='SQL_OUTPUT_ATHENA',\n",
    "            filename=filename,  # Add filename to print dataframe\n",
    "            destination_key='SQL_OUTPUT_ATHENA/CSV',  #Use it temporarily\n",
    "            dtype = dtypes\n",
    "        )\n",
    "                )\n",
    "    except:\n",
    "        pass\n",
    "    s3.download_file(\n",
    "        key = full_path_filename\n",
    "    )\n",
    "    shutil.move(\n",
    "        filename + '.csv',\n",
    "        os.path.join(path_local, filename + '.csv')\n",
    "    )\n",
    "    s3.remove_file(full_path_filename)\n",
    "    #df.head()"
   ]
  },
  {
   "cell_type": "code",
   "execution_count": 9,
   "metadata": {
    "kernel": "SoS",
    "nteract": {
     "transient": {
      "deleting": false
     }
    }
   },
   "outputs": [
    {
     "data": {
      "text/html": [
       "<div>\n",
       "<style scoped>\n",
       "    .dataframe tbody tr th:only-of-type {\n",
       "        vertical-align: middle;\n",
       "    }\n",
       "\n",
       "    .dataframe tbody tr th {\n",
       "        vertical-align: top;\n",
       "    }\n",
       "\n",
       "    .dataframe thead th {\n",
       "        text-align: right;\n",
       "    }\n",
       "</style>\n",
       "<table border=\"1\" class=\"dataframe\">\n",
       "  <thead>\n",
       "    <tr style=\"text-align: right;\">\n",
       "      <th></th>\n",
       "      <th>Name</th>\n",
       "      <th>Type</th>\n",
       "      <th>Comment</th>\n",
       "    </tr>\n",
       "  </thead>\n",
       "  <tbody>\n",
       "    <tr>\n",
       "      <th>0</th>\n",
       "      <td>geocode4_corr</td>\n",
       "      <td>string</td>\n",
       "      <td>city name</td>\n",
       "    </tr>\n",
       "    <tr>\n",
       "      <th>1</th>\n",
       "      <td>year</td>\n",
       "      <td>string</td>\n",
       "      <td>year</td>\n",
       "    </tr>\n",
       "    <tr>\n",
       "      <th>2</th>\n",
       "      <td>regime</td>\n",
       "      <td>varchar(12)</td>\n",
       "      <td>eligible or no eligible to vat rebate</td>\n",
       "    </tr>\n",
       "    <tr>\n",
       "      <th>3</th>\n",
       "      <td>hs6</td>\n",
       "      <td>string</td>\n",
       "      <td>HS6 6 digit</td>\n",
       "    </tr>\n",
       "    <tr>\n",
       "      <th>4</th>\n",
       "      <td>hs4</td>\n",
       "      <td>string</td>\n",
       "      <td>HS4 4 digit</td>\n",
       "    </tr>\n",
       "    <tr>\n",
       "      <th>5</th>\n",
       "      <td>hs3</td>\n",
       "      <td>string</td>\n",
       "      <td>HS3 3 digit</td>\n",
       "    </tr>\n",
       "    <tr>\n",
       "      <th>6</th>\n",
       "      <td>hs2</td>\n",
       "      <td>string</td>\n",
       "      <td>HS2 2 digit</td>\n",
       "    </tr>\n",
       "    <tr>\n",
       "      <th>7</th>\n",
       "      <td>homogeneous</td>\n",
       "      <td>string</td>\n",
       "      <td>Goods label</td>\n",
       "    </tr>\n",
       "    <tr>\n",
       "      <th>8</th>\n",
       "      <td>country_en</td>\n",
       "      <td>string</td>\n",
       "      <td>English country name</td>\n",
       "    </tr>\n",
       "    <tr>\n",
       "      <th>9</th>\n",
       "      <td>iso_alpha</td>\n",
       "      <td>string</td>\n",
       "      <td></td>\n",
       "    </tr>\n",
       "    <tr>\n",
       "      <th>10</th>\n",
       "      <td>gni_per_capita</td>\n",
       "      <td>float</td>\n",
       "      <td>GDP per capita is gross domestic product divided by midyear population</td>\n",
       "    </tr>\n",
       "    <tr>\n",
       "      <th>11</th>\n",
       "      <td>gpd_per_capita</td>\n",
       "      <td>float</td>\n",
       "      <td>GNI per capita (formerly GNP per capita) is the gross national income, converted to U.S. dollars using the World Bank Atlas method, divided by the midyear population</td>\n",
       "    </tr>\n",
       "    <tr>\n",
       "      <th>12</th>\n",
       "      <td>income_group</td>\n",
       "      <td>string</td>\n",
       "      <td>One of 'Others', 'Low income', 'Upper middle income','High income: nonOECD', 'Lower middle income', 'High income: OECD'</td>\n",
       "    </tr>\n",
       "    <tr>\n",
       "      <th>13</th>\n",
       "      <td>income_group_ldc_dc</td>\n",
       "      <td>varchar(3)</td>\n",
       "      <td>Income group LDC or not LDC in 2003</td>\n",
       "    </tr>\n",
       "    <tr>\n",
       "      <th>14</th>\n",
       "      <td>quantity</td>\n",
       "      <td>bigint</td>\n",
       "      <td>Export quantity</td>\n",
       "    </tr>\n",
       "    <tr>\n",
       "      <th>15</th>\n",
       "      <td>value</td>\n",
       "      <td>bigint</td>\n",
       "      <td>Export value</td>\n",
       "    </tr>\n",
       "    <tr>\n",
       "      <th>16</th>\n",
       "      <td>unit_price</td>\n",
       "      <td>decimal(21,5)</td>\n",
       "      <td>product unit price</td>\n",
       "    </tr>\n",
       "    <tr>\n",
       "      <th>17</th>\n",
       "      <td>kandhelwal_quality</td>\n",
       "      <td>float</td>\n",
       "      <td>Kandhelwal quality</td>\n",
       "    </tr>\n",
       "    <tr>\n",
       "      <th>18</th>\n",
       "      <td>price_adjusted_quality</td>\n",
       "      <td>float</td>\n",
       "      <td>price adjusted</td>\n",
       "    </tr>\n",
       "    <tr>\n",
       "      <th>19</th>\n",
       "      <td>lag_vat_m</td>\n",
       "      <td>float</td>\n",
       "      <td>lag vat tax</td>\n",
       "    </tr>\n",
       "    <tr>\n",
       "      <th>20</th>\n",
       "      <td>lag_vat_reb_m</td>\n",
       "      <td>float</td>\n",
       "      <td>lag vat rebate</td>\n",
       "    </tr>\n",
       "    <tr>\n",
       "      <th>21</th>\n",
       "      <td>lag_tax_rebate</td>\n",
       "      <td>float</td>\n",
       "      <td>lag vat rebate to pay</td>\n",
       "    </tr>\n",
       "    <tr>\n",
       "      <th>22</th>\n",
       "      <td>ln_lag_vat_m</td>\n",
       "      <td>double</td>\n",
       "      <td>log lag vat tax</td>\n",
       "    </tr>\n",
       "    <tr>\n",
       "      <th>23</th>\n",
       "      <td>ln_lag_vat_reb_m</td>\n",
       "      <td>double</td>\n",
       "      <td>log lag vat rebate</td>\n",
       "    </tr>\n",
       "    <tr>\n",
       "      <th>24</th>\n",
       "      <td>ln_lag_tax_rebate</td>\n",
       "      <td>double</td>\n",
       "      <td>log lag vat rebate to pay</td>\n",
       "    </tr>\n",
       "    <tr>\n",
       "      <th>25</th>\n",
       "      <td>lag_import_tax</td>\n",
       "      <td>float</td>\n",
       "      <td>lag import tax</td>\n",
       "    </tr>\n",
       "    <tr>\n",
       "      <th>26</th>\n",
       "      <td>ln_lag_import_tax</td>\n",
       "      <td>double</td>\n",
       "      <td>log lag import tax</td>\n",
       "    </tr>\n",
       "    <tr>\n",
       "      <th>27</th>\n",
       "      <td>lag_soe_export_share_ckr</td>\n",
       "      <td>decimal(21,5)</td>\n",
       "      <td>lag export share city industry regime</td>\n",
       "    </tr>\n",
       "    <tr>\n",
       "      <th>28</th>\n",
       "      <td>lag_foreign_export_share_ckr</td>\n",
       "      <td>decimal(21,5)</td>\n",
       "      <td>lag export share city industry regime</td>\n",
       "    </tr>\n",
       "    <tr>\n",
       "      <th>29</th>\n",
       "      <td>high_tech</td>\n",
       "      <td>string</td>\n",
       "      <td>high tech product</td>\n",
       "    </tr>\n",
       "    <tr>\n",
       "      <th>30</th>\n",
       "      <td>energy</td>\n",
       "      <td>string</td>\n",
       "      <td>energy consuming product</td>\n",
       "    </tr>\n",
       "    <tr>\n",
       "      <th>31</th>\n",
       "      <td>skilled</td>\n",
       "      <td>string</td>\n",
       "      <td>skilled sectors</td>\n",
       "    </tr>\n",
       "    <tr>\n",
       "      <th>32</th>\n",
       "      <td>rd_oriented</td>\n",
       "      <td>string</td>\n",
       "      <td>rd_oriented sectors</td>\n",
       "    </tr>\n",
       "    <tr>\n",
       "      <th>33</th>\n",
       "      <td>count_hs6</td>\n",
       "      <td>bigint</td>\n",
       "      <td>count hs6</td>\n",
       "    </tr>\n",
       "    <tr>\n",
       "      <th>34</th>\n",
       "      <td>sum_quantity</td>\n",
       "      <td>bigint</td>\n",
       "      <td></td>\n",
       "    </tr>\n",
       "    <tr>\n",
       "      <th>35</th>\n",
       "      <td>city_average_hs6</td>\n",
       "      <td>double</td>\n",
       "      <td></td>\n",
       "    </tr>\n",
       "    <tr>\n",
       "      <th>36</th>\n",
       "      <td>city_average_quantity</td>\n",
       "      <td>double</td>\n",
       "      <td></td>\n",
       "    </tr>\n",
       "    <tr>\n",
       "      <th>37</th>\n",
       "      <td>size_quantity</td>\n",
       "      <td>varchar(14)</td>\n",
       "      <td></td>\n",
       "    </tr>\n",
       "    <tr>\n",
       "      <th>38</th>\n",
       "      <td>size_product</td>\n",
       "      <td>varchar(11)</td>\n",
       "      <td></td>\n",
       "    </tr>\n",
       "  </tbody>\n",
       "</table>\n",
       "</div>"
      ],
      "text/plain": [
       "                            Name           Type  \\\n",
       "0                  geocode4_corr         string   \n",
       "1                           year         string   \n",
       "2                         regime    varchar(12)   \n",
       "3                            hs6         string   \n",
       "4                            hs4         string   \n",
       "5                            hs3         string   \n",
       "6                            hs2         string   \n",
       "7                    homogeneous         string   \n",
       "8                     country_en         string   \n",
       "9                      iso_alpha         string   \n",
       "10                gni_per_capita          float   \n",
       "11                gpd_per_capita          float   \n",
       "12                  income_group         string   \n",
       "13           income_group_ldc_dc     varchar(3)   \n",
       "14                      quantity         bigint   \n",
       "15                         value         bigint   \n",
       "16                    unit_price  decimal(21,5)   \n",
       "17            kandhelwal_quality          float   \n",
       "18        price_adjusted_quality          float   \n",
       "19                     lag_vat_m          float   \n",
       "20                 lag_vat_reb_m          float   \n",
       "21                lag_tax_rebate          float   \n",
       "22                  ln_lag_vat_m         double   \n",
       "23              ln_lag_vat_reb_m         double   \n",
       "24             ln_lag_tax_rebate         double   \n",
       "25                lag_import_tax          float   \n",
       "26             ln_lag_import_tax         double   \n",
       "27      lag_soe_export_share_ckr  decimal(21,5)   \n",
       "28  lag_foreign_export_share_ckr  decimal(21,5)   \n",
       "29                     high_tech         string   \n",
       "30                        energy         string   \n",
       "31                       skilled         string   \n",
       "32                   rd_oriented         string   \n",
       "33                     count_hs6         bigint   \n",
       "34                  sum_quantity         bigint   \n",
       "35              city_average_hs6         double   \n",
       "36         city_average_quantity         double   \n",
       "37                 size_quantity    varchar(14)   \n",
       "38                  size_product    varchar(11)   \n",
       "\n",
       "                                                                                                                                                                  Comment  \n",
       "0                                                                                                                                                               city name  \n",
       "1                                                                                                                                                                    year  \n",
       "2                                                                                                                                   eligible or no eligible to vat rebate  \n",
       "3                                                                                                                                                             HS6 6 digit  \n",
       "4                                                                                                                                                             HS4 4 digit  \n",
       "5                                                                                                                                                             HS3 3 digit  \n",
       "6                                                                                                                                                             HS2 2 digit  \n",
       "7                                                                                                                                                             Goods label  \n",
       "8                                                                                                                                                    English country name  \n",
       "9                                                                                                                                                                          \n",
       "10                                                                                                 GDP per capita is gross domestic product divided by midyear population  \n",
       "11  GNI per capita (formerly GNP per capita) is the gross national income, converted to U.S. dollars using the World Bank Atlas method, divided by the midyear population  \n",
       "12                                                One of 'Others', 'Low income', 'Upper middle income','High income: nonOECD', 'Lower middle income', 'High income: OECD'  \n",
       "13                                                                                                                                    Income group LDC or not LDC in 2003  \n",
       "14                                                                                                                                                        Export quantity  \n",
       "15                                                                                                                                                           Export value  \n",
       "16                                                                                                                                                     product unit price  \n",
       "17                                                                                                                                                     Kandhelwal quality  \n",
       "18                                                                                                                                                         price adjusted  \n",
       "19                                                                                                                                                            lag vat tax  \n",
       "20                                                                                                                                                         lag vat rebate  \n",
       "21                                                                                                                                                  lag vat rebate to pay  \n",
       "22                                                                                                                                                        log lag vat tax  \n",
       "23                                                                                                                                                     log lag vat rebate  \n",
       "24                                                                                                                                              log lag vat rebate to pay  \n",
       "25                                                                                                                                                         lag import tax  \n",
       "26                                                                                                                                                     log lag import tax  \n",
       "27                                                                                                                                  lag export share city industry regime  \n",
       "28                                                                                                                                  lag export share city industry regime  \n",
       "29                                                                                                                                                      high tech product  \n",
       "30                                                                                                                                               energy consuming product  \n",
       "31                                                                                                                                                        skilled sectors  \n",
       "32                                                                                                                                                    rd_oriented sectors  \n",
       "33                                                                                                                                                              count hs6  \n",
       "34                                                                                                                                                                         \n",
       "35                                                                                                                                                                         \n",
       "36                                                                                                                                                                         \n",
       "37                                                                                                                                                                         \n",
       "38                                                                                                                                                                         "
      ]
     },
     "execution_count": 9,
     "metadata": {},
     "output_type": "execute_result"
    }
   ],
   "source": [
    "pd.DataFrame(schema)"
   ]
  },
  {
   "cell_type": "markdown",
   "metadata": {
    "kernel": "SoS"
   },
   "source": [
    "# compute fixed effect\n",
    "\n",
    "| Benchmark | Origin            | Name                     | Description                                                                                                                                                                                                                                                                                                                                    | Math_notebook     |\n",
    "|-----------|-------------------|--------------------------|------------------------------------------------------------------------------------------------------------------------------------------------------------------------------------------------------------------------------------------------------------------------------------------------------------------------------------------------|-------------------|\n",
    "| Yes       | Current           | city-product             |                                                                                                                                                                                                                                                                                                                                                | $\\alpha_{ck}$     |\n",
    "| Yes       | Current           | city-product-regime      |                                                                                                                                                                                                                                                                                                                                                | $\\alpha_{ck}^R$   |\n",
    "| Yes       | Current           | city-sector-year         | Sector is defined as GBT 4 digit                                                                                                                                                                                                                                                                                                               | $\\alpha_{cst}$    |\n",
    "| Yes       | Current           | city-sectorーregime-year | Sector is defined as GBT 4 digit                                                                                                                                                                                                                                                                                                               | $\\alpha_{cst}^R$  |\n",
    "| Yes       | Current           | product-destination      |                                                                                                                                                                                                                                                                                                                                                | $\\alpha_{pj}$     |\n",
    "| Yes       | Previous baseline | Product-year             | account for all factors that affect product-level export irrespective of the trade regime in a given year                                                                                                                                                                                                                                      | $\\alpha_{pt}$     |\n",
    "| No        | Previous baseline | firm-product-eligibility | captures all the factors that affect firms regardless of the time and type of regime. This firm‒product pair eliminates the demand shocks that firms face and that are not correlated with the types of status. The fixed effects are also responsible for potential correlations between subsidies, R&D, or trade policies and VAT rebates.   | $\\alpha^{E}_{it}$ |\n",
    "| No        | Previous baseline | HS4-year-eligibility     |                                                                                                                                                                                                                                                                                                                                                | $\\alpha^{E}_{st}$ |\n",
    "| No        | Previous baseline | city-year                | captures the differences in demand, capital intensity, or labor supply that prevail between cities each year                                                                                                                                                                                                                                   | $\\alpha_{ct}$     |\n",
    "| No        | Candidate         | destination-year         | Captures additional level of control, encompassing all the shocks and developments in the economies to which China exports.                                                                                                                                                                                                                    | $\\alpha_{dt}$     |\n",
    "\n",
    "\n",
    "Create the following fixed effect for the baseline regression:\n",
    "\n",
    "**index**\n",
    "\n",
    "* city: `c`\n",
    "* product: `k`\n",
    "* sector: `s`\n",
    "* year: `t`\n",
    "* Destination: `j`\n",
    "* regime: `r`\n",
    "\n",
    "**FE**\n",
    "\n",
    "* city-product: `FE_ck`\n",
    "* City-sector-year: `FE_cst`\n",
    "* City-product-regime: `FE_ckr`\n",
    "* City-sector-regime-year: `FE_csrt`\n",
    "* Product-year: `FE_kt`\n",
    "* Product-destination: `FE_pj`\n",
    "* Destination-year: `FE_jt`"
   ]
  },
  {
   "cell_type": "code",
   "execution_count": 10,
   "metadata": {
    "kernel": "SoS"
   },
   "outputs": [],
   "source": [
    "create_fe = False\n",
    "if create_fe:\n",
    "    df = pd.read_csv(os.path.join(path_local, filename + '.csv'), dtype = dtypes)\n",
    "    ### city-product\n",
    "    df[\"fe_ck\"] = pd.factorize(df[\"geocode4_corr\"].astype('str') + \n",
    "                                        df[\"hs6\"].astype('str')\n",
    "                                       )[0]\n",
    "\n",
    "    ### City-sector-year\n",
    "    df[\"fe_cst\"] = pd.factorize(df[\"geocode4_corr\"].astype('str') + \n",
    "                                        df[\"hs4\"].astype('str') +\n",
    "                                        df[\"year\"].astype('str')\n",
    "                                       )[0]\n",
    "\n",
    "    ### City-product-regime\n",
    "    df[\"fe_ckr\"] = pd.factorize(df[\"geocode4_corr\"].astype('str') + \n",
    "                                        df[\"hs6\"].astype('str') +\n",
    "                                        df[\"regime\"].astype('str')\n",
    "                                       )[0]\n",
    "\n",
    "    ### City-sector-regime-year\n",
    "    df[\"fe_csrt\"] = pd.factorize(df[\"geocode4_corr\"].astype('str') + \n",
    "                                        df[\"hs4\"].astype('str') +\n",
    "                                        df[\"regime\"].astype('str') +\n",
    "                                        df[\"year\"].astype('str')\n",
    "                                       )[0]\n",
    "\n",
    "    ## Product-year\n",
    "    df[\"fe_kt\"] = pd.factorize(df[\"hs6\"].astype('str') + \n",
    "                                        df[\"year\"].astype('str')\n",
    "                                       )[0]\n",
    "\n",
    "    ## Product-destination\n",
    "    df[\"fe_kj\"] = pd.factorize(df[\"hs6\"].astype('str') + \n",
    "                                        df[\"country_en\"].astype('str')\n",
    "                                       )[0]\n",
    "\n",
    "    ## Destination-year\n",
    "    df[\"fe_jt\"] = pd.factorize(df[\"country_en\"].astype('str') + \n",
    "                                        df[\"year\"].astype('str')\n",
    "                                       )[0]\n",
    "\n",
    "    ## city-product-destination\n",
    "    df[\"fe_ckj\"] = pd.factorize(df[\"geocode4_corr\"].astype('str') + \n",
    "                                        df[\"hs6\"].astype('str') + \n",
    "                                        df[\"country_en\"].astype('str')\n",
    "                                       )[0]\n",
    "    \n",
    "    ## Shocks\n",
    "    df[\"fe_group_shock\"] = pd.factorize(\n",
    "        df[\"hs6\"].astype('str') +\n",
    "        df[\"country_en\"].astype('str') + \n",
    "        df[\"year\"].astype('str'))[0]\n",
    "    \n",
    "    df.to_csv(os.path.join(path_local, filename + '.csv'), index = False)"
   ]
  },
  {
   "cell_type": "markdown",
   "metadata": {
    "kernel": "SoS",
    "nteract": {
     "transient": {
      "deleting": false
     }
    }
   },
   "source": [
    "## Schema Latex table\n",
    "\n",
    "To rename a variable, please use the following template:\n",
    "\n",
    "```\n",
    "{\n",
    "    'old':'XX',\n",
    "    'new':'XX_1'\n",
    "    }\n",
    "```\n",
    "\n",
    "if you need to pass a latex format with `\\`, you need to duplicate it for instance, `\\text` becomes `\\\\text:\n",
    "\n",
    "```\n",
    "{\n",
    "    'old':'working\\_capital\\_i',\n",
    "    'new':'\\\\text{working capital}_i'\n",
    "    }\n",
    "```\n",
    "\n",
    "Then add it to the key `to_rename`"
   ]
  },
  {
   "cell_type": "code",
   "execution_count": 11,
   "metadata": {
    "kernel": "SoS",
    "nteract": {
     "transient": {
      "deleting": false
     }
    }
   },
   "outputs": [],
   "source": [
    "add_to_dic = True\n",
    "if add_to_dic:\n",
    "    if os.path.exists(\"schema_table.json\"):\n",
    "        os.remove(\"schema_table.json\")\n",
    "    data = {'to_rename':[], 'to_remove':[]}\n",
    "    dic_rename = [\n",
    "        {\n",
    "        'old':'ln\\_lag\\_tax\\_rebate',\n",
    "        'new':'\\\\text{Ln VAT export tax}_{k, t-1}'\n",
    "        },\n",
    "        {\n",
    "        'old':'regimeELIGIBLE',\n",
    "        'new':'\\\\text{Regime}^R'\n",
    "        },\n",
    "        {\n",
    "        'old':'ln\\_lag\\_import\\_tax',\n",
    "        'new':'\\\\text{Ln VAT import tax,}_{k, t-1}'\n",
    "        },\n",
    "        {\n",
    "        'old':'lag\\_foreign\\_export\\_share\\_ckr',\n",
    "        'new':'\\\\text{lag foreign export share}_{ckr, t-1}'\n",
    "        },\n",
    "        {\n",
    "        'old':'lag\\_soe\\_export\\_share\\_ckr',\n",
    "        'new':'\\\\text{lag SOE export share}_{ckr, t-1}'\n",
    "        },\n",
    "    ]\n",
    "\n",
    "    data['to_rename'].extend(dic_rename)\n",
    "    with open('schema_table.json', 'w') as outfile:\n",
    "        json.dump(data, outfile)"
   ]
  },
  {
   "cell_type": "code",
   "execution_count": 12,
   "metadata": {
    "kernel": "SoS"
   },
   "outputs": [],
   "source": [
    "sys.path.append(os.path.join(parent_path, 'utils'))\n",
    "import latex.latex_beautify as lb\n",
    "#%load_ext autoreload\n",
    "#%autoreload 2"
   ]
  },
  {
   "cell_type": "code",
   "execution_count": 13,
   "metadata": {
    "kernel": "R"
   },
   "outputs": [
    {
     "name": "stderr",
     "output_type": "stream",
     "text": [
      "Registered S3 methods overwritten by 'ggplot2':\n",
      "  method         from \n",
      "  [.quosures     rlang\n",
      "  c.quosures     rlang\n",
      "  print.quosures rlang\n",
      "Registered S3 method overwritten by 'rvest':\n",
      "  method            from\n",
      "  read_xml.response xml2\n",
      "── Attaching packages ─────────────────────────────────────── tidyverse 1.2.1 ──\n",
      "✔ ggplot2 3.1.1       ✔ purrr   0.3.2  \n",
      "✔ tibble  2.1.1       ✔ dplyr   0.8.0.1\n",
      "✔ tidyr   0.8.3       ✔ stringr 1.4.0  \n",
      "✔ readr   1.3.1       ✔ forcats 0.4.0  \n",
      "── Conflicts ────────────────────────────────────────── tidyverse_conflicts() ──\n",
      "✖ dplyr::filter() masks stats::filter()\n",
      "✖ dplyr::lag()    masks stats::lag()\n",
      "Loading required package: Matrix\n",
      "\n",
      "Attaching package: ‘Matrix’\n",
      "\n",
      "The following object is masked from ‘package:tidyr’:\n",
      "\n",
      "    expand\n",
      "\n",
      "\n",
      "Please cite as: \n",
      "\n",
      " Hlavac, Marek (2018). stargazer: Well-Formatted Regression and Summary Statistics Tables.\n",
      " R package version 5.2.2. https://CRAN.R-project.org/package=stargazer \n",
      "\n"
     ]
    }
   ],
   "source": [
    "options(warn=-1)\n",
    "library(tidyverse)\n",
    "library(lfe)\n",
    "#library(lazyeval)\n",
    "library('progress')\n",
    "path = \"../../../utils/latex/table_golatex.R\"\n",
    "source(path)"
   ]
  },
  {
   "cell_type": "code",
   "execution_count": 14,
   "metadata": {
    "kernel": "R"
   },
   "outputs": [
    {
     "name": "stderr",
     "output_type": "stream",
     "text": [
      "Parsed with column specification:\n",
      "cols(\n",
      "  .default = col_double(),\n",
      "  regime = col_character(),\n",
      "  homogeneous = col_character(),\n",
      "  country_en = col_character(),\n",
      "  iso_alpha = col_character(),\n",
      "  income_group = col_character(),\n",
      "  income_group_ldc_dc = col_character(),\n",
      "  high_tech = col_logical(),\n",
      "  energy = col_character(),\n",
      "  skilled = col_logical(),\n",
      "  rd_oriented = col_logical(),\n",
      "  size_quantity = col_character(),\n",
      "  size_product = col_character()\n",
      ")\n",
      "See spec(...) for full column specifications.\n"
     ]
    }
   ],
   "source": [
    "%get df_path\n",
    "df_final <- read_csv(df_path) %>%\n",
    "mutate_if(is.character, as.factor) %>%\n",
    "    mutate_at(vars(starts_with(\"fe\")), as.factor) %>%\n",
    "mutate(regime = relevel(as.factor(regime), ref='NOT_ELIGIBLE'),)"
   ]
  },
  {
   "cell_type": "code",
   "execution_count": 15,
   "metadata": {
    "kernel": "R"
   },
   "outputs": [
    {
     "data": {
      "text/html": [
       "<table>\n",
       "<thead><tr><th scope=col>geocode4_corr</th><th scope=col>year</th><th scope=col>regime</th><th scope=col>hs6</th><th scope=col>hs4</th><th scope=col>hs3</th><th scope=col>hs2</th><th scope=col>homogeneous</th><th scope=col>country_en</th><th scope=col>iso_alpha</th><th scope=col>...</th><th scope=col>size_product</th><th scope=col>fe_ck</th><th scope=col>fe_cst</th><th scope=col>fe_ckr</th><th scope=col>fe_csrt</th><th scope=col>fe_kt</th><th scope=col>fe_kj</th><th scope=col>fe_jt</th><th scope=col>fe_ckj</th><th scope=col>fe_group_shock</th></tr></thead>\n",
       "<tbody>\n",
       "\t<tr><td>3205         </td><td>2008         </td><td>ELIGIBLE     </td><td>620319       </td><td>6203         </td><td>620          </td><td>62           </td><td>HETEREGENEOUS</td><td>Belgium      </td><td>BEL          </td><td>...          </td><td>LARGE_COUNT  </td><td>0            </td><td>0            </td><td>0            </td><td>0            </td><td>0            </td><td>0            </td><td>0            </td><td>0            </td><td>0            </td></tr>\n",
       "\t<tr><td>3205         </td><td>2008         </td><td>ELIGIBLE     </td><td>620292       </td><td>6202         </td><td>620          </td><td>62           </td><td>HETEREGENEOUS</td><td>Brazil       </td><td>BRA          </td><td>...          </td><td>LARGE_COUNT  </td><td>1            </td><td>1            </td><td>1            </td><td>1            </td><td>1            </td><td>1            </td><td>1            </td><td>1            </td><td>1            </td></tr>\n",
       "\t<tr><td>3205         </td><td>2007         </td><td>ELIGIBLE     </td><td>620292       </td><td>6202         </td><td>620          </td><td>62           </td><td>HETEREGENEOUS</td><td>Belgium      </td><td>BEL          </td><td>...          </td><td>LARGE_COUNT  </td><td>1            </td><td>2            </td><td>1            </td><td>2            </td><td>2            </td><td>2            </td><td>2            </td><td>2            </td><td>2            </td></tr>\n",
       "\t<tr><td>3205         </td><td>2007         </td><td>ELIGIBLE     </td><td>620211       </td><td>6202         </td><td>620          </td><td>62           </td><td>HETEREGENEOUS</td><td>Belgium      </td><td>BEL          </td><td>...          </td><td>LARGE_COUNT  </td><td>2            </td><td>2            </td><td>2            </td><td>2            </td><td>3            </td><td>3            </td><td>2            </td><td>3            </td><td>3            </td></tr>\n",
       "\t<tr><td>3205         </td><td>2010         </td><td>NOT_ELIGIBLE </td><td>851821       </td><td>8518         </td><td>851          </td><td>85           </td><td>HETEREGENEOUS</td><td>France       </td><td>FRA          </td><td>...          </td><td>LARGE_COUNT  </td><td>3            </td><td>3            </td><td>3            </td><td>3            </td><td>4            </td><td>4            </td><td>3            </td><td>4            </td><td>4            </td></tr>\n",
       "\t<tr><td>3205         </td><td>2009         </td><td>ELIGIBLE     </td><td>620212       </td><td>6202         </td><td>620          </td><td>62           </td><td>HETEREGENEOUS</td><td>Japan        </td><td>JPN          </td><td>...          </td><td>LARGE_COUNT  </td><td>4            </td><td>4            </td><td>4            </td><td>4            </td><td>5            </td><td>5            </td><td>4            </td><td>5            </td><td>5            </td></tr>\n",
       "</tbody>\n",
       "</table>\n"
      ],
      "text/latex": [
       "\\begin{tabular}{r|llllllllllllllllllllllllllllllllllllllllllllllll}\n",
       " geocode4\\_corr & year & regime & hs6 & hs4 & hs3 & hs2 & homogeneous & country\\_en & iso\\_alpha & ... & size\\_product & fe\\_ck & fe\\_cst & fe\\_ckr & fe\\_csrt & fe\\_kt & fe\\_kj & fe\\_jt & fe\\_ckj & fe\\_group\\_shock\\\\\n",
       "\\hline\n",
       "\t 3205          & 2008          & ELIGIBLE      & 620319        & 6203          & 620           & 62            & HETEREGENEOUS & Belgium       & BEL           & ...           & LARGE\\_COUNT & 0             & 0             & 0             & 0             & 0             & 0             & 0             & 0             & 0            \\\\\n",
       "\t 3205          & 2008          & ELIGIBLE      & 620292        & 6202          & 620           & 62            & HETEREGENEOUS & Brazil        & BRA           & ...           & LARGE\\_COUNT & 1             & 1             & 1             & 1             & 1             & 1             & 1             & 1             & 1            \\\\\n",
       "\t 3205          & 2007          & ELIGIBLE      & 620292        & 6202          & 620           & 62            & HETEREGENEOUS & Belgium       & BEL           & ...           & LARGE\\_COUNT & 1             & 2             & 1             & 2             & 2             & 2             & 2             & 2             & 2            \\\\\n",
       "\t 3205          & 2007          & ELIGIBLE      & 620211        & 6202          & 620           & 62            & HETEREGENEOUS & Belgium       & BEL           & ...           & LARGE\\_COUNT & 2             & 2             & 2             & 2             & 3             & 3             & 2             & 3             & 3            \\\\\n",
       "\t 3205           & 2010           & NOT\\_ELIGIBLE & 851821         & 8518           & 851            & 85             & HETEREGENEOUS  & France         & FRA            & ...            & LARGE\\_COUNT  & 3              & 3              & 3              & 3              & 4              & 4              & 3              & 4              & 4             \\\\\n",
       "\t 3205          & 2009          & ELIGIBLE      & 620212        & 6202          & 620           & 62            & HETEREGENEOUS & Japan         & JPN           & ...           & LARGE\\_COUNT & 4             & 4             & 4             & 4             & 5             & 5             & 4             & 5             & 5            \\\\\n",
       "\\end{tabular}\n"
      ],
      "text/markdown": [
       "\n",
       "| geocode4_corr | year | regime | hs6 | hs4 | hs3 | hs2 | homogeneous | country_en | iso_alpha | ... | size_product | fe_ck | fe_cst | fe_ckr | fe_csrt | fe_kt | fe_kj | fe_jt | fe_ckj | fe_group_shock |\n",
       "|---|---|---|---|---|---|---|---|---|---|---|---|---|---|---|---|---|---|---|---|---|\n",
       "| 3205          | 2008          | ELIGIBLE      | 620319        | 6203          | 620           | 62            | HETEREGENEOUS | Belgium       | BEL           | ...           | LARGE_COUNT   | 0             | 0             | 0             | 0             | 0             | 0             | 0             | 0             | 0             |\n",
       "| 3205          | 2008          | ELIGIBLE      | 620292        | 6202          | 620           | 62            | HETEREGENEOUS | Brazil        | BRA           | ...           | LARGE_COUNT   | 1             | 1             | 1             | 1             | 1             | 1             | 1             | 1             | 1             |\n",
       "| 3205          | 2007          | ELIGIBLE      | 620292        | 6202          | 620           | 62            | HETEREGENEOUS | Belgium       | BEL           | ...           | LARGE_COUNT   | 1             | 2             | 1             | 2             | 2             | 2             | 2             | 2             | 2             |\n",
       "| 3205          | 2007          | ELIGIBLE      | 620211        | 6202          | 620           | 62            | HETEREGENEOUS | Belgium       | BEL           | ...           | LARGE_COUNT   | 2             | 2             | 2             | 2             | 3             | 3             | 2             | 3             | 3             |\n",
       "| 3205          | 2010          | NOT_ELIGIBLE  | 851821        | 8518          | 851           | 85            | HETEREGENEOUS | France        | FRA           | ...           | LARGE_COUNT   | 3             | 3             | 3             | 3             | 4             | 4             | 3             | 4             | 4             |\n",
       "| 3205          | 2009          | ELIGIBLE      | 620212        | 6202          | 620           | 62            | HETEREGENEOUS | Japan         | JPN           | ...           | LARGE_COUNT   | 4             | 4             | 4             | 4             | 5             | 5             | 4             | 5             | 5             |\n",
       "\n"
      ],
      "text/plain": [
       "  geocode4_corr year regime       hs6    hs4  hs3 hs2 homogeneous   country_en\n",
       "1 3205          2008 ELIGIBLE     620319 6203 620 62  HETEREGENEOUS Belgium   \n",
       "2 3205          2008 ELIGIBLE     620292 6202 620 62  HETEREGENEOUS Brazil    \n",
       "3 3205          2007 ELIGIBLE     620292 6202 620 62  HETEREGENEOUS Belgium   \n",
       "4 3205          2007 ELIGIBLE     620211 6202 620 62  HETEREGENEOUS Belgium   \n",
       "5 3205          2010 NOT_ELIGIBLE 851821 8518 851 85  HETEREGENEOUS France    \n",
       "6 3205          2009 ELIGIBLE     620212 6202 620 62  HETEREGENEOUS Japan     \n",
       "  iso_alpha ... size_product fe_ck fe_cst fe_ckr fe_csrt fe_kt fe_kj fe_jt\n",
       "1 BEL       ... LARGE_COUNT  0     0      0      0       0     0     0    \n",
       "2 BRA       ... LARGE_COUNT  1     1      1      1       1     1     1    \n",
       "3 BEL       ... LARGE_COUNT  1     2      1      2       2     2     2    \n",
       "4 BEL       ... LARGE_COUNT  2     2      2      2       3     3     2    \n",
       "5 FRA       ... LARGE_COUNT  3     3      3      3       4     4     3    \n",
       "6 JPN       ... LARGE_COUNT  4     4      4      4       5     5     4    \n",
       "  fe_ckj fe_group_shock\n",
       "1 0      0             \n",
       "2 1      1             \n",
       "3 2      2             \n",
       "4 3      3             \n",
       "5 4      4             \n",
       "6 5      5             "
      ]
     },
     "metadata": {},
     "output_type": "display_data"
    }
   ],
   "source": [
    "head(df_final)"
   ]
  },
  {
   "cell_type": "markdown",
   "metadata": {
    "kernel": "SoS"
   },
   "source": [
    "## Table 1: baseline estimate\n",
    "\n",
    "$$\n",
    "\\begin{aligned}\n",
    "\\operatorname{Quality}_{c,k,j, t}^{R} &=\\alpha \\ln \\text{VAT Export tax}_{k, t-1} \\times \\text { Eligibility }^{R} \\\\\n",
    "&+\\alpha \\ln \\text{Import tax}  \\times \\text { Eligibility }^{R} \\\\\n",
    "&+X_{c, s, t-1}^{R}+F E_{c,k}^{R}+F E_{c,s,t}^{R}+ F E_{k, t}+\\epsilon_{ck,j, t}^{R}\n",
    "\\end{aligned}\n",
    "$$\n",
    "\n",
    "\n",
    "* Column 1: Estimate for eligible regime only\n",
    "    * FE: \n",
    "        - city-product: `fe_ck`\n",
    "        - city-sector-year: `fe_cst`\n",
    "        - product-destination: `fe_pj`\n",
    "* Column 2: Estimate for non-eligible regime only\n",
    "    * FE: \n",
    "        - city-product: `fe_ck`\n",
    "        - city-sector-year: `fe_cst`\n",
    "        - product-destination: `fe_pj`\n",
    "* Column 3: Full estimate without product-year FE -> Get two coefficients\n",
    "    * FE: \n",
    "        - city-product-regime: `fe_ckr`\n",
    "        - city-sector-regime-year: `fe_csrt`\n",
    "        - product-destination: `fe_pj`\n",
    "* Column 4: Baseline estimate -> Focus on the coef of interest only\n",
    "    * FE: \n",
    "        - city-product-regime: `fe_ckr`\n",
    "        - city-sector-regime-year: `fe_csrt`\n",
    "        - product-year: `fe_kt`        \n",
    "* Column 5: Full estimate without product-year FE -> Get two coefficients & additional covariates\n",
    "    * FE: \n",
    "        - city-product-regime: `fe_ckr`\n",
    "        - city-sector-regime-year: `fe_csrt`\n",
    "        - product-destination: `fe_pj`\n",
    "* Column 6: Baseline estimate -> Focus on the coef of interest only & additional covariates\n",
    "    * FE: \n",
    "        - city-product-regime: `fe_ckr`\n",
    "        - city-sector-regime-year: `fe_csrt`\n",
    "        - product-year: `fe_kt`    \n",
    "\n",
    "Sector is defined as the GBT 4 digits"
   ]
  },
  {
   "cell_type": "code",
   "execution_count": 16,
   "metadata": {
    "kernel": "SoS",
    "nteract": {
     "transient": {
      "deleting": false
     }
    }
   },
   "outputs": [],
   "source": [
    "folder = 'Tables_0'\n",
    "table_nb = 1\n",
    "table = 'table_{}'.format(table_nb)\n",
    "path = os.path.join(folder, table + '.txt')\n",
    "if os.path.exists(folder) == False:\n",
    "        os.mkdir(folder)\n",
    "for ext in ['.txt', '.tex', '.pdf']:\n",
    "    x = [a for a in os.listdir(folder) if a.endswith(ext)]\n",
    "    [os.remove(os.path.join(folder, i)) for i in x]"
   ]
  },
  {
   "cell_type": "code",
   "execution_count": 17,
   "metadata": {
    "kernel": "R"
   },
   "outputs": [
    {
     "name": "stdout",
     "output_type": "stream",
     "text": [
      "[1] \"table 0 done\"\n",
      "[1] \"table 1 done\"\n",
      "[1] \"table 2 done\"\n",
      "[1] \"table 3 done\"\n",
      "[1] \"table 4 done\"\n",
      "[1] \"table 5 done\"\n"
     ]
    }
   ],
   "source": [
    "%get path table\n",
    "t_0 <- felm(kandhelwal_quality ~ln_lag_tax_rebate+ ln_lag_import_tax  \n",
    "            | fe_ck + fe_cst+fe_kj|0 | hs6, df_final %>% filter(regime == 'ELIGIBLE'),\n",
    "            exactDOF = TRUE)\n",
    "\n",
    "print('table 0 done')\n",
    "t_1 <- felm(kandhelwal_quality ~ln_lag_tax_rebate + ln_lag_import_tax \n",
    "            | fe_ck + fe_cst+fe_kj|0 | hs6, df_final %>% filter(regime != 'ELIGIBLE'),\n",
    "            exactDOF = TRUE)\n",
    "\n",
    "print('table 1 done')\n",
    "t_2 <- felm(kandhelwal_quality ~ln_lag_tax_rebate* regime + ln_lag_import_tax * regime+ ln_lag_import_tax\n",
    "            | fe_ckr + fe_csrt + fe_kj|0 | hs6, df_final,\n",
    "            exactDOF = TRUE)\n",
    "t_2 <- change_target(t_2)\n",
    "\n",
    "print('table 2 done')\n",
    "t_3 <- felm(kandhelwal_quality ~ln_lag_tax_rebate* regime + ln_lag_import_tax * regime+ ln_lag_import_tax \n",
    "            | fe_ckr + fe_csrt+fe_kt|0 | hs6, df_final,\n",
    "            exactDOF = TRUE)\n",
    "t_3 <- change_target(t_3)\n",
    "\n",
    "print('table 3 done')\n",
    "t_4 <- felm(kandhelwal_quality ~ln_lag_tax_rebate* regime + ln_lag_import_tax * regime+ ln_lag_import_tax +\n",
    "            lag_foreign_export_share_ckr + lag_soe_export_share_ckr\n",
    "            | fe_ckr + fe_csrt + fe_kj|0 | hs6, df_final,\n",
    "            exactDOF = TRUE)\n",
    "t_4 <- change_target(t_4)\n",
    "print('table 4 done')\n",
    "t_5 <- felm(kandhelwal_quality ~ln_lag_tax_rebate* regime + ln_lag_import_tax * regime+ ln_lag_import_tax +\n",
    "            lag_foreign_export_share_ckr + lag_soe_export_share_ckr\n",
    "            | fe_ckr + fe_csrt+fe_kt|0 | hs6, df_final,\n",
    "            exactDOF = TRUE)\n",
    "t_5 <- change_target(t_5)\n",
    "print('table 5 done')\n",
    "\n",
    "dep <- \"Dependent variable: Product quality\"\n",
    "fe1 <- list(\n",
    "    c(\"City-product fixed effects\", \"Yes\", \"Yes\", \"No\", \"No\", \"No\", \"No\"\n",
    "     ),\n",
    "    \n",
    "    c(\"City-sector-year fixed effects\", \"Yes\", \"Yes\", \"No\", \"No\", \"No\", \"No\"\n",
    "     ),\n",
    "    \n",
    "    c(\"Product-destination fixed effect\",\"Yes\", \"Yes\", \"Yes\", \"No\", \"Yes\", \"No\"\n",
    "     ),\n",
    "    \n",
    "    c(\"City-product-regime fixed effects\",\"No\", \"No\", \"Yes\", \"Yes\", \"Yes\", \"Yes\"\n",
    "     ),\n",
    "    \n",
    "    c(\"City-sector-regime-year fixed effects\",\"No\", \"No\", \"Yes\", \"Yes\", \"Yes\", \"Yes\"\n",
    "     ),\n",
    "    \n",
    "    c(\"Product-year fixed effects\", \"No\", \"No\", \"No\", \"Yes\", \"No\", \"Yes\"\n",
    "     ),\n",
    "    \n",
    "    c(\"City-product-destination fixed effects\", \"No\", \"No\", \"No\", \"No\",\"Yes\", \"Yes\"\n",
    "     )\n",
    "    \n",
    "             )\n",
    "\n",
    "table_1 <- go_latex(list(\n",
    "    t_0,t_1, t_2, t_3, t_4, t_5#, t_6, t_7\n",
    "),\n",
    "    title=\"VAT export tax and product's quality upgrading, baseline regression\",\n",
    "    dep_var = dep,\n",
    "    addFE=fe1,\n",
    "    save=TRUE,\n",
    "    note = FALSE,\n",
    "    name=path\n",
    ") "
   ]
  },
  {
   "cell_type": "code",
   "execution_count": 18,
   "metadata": {
    "kernel": "SoS"
   },
   "outputs": [
    {
     "data": {
      "image/png": "[encoded data removed]",
      "text/plain": [
       "<wand.image.Image: 540718a 'PDF' (716x624)>"
      ]
     },
     "metadata": {},
     "output_type": "display_data"
    }
   ],
   "source": [
    "tbe1  = \"This table estimates eq(3). \" \\\n",
    "\"Note that 'Eligible' refers to the regime entitle to VAT refund, our treatment group.\" \\\n",
    "\"Our control group is processing trade with supplied input, 'Non-Eligible' to VAT refund.\" \\\n",
    "\"Sectors are defined following the Chinese 4-digit GB/T industry\" \\\n",
    "\"classification and regroup several products.\" \\\n",
    "\"Heteroskedasticity-robust standard errors\" \\\n",
    "\"clustered at the product level appear inparentheses.\"\\\n",
    "\"\\sym{*} Significance at the 10\\%, \\sym{**} Significance at the 5\\%, \\sym{***} Significance at the 1\\%.\"\n",
    "\n",
    "multicolumn ={\n",
    "    'Eligible': 1,\n",
    "    'Non-Eligible': 1,\n",
    "    'All': 1,\n",
    "    'All benchmark': 1,\n",
    "    'All': 1,\n",
    "    'All benchmark': 1,\n",
    "}\n",
    "\n",
    "multi_lines_dep = '(city/product/trade regime/year)'\n",
    "#new_r = ['& test1', 'test2']\n",
    "lb.beautify(table_number = table_nb,\n",
    "            #reorder_var = reorder,\n",
    "            multi_lines_dep = multi_lines_dep,\n",
    "            #new_row= new_r,\n",
    "            multicolumn = multicolumn,\n",
    "            table_nte = tbe1,\n",
    "            jupyter_preview = True,\n",
    "            resolution = 150,\n",
    "            folder = folder)"
   ]
  },
  {
   "cell_type": "markdown",
   "metadata": {
    "kernel": "SoS"
   },
   "source": [
    "## Table 2: Heterogeneity effect\n",
    "\n",
    "- LDC and DC comes from the world bank classification, and are already in the table\n",
    "- The list of homogeneous goods is in the S3\n",
    "- Small/large city is be computed by using:\n",
    "    - the number of product exported in 2003. If the count of product is above average, then it can be consider as a large firm \n",
    "    - The average quantity\n",
    "    \n",
    "* Column 1: Estimate baseline regression subset LDC countries: `income_group_ldc_dc` -> `LDC`\n",
    "    * FE: \n",
    "        - city-product-regime: `fe_ckr`\n",
    "        - city-sector-regime-year: `fe_csrt`\n",
    "        - product-year: `fe_kt`\n",
    "* Column 2: Estimate baseline regression subset DC countries: `income_group_ldc_dc` -> `DC`\n",
    "    * FE: \n",
    "        - city-product-regime: `fe_ckr`\n",
    "        - city-sector-regime-year: `fe_csrt`\n",
    "        - product-year: `fe_kt`\n",
    "* Column 3: Estimate baseline regression subset Homogeneous goods: `classification` -> `HOMOGENEOUS`\n",
    "    * FE: \n",
    "        - city-product-regime: `fe_ckr`\n",
    "        - city-sector-regime-year: `fe_csrt`\n",
    "        - product-year: `fe_kt`\n",
    "* Column 4: Estimate baseline regression subset heterogeneous goods: `classification` -> != `HOMOGENEOUS`\n",
    "    * FE: \n",
    "        - city-product-regime: `fe_ckr`\n",
    "        - city-sector-regime-year: `fe_csrt`\n",
    "        - product-year: `fe_kt`\n",
    "* Column 5: Estimate baseline regression subset small cities: `size_product` -> == `SMALL_COUNT`\n",
    "    * FE: \n",
    "        - city-product-regime: `fe_ckr`\n",
    "        - city-sector-regime-year: `fe_csrt`\n",
    "        - product-year: `fe_kt`\n",
    "* Column 6: Estimate baseline regression subset large cities: `size_product` -> == `LARGE_COUNT`\n",
    "    * FE: \n",
    "        - city-product-regime: `fe_ckr`\n",
    "        - city-sector-regime-year: `fe_csrt`\n",
    "        - product-year: `fe_kt`   \n",
    "* Column 7: Estimate baseline regression subset small cities: `size_quantity` -> == `SMALL_QUANTITY`\n",
    "    * FE: \n",
    "        - city-product-regime: `fe_ckr`\n",
    "        - city-sector-regime-year: `fe_csrt`\n",
    "        - product-year: `fe_kt`\n",
    "* Column 8: Estimate baseline regression subset large cities: `size_quantity` -> == `LARGE_QUANTITY`\n",
    "    * FE: \n",
    "        - city-product-regime: `fe_ckr`\n",
    "        - city-sector-regime-year: `fe_csrt`\n",
    "        - product-year: `fe_kt`    \n",
    "\n",
    "Sector is defined as the GBT 4 digits"
   ]
  },
  {
   "cell_type": "code",
   "execution_count": 19,
   "metadata": {
    "kernel": "SoS"
   },
   "outputs": [],
   "source": [
    "folder = 'Tables_0'\n",
    "table_nb = 1\n",
    "table = 'table_{}'.format(table_nb)\n",
    "path = os.path.join(folder, table + '.txt')\n",
    "if os.path.exists(folder) == False:\n",
    "        os.mkdir(folder)\n",
    "for ext in ['.txt', '.tex', '.pdf']:\n",
    "    x = [a for a in os.listdir(folder) if a.endswith(ext)]\n",
    "    [os.remove(os.path.join(folder, i)) for i in x]"
   ]
  },
  {
   "cell_type": "code",
   "execution_count": 20,
   "metadata": {
    "kernel": "R"
   },
   "outputs": [
    {
     "name": "stdout",
     "output_type": "stream",
     "text": [
      "[1] \"table 0 done\"\n",
      "[1] \"table 1 done\"\n",
      "[1] \"table 2 done\"\n",
      "[1] \"table 3 done\"\n",
      "[1] \"table 4 done\"\n",
      "[1] \"table 5 done\"\n",
      "[1] \"table 6 done\"\n",
      "[1] \"table 7 done\"\n"
     ]
    }
   ],
   "source": [
    "%get path table\n",
    "#### COUNTRIES\n",
    "t_0 <- felm(kandhelwal_quality ~ln_lag_tax_rebate* regime + ln_lag_import_tax * regime+ ln_lag_import_tax\n",
    "            | fe_ckr + fe_csrt+fe_kt|0 | hs6, df_final %>% filter(income_group_ldc_dc == 'LDC'),\n",
    "            exactDOF = TRUE)\n",
    "t_0 <- change_target(t_0)\n",
    "print('table 0 done')\n",
    "\n",
    "t_1 <- felm(kandhelwal_quality ~ln_lag_tax_rebate* regime + ln_lag_import_tax * regime+ ln_lag_import_tax\n",
    "            | fe_ckr + fe_csrt+fe_kt|0 | hs6, df_final %>% filter(income_group_ldc_dc != 'LDC'),\n",
    "            exactDOF = TRUE)\n",
    "t_1 <- change_target(t_1)\n",
    "print('table 1 done')\n",
    "#### GOODS\n",
    "t_2 <- felm(kandhelwal_quality ~ln_lag_tax_rebate* regime + ln_lag_import_tax * regime+ ln_lag_import_tax \n",
    "            | fe_ckr + fe_csrt+fe_kt|0 | hs6, df_final %>% filter(is.na(homogeneous) | homogeneous == 'HOMOGENEOUS'),\n",
    "            exactDOF = TRUE)\n",
    "t_2 <- change_target(t_2)\n",
    "print('table 2 done')\n",
    "\n",
    "t_3 <- felm(kandhelwal_quality ~ln_lag_tax_rebate* regime + ln_lag_import_tax * regime+ ln_lag_import_tax \n",
    "            | fe_ckr + fe_csrt+fe_kt|0 | hs6, df_final %>% filter(homogeneous == 'HETEREGENEOUS'),\n",
    "            exactDOF = TRUE)\n",
    "t_3 <- change_target(t_3)\n",
    "print('table 3 done')\n",
    "#### CITIES\n",
    "##### HS6\n",
    "t_4 <- felm(kandhelwal_quality ~ln_lag_tax_rebate* regime + ln_lag_import_tax * regime+ ln_lag_import_tax\n",
    "            | fe_ckr + fe_csrt+fe_kt|0 | hs6, df_final %>% filter(size_product == 'SMALL_COUNT'),\n",
    "            exactDOF = TRUE)\n",
    "t_4 <- change_target(t_4)\n",
    "print('table 4 done')\n",
    "\n",
    "t_5 <- felm(kandhelwal_quality ~ln_lag_tax_rebate* regime + ln_lag_import_tax * regime+ ln_lag_import_tax\n",
    "            | fe_ckr + fe_csrt+fe_kt|0 | hs6, df_final %>% filter(size_product == 'LARGE_COUNT'),\n",
    "            exactDOF = TRUE)\n",
    "t_5 <- change_target(t_5)\n",
    "print('table 5 done')\n",
    "\n",
    "##### Quantity\n",
    "t_6 <- felm(kandhelwal_quality ~ln_lag_tax_rebate* regime + ln_lag_import_tax * regime+ ln_lag_import_tax\n",
    "            | fe_ckr + fe_csrt+fe_kt|0 | hs6, df_final %>% filter(size_quantity == 'SMALL_QUANTITY'),\n",
    "            exactDOF = TRUE)\n",
    "t_6 <- change_target(t_6)\n",
    "print('table 6 done')\n",
    "\n",
    "t_7 <- felm(kandhelwal_quality ~ln_lag_tax_rebate* regime + ln_lag_import_tax * regime+ ln_lag_import_tax\n",
    "            | fe_ckr + fe_csrt+fe_kt|0 | hs6, df_final %>% filter(size_quantity == 'LARGE_QUANTITY'),\n",
    "            exactDOF = TRUE)\n",
    "t_7 <- change_target(t_7)\n",
    "print('table 7 done')\n",
    "\n",
    "dep <- \"Dependent variable: Product quality\"\n",
    "fe1 <- list(\n",
    "    c(\"City-product-regime fixed effects\",\"Yes\", \"Yes\", \"Yes\", \"Yes\",\"Yes\", \"Yes\",\"Yes\", \"Yes\"),\n",
    "    \n",
    "    c(\"City-sector-regime-year fixed effects\",\"Yes\", \"Yes\", \"Yes\", \"Yes\",\"Yes\", \"Yes\",\"Yes\", \"Yes\"),\n",
    "    \n",
    "    c(\"product-year fixed effects\", \"Yes\", \"Yes\", \"Yes\", \"Yes\",\"Yes\", \"Yes\",\"Yes\", \"Yes\")\n",
    "             )\n",
    "\n",
    "table_1 <- go_latex(list(\n",
    "    t_0,t_1, t_2, t_3, t_4, t_5#, t_6, t_7\n",
    "),\n",
    "    title=\"VAT export tax and firm’s quality upgrading, characteristics of the destination countries, products, and cities\",\n",
    "    dep_var = dep,\n",
    "    addFE=fe1,\n",
    "    save=TRUE,\n",
    "    note = FALSE,\n",
    "    name=path\n",
    ") "
   ]
  },
  {
   "cell_type": "code",
   "execution_count": 21,
   "metadata": {
    "kernel": "SoS"
   },
   "outputs": [
    {
     "data": {
      "image/png": "[encoded data removed]",
      "text/plain": [
       "<wand.image.Image: f22700d 'PDF' (955x769)>"
      ]
     },
     "metadata": {},
     "output_type": "display_data"
    }
   ],
   "source": [
    "tbe1  = \"\"\"\n",
    "This table estimates eq(3). \n",
    "LDC and DC are defined according to the World Bank country classification.\n",
    "Homogeneous and heterogeneous goods are defined according to the official list of goods`s classification, Rauch (1999).\n",
    "Small and large are computed based on either the count of HS6 exported by city $c$ or the total quantity exported.\n",
    "When one of these two metrics are above national average, the city is considered as large.\n",
    "Note that 'Eligible' refers to the regime entitle to VAT refund, our treatment group.\n",
    "Our control group is processing trade with supplied input, 'Non-Eligible' to VAT refund.\n",
    "Sectors are defined following the Chinese 4-digit GB/T industry\n",
    "classification and regroup several products.\n",
    "Heteroskedasticity-robust standard errors\n",
    "clustered at the product level appear inparentheses.\n",
    "\\sym{*} Significance at the 10\\%, \\sym{**} Significance at the 5\\%, \\sym{***} Significance at the 1\\%.\"\"\"\n",
    "\n",
    "multicolumn ={\n",
    "    'LDC': 1,\n",
    "    'DC': 1,\n",
    "    'Homogeneous': 1,\n",
    "    'Heterogeneous': 1,\n",
    "    'Small HS6': 1,\n",
    "    'Large HS6': 1\n",
    "}\n",
    "multi_lines_dep = '(city/product/trade regime/year)'\n",
    "#new_r = ['& Eligible', 'Non-Eligible', 'All', 'All benchmark']\n",
    "lb.beautify(table_number = table_nb,\n",
    "            #multi_lines_dep = None,\n",
    "            multi_lines_dep = multi_lines_dep,\n",
    "            new_row= False,\n",
    "            multicolumn = multicolumn,\n",
    "            table_nte = tbe1,\n",
    "            jupyter_preview = True,\n",
    "            resolution = 200,\n",
    "           folder = folder)"
   ]
  },
  {
   "cell_type": "markdown",
   "metadata": {
    "kernel": "SoS"
   },
   "source": [
    "## Table 3: Industry characteristicts\n",
    "\n",
    "* Column 1 excludes rare earth products with the main fixed effect:\n",
    "  * city-product-regime: `fe_ckr`\n",
    "  * city-sector-regime-year: `fe_csrt` \n",
    "  * product-year: `fe_kt` \n",
    "* Column 2 excludes energy intensive industries with the main fixed effect:\n",
    "  * city-product-regime: `fe_ckr` \n",
    "  * city-sector-regime-year: `fe_csrt` \n",
    "  * product-year: `fe_kt` \n",
    "* Column 3 excludes high tech industries with the main fixed effect:\n",
    "  * city-product-regime: `fe_ckr` \n",
    "  * city-sector-regime-year: `fe_csrt` \n",
    "  * product-year: `fe_kt` \n",
    "* Column 4 excludes RD oriented indusrtries with the main fixed effect:\n",
    "  * city-product-regime: `fe_ckr` \n",
    "  * city-sector-regime-year: `fe_csrt` \n",
    "  * product-year: `fe_kt` \n",
    "* Column 5 excludes High skilled oriented with the main fixed effect:\n",
    "  * city-product-regime: `fe_ckr` \n",
    "  * city-sector-regime-year: `fe_csrt` \n",
    "  * product-year: `fe_kt`\n",
    "  \n",
    "Sector is defined as the GBT 4 digits"
   ]
  },
  {
   "cell_type": "code",
   "execution_count": 22,
   "metadata": {
    "kernel": "SoS"
   },
   "outputs": [],
   "source": [
    "folder = 'Tables_0'\n",
    "table_nb = 1\n",
    "table = 'table_{}'.format(table_nb)\n",
    "path = os.path.join(folder, table + '.txt')\n",
    "if os.path.exists(folder) == False:\n",
    "        os.mkdir(folder)\n",
    "for ext in ['.txt', '.tex', '.pdf']:\n",
    "    x = [a for a in os.listdir(folder) if a.endswith(ext)]\n",
    "    [os.remove(os.path.join(folder, i)) for i in x]"
   ]
  },
  {
   "cell_type": "code",
   "execution_count": 23,
   "metadata": {
    "kernel": "R"
   },
   "outputs": [
    {
     "name": "stdout",
     "output_type": "stream",
     "text": [
      "[1] \"table 0 done\"\n",
      "[1] \"table 1 done\"\n",
      "[1] \"table 2 done\"\n",
      "[1] \"table 3 done\"\n",
      "[1] \"table 4 done\"\n"
     ]
    }
   ],
   "source": [
    "%get path table\n",
    "#### RARE HEARTH\n",
    "t_0 <- felm(kandhelwal_quality ~ln_lag_tax_rebate* regime + ln_lag_import_tax * regime+ ln_lag_import_tax\n",
    "            | fe_ckr + fe_csrt+fe_kt|0 | hs6, df_final %>% filter(hs6 != 850511),\n",
    "            exactDOF = TRUE)\n",
    "t_0 <- change_target(t_0)\n",
    "print('table 0 done')\n",
    "\n",
    "#### ENERGY\n",
    "t_1 <- felm(kandhelwal_quality ~ln_lag_tax_rebate* regime + ln_lag_import_tax * regime+ ln_lag_import_tax \n",
    "            | fe_ckr + fe_csrt+fe_kt|0 | hs6, df_final %>% filter( is.na(energy)),\n",
    "            exactDOF = TRUE)\n",
    "t_1 <- change_target(t_1)\n",
    "print('table 1 done')\n",
    "\n",
    "#### HIGH TECH\n",
    "t_2 <- felm(kandhelwal_quality ~ln_lag_tax_rebate* regime + ln_lag_import_tax * regime+ ln_lag_import_tax\n",
    "            | fe_ckr + fe_csrt+fe_kt|0 | hs6, df_final %>% filter(is.na(high_tech)),\n",
    "            exactDOF = TRUE)\n",
    "t_2 <- change_target(t_2)\n",
    "print('table 2 done')\n",
    "#### SKILLED\n",
    "t_3 <- felm(kandhelwal_quality ~ln_lag_tax_rebate* regime + ln_lag_import_tax * regime+ ln_lag_import_tax\n",
    "            | fe_ckr + fe_csrt+fe_kt|0 | hs6, df_final %>% filter(is.na(skilled)),\n",
    "            exactDOF = TRUE)\n",
    "t_3 <- change_target(t_3)\n",
    "print('table 3 done')\n",
    "##### RD\n",
    "t_4 <- felm(kandhelwal_quality ~ln_lag_tax_rebate* regime + ln_lag_import_tax * regime+ ln_lag_import_tax\n",
    "            | fe_ckr + fe_csrt+fe_kt|0 | hs6, df_final %>% filter(is.na(rd_oriented)),\n",
    "            exactDOF = TRUE)\n",
    "t_4 <- change_target(t_4)\n",
    "print('table 4 done')\n",
    "\n",
    "dep <- \"Dependent variable: Product quality\"\n",
    "fe1 <- list(\n",
    "    c(\"City-product-regime fixed effects\",\"Yes\", \"Yes\", \"Yes\", \"Yes\",\"Yes\"),\n",
    "    \n",
    "    c(\"City-sector-regime-year fixed effects\",\"Yes\", \"Yes\", \"Yes\", \"Yes\",\"Yes\"),\n",
    "    \n",
    "    c(\"product-year fixed effects\", \"Yes\", \"Yes\", \"Yes\", \"Yes\",\"Yes\")\n",
    "             )\n",
    "\n",
    "table_1 <- go_latex(list(\n",
    "    t_0,t_1, t_2, t_3, t_4#, t_5, t_6, t_7\n",
    "),\n",
    "    title=\"VAT export tax and firm’s quality upgrading, characteristics of sensible sectors\",\n",
    "    dep_var = dep,\n",
    "    addFE=fe1,\n",
    "    save=TRUE,\n",
    "    note = FALSE,\n",
    "    name=path\n",
    ") "
   ]
  },
  {
   "cell_type": "code",
   "execution_count": 24,
   "metadata": {
    "kernel": "SoS"
   },
   "outputs": [
    {
     "data": {
      "image/png": "[encoded data removed]",
      "text/plain": [
       "<wand.image.Image: 215f1ae 'PDF' (955x606)>"
      ]
     },
     "metadata": {},
     "output_type": "display_data"
    }
   ],
   "source": [
    "tbe1  = \"\"\"\n",
    "This table estimates eq(3). \n",
    "Note that 'Eligible' refers to the regime entitle to VAT refund, our treatment group.\n",
    "Our control group is processing trade with supplied input, 'Non-Eligible' to VAT refund.\n",
    "Sectors are defined following the Chinese 4-digit GB/T industry\n",
    "classification and regroup several products.\n",
    "Heteroskedasticity-robust standard errors\n",
    "clustered at the product level appear inparentheses.\n",
    "\\sym{*} Significance at the 10\\%, \\sym{**} Significance at the 5\\%, \\sym{***} Significance at the 1\\%.\"\"\"\n",
    "\n",
    "multicolumn ={\n",
    "    'No rare-earth': 1,\n",
    "    'No energy intensive': 1,\n",
    "    'No high tech': 1,\n",
    "    'No RD oriented': 1,\n",
    "    'No high skilled oriented': 1,\n",
    "}\n",
    "multi_lines_dep = '(city/product/trade regime/year)'\n",
    "#new_r = ['& Eligible', 'Non-Eligible', 'All', 'All benchmark']\n",
    "lb.beautify(table_number = table_nb,\n",
    "            #multi_lines_dep = None,\n",
    "            multi_lines_dep = multi_lines_dep,\n",
    "            new_row= False,\n",
    "            multicolumn = multicolumn,\n",
    "            table_nte = tbe1,\n",
    "            jupyter_preview = True,\n",
    "            resolution = 200,\n",
    "            folder = folder)"
   ]
  },
  {
   "cell_type": "markdown",
   "metadata": {
    "kernel": "SoS"
   },
   "source": [
    "## Table 5: Robustness check\n",
    "\n",
    "* Column 1 add shocks with the main fixed effect:\n",
    "  * city-product-regime: fe_ckr \n",
    "  * city-sector-regime-year: fe_csrt \n",
    "  * product-year: fe_kt \n",
    "  * Shocks: hs6 + destination + year = 2003 \n",
    "* Column 2 includes cities presents full years with the main fixed effect:\n",
    "  * city-product-regime: fe_ckr \n",
    "  * city-sector-regime-year: fe_csrt \n",
    "  * product-year: fe_kt \n",
    "* Column 3 switch eligible to non eligle with the main fixed effect:\n",
    "  * city-product-regime: fe_ckr \n",
    "  * city-sector-regime-year: fe_csrt \n",
    "  * product-year: fe_kt \n",
    "* Column 4 switch non eligible to eligible with the main fixed effect:\n",
    "  * city-product-regime: fe_ckr \n",
    "  * city-sector-regime-year: fe_csrt \n",
    "  * product-year: fe_kt \n",
    "* Column 5 keep rebates 17% with the main fixed effect:\n",
    "  * city-product-regime: fe_ckr \n",
    "  * city-sector-regime-year: fe_csrt \n",
    "  * product-year: fe_kt \n",
    "* Column 6 exclude rebates 0% with the main fixed effect:\n",
    "  * city-product-regime: fe_ckr \n",
    "  * city-sector-regime-year: fe_csrt \n",
    "  * product-year: fe_kt "
   ]
  },
  {
   "cell_type": "code",
   "execution_count": 25,
   "metadata": {
    "kernel": "SoS"
   },
   "outputs": [],
   "source": [
    "folder = 'Tables_0'\n",
    "table_nb = 1\n",
    "table = 'table_{}'.format(table_nb)\n",
    "path = os.path.join(folder, table + '.txt')\n",
    "if os.path.exists(folder) == False:\n",
    "        os.mkdir(folder)\n",
    "for ext in ['.txt', '.tex', '.pdf']:\n",
    "    x = [a for a in os.listdir(folder) if a.endswith(ext)]\n",
    "    [os.remove(os.path.join(folder, i)) for i in x]"
   ]
  },
  {
   "cell_type": "code",
   "execution_count": 26,
   "metadata": {
    "kernel": "R"
   },
   "outputs": [],
   "source": [
    "# Dataset `switch eligible to non eligle` and `switch non eligible to eligible`\n",
    "temp <- df_final %>%\n",
    "  group_by(geocode4_corr, hs6, year) %>%\n",
    "  select(c(\"geocode4_corr\",\"hs6\",\"regime\",\"year\")) %>%\n",
    "  arrange(geocode4_corr, hs6, year) %>%\n",
    "  distinct(.keep_all = TRUE) %>%\n",
    "  ungroup() %>%\n",
    "  group_by(geocode4_corr, hs6) %>%\n",
    "  filter(row_number()==1)\n",
    "\n",
    "temp_2 <- df_final %>%\n",
    "  group_by(geocode4_corr, hs6, year) %>%\n",
    "  select(c(\"geocode4_corr\",\"hs6\",\"regime\",\"year\")) %>%\n",
    "  arrange(geocode4_corr, hs6, year) %>%\n",
    "  distinct(.keep_all = TRUE)%>%\n",
    "  ungroup() %>%\n",
    "  group_by(geocode4_corr, hs6) %>%\n",
    "  filter(row_number()==2)"
   ]
  },
  {
   "cell_type": "code",
   "execution_count": 27,
   "metadata": {
    "kernel": "R"
   },
   "outputs": [
    {
     "name": "stdout",
     "output_type": "stream",
     "text": [
      "[1] \"table 0 done\"\n",
      "[1] \"table 1 done\"\n"
     ]
    },
    {
     "name": "stderr",
     "output_type": "stream",
     "text": [
      "Joining, by = c(\"geocode4_corr\", \"hs6\")\n"
     ]
    },
    {
     "name": "stdout",
     "output_type": "stream",
     "text": [
      "[1] \"table 2 done\"\n"
     ]
    },
    {
     "name": "stderr",
     "output_type": "stream",
     "text": [
      "Joining, by = c(\"geocode4_corr\", \"hs6\")\n"
     ]
    },
    {
     "name": "stdout",
     "output_type": "stream",
     "text": [
      "[1] \"table 3 done\"\n",
      "[1] \"table 4 done\"\n",
      "[1] \"table 5 done\"\n"
     ]
    }
   ],
   "source": [
    "%get path table\n",
    "#### SHOCKS\n",
    "t_0 <- felm(kandhelwal_quality ~ln_lag_tax_rebate* regime + ln_lag_import_tax * regime+ ln_lag_import_tax\n",
    "            | fe_ckr + fe_csrt+fe_kt + fe_group_shock|0 | hs6, df_final,\n",
    "            exactDOF = TRUE)\n",
    "t_0 <- change_target(t_0)\n",
    "print('table 0 done')\n",
    "#### BALANCE\n",
    "t_1 <- felm(kandhelwal_quality ~ln_lag_tax_rebate* regime + ln_lag_import_tax * regime+ ln_lag_import_tax \n",
    "            | fe_ckr + fe_csrt+fe_kt|0 | hs6, df_final %>% group_by(geocode4_corr) %>%\n",
    "  mutate(length = length(unique(year))) %>%\n",
    "  filter(length ==8),\n",
    "            exactDOF = TRUE)\n",
    "t_1 <- change_target(t_1)\n",
    "print('table 1 done')\n",
    "\n",
    "temp_f_no_eli <- temp_2 %>%\n",
    "  filter(regime ==\"NOT_ELIGIBLE\")\n",
    "\n",
    "temp_f_eli <- temp %>%\n",
    "  filter(regime ==\"ELIGIBLE\") %>%\n",
    "  inner_join(temp_f_no_eli, by = c(\"geocode4_corr\",\"hs6\")) \n",
    "\n",
    "temp_f_eli <-temp_f_eli%>%\n",
    "  filter(year.x != year.y)    \n",
    "#### ELIGIBLE TO NON ELIGIBLE\n",
    "t_2 <- felm(kandhelwal_quality ~ln_lag_tax_rebate* regime + ln_lag_import_tax * regime+ ln_lag_import_tax\n",
    "            | fe_ckr + fe_csrt+fe_kt|0 | hs6, df_final %>% anti_join(temp_f_eli),\n",
    "            exactDOF = TRUE)\n",
    "t_2 <- change_target(t_2)\n",
    "print('table 2 done')\n",
    "\n",
    "temp_f_no_eli <- temp_2 %>%\n",
    "  filter(regime ==\"ELIGIBLE\")\n",
    "\n",
    "temp_f_eli <- temp %>%\n",
    "  filter(regime ==\"NOT_ELIGIBLE\") %>%\n",
    "  inner_join(temp_f_no_eli, by = c(\"geocode4_corr\",\"hs6\")) \n",
    "\n",
    "temp_f_eli <-temp_f_eli%>%\n",
    "  filter(year.x != year.y)\n",
    "    \n",
    "#### NON ELIGIBLE TO ELIGIBLE\n",
    "t_3 <- felm(kandhelwal_quality ~ln_lag_tax_rebate* regime + ln_lag_import_tax * regime+ ln_lag_import_tax\n",
    "            | fe_ckr + fe_csrt+fe_kt|0 | hs6, df_final %>% anti_join(temp_f_eli),\n",
    "            exactDOF = TRUE)\n",
    "t_3 <- change_target(t_3)\n",
    "print('table 3 done')\n",
    "\n",
    "##### ONLY 17% \n",
    "t_4 <- felm(kandhelwal_quality ~ln_lag_tax_rebate* regime + ln_lag_import_tax * regime+ ln_lag_import_tax\n",
    "            | fe_ckr + fe_csrt+fe_kt|0 | hs6, df_final %>% filter(lag_vat_m==17),\n",
    "            exactDOF = TRUE)\n",
    "t_4 <- change_target(t_4)\n",
    "print('table 4 done')\n",
    "\n",
    "##### EXCLUDE 0%\n",
    "t_5 <- felm(kandhelwal_quality ~ln_lag_tax_rebate* regime + ln_lag_import_tax * regime+ ln_lag_import_tax\n",
    "            | fe_ckr + fe_csrt+fe_kt|0 | hs6, df_final %>% filter(lag_vat_reb_m != 0),\n",
    "            exactDOF = TRUE)\n",
    "t_5 <- change_target(t_5)\n",
    "print('table 5 done')\n",
    "\n",
    "dep <- \"Dependent variable: Product quality\"\n",
    "fe1 <- list(\n",
    "    c(\"City-product-regime fixed effects\",\"Yes\", \"Yes\", \"Yes\", \"Yes\",\"Yes\",\"Yes\"),\n",
    "    \n",
    "    c(\"City-sector-regime-year fixed effects\",\"Yes\", \"Yes\", \"Yes\", \"Yes\",\"Yes\",\"Yes\"),\n",
    "    \n",
    "    c(\"product-year fixed effects\", \"Yes\", \"Yes\", \"Yes\", \"Yes\",\"Yes\",\"Yes\"),\n",
    "    \n",
    "    c(\"product-year-destination fixed effects\", \"Yes\", \"No\", \"No\", \"No\",\"No\",\"No\")\n",
    "             )\n",
    "\n",
    "table_1 <- go_latex(list(\n",
    "    t_0,t_1, t_2, t_3, t_4, t_5#, t_6, t_7\n",
    "),\n",
    "    title=\"VAT export tax and firm’s quality upgrading, Robustness checks\",\n",
    "    dep_var = dep,\n",
    "    addFE=fe1,\n",
    "    save=TRUE,\n",
    "    note = FALSE,\n",
    "    name=path\n",
    ") "
   ]
  },
  {
   "cell_type": "code",
   "execution_count": 28,
   "metadata": {
    "kernel": "SoS"
   },
   "outputs": [
    {
     "data": {
      "image/png": "[encoded data removed]",
      "text/plain": [
       "<wand.image.Image: abce142 'PDF' (955x578)>"
      ]
     },
     "metadata": {},
     "output_type": "display_data"
    }
   ],
   "source": [
    "tbe1  = \"\"\"\n",
    "This table estimates eq(3). \n",
    "Note that 'Eligible' refers to the regime entitle to VAT refund, our treatment group.\n",
    "Our control group is processing trade with supplied input, 'Non-Eligible' to VAT refund.\n",
    "Sectors are defined following the Chinese 4-digit GB/T industry\n",
    "classification and regroup several products.\n",
    "Heteroskedasticity-robust standard errors\n",
    "clustered at the product level appear inparentheses.\n",
    "\\sym{*} Significance at the 10\\%, \\sym{**} Significance at the 5\\%, \\sym{***} Significance at the 1\\%.\"\"\"\n",
    "\n",
    "multicolumn ={\n",
    "    'Shocks': 1,\n",
    "    'Balance': 1,\n",
    "    'Eligible to non eligible': 1,\n",
    "    'Non eligible to eligible': 1,\n",
    "    'Only 17\\%': 1,\n",
    "    'No zero rebate': 1\n",
    "}\n",
    "multi_lines_dep = '(city/product/trade regime/year)'\n",
    "#new_r = ['& Eligible', 'Non-Eligible', 'All', 'All benchmark']\n",
    "lb.beautify(table_number = table_nb,\n",
    "            #multi_lines_dep = None,\n",
    "            multi_lines_dep = multi_lines_dep,\n",
    "            new_row= False,\n",
    "            multicolumn = multicolumn,\n",
    "            table_nte = tbe1,\n",
    "            jupyter_preview = True,\n",
    "            resolution = 200,\n",
    "           folder = folder)"
   ]
  },
  {
   "cell_type": "markdown",
   "metadata": {
    "kernel": "SoS",
    "nteract": {
     "transient": {
      "deleting": false
     }
    }
   },
   "source": [
    "# Generate reports"
   ]
  },
  {
   "cell_type": "code",
   "execution_count": 29,
   "metadata": {
    "kernel": "python3",
    "nteract": {
     "transient": {
      "deleting": false
     }
    },
    "outputExpanded": false
   },
   "outputs": [],
   "source": [
    "import os, time, shutil, urllib, ipykernel, json\n",
    "from pathlib import Path\n",
    "from notebook import notebookapp\n",
    "import sys\n",
    "path = os.getcwd()\n",
    "parent_path = str(Path(path).parent.parent.parent)\n",
    "sys.path.append(os.path.join(parent_path, 'utils'))\n",
    "import make_toc"
   ]
  },
  {
   "cell_type": "code",
   "execution_count": 30,
   "metadata": {
    "kernel": "python3"
   },
   "outputs": [],
   "source": [
    "name_json = 'parameters_ETL_VAT_rebate_quality_china.json'\n",
    "path_json = os.path.join(str(Path(path).parent.parent), 'utils',name_json)"
   ]
  },
  {
   "cell_type": "code",
   "execution_count": 31,
   "metadata": {
    "kernel": "python3",
    "nteract": {
     "transient": {
      "deleting": false
     }
    },
    "outputExpanded": false
   },
   "outputs": [],
   "source": [
    "def create_report(extension = \"html\", keep_code = False, notebookname = None):\n",
    "    \"\"\"\n",
    "    Create a report from the current notebook and save it in the \n",
    "    Report folder (Parent-> child directory)\n",
    "    \n",
    "    1. Exctract the current notbook name\n",
    "    2. Convert the Notebook \n",
    "    3. Move the newly created report\n",
    "    \n",
    "    Args:\n",
    "    extension: string. Can be \"html\", \"pdf\", \"md\"\n",
    "    \n",
    "    \n",
    "    \"\"\"\n",
    "    \n",
    "    ### Get notebook name\n",
    "    connection_file = os.path.basename(ipykernel.get_connection_file())\n",
    "    kernel_id = connection_file.split('-', 1)[0].split('.')[0]\n",
    "\n",
    "    for srv in notebookapp.list_running_servers():\n",
    "        try:\n",
    "            if srv['token']=='' and not srv['password']:  \n",
    "                req = urllib.request.urlopen(srv['url']+'api/sessions')\n",
    "            else:\n",
    "                req = urllib.request.urlopen(srv['url']+ \\\n",
    "                                             'api/sessions?token=' + \\\n",
    "                                             srv['token'])\n",
    "            sessions = json.load(req)\n",
    "            notebookname = sessions[0]['name']\n",
    "        except:\n",
    "            notebookname = notebookname  \n",
    "    \n",
    "    sep = '.'\n",
    "    path = os.getcwd()\n",
    "    #parent_path = str(Path(path).parent)\n",
    "    \n",
    "    ### Path report\n",
    "    #path_report = \"{}/Reports\".format(parent_path)\n",
    "    #path_report = \"{}/Reports\".format(path)\n",
    "    \n",
    "    ### Path destination\n",
    "    name_no_extension = notebookname.split(sep, 1)[0]\n",
    "    source_to_move = name_no_extension +'.{}'.format(extension)\n",
    "    dest = os.path.join(path,'Reports', source_to_move)\n",
    "    \n",
    "    ### Generate notebook\n",
    "    if keep_code:\n",
    "        os.system('jupyter nbconvert --to {} {}'.format(\n",
    "    extension,notebookname))\n",
    "    else:\n",
    "        os.system('jupyter nbconvert --no-input --to {} {}'.format(\n",
    "    extension,notebookname))\n",
    "    \n",
    "    ### Move notebook to report folder\n",
    "    #time.sleep(5)\n",
    "    shutil.move(source_to_move, dest)\n",
    "    print(\"Report Available at this adress:\\n {}\".format(dest))"
   ]
  },
  {
   "cell_type": "code",
   "execution_count": 32,
   "metadata": {
    "kernel": "python3",
    "nteract": {
     "transient": {
      "deleting": false
     }
    },
    "outputExpanded": false
   },
   "outputs": [
    {
     "name": "stdout",
     "output_type": "stream",
     "text": [
      "Report Available at this adress:\n",
      " /home/ubuntu/VAT_rebate_quality_china/02_data_analysis/01_model_estimation/00_replicate_previous/Reports/00_previous_tables.html\n"
     ]
    }
   ],
   "source": [
    "create_report(extension = \"html\", keep_code = False, notebookname = \"00_previous_tables.ipynb\")"
   ]
  },
  {
   "cell_type": "code",
   "execution_count": 33,
   "metadata": {
    "kernel": "python3"
   },
   "outputs": [],
   "source": [
    "### Update TOC in Github\n",
    "for p in [parent_path,\n",
    "          str(Path(path).parent),\n",
    "          #os.path.join(str(Path(path).parent), \"00_download_data_from\"),\n",
    "          #os.path.join(str(Path(path).parent.parent), \"02_data_analysis\"),\n",
    "          #os.path.join(str(Path(path).parent.parent), \"02_data_analysis\", \"00_statistical_exploration\"),\n",
    "          #os.path.join(str(Path(path).parent.parent), \"02_data_analysis\", \"01_model_estimation\"),\n",
    "         ]:\n",
    "    try:\n",
    "        os.remove(os.path.join(p, 'README.md'))\n",
    "    except:\n",
    "        pass\n",
    "    path_parameter = os.path.join(parent_path,'utils', name_json)\n",
    "    md_lines =  make_toc.create_index(cwd = p, path_parameter = path_parameter)\n",
    "    md_out_fn = os.path.join(p,'README.md')\n",
    "    \n",
    "    if p == parent_path:\n",
    "    \n",
    "        make_toc.replace_index(md_out_fn, md_lines, Header = os.path.basename(p).replace('_', ' '), add_description = True, path_parameter = path_parameter)\n",
    "    else:\n",
    "        make_toc.replace_index(md_out_fn, md_lines, Header = os.path.basename(p).replace('_', ' '), add_description = False)"
   ]
  }
 ],
 "metadata": {
  "jupytext": {
   "formats": "ipynb,md"
  },
  "kernel_info": {
   "name": "python3"
  },
  "kernelspec": {
   "display_name": "SoS",
   "language": "sos",
   "name": "sos"
  },
  "language_info": {
   "codemirror_mode": "sos",
   "file_extension": ".sos",
   "mimetype": "text/x-sos",
   "name": "sos",
   "nbconvert_exporter": "sos_notebook.converter.SoS_Exporter",
   "pygments_lexer": "sos"
  },
  "nteract": {
   "version": "0.26.0"
  },
  "sos": {
   "kernels": [
    [
     "R",
     "ir",
     "R",
     "#DCDCDA",
     "r"
    ],
    [
     "SoS",
     "sos",
     "",
     "",
     "sos"
    ],
    [
     "python3",
     "python3",
     "python",
     "",
     ""
    ]
   ],
   "version": "0.20.1"
  },
  "toc": {
   "base_numbering": 1,
   "nav_menu": {},
   "number_sections": true,
   "sideBar": true,
   "skip_h1_title": false,
   "title_cell": "Table of Contents",
   "title_sidebar": "Contents",
   "toc_cell": false,
   "toc_position": {},
   "toc_section_display": true,
   "toc_window_display": false
  }
 },
 "nbformat": 4,
 "nbformat_minor": 4
}
