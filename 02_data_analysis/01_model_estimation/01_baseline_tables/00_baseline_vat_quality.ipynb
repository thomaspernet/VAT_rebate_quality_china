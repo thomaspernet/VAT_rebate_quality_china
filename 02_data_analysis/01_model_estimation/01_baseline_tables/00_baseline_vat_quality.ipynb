{
 "cells": [
  {
   "cell_type": "markdown",
   "metadata": {
    "kernel": "SoS"
   },
   "source": [
    "# US Name\n",
    "Estimate kandhelwal_quality as a function of  ln_lag_tax_rebate and others variables\n",
    "\n",
    "\n",
    "# Description\n",
    "\n",
    "- Change sign for story\n",
    "- Check sign price adjusted\n",
    "- Estimate table 1\n",
    "- Estimate table 2\n",
    "- Estimate table 4\n",
    "- Estimate table 5\n",
    "\n",
    "## Variables\n",
    "### Target\n",
    "\n",
    "kandhelwal_quality\n",
    "\n",
    "### Features\n",
    "\n",
    "- ln_lag_tax_rebate\n",
    "- regime\n",
    "- ln_lag_import_tax\n",
    "\n",
    "## Complementary information\n",
    "\n",
    "\n",
    "\n",
    "# Metadata\n",
    "\n",
    "- Key: 198_VAT_rebate_quality\n",
    "- Epic: Models\n",
    "- US: Baseline table\n",
    "- Task tag: #data-analysis\n",
    "- Analytics reports: \n",
    "\n",
    "# Input Cloud Storage\n",
    "\n",
    "## Table/file\n",
    "\n",
    "**Name**\n",
    "\n",
    "- china_vat_quality\n",
    "\n",
    "**Github**\n",
    "\n",
    "- https://github.com/thomaspernet/VAT_rebate_quality_china/blob/master/01_data_preprocessing/02_transform_tables/04_baseline_vat_quantity_covariates.md\n",
    "\n"
   ]
  },
  {
   "cell_type": "markdown",
   "metadata": {
    "kernel": "SoS"
   },
   "source": [
    "# Connexion server"
   ]
  },
  {
   "cell_type": "code",
   "execution_count": null,
   "metadata": {
    "kernel": "SoS"
   },
   "outputs": [],
   "source": [
    "from awsPy.aws_authorization import aws_connector\n",
    "from awsPy.aws_s3 import service_s3\n",
    "from awsPy.aws_glue import service_glue\n",
    "from pathlib import Path\n",
    "import pandas as pd\n",
    "import numpy as np\n",
    "#import seaborn as sns\n",
    "import os, shutil, json\n",
    "import sys\n",
    "import janitor\n",
    "\n",
    "path = os.getcwd()\n",
    "parent_path = str(Path(path).parent.parent.parent)\n",
    "\n",
    "\n",
    "name_credential = 'financial_dep_SO2_accessKeys.csv'\n",
    "region = 'eu-west-2'\n",
    "bucket = 'datalake-london'\n",
    "path_cred = \"{0}/creds/{1}\".format(parent_path, name_credential)"
   ]
  },
  {
   "cell_type": "code",
   "execution_count": null,
   "metadata": {
    "kernel": "SoS"
   },
   "outputs": [],
   "source": [
    "con = aws_connector.aws_instantiate(credential = path_cred,\n",
    "                                       region = region)\n",
    "client= con.client_boto()\n",
    "s3 = service_s3.connect_S3(client = client,\n",
    "                      bucket = bucket, verbose = False)\n",
    "glue = service_glue.connect_glue(client = client) "
   ]
  },
  {
   "cell_type": "code",
   "execution_count": null,
   "metadata": {
    "kernel": "SoS"
   },
   "outputs": [],
   "source": [
    "pandas_setting = True\n",
    "if pandas_setting:\n",
    "    #cm = sns.light_palette(\"green\", as_cmap=True)\n",
    "    pd.set_option('display.max_columns', None)\n",
    "    pd.set_option('display.max_colwidth', None)"
   ]
  },
  {
   "cell_type": "code",
   "execution_count": null,
   "metadata": {
    "kernel": "SoS",
    "nteract": {
     "transient": {
      "deleting": false
     }
    }
   },
   "outputs": [],
   "source": [
    "os.environ['KMP_DUPLICATE_LIB_OK']='True'\n"
   ]
  },
  {
   "cell_type": "code",
   "execution_count": null,
   "metadata": {
    "kernel": "R"
   },
   "outputs": [],
   "source": [
    "change_target <- function(table){\n",
    "    ## Regime\n",
    "    check_target <- grep(\"regimeELIGIBLE:ln_lag_import_tax\", rownames(table$coef))\n",
    "    \n",
    "    if (length(check_target) !=0) {\n",
    "    ## SOE\n",
    "    rownames(table$coefficients)[check_target] <- 'ln_lag_import_tax:regimeELIGIBLE'\n",
    "    rownames(table$beta)[check_target] <- 'ln_lag_import_tax:regimeELIGIBLE'\n",
    "    } \n",
    "    return (table)\n",
    "}"
   ]
  },
  {
   "cell_type": "markdown",
   "metadata": {
    "kernel": "SoS"
   },
   "source": [
    "# Load tables\n",
    "\n",
    "Since we load the data as a Pandas DataFrame, we want to pass the `dtypes`. We load the schema from Glue to guess the types"
   ]
  },
  {
   "cell_type": "code",
   "execution_count": null,
   "metadata": {
    "kernel": "SoS"
   },
   "outputs": [],
   "source": [
    "db = 'chinese_trade'\n",
    "table = 'china_vat_quality'"
   ]
  },
  {
   "cell_type": "code",
   "execution_count": null,
   "metadata": {
    "kernel": "SoS"
   },
   "outputs": [],
   "source": [
    "dtypes = {}\n",
    "schema = (glue.get_table_information(database = db,\n",
    "                           table = table)\n",
    "          ['Table']['StorageDescriptor']['Columns']\n",
    "         )\n",
    "for key, value in enumerate(schema):\n",
    "    if value['Type'] in ['varchar(12)',\n",
    "                         'varchar(3)',\n",
    "                        'varchar(14)',\n",
    "                         'varchar(11)',\n",
    "                        'array<bigint>',\n",
    "                        'map<double,boolean>']:\n",
    "        format_ = 'string'\n",
    "    elif value['Type'] in ['decimal(21,5)', 'double', 'bigint', 'int', 'float']:\n",
    "        format_ = 'float'\n",
    "    else:\n",
    "        format_ = value['Type'] \n",
    "    dtypes.update(\n",
    "        {value['Name']:format_}\n",
    "    )"
   ]
  },
  {
   "cell_type": "code",
   "execution_count": null,
   "metadata": {
    "kernel": "SoS"
   },
   "outputs": [],
   "source": [
    "download_data = True\n",
    "filename = 'df_{}'.format(table)\n",
    "full_path_filename = 'SQL_OUTPUT_ATHENA/CSV/{}.csv'.format(filename)\n",
    "path_local = os.path.join(str(Path(path).parent.parent.parent), \n",
    "                              \"00_data_catalog/temporary_local_data\")\n",
    "df_path = os.path.join(path_local, filename + '.csv')\n",
    "if download_data:\n",
    "    \n",
    "    s3 = service_s3.connect_S3(client = client,\n",
    "                          bucket = bucket, verbose = False)\n",
    "    query = \"\"\"\n",
    "    SELECT \n",
    "  * \n",
    "FROM \n",
    "  chinese_trade.china_vat_quality \n",
    "  LEFT JOIN (\n",
    "    SELECT \n",
    "      * \n",
    "    FROM \n",
    "      (\n",
    "        SELECT \n",
    "          year, \n",
    "          hs6, \n",
    "          geocode4_corr, \n",
    "          country_en, \n",
    "          COUNT(\n",
    "            DISTINCT(regime)\n",
    "          ) as cn \n",
    "        FROM \n",
    "          chinese_trade.china_vat_quality \n",
    "        GROUP BY \n",
    "          year, \n",
    "          hs6, \n",
    "          geocode4_corr, \n",
    "          country_en\n",
    "      )\n",
    "  ) as cn on china_vat_quality.year = cn.year \n",
    "  and china_vat_quality.hs6 = cn.hs6\n",
    "  and china_vat_quality.geocode4_corr = cn.geocode4_corr\n",
    "  and china_vat_quality.country_en = cn.country_en \n",
    "  WHERE cn = 2\n",
    "    \"\"\".format(db, table)\n",
    "    try:\n",
    "        df = (s3.run_query(\n",
    "            query=query,\n",
    "            database=db,\n",
    "            s3_output='SQL_OUTPUT_ATHENA',\n",
    "            filename=filename,  # Add filename to print dataframe\n",
    "            destination_key='SQL_OUTPUT_ATHENA/CSV',  #Use it temporarily\n",
    "            dtype = dtypes\n",
    "        )\n",
    "                )\n",
    "    except:\n",
    "        pass\n",
    "    #s3.download_file(\n",
    "    #    key = full_path_filename\n",
    "    #)\n",
    "    #shutil.move(\n",
    "    #    filename + '.csv',\n",
    "    #    os.path.join(path_local, filename + '.csv')\n",
    "    #)\n",
    "    #s3.remove_file(full_path_filename)\n",
    "    "
   ]
  },
  {
   "cell_type": "code",
   "execution_count": null,
   "metadata": {
    "kernel": "SoS",
    "nteract": {
     "transient": {
      "deleting": false
     }
    }
   },
   "outputs": [],
   "source": [
    "pd.DataFrame(schema)"
   ]
  },
  {
   "cell_type": "code",
   "execution_count": null,
   "metadata": {
    "kernel": "SoS"
   },
   "outputs": [],
   "source": [
    "query = \"\"\"\n",
    "SELECT * FROM \"trade\".\"wto_wiiw_ntm\"\n",
    "\"\"\"\n",
    "df_ntm = (s3.run_query(\n",
    "            query=query,\n",
    "            database=\"trade\",\n",
    "            s3_output='SQL_OUTPUT_ATHENA',\n",
    "            filename=filename,  # Add filename to print dataframe\n",
    "            destination_key='SQL_OUTPUT_ATHENA/CSV',  #Use it temporarily\n",
    "            dtype = dtypes\n",
    "        )\n",
    "          .assign(\n",
    "        year_initiation = lambda x: x['year_initiation'].astype('Int64'),#.astype(str),\n",
    "        year_withdrawal = lambda x: x['year_withdrawal'].astype('Int64').astype(str)\n",
    "    )\n",
    "          .rename(columns = {\"imp_iso3\":\"iso_alpha\", \"year_initiation\":'year'})\n",
    "                )\n",
    "df_ntm.head(2)"
   ]
  },
  {
   "cell_type": "code",
   "execution_count": null,
   "metadata": {
    "kernel": "SoS"
   },
   "outputs": [],
   "source": [
    "df_ntm.to_csv('ntm.csv')"
   ]
  },
  {
   "cell_type": "markdown",
   "metadata": {
    "kernel": "SoS",
    "lines_to_next_cell": 0
   },
   "source": [
    "# Compute NTM and quality variables"
   ]
  },
  {
   "cell_type": "markdown",
   "metadata": {
    "kernel": "SoS"
   },
   "source": [
    "## NTM "
   ]
  },
  {
   "cell_type": "markdown",
   "metadata": {
    "kernel": "SoS"
   },
   "source": [
    "### China import and world"
   ]
  },
  {
   "cell_type": "code",
   "execution_count": null,
   "metadata": {
    "kernel": "SoS"
   },
   "outputs": [],
   "source": [
    "df.shape"
   ]
  },
  {
   "cell_type": "code",
   "execution_count": null,
   "metadata": {
    "kernel": "SoS"
   },
   "outputs": [],
   "source": [
    "df_ntm.dropna(subset = ['year']).shape"
   ]
  },
  {
   "cell_type": "code",
   "execution_count": null,
   "metadata": {
    "kernel": "SoS"
   },
   "outputs": [],
   "source": [
    "df_ntm_world = (\n",
    "    df_ntm.reindex(columns=[\"iso_alpha\", \"id\", \"year\", \"hs_combined\"])\n",
    "    .assign(hs6=lambda x: x[\"hs_combined\"].str.split(\"|\"))\n",
    "    .explode(\"hs6\")\n",
    "    .groupby([\"iso_alpha\", \"year\", \"hs6\"])\n",
    "    .agg({\"id\": \"nunique\"})\n",
    "    .rename(columns={\"id\": \"count\"})\n",
    "    .sort_values(by=[\"iso_alpha\", \"year\", \"hs6\"])\n",
    "    .assign(\n",
    "        stock_ntm=lambda x: x.groupby([\"iso_alpha\", \"hs6\"])[\"count\"].transform(\n",
    "            \"cumsum\"\n",
    "        ),\n",
    "        lag_count=lambda x: x.groupby([\"iso_alpha\", \"hs6\"])[\"count\"]\n",
    "        .transform(\"shift\")\n",
    "        .fillna(0),\n",
    "        lag_stock_ntm=lambda x: x.groupby([\"iso_alpha\", \"hs6\"])[\"lag_count\"]\n",
    "        .transform(\"cumsum\")\n",
    "        .fillna(0),\n",
    "        ntm=\"TRUE\",\n",
    "        lag_ntm=lambda x: x.groupby([\"iso_alpha\", \"hs6\"])[\"ntm\"]\n",
    "        .transform(\"shift\")\n",
    "        .fillna(\"FALSE\"),\n",
    "    )\n",
    "    .reset_index()\n",
    ")"
   ]
  },
  {
   "cell_type": "code",
   "execution_count": null,
   "metadata": {
    "kernel": "SoS"
   },
   "outputs": [],
   "source": [
    "df_ntm_world"
   ]
  },
  {
   "cell_type": "code",
   "execution_count": null,
   "metadata": {
    "kernel": "SoS"
   },
   "outputs": [],
   "source": [
    "df_ntm_china = (\n",
    "    df_ntm\n",
    "    .loc[lambda x: x['iso_alpha'].isin(['CHN'])]\n",
    "    .reindex(columns=[\"iso_alpha\", \"id\", \"year\", \"hs_combined\"])\n",
    "    .assign(hs6=lambda x: x[\"hs_combined\"].str.split(\"|\"))\n",
    "    .explode(\"hs6\")\n",
    "    .groupby([\"iso_alpha\", \"year\", \"hs6\"])\n",
    "    .agg({\"id\": \"nunique\"})\n",
    "    .rename(columns={\"id\": \"count\"})\n",
    "    .sort_values(by=[\"iso_alpha\", \"year\", \"hs6\"])\n",
    "    .assign(\n",
    "        stock_ntm=lambda x: x.groupby([\"iso_alpha\", \"hs6\"])[\"count\"].transform(\n",
    "            \"cumsum\"\n",
    "        ),\n",
    "        lag_count=lambda x: x.groupby([\"iso_alpha\", \"hs6\"])[\"count\"]\n",
    "        .transform(\"shift\")\n",
    "        .fillna(0),\n",
    "        lag_stock_ntm=lambda x: x.groupby([\"iso_alpha\", \"hs6\"])[\"lag_count\"]\n",
    "        .transform(\"cumsum\")\n",
    "        .fillna(0),\n",
    "        ntm=\"TRUE\",\n",
    "        lag_ntm=lambda x: x.groupby([\"iso_alpha\", \"hs6\"])[\"ntm\"]\n",
    "        .transform(\"shift\")\n",
    "        .fillna(\"FALSE\"),\n",
    "    )\n",
    "    .reset_index()\n",
    "    .rename(columns = \n",
    "                   {\n",
    "                       'count':'count_china',\n",
    "                       'stock_ntm':'stock_ntm_china',\n",
    "                       'lag_count':'lag_count_china',\n",
    "                       'lag_stock_ntm':'lag_stock_ntm_china',\n",
    "                       'ntm':'ntm_china',\n",
    "                       'lag_ntm':'lag_ntm_china',\n",
    "                   })\n",
    ")"
   ]
  },
  {
   "cell_type": "code",
   "execution_count": null,
   "metadata": {
    "kernel": "SoS"
   },
   "outputs": [],
   "source": [
    "df_ntm_china"
   ]
  },
  {
   "cell_type": "markdown",
   "metadata": {
    "kernel": "SoS"
   },
   "source": [
    "- 1) ADP - Antidumping # CHINA\n",
    "- 2) CVD - Countervailing duties\n",
    "- 3) EXS - Export subsidies\n",
    "- 4) QRS - Quantitative Restrictions\n",
    "- 5) SFG - Safeguards\n",
    "- 6) SPS - Sanitary and Phytosanitary Measures # CHINA\n",
    "- 7) SSG - Special Safeguards (agriculture)\n",
    "- 8) STE - State trading enterprises\n",
    "- 9) TBT - Technical barriers to trade # CHINA\n",
    "- 10) TRQ - Tariff-rate quotas"
   ]
  },
  {
   "cell_type": "code",
   "execution_count": null,
   "metadata": {
    "kernel": "SoS"
   },
   "outputs": [],
   "source": [
    "df_ntm.loc[lambda x: x[\"iso_alpha\"].isin([\"CHN\"])]['aff'].value_counts()"
   ]
  },
  {
   "cell_type": "code",
   "execution_count": null,
   "metadata": {
    "kernel": "SoS"
   },
   "outputs": [],
   "source": [
    "#(\n",
    "#    df_ntm\n",
    "#    .loc[lambda x: x[\"iso_alpha\"].isin([\"CHN\"])]\n",
    "#    .loc[lambda x: x['ntm'].isin(['TBT'])]\n",
    "#)"
   ]
  },
  {
   "cell_type": "code",
   "execution_count": null,
   "metadata": {
    "kernel": "SoS"
   },
   "outputs": [],
   "source": [
    "list_ntm = []\n",
    "for i in ['TBT','SPS','ADP']:\n",
    "    df_temp = (\n",
    "    df_ntm\n",
    "    .loc[lambda x: x[\"iso_alpha\"].isin([\"CHN\"])]\n",
    "    .loc[lambda x: x['ntm'].isin([i])]\n",
    "    .reindex(columns=[\"iso_alpha\", \"id\", \"year\", \"hs_combined\"])\n",
    "    .assign(hs6=lambda x: x[\"hs_combined\"].str.split(\"|\"))\n",
    "    .explode(\"hs6\")\n",
    "    .groupby([\"iso_alpha\", \"year\", \"hs6\"])\n",
    "    .agg({\"id\": \"nunique\"})\n",
    "    .rename(columns={\"id\": \"count\"})\n",
    "    .sort_values(by=[\"iso_alpha\", \"year\", \"hs6\"])\n",
    "    .assign(\n",
    "        stock_ntm=lambda x: x.groupby([\"iso_alpha\", \"hs6\"])[\"count\"].transform(\n",
    "            \"cumsum\"\n",
    "        ),\n",
    "        lag_count=lambda x: x.groupby([\"iso_alpha\", \"hs6\"])[\"count\"]\n",
    "        .transform(\"shift\")\n",
    "        .fillna(0),\n",
    "        lag_stock_ntm=lambda x: x.groupby([\"iso_alpha\", \"hs6\"])[\"lag_count\"]\n",
    "        .transform(\"cumsum\")\n",
    "        .fillna(0),\n",
    "        ntm=\"TRUE\",\n",
    "        lag_ntm=lambda x: x.groupby([\"iso_alpha\", \"hs6\"])[\"ntm\"]\n",
    "        .transform(\"shift\")\n",
    "        .fillna(\"FALSE\"),\n",
    "    )\n",
    "    .reset_index()\n",
    "    .rename(columns = \n",
    "                   {\n",
    "                       'count':'count_{}'.format(i),\n",
    "                       'stock_ntm':'stock_ntm_{}'.format(i),\n",
    "                       'lag_count':'lag_count_{}'.format(i),\n",
    "                       'lag_stock_ntm':'lag_stock_ntm_{}'.format(i),\n",
    "                       'ntm':'ntm_{}'.format(i),\n",
    "                       'lag_ntm':'lag_ntm_{}'.format(i),\n",
    "                   })\n",
    ")\n",
    "    list_ntm.append(df_temp)\n",
    "len(list_ntm)"
   ]
  },
  {
   "cell_type": "code",
   "execution_count": null,
   "metadata": {
    "kernel": "SoS"
   },
   "outputs": [],
   "source": [
    "df_ntm.loc[lambda x: x[\"iso_alpha\"].isin([\"CHN\"])]['aff'].value_counts()"
   ]
  },
  {
   "cell_type": "code",
   "execution_count": null,
   "metadata": {
    "kernel": "SoS"
   },
   "outputs": [],
   "source": [
    "dvl_econ = [\n",
    "    'United States',\n",
    "    'European Union',\n",
    "    'Japan',\n",
    "    'South Korea',\n",
    "    'Canada',\n",
    "    'Australia',\n",
    "    'Switzerland',\n",
    "    'Germany',\n",
    "    'New Zealand',\n",
    "    'Netherlands',\n",
    "    'United Kingdom',\n",
    "    'Norway',\n",
    "    'Finland',\n",
    "    'France',\n",
    "    'Italy',\n",
    "    'Belgium',\n",
    "    'Israel',\n",
    "    'Sweden',\n",
    "    'Denmark',\n",
    "    'Austria'\n",
    "]\n",
    "\n",
    "df_country = (\n",
    "    df_ntm\n",
    "    .loc[lambda x: x[\"iso_alpha\"].isin([\"CHN\"])]\n",
    "    .loc[lambda x: x['aff'].isin(dvl_econ)]\n",
    "    .reindex(columns=[\"iso_alpha\", \"id\", \"year\", \"hs_combined\"])\n",
    "    .assign(hs6=lambda x: x[\"hs_combined\"].str.split(\"|\"))\n",
    "    .explode(\"hs6\")\n",
    "    .groupby([\"iso_alpha\", \"year\", \"hs6\"])\n",
    "    .agg({\"id\": \"nunique\"})\n",
    "    .rename(columns={\"id\": \"count\"})\n",
    "    .sort_values(by=[\"iso_alpha\", \"year\", \"hs6\"])\n",
    "    .assign(\n",
    "        stock_ntm=lambda x: x.groupby([\"iso_alpha\", \"hs6\"])[\"count\"].transform(\n",
    "            \"cumsum\"\n",
    "        ),\n",
    "        lag_count=lambda x: x.groupby([\"iso_alpha\", \"hs6\"])[\"count\"]\n",
    "        .transform(\"shift\")\n",
    "        .fillna(0),\n",
    "        lag_stock_ntm=lambda x: x.groupby([\"iso_alpha\", \"hs6\"])[\"lag_count\"]\n",
    "        .transform(\"cumsum\")\n",
    "        .fillna(0),\n",
    "        ntm=\"TRUE\",\n",
    "        lag_ntm=lambda x: x.groupby([\"iso_alpha\", \"hs6\"])[\"ntm\"]\n",
    "        .transform(\"shift\")\n",
    "        .fillna(\"FALSE\"),\n",
    "    )\n",
    "    .reset_index()\n",
    "    .rename(columns = \n",
    "                   {\n",
    "                       'count':'count_dvp_c',\n",
    "                       'stock_ntm':'stock_ntm_dvp_c',\n",
    "                       'lag_count':'lag_count_dvp_c',\n",
    "                       'lag_stock_ntm':'lag_stock_ntm_dvp_c',\n",
    "                       'ntm':'ntm_dvp_c',\n",
    "                       'lag_ntm':'lag_ntm_dvp_c',\n",
    "                   })\n",
    ")\n",
    "df_country.head(1)"
   ]
  },
  {
   "cell_type": "code",
   "execution_count": null,
   "metadata": {
    "kernel": "SoS"
   },
   "outputs": [],
   "source": [
    "#list_ntm_c[1]"
   ]
  },
  {
   "cell_type": "code",
   "execution_count": null,
   "metadata": {
    "kernel": "SoS"
   },
   "outputs": [],
   "source": [
    "list_env = [\n",
    "    \"Protection of the environment\",\n",
    "#\"Protection of the environment Quality requirements\",\n",
    "#\"Protection of the environment Safety\",\n",
    "#\"Protection of the environment Trade facilitation\"\n",
    "]\n",
    "\n",
    "df_ntm_env = (\n",
    "    df_ntm\n",
    "    .loc[lambda x: x[\"iso_alpha\"].isin([\"CHN\"])]\n",
    "    .loc[lambda x: x['keywords'].isin(list_env)]\n",
    "    .reindex(columns=[\"iso_alpha\", \"id\", \"year\", \"hs_combined\"])\n",
    "    .assign(hs6=lambda x: x[\"hs_combined\"].str.split(\"|\"))\n",
    "    .explode(\"hs6\")\n",
    "    .groupby([\"iso_alpha\", \"year\", \"hs6\"])\n",
    "    .agg({\"id\": \"nunique\"})\n",
    "    .rename(columns={\"id\": \"count\"})\n",
    "    .sort_values(by=[\"iso_alpha\", \"year\", \"hs6\"])\n",
    "    .assign(\n",
    "        stock_ntm=lambda x: x.groupby([\"iso_alpha\", \"hs6\"])[\"count\"].transform(\n",
    "            \"cumsum\"\n",
    "        ),\n",
    "        lag_count=lambda x: x.groupby([\"iso_alpha\", \"hs6\"])[\"count\"]\n",
    "        .transform(\"shift\")\n",
    "        .fillna(0),\n",
    "        lag_stock_ntm=lambda x: x.groupby([\"iso_alpha\", \"hs6\"])[\"lag_count\"]\n",
    "        .transform(\"cumsum\")\n",
    "        .fillna(0),\n",
    "        ntm=\"TRUE\",\n",
    "        lag_ntm=lambda x: x.groupby([\"iso_alpha\", \"hs6\"])[\"ntm\"]\n",
    "        .transform(\"shift\")\n",
    "        .fillna(\"FALSE\"),\n",
    "    )\n",
    "    .reset_index()\n",
    "    .rename(columns = \n",
    "                   {\n",
    "                       'count':'count_env',\n",
    "                       'stock_ntm':'stock_ntm_env',\n",
    "                       'lag_count':'lag_count_env',\n",
    "                       'lag_stock_ntm':'lag_stock_ntm_env',\n",
    "                       'ntm':'ntm_env',\n",
    "                       'lag_ntm':'lag_ntm_env',\n",
    "                   })\n",
    ")\n",
    "df_ntm_env['lag_ntm_env'].value_counts()"
   ]
  },
  {
   "cell_type": "code",
   "execution_count": null,
   "metadata": {
    "kernel": "SoS"
   },
   "outputs": [],
   "source": [
    "df.head(2)"
   ]
  },
  {
   "cell_type": "markdown",
   "metadata": {
    "kernel": "SoS"
   },
   "source": [
    "Compute frequency, coverage and prevalence ratio:\n",
    "\n",
    "- D is a dummy variable reflecting the presence of one or more NTMs\n",
    "- M indicates whether there are imports of good i (also a dummy variable)\n",
    "- V is the value of imports in product i.\n",
    "- N is the number of NTMs on product i\n",
    "\n",
    "To make things simpler, we create different queries"
   ]
  },
  {
   "cell_type": "code",
   "execution_count": null,
   "metadata": {
    "kernel": "SoS"
   },
   "outputs": [],
   "source": [
    "query = \"\"\"\n",
    "SELECT \n",
    "    t as year, \n",
    "    iso_3digit_alpha_d, \n",
    "    COUNT(DISTINCT(hs6)) as M\n",
    "  FROM \n",
    "    \"trade\".\"baci_2002_2020\" \n",
    "  WHERE \n",
    "    t IN (\n",
    "      '2002', '2003', '2004', '2005', '2006', \n",
    "      '2007', '2008', '2009', '2010', '2011'\n",
    "    ) \n",
    "  GROUP BY \n",
    "    t, \n",
    "    iso_3digit_alpha_d\n",
    "\"\"\"\n",
    "df_M = (s3.run_query(\n",
    "            query=query,\n",
    "            database=\"trade\",\n",
    "            s3_output='SQL_OUTPUT_ATHENA',\n",
    "            filename=filename,  # Add filename to print dataframe\n",
    "            destination_key='SQL_OUTPUT_ATHENA/CSV',  #Use it temporarily\n",
    "            dtype = dtypes\n",
    "        )\n",
    "        .dropna(subset = ['year', 'iso_3digit_alpha_d'])\n",
    "       )\n",
    "            "
   ]
  },
  {
   "cell_type": "code",
   "execution_count": null,
   "metadata": {
    "kernel": "SoS"
   },
   "outputs": [],
   "source": [
    "query = \"\"\"\n",
    "SELECT DISTINCT(hs6), t as year\n",
    "FROM baci_2002_2020\n",
    "WHERE \n",
    "    t IN (\n",
    "      '2002', '2003', '2004', '2005', '2006', \n",
    "      '2007', '2008', '2009', '2010', '2011'\n",
    "    ) \n",
    "GROUP BY t, hs6\n",
    "\"\"\"\n",
    "df_hs_baci = (s3.run_query(\n",
    "            query=query,\n",
    "            database=\"trade\",\n",
    "            s3_output='SQL_OUTPUT_ATHENA',\n",
    "            filename=filename,  # Add filename to print dataframe\n",
    "            destination_key='SQL_OUTPUT_ATHENA/CSV',  #Use it temporarily\n",
    "            dtype = dtypes\n",
    ")\n",
    "              .assign(\n",
    "              year = lambda x: x['year'].astype('Int64'),\n",
    "              hs6 = lambda x: x['hs6'].astype('Int64').astype(str).str.zfill(6),\n",
    "          )\n",
    "       )"
   ]
  },
  {
   "cell_type": "code",
   "execution_count": null,
   "metadata": {
    "kernel": "SoS"
   },
   "outputs": [],
   "source": [
    "df_hs_baci.groupby(['year'])['hs6'].nunique()"
   ]
  },
  {
   "cell_type": "code",
   "execution_count": null,
   "metadata": {
    "kernel": "SoS"
   },
   "outputs": [],
   "source": [
    "df_hs_baci.shape"
   ]
  },
  {
   "cell_type": "code",
   "execution_count": null,
   "metadata": {
    "kernel": "SoS"
   },
   "outputs": [],
   "source": [
    "query = \"\"\"\n",
    "SELECT \n",
    "    t as year, \n",
    "    iso_3digit_alpha_d, \n",
    "    hs6,\n",
    "    SUM(v) as v\n",
    "  FROM \n",
    "    \"trade\".\"baci_2002_2020\" \n",
    "  WHERE \n",
    "    t IN (\n",
    "      '2002', '2003', '2004', '2005', '2006', \n",
    "      '2007', '2008', '2009', '2010', '2011'\n",
    "    ) \n",
    "  GROUP BY \n",
    "    t, \n",
    "    iso_3digit_alpha_d,\n",
    "    hs6\n",
    "\"\"\"\n",
    "df_hs_baci_v = (s3.run_query(\n",
    "            query=query,\n",
    "            database=\"trade\",\n",
    "            s3_output='SQL_OUTPUT_ATHENA',\n",
    "            filename=filename,  # Add filename to print dataframe\n",
    "            destination_key='SQL_OUTPUT_ATHENA/CSV',  #Use it temporarily\n",
    "            dtype = dtypes\n",
    ")\n",
    "              .assign(\n",
    "              year = lambda x: x['year'].astype('Int64'),\n",
    "              hs6 = lambda x: x['hs6'].astype('Int64').astype(str).str.zfill(6),\n",
    "          )\n",
    "       )"
   ]
  },
  {
   "cell_type": "code",
   "execution_count": null,
   "metadata": {
    "kernel": "SoS"
   },
   "outputs": [],
   "source": [
    "df_hs_baci_v.head()"
   ]
  },
  {
   "cell_type": "code",
   "execution_count": null,
   "metadata": {
    "kernel": "SoS"
   },
   "outputs": [],
   "source": [
    "query = \"\"\"\n",
    " WITH test as ( \n",
    " SELECT \n",
    "                year_initiation as year, \n",
    "                imp_iso3 as iso_3digit_alpha_d, \n",
    "                split(hs_combined, '|') as hs_combined \n",
    "              FROM \n",
    "                wto_wiiw_ntm\n",
    "            )\n",
    "           SELECT \n",
    "              year, \n",
    "              iso_3digit_alpha_d, \n",
    "              hs6\n",
    "            FROM \n",
    "              test CROSS \n",
    "              JOIN UNNEST(hs_combined) AS t (hs6)           \n",
    "\"\"\"\n",
    "df_DM = (s3.run_query(\n",
    "            query=query,\n",
    "            database=\"trade\",\n",
    "            s3_output='SQL_OUTPUT_ATHENA',\n",
    "            filename=filename,  # Add filename to print dataframe\n",
    "            destination_key='SQL_OUTPUT_ATHENA/CSV',  #Use it temporarily\n",
    "            dtype = dtypes\n",
    "        )\n",
    "          .dropna(subset = ['year', 'iso_3digit_alpha_d','hs6'])\n",
    "          .assign(\n",
    "              year = lambda x: x['year'].astype('Int64'),\n",
    "              hs6 = lambda x: x['hs6'].astype('Int64').astype(str).str.zfill(6),\n",
    "          )\n",
    "          #.groupby(['year', 'iso_3digit_alpha_d'])\n",
    "          #.agg({'hs6':'nunique'})\n",
    "          #.reset_index()\n",
    "          #.rename(columns = {'hs6':'DM'})\n",
    "       )"
   ]
  },
  {
   "cell_type": "code",
   "execution_count": null,
   "metadata": {
    "kernel": "SoS"
   },
   "outputs": [],
   "source": [
    "query = \"\"\"\n",
    "WITH test as ( \n",
    " SELECT \n",
    "                id,\n",
    "                year_initiation as year, \n",
    "                imp_iso3 as iso_3digit_alpha_d, \n",
    "                split(hs_combined, '|') as hs_combined \n",
    "              FROM \n",
    "                wto_wiiw_ntm\n",
    "            )\n",
    "           SELECT \n",
    "              year, \n",
    "              iso_3digit_alpha_d, \n",
    "              hs6,\n",
    "              COUNT(id) as NM\n",
    "            FROM \n",
    "              test CROSS \n",
    "              JOIN UNNEST(hs_combined) AS t (hs6)  \n",
    "            GROUP BY \n",
    "            year, \n",
    "              iso_3digit_alpha_d, \n",
    "              hs6\n",
    "\"\"\"\n",
    "df_DN = (s3.run_query(\n",
    "            query=query,\n",
    "            database=\"trade\",\n",
    "            s3_output='SQL_OUTPUT_ATHENA',\n",
    "            filename=filename,  # Add filename to print dataframe\n",
    "            destination_key='SQL_OUTPUT_ATHENA/CSV',  #Use it temporarily\n",
    "            dtype = dtypes\n",
    "        )\n",
    "          .dropna(subset = ['year', 'iso_3digit_alpha_d','hs6'])\n",
    "          .assign(\n",
    "              year = lambda x: x['year'].astype('Int64'),\n",
    "              hs6 = lambda x: x['hs6'].astype('Int64').astype(str).str.zfill(6),\n",
    "          )\n",
    "          #.groupby(['year', 'iso_3digit_alpha_d'])\n",
    "          #.agg({'hs6':'nunique'})\n",
    "          #.reset_index()\n",
    "          #.rename(columns = {'hs6':'DM'})\n",
    "       )"
   ]
  },
  {
   "cell_type": "code",
   "execution_count": null,
   "metadata": {
    "kernel": "SoS"
   },
   "outputs": [],
   "source": [
    "df_DN"
   ]
  },
  {
   "cell_type": "code",
   "execution_count": null,
   "metadata": {
    "kernel": "SoS"
   },
   "outputs": [],
   "source": [
    "df_freq = (\n",
    "    df_M.merge(\n",
    "        (\n",
    "            df_DM.loc[\n",
    "                lambda x: x[\"year\"].isin(\n",
    "                    [2002, 2003, 2004, 2005, 2006, 2007, 2008, 2009, 2010, 2011]\n",
    "                )\n",
    "            ]\n",
    "            .merge(df_hs_baci)\n",
    "            .groupby([\"year\", \"iso_3digit_alpha_d\"])\n",
    "            .agg({\"hs6\": \"nunique\"})\n",
    "            .rename(columns={\"hs6\": \"DM\"})\n",
    "            .reset_index()\n",
    "        ),\n",
    "        how=\"left\",\n",
    "    ).fillna(0)\n",
    "    .assign(\n",
    "    frequency = lambda x: x['DM'] / x['M']\n",
    "    )\n",
    "    .set_index(['year', 'iso_3digit_alpha_d'])\n",
    "    .assign(\n",
    "    frequency = lambda x: x['frequency'].clip(upper=1)\n",
    "    )\n",
    "    .reset_index()\n",
    "    .rename(columns={\"iso_3digit_alpha_d\": \"iso_alpha\"})\n",
    "    .sort_values(by=[\"iso_alpha\", \"year\"])\n",
    "            .assign(\n",
    "                lag_frequency=lambda x: x.groupby([\"iso_alpha\"])[\"frequency\"].transform(\n",
    "                    \"shift\"\n",
    "                ),\n",
    "            )\n",
    ")"
   ]
  },
  {
   "cell_type": "code",
   "execution_count": null,
   "metadata": {
    "kernel": "SoS"
   },
   "outputs": [],
   "source": [
    "df_prev = (\n",
    "    df_M.merge(\n",
    "        (\n",
    "            df_DN.loc[\n",
    "                lambda x: x[\"year\"].isin(\n",
    "                    [2002, 2003, 2004, 2005, 2006, 2007, 2008, 2009, 2010, 2011]\n",
    "                )\n",
    "            ]\n",
    "            .merge(df_hs_baci)\n",
    "            .groupby([\"year\", \"iso_3digit_alpha_d\"])\n",
    "            .agg({\"NM\": \"sum\"})\n",
    "            #.rename(columns={\"hs6\": \"DN\"})\n",
    "            .reset_index()\n",
    "        ),\n",
    "        how=\"left\",\n",
    "    ).fillna(0)\n",
    "    .assign(\n",
    "    prevalence = lambda x: x['NM'] / x['M']\n",
    "    )\n",
    "    .rename(columns={\"iso_3digit_alpha_d\": \"iso_alpha\"})\n",
    "    .sort_values(by=[\"iso_alpha\", \"year\"])\n",
    "            .assign(\n",
    "                lag_prevalence=lambda x: x.groupby([\"iso_alpha\"])[\"prevalence\"].transform(\n",
    "                    \"shift\"\n",
    "                ),\n",
    "            )\n",
    ")"
   ]
  },
  {
   "cell_type": "code",
   "execution_count": null,
   "metadata": {
    "kernel": "SoS"
   },
   "outputs": [],
   "source": [
    "df_hs_baci_v.shape"
   ]
  },
  {
   "cell_type": "code",
   "execution_count": null,
   "metadata": {
    "kernel": "SoS"
   },
   "outputs": [],
   "source": [
    "df_cov = (\n",
    "    df_hs_baci_v.merge(\n",
    "        (\n",
    "            df_DM.loc[\n",
    "                lambda x: x[\"year\"].isin(\n",
    "                    [2002, 2003, 2004, 2005, 2006, 2007, 2008, 2009, 2010, 2011]\n",
    "                )\n",
    "            ]\n",
    "            .merge(df_hs_baci)\n",
    "            .drop_duplicates()\n",
    "        ),\n",
    "        how=\"left\", indicator = True\n",
    "    )\n",
    "    .loc[lambda x: x['_merge'].isin(['left_only','both'])]\n",
    "    .groupby([\"year\",\"iso_3digit_alpha_d\",'_merge'])\n",
    "    .agg({'v':'sum'})\n",
    "    .fillna(0)\n",
    "    .unstack(-1)\n",
    "    .collapse_levels(sep='_')\n",
    "    .assign(coverage = lambda x: x['v_both']/ (x['v_left_only'] + x['v_both']))\n",
    "    .drop(columns = ['v_right_only'])\n",
    "    .reset_index()\n",
    "    .rename(columns={\"iso_3digit_alpha_d\": \"iso_alpha\"})\n",
    "    .sort_values(by=[\"iso_alpha\", \"year\"])\n",
    "            .assign(\n",
    "                lag_coverage=lambda x: x.groupby([\"iso_alpha\"])[\"coverage\"].transform(\n",
    "                    \"shift\"\n",
    "                ),\n",
    "            )\n",
    ")"
   ]
  },
  {
   "cell_type": "code",
   "execution_count": null,
   "metadata": {
    "kernel": "SoS"
   },
   "outputs": [],
   "source": [
    "df.dtypes"
   ]
  },
  {
   "cell_type": "markdown",
   "metadata": {
    "kernel": "SoS"
   },
   "source": [
    "### NTM Chinese city"
   ]
  },
  {
   "cell_type": "code",
   "execution_count": null,
   "metadata": {
    "kernel": "SoS"
   },
   "outputs": [],
   "source": [
    "query = \"\"\"\n",
    "SELECT \n",
    "year,\n",
    "geocode4_corr,\n",
    "--regime,\n",
    "hs6,\n",
    "SUM(value) as V\n",
    "FROM (\n",
    "SELECT \n",
    "    date as year, \n",
    "    geocode4_corr,\n",
    "    origin_and_destination, \n",
    "    CASE WHEN trade_type = '进料加工贸易' \n",
    "    OR trade_type = '一般贸易' THEN 'ELIGIBLE' ELSE 'NOT_ELIGIBLE' END as regime, \n",
    "    hs as hs6,\n",
    "    value\n",
    "  FROM \n",
    "    \"chinese_trade\".\"china_import_export\" \n",
    "INNER JOIN (\n",
    "        SELECT \n",
    "          DISTINCT(citycn) as citycn, \n",
    "          geocode4_corr \n",
    "        FROM \n",
    "          chinese_lookup.china_city_code_normalised\n",
    "      ) AS city_cn_en ON city_cn_en.citycn = china_import_export.city_prod    \n",
    "  WHERE \n",
    "    date in (\n",
    "      '2002', '2003', '2004', '2005', '2006', \n",
    "      '2007', '2008', '2009', '2010'\n",
    "    ) \n",
    "    AND imp_exp = '进口' \n",
    "    AND (\n",
    "      trade_type = '进料加工贸易' \n",
    "      OR trade_type = '一般贸易' \n",
    "      OR trade_type = '来料加工装配贸易' \n",
    "      OR trade_type = '加工贸易'\n",
    "    ) \n",
    "    AND intermediate = 'No' \n",
    "    AND (\n",
    "      business_type = '国有企业' \n",
    "      OR business_type = '私营企业' \n",
    "      OR business_type = '集体企业' \n",
    "      OR business_type = '国有' \n",
    "      OR business_type = '私营' \n",
    "      OR business_type = '集体'\n",
    "    ) \n",
    "    AND quantity > 0 \n",
    "    AND value > 0\n",
    "      )\n",
    "      GROUP BY year,\n",
    "geocode4_corr,\n",
    "--regime,\n",
    "hs6\n",
    "\"\"\"\n",
    "df_VC = (s3.run_query(\n",
    "            query=query,\n",
    "            database=\"chinese_trade\",\n",
    "            s3_output='SQL_OUTPUT_ATHENA',\n",
    "            filename=filename,  # Add filename to print dataframe\n",
    "            destination_key='SQL_OUTPUT_ATHENA/CSV',  #Use it temporarily\n",
    "            dtype = dtypes\n",
    "        )\n",
    "    .assign(\n",
    "              year = lambda x: x['year'].astype('Int64'),\n",
    "              hs6 = lambda x: x['hs6'].astype('Int64').astype(str).str.zfill(6),\n",
    "          )\n",
    "        )"
   ]
  },
  {
   "cell_type": "markdown",
   "metadata": {
    "kernel": "SoS"
   },
   "source": [
    "- count_ntm_china:  Number of new policy per year\n",
    "- stock_ntm_china:  Number of active policy \n",
    "- new_ntm_china: Equal to 1 if a new policy is added\n",
    "- active_ntm_china: Equal to 1 if the policy is active"
   ]
  },
  {
   "cell_type": "code",
   "execution_count": null,
   "metadata": {
    "kernel": "SoS"
   },
   "outputs": [],
   "source": [
    "from transformers import pipeline\n",
    "classifier = pipeline(\"zero-shot-classification\",\n",
    "                      model=\"facebook/bart-large-mnli\")"
   ]
  },
  {
   "cell_type": "code",
   "execution_count": null,
   "metadata": {
    "kernel": "SoS"
   },
   "outputs": [],
   "source": [
    "def compute_score(source, candidate_labels):\n",
    "    return classifier(source, candidate_labels, multi_label=True)"
   ]
  },
  {
   "cell_type": "code",
   "execution_count": null,
   "metadata": {
    "kernel": "SoS"
   },
   "outputs": [],
   "source": [
    "(\n",
    "    df_ntm\n",
    "    .loc[lambda x: x['iso_alpha'].isin(['CHN'])]\n",
    "    ['ntm'].value_counts()\n",
    ")"
   ]
  },
  {
   "cell_type": "code",
   "execution_count": null,
   "metadata": {
    "kernel": "SoS"
   },
   "outputs": [],
   "source": [
    "(\n",
    "    df_ntm\n",
    "    .loc[lambda x: x['iso_alpha'].isin(['CHN'])]\n",
    "    .loc[lambda x: x['ntm'].isin([\n",
    "        #'TBT',\n",
    "        #'SPS',\n",
    "        'ADP'\n",
    "    ])]\n",
    "    #['keywords'].value_counts()\n",
    "    #.reset_index()\n",
    "    #.to_excel('test.xlsx')\n",
    ")"
   ]
  },
  {
   "cell_type": "code",
   "execution_count": null,
   "metadata": {
    "kernel": "SoS"
   },
   "outputs": [],
   "source": [
    "(\n",
    "    df_ntm\n",
    "    .loc[lambda x: x['iso_alpha'].isin(['CHN'])]\n",
    "    .loc[lambda x: x['ntm'].isin([\n",
    "        'TBT',\n",
    "        'SPS',\n",
    "        #'ADP'\n",
    "    ])]\n",
    "    ['keywords'].value_counts()\n",
    "    .reset_index()\n",
    ")"
   ]
  },
  {
   "cell_type": "code",
   "execution_count": null,
   "metadata": {
    "kernel": "SoS"
   },
   "outputs": [],
   "source": [
    "from tqdm.notebook import tqdm\n",
    "import json\n",
    "keywords = (\n",
    "    df_ntm\n",
    "    .loc[lambda x: x['iso_alpha'].isin(['CHN'])]\n",
    "    .loc[lambda x: x['ntm'].isin([\n",
    "        'TBT',\n",
    "        'SPS',\n",
    "        #'ADP'\n",
    "    ])]\n",
    "    ['keywords'].value_counts()\n",
    "    .reset_index()\n",
    ")\n",
    "list_keywords = []\n",
    "for i in tqdm(range(0,keywords.shape[0])):\n",
    "    score = compute_score(keywords.loc[i]['index'], ['animal','food', 'safety'])\n",
    "    list_keywords.append(score)\n",
    "    with open('TEMP/sentence_{}.json'.format(i), 'w') as outfile:\n",
    "        json.dump(score, outfile)"
   ]
  },
  {
   "cell_type": "code",
   "execution_count": null,
   "metadata": {
    "kernel": "SoS"
   },
   "outputs": [],
   "source": [
    "to_exclude = list(\n",
    "    pd.DataFrame(list_keywords)\n",
    "    .assign(\n",
    "    max_proba = lambda x: x['scores'].apply(max),\n",
    "        to_remove = lambda x: x['max_proba'] >.5\n",
    "    )\n",
    "    .loc[lambda x: x['to_remove'].isin([True])]\n",
    "    ['sequence'].unique()\n",
    ")\n",
    "len(to_exclude)"
   ]
  },
  {
   "cell_type": "code",
   "execution_count": null,
   "metadata": {
    "kernel": "SoS"
   },
   "outputs": [],
   "source": [
    "df_ntm_c = (\n",
    "    df_ntm\n",
    "    .loc[lambda x: x['iso_alpha'].isin(['CHN'])]\n",
    "    .loc[lambda x: x['ntm'].isin([\n",
    "        #'TBT',\n",
    "        #'SPS',\n",
    "        'ADP'\n",
    "    ])]\n",
    "    #.loc[lambda x: ~x['keywords'].isin(to_exclude)]\n",
    "    .reindex(columns=[\"iso_alpha\", \"id\", \"year\", \"hs_combined\"])\n",
    "    .dropna(subset = ['year'])\n",
    "    .assign(hs6=lambda x: x[\"hs_combined\"].str.split(\"|\"))\n",
    "    .explode(\"hs6\")\n",
    "    .groupby([\"iso_alpha\", \"year\", \"hs6\"])\n",
    "    .agg({\"id\": \"nunique\"})\n",
    "    .rename(columns={\"id\": \"count\"})\n",
    "    .sort_values(by=[\"iso_alpha\", \"year\", \"hs6\"])\n",
    "    .reset_index()\n",
    "    \n",
    "    .pivot_table(\n",
    "        values=\"count\",\n",
    "        index=[\"hs6\"],\n",
    "        columns=\"year\",\n",
    "        aggfunc=\"sum\",\n",
    "        fill_value=0,\n",
    "    )\n",
    "    .stack()\n",
    "    .reset_index()\n",
    "    .rename(columns={0: \"count_ntm_china\"})\n",
    "    .assign(\n",
    "        stock_ntm_china=lambda x: x.groupby([\"hs6\"])[\n",
    "            \"count_ntm_china\"\n",
    "        ].transform(\"cumsum\"),\n",
    "        new_ntm_china=lambda x: np.where(x[\"count_ntm_china\"] > 0, 1, 0),\n",
    "        active_ntm_china=lambda x: np.where(x[\"stock_ntm_china\"] > 0, 1, 0),\n",
    "    )\n",
    "    #.loc[lambda x: x['hs6'].isin(['400270'])]\n",
    "\n",
    ")\n",
    "df_ntm_c[[\"count_ntm_china\",'stock_ntm_china','new_ntm_china','active_ntm_china']].describe()"
   ]
  },
  {
   "cell_type": "code",
   "execution_count": null,
   "metadata": {
    "kernel": "SoS"
   },
   "outputs": [],
   "source": [
    "df_ntm_c.loc[lambda x: x['hs6'].isin(['400270'])]"
   ]
  },
  {
   "cell_type": "markdown",
   "metadata": {
    "kernel": "SoS"
   },
   "source": [
    "Frequency"
   ]
  },
  {
   "cell_type": "code",
   "execution_count": null,
   "metadata": {
    "kernel": "SoS"
   },
   "outputs": [],
   "source": [
    "# 656185\n",
    "df_VC_NTM_C = (\n",
    "    df_VC\n",
    "    .merge(df_ntm_c, how = 'left', indicator = True)\n",
    ")\n",
    "df_VC_NTM_C['_merge'].value_counts()"
   ]
  },
  {
   "cell_type": "code",
   "execution_count": null,
   "metadata": {
    "kernel": "SoS"
   },
   "outputs": [],
   "source": [
    "df_VC_NTM_C.head()"
   ]
  },
  {
   "cell_type": "code",
   "execution_count": null,
   "metadata": {
    "kernel": "SoS"
   },
   "outputs": [],
   "source": [
    "df_freq_c = (\n",
    "    df_VC_NTM_C.set_index([\n",
    "        \"year\",\n",
    "        \"geocode4_corr\",\n",
    "        \"hs6\",\n",
    "        \"_merge\",\n",
    "        #\"regime\"\n",
    "    ])\n",
    "    .fillna(0)\n",
    "    .groupby([\n",
    "        \"year\",\n",
    "        \"geocode4_corr\",\n",
    "        #\"regime\"\n",
    "    ])\n",
    "    .agg({\"active_ntm_china\": \"sum\"})\n",
    "    .rename(columns = {'active_ntm_china':'DM_C'})\n",
    "    .merge(\n",
    "        (df_VC_NTM_C.groupby([\"year\", \"geocode4_corr\"]).agg({\"hs6\": \"nunique\"}).rename(columns = {'hs6':'M_C'})),\n",
    "        left_index=True,\n",
    "        right_index=True,\n",
    "        how=\"right\",\n",
    "    )\n",
    "    .assign(\n",
    "    F_C = lambda x: x['DM_C']/x['M_C'],\n",
    "    )\n",
    "    .reset_index()\n",
    "    .sort_values(by = [\n",
    "        'geocode4_corr',\n",
    "        'year',\n",
    "        #\"regime\"\n",
    "    ])\n",
    "    .assign(\n",
    "        lag_DM_C=lambda x: x.groupby([\"geocode4_corr\", \n",
    "                                      #\"regime\"\n",
    "                                     ])[\"DM_C\"].transform(\n",
    "           \"shift\"\n",
    "        ),\n",
    "    lag_F_C=lambda x: x.groupby([\"geocode4_corr\", \n",
    "                                      #\"regime\"\n",
    "                                     ])[\"F_C\"].transform(\n",
    "           \"shift\"\n",
    "        )\n",
    "    )\n",
    ")\n",
    "#df_freq_c.head(6)\n",
    "df_freq_c[[\"DM_C\",\"M_C\",\"F_C\",'lag_DM_C',\"lag_F_C\"]].describe(percentiles = np.arange(0,1, .05))\n"
   ]
  },
  {
   "cell_type": "markdown",
   "metadata": {
    "kernel": "SoS"
   },
   "source": [
    "coverage"
   ]
  },
  {
   "cell_type": "code",
   "execution_count": null,
   "metadata": {
    "kernel": "SoS"
   },
   "outputs": [],
   "source": [
    "df_cov_c = (\n",
    "    df_VC_NTM_C.set_index([\n",
    "        \"year\",\n",
    "        \"geocode4_corr\",\n",
    "        \"hs6\",\n",
    "        \"_merge\",\n",
    "        #\"regime\"\n",
    "    ])\n",
    "    .fillna(0)\n",
    "    .loc[lambda x: x['active_ntm_china'] > 0]\n",
    "    .groupby([\n",
    "        \"year\",\n",
    "        \"geocode4_corr\",\n",
    "        #\"regime\"\n",
    "    ])\n",
    "    .agg({\"V\": \"sum\"})\n",
    "    .rename(columns = {'V':'DV_C'})\n",
    "    .merge(\n",
    "    (df_VC_NTM_C.groupby([\"year\", \"geocode4_corr\"]).agg({\"V\": \"sum\"}).rename(columns = {'V':'V_C'})),\n",
    "    left_index= True,right_index = True, how = 'right')\n",
    "    .assign(\n",
    "    DV_C = lambda x: x['DV_C'].fillna(0),    \n",
    "    C_C = lambda x: x['DV_C']/x['V_C'],\n",
    "    )\n",
    "    .reset_index()\n",
    "    .sort_values(by = [\n",
    "        'geocode4_corr',\n",
    "        'year',\n",
    "        #\"regime\"\n",
    "    ])\n",
    "    .assign(\n",
    "        lag_DV_C=lambda x: x.groupby([\"geocode4_corr\", \n",
    "                                     #\"regime\"\n",
    "                                     ])[\"DV_C\"].transform(\n",
    "            \"shift\"\n",
    "        ),\n",
    "    lag_C_C=lambda x: x.groupby([\"geocode4_corr\", \n",
    "                                      #\"regime\"\n",
    "                                     ])[\"C_C\"].transform(\n",
    "            \"shift\"\n",
    "        )\n",
    "    )\n",
    ")\n",
    "df_cov_c[[\"DV_C\",\"V_C\",\"C_C\",\"lag_DV_C\",\"lag_C_C\"]].describe(percentiles = np.arange(0,1, .05))"
   ]
  },
  {
   "cell_type": "code",
   "execution_count": null,
   "metadata": {
    "kernel": "SoS"
   },
   "outputs": [],
   "source": [
    "df_prev_c = (\n",
    "    df_VC_NTM_C.set_index([\n",
    "        \"year\",\n",
    "        \"geocode4_corr\",\n",
    "        \"hs6\",\n",
    "        \"_merge\",\n",
    "    #\"regime\"\n",
    "    ])\n",
    "    .fillna(0)\n",
    "    .groupby([\n",
    "        \"year\",\n",
    "        \"geocode4_corr\",\n",
    "        #\"regime\"\n",
    "    ])\n",
    "    .agg({\"stock_ntm_china\": \"sum\"})\n",
    "    .rename(columns = {'stock_ntm_china':'NM_C'})\n",
    "    .merge(\n",
    "        (df_VC_NTM_C.groupby([\"year\", \"geocode4_corr\"]).agg({\"hs6\": \"nunique\"}).rename(columns = {'hs6':'M_C'})),\n",
    "        left_index=True,\n",
    "        right_index=True,\n",
    "        how=\"right\",\n",
    "    )\n",
    "    .assign(\n",
    "    P_C = lambda x: x['NM_C']/x['M_C'],\n",
    "    )\n",
    "    .reset_index()\n",
    "    .sort_values(by = [\n",
    "        'geocode4_corr',\n",
    "        'year',\n",
    "        #\"regime\"\n",
    "    ])\n",
    "    .assign(\n",
    "    lag_P_C=lambda x: x.groupby([\"geocode4_corr\", \n",
    "                                      #\"regime\"\n",
    "                                     ])[\"P_C\"].transform(\n",
    "            \"shift\"\n",
    "        )\n",
    "    )\n",
    ")\n",
    "df_prev_c[[\"NM_C\",\"M_C\",\"P_C\",\"lag_P_C\"]].describe(percentiles = np.arange(0,1, .05))"
   ]
  },
  {
   "cell_type": "code",
   "execution_count": null,
   "metadata": {
    "kernel": "SoS"
   },
   "outputs": [],
   "source": [
    "df_prev_c.loc[lambda x: x['geocode4_corr'].isin(['1307'])]"
   ]
  },
  {
   "cell_type": "markdown",
   "metadata": {
    "kernel": "SoS"
   },
   "source": [
    "### Merge all NTM"
   ]
  },
  {
   "cell_type": "code",
   "execution_count": null,
   "metadata": {
    "kernel": "SoS"
   },
   "outputs": [],
   "source": [
    "#df_ntm_country.loc[lambda x: x[\"iso_3digit_alpha_d\"].isin([\"CHN\"])].groupby(['year','iso_3digit_alpha_d'])['frequency'].describe()"
   ]
  },
  {
   "cell_type": "code",
   "execution_count": null,
   "metadata": {
    "kernel": "SoS"
   },
   "outputs": [],
   "source": [
    "df_final = (\n",
    "    df.drop(columns=[\"year.1\", \"hs6.1\", \"geocode4_corr.1\", \"country_en.1\"])\n",
    "    .assign(hs6=lambda x: x[\"hs6\"].astype(str).str.zfill(6))\n",
    "    .merge(df_ntm_world, on=[\"iso_alpha\", \"year\", \"hs6\"], how=\"left\")\n",
    "    .merge(df_ntm_china.drop(columns=[\"iso_alpha\"]), on=[\"year\", \"hs6\"], how=\"left\")\n",
    "    .merge(df_ntm_env.drop(columns=[\"iso_alpha\"]), on=[\"year\", \"hs6\"], how=\"left\")\n",
    "    .merge(list_ntm[0].drop(columns=[\"iso_alpha\"]), on=[\"year\", \"hs6\"], how=\"left\")\n",
    "    .merge(list_ntm[1].drop(columns=[\"iso_alpha\"]), on=[\"year\", \"hs6\"], how=\"left\")\n",
    "    .merge(list_ntm[2].drop(columns=[\"iso_alpha\"]), on=[\"year\", \"hs6\"], how=\"left\")\n",
    "    .merge(df_country.drop(columns=[\"iso_alpha\"]), on=[\"year\", \"hs6\"], how=\"left\")\n",
    "    .merge(\n",
    "        df_freq,\n",
    "        on=[\"year\", \"iso_alpha\"],\n",
    "        how=\"left\",\n",
    "    )\n",
    "    .merge(\n",
    "        df_prev.drop(columns = ['M']),\n",
    "        on=[\"year\", \"iso_alpha\"],\n",
    "        how=\"left\",\n",
    "    )\n",
    "    .merge(\n",
    "        df_cov,\n",
    "        on=[\"year\", \"iso_alpha\"],\n",
    "        how=\"left\",\n",
    "    )\n",
    "    .merge(\n",
    "        df_freq_c.reindex(columns = [\n",
    "            \"geocode4_corr\",\n",
    "            \"year\",\n",
    "            #'regime',\n",
    "            \"DM_C\",\n",
    "            \"F_C\",\n",
    "            \"lag_DM_C\",\n",
    "            \"lag_F_C\"\n",
    "                                    ]),\n",
    "        on=[\"year\", \"geocode4_corr\",\n",
    "            #'regime'\n",
    "           ],\n",
    "        how=\"left\",\n",
    "    )\n",
    "    .merge(\n",
    "        df_cov_c.reindex(columns = [\n",
    "            \"geocode4_corr\",\n",
    "            \"year\",\n",
    "            #'regime',\n",
    "            \"DV_C\",\n",
    "            \"V_C\",\n",
    "            \"C_C\",\n",
    "            \"lag_DV_C\",\n",
    "            \"lag_C_C\"\n",
    "                                   ]),\n",
    "        on=[\"year\", \"geocode4_corr\",\n",
    "            #'regime'\n",
    "           ],\n",
    "        how=\"left\",\n",
    "    )\n",
    "    .merge(\n",
    "        df_prev_c.reindex(columns = [\n",
    "            \"geocode4_corr\",\n",
    "            \"year\",\n",
    "            #'regime',\n",
    "            \"NM_C\",\n",
    "            \"P_C\",\n",
    "            \"lag_P_C\"\n",
    "        ]),\n",
    "        on=[\"year\", \"geocode4_corr\",\n",
    "            #'regime'\n",
    "           ],\n",
    "        how=\"left\",\n",
    "    )\n",
    "    .assign(\n",
    "        frequency=lambda x: x[\"frequency\"].fillna(0),\n",
    "        lag_frequency=lambda x: x[\"lag_frequency\"].fillna(0),\n",
    "        coverage=lambda x: x[\"coverage\"].fillna(0),\n",
    "        lag_coverage=lambda x: x[\"lag_coverage\"].fillna(0),\n",
    "        prevalence=lambda x: x[\"prevalence\"].fillna(0),\n",
    "        lag_prevalence=lambda x: x[\"lag_prevalence\"].fillna(0),\n",
    "    )\n",
    ")\n",
    "df_final = df_final.assign(\n",
    "    **{\n",
    "        \"{}\".format(i): df_final[i].fillna(0)\n",
    "        for i in [\n",
    "            \"count\",\n",
    "            \"stock_ntm\",\n",
    "            \"lag_count\",\n",
    "            \"lag_stock_ntm\",\n",
    "            \"count_china\",\n",
    "            \"stock_ntm_china\",\n",
    "            \"lag_count_china\",\n",
    "            \"lag_stock_ntm_china\",\n",
    "            \"count_env\",\n",
    "            \"stock_ntm_env\",\n",
    "            \"lag_count_env\",\n",
    "            \"lag_stock_ntm_env\",\n",
    "            \"count_TBT\",\n",
    "            \"stock_ntm_TBT\",\n",
    "            \"lag_count_TBT\",\n",
    "            \"lag_stock_ntm_TBT\",\n",
    "            \"count_SPS\",\n",
    "            \"stock_ntm_SPS\",\n",
    "            \"lag_count_SPS\",\n",
    "            \"lag_stock_ntm_SPS\",\n",
    "            \"count_ADP\",\n",
    "            \"stock_ntm_ADP\",\n",
    "            \"lag_count_ADP\",\n",
    "            \"lag_stock_ntm_ADP\",\n",
    "            \"count_dvp_c\",\n",
    "            \"stock_ntm_dvp_c\",\n",
    "            \"lag_count_dvp_c\",\n",
    "            \"lag_stock_ntm_dvp_c\",\n",
    "            \"DM_C\",\n",
    "            \"F_C\",\n",
    "            \"lag_DM_C\",\n",
    "            \"lag_F_C\",\n",
    "            \"DV_C\",\n",
    "            \"V_C\",\n",
    "            \"C_C\",\n",
    "            \"lag_DV_C\",\n",
    "            \"lag_C_C\",\n",
    "            \"NM_C\",\n",
    "            \"P_C\",\n",
    "            \"lag_P_C\"\n",
    "        ]\n",
    "    },\n",
    "    **{\n",
    "        \"{}\".format(i): df_final[i].fillna(\"FALSE\")\n",
    "        for i in [\n",
    "            \"ntm\",\n",
    "            \"lag_ntm\",\n",
    "            \"ntm_china\",\n",
    "            \"lag_ntm_china\",\n",
    "            \"ntm_env\",\n",
    "            \"lag_ntm_env\",\n",
    "            \"ntm_TBT\",\n",
    "            \"lag_ntm_TBT\",\n",
    "            \"ntm_SPS\",\n",
    "            \"lag_ntm_SPS\",\n",
    "            \"ntm_ADP\",\n",
    "            \"lag_ntm_ADP\",\n",
    "            \"ntm_dvp_c\",\n",
    "            \"lag_ntm_dvp_c\",\n",
    "        ]\n",
    "    },\n",
    ")\n",
    "df_final.head(1)"
   ]
  },
  {
   "cell_type": "markdown",
   "metadata": {
    "kernel": "SoS",
    "lines_to_next_cell": 0
   },
   "source": [
    "## Quality variable: different sigma\n",
    "\n",
    "- Use different values of sigma:\n",
    "    -  Set sigma to the elasticity as 5 and 10\n",
    "        - [Credit Constraints, Quality, and Export Prices: Theory and Evidence from China](https://drive.google.com/file/d/1FnIIq2kwWdcIgg6jm-ydIvzj9f-UApYR/view?usp=sharing)\n",
    "        - [Credit constraints, quality, and export prices: Theory and evidence from China](https://drive.google.com/file/d/1FnIIq2kwWdcIgg6jm-ydIvzj9f-UApYR/view?usp=sharing)\n",
    "        \n",
    "-> code from [01_preparation_quality](https://github.com/thomaspernet/VAT_rebate_quality_china/blob/master/01_data_preprocessing/02_transform_tables/01_preparation_quality.md#steps)"
   ]
  },
  {
   "cell_type": "code",
   "execution_count": null,
   "metadata": {
    "kernel": "SoS"
   },
   "outputs": [],
   "source": [
    "query = \"\"\"\n",
    "SELECT geocode4_corr,country_en,year,regime,hs6,iso_alpha,unit_price,quantity\n",
    "FROM chinese_trade.china_export_tariff_tax\n",
    "\"\"\".format(db, table)\n",
    "df_vat = (\n",
    "    s3.run_query(\n",
    "    query=query,\n",
    "    database=\"chinese_trade\",\n",
    "    s3_output=\"SQL_OUTPUT_ATHENA\",\n",
    "    filename=\"trade_vat\",  # Add filename to print dataframe\n",
    "    destination_key=None,  # Add destination key if need to copy output\n",
    ")\n",
    "    .assign(\n",
    "              year = lambda x: x['year'].astype('Int64'),\n",
    "              hs6 = lambda x: x['hs6'].astype('Int64').astype(str).str.zfill(6),\n",
    "          )\n",
    ")\n",
    "df_quality = (\n",
    "    df_vat.assign(\n",
    "    hs2 = lambda x: x['hs6'].str[:2],\n",
    "    hs3 = lambda x: x['hs6'].str[:3],\n",
    "    hs4 = lambda x: x['hs6'].str[:4],\n",
    "    sigma_3 = 3,\n",
    "    sigma_5 = 5,\n",
    "    sigma_10 = 10\n",
    "\n",
    ")\n",
    "    .assign(\n",
    "        sigma_price3 = lambda x: x['sigma_3'].astype('float') * np.log(x['unit_price']),\n",
    "        sigma_price5 = lambda x: x['sigma_5'].astype('float') * np.log(x['unit_price']),\n",
    "        sigma_price10 = lambda x: x['sigma_10'].astype('float') * np.log(x['unit_price']),\n",
    "        y3 = lambda x : np.log(x['quantity']) + x['sigma_price3'],\n",
    "        y5 = lambda x : np.log(x['quantity']) + x['sigma_price5'],\n",
    "        y10 = lambda x : np.log(x['quantity']) + x['sigma_price10']\n",
    "    )\n",
    ")\n",
    "df_quality[\"FE_ct\"] = pd.factorize(df_quality[\"year\"].astype('string') + \n",
    "                                       df_quality[\"country_en\"])[0]\n",
    "compute_quality = False\n",
    "if compute_quality:\n",
    "    from sklearn.pipeline import make_pipeline\n",
    "    from sklearn.linear_model import LinearRegression\n",
    "    from sklearn.preprocessing import OneHotEncoder\n",
    "    from sklearn.compose import make_column_transformer\n",
    "    \n",
    "    cat_proc = make_pipeline(\n",
    "        OneHotEncoder()\n",
    "    )\n",
    "    preprocessor = make_column_transformer(\n",
    "        (cat_proc, tuple(['hs6', 'FE_ct']))\n",
    "    )\n",
    "    clf = make_pipeline(preprocessor,\n",
    "                        LinearRegression(fit_intercept=True, normalize=False))\n",
    "    #%%time\n",
    "    print('begin model 3')\n",
    "    MODEL3 = clf.fit(df_quality[['hs6', 'FE_ct']], df_quality['y3']) \n",
    "    print('begin model 5')\n",
    "    MODEL5 = clf.fit(df_quality[['hs6', 'FE_ct']], df_quality['y5']) \n",
    "    print('begin model 10')\n",
    "    MODEL10 = clf.fit(df_quality[['hs6', 'FE_ct']], df_quality['y10']) \n",
    "    from joblib import dump, load\n",
    "    dump(MODEL3, 'filename3.joblib') \n",
    "    dump(MODEL5, 'filename5.joblib') \n",
    "    dump(MODEL10, 'filename10.joblib') "
   ]
  },
  {
   "cell_type": "code",
   "execution_count": null,
   "metadata": {
    "kernel": "SoS"
   },
   "outputs": [],
   "source": [
    "from joblib import dump, load\n",
    "df_quality = df_quality.assign(\n",
    "    prediction3 = lambda x: load('filename3.joblib') .predict(x[['hs6', 'FE_ct']]),\n",
    "    residual3 = lambda x: x['y3'] - x['prediction3'],\n",
    "    kandhelwal_quality3 = lambda x: x['residual3'] / (x['sigma_3'].astype('float') -1),\n",
    "    \n",
    "    prediction5 = lambda x: load('filename5.joblib') .predict(x[['hs6', 'FE_ct']]),\n",
    "    residual5 = lambda x: x['y5'] - x['prediction5'],\n",
    "    kandhelwal_quality5 = lambda x: x['residual5'] / (x['sigma_5'].astype('float') -1),\n",
    "    \n",
    "    prediction10 = lambda x: load('filename10.joblib') .predict(x[['hs6', 'FE_ct']]),\n",
    "    residual10 = lambda x: x['y10'] - x['prediction10'],\n",
    "    kandhelwal_quality10 = lambda x: x['residual10'] / (x['sigma_10'].astype('float') -1),\n",
    ")  "
   ]
  },
  {
   "cell_type": "code",
   "execution_count": null,
   "metadata": {
    "kernel": "SoS"
   },
   "outputs": [],
   "source": [
    "df_final = (\n",
    "    df_final\n",
    "    .merge(\n",
    "    df_quality.reindex(\n",
    "    columns = ['geocode4_corr','year','regime','hs6','iso_alpha',\n",
    "              'kandhelwal_quality3','kandhelwal_quality5','kandhelwal_quality10']\n",
    "    )\n",
    "    )\n",
    "    #.to_csv(os.path.join(path_local, 'df_final_robusntess' + '.csv'), index = False)\n",
    ")\n",
    "df_final.head()"
   ]
  },
  {
   "cell_type": "code",
   "execution_count": null,
   "metadata": {
    "kernel": "SoS"
   },
   "outputs": [],
   "source": [
    "df_final.shape"
   ]
  },
  {
   "cell_type": "markdown",
   "metadata": {
    "kernel": "SoS",
    "lines_to_next_cell": 0
   },
   "source": [
    "# compute fixed effect\n",
    "\n",
    "| Benchmark | Origin            | Name                     | Description                                                                                                                                                                                                                                                                                                                                    | Math_notebook     |\n",
    "|-----------|-------------------|--------------------------|------------------------------------------------------------------------------------------------------------------------------------------------------------------------------------------------------------------------------------------------------------------------------------------------------------------------------------------------|-------------------|\n",
    "| Yes       | Current           | city-product             |                                                                                                                                                                                                                                                                                                                                                | $\\alpha_{ck}$     |\n",
    "| Yes       | Current           | city-product-regime      |                                                                                                                                                                                                                                                                                                                                                | $\\alpha_{ck}^R$   |\n",
    "| Yes       | Current           | city-sector-year         | Sector is defined as GBT 4 digit                                                                                                                                                                                                                                                                                                               | $\\alpha_{cst}$    |\n",
    "| Yes       | Current           | city-sectorーregime-year | Sector is defined as GBT 4 digit                                                                                                                                                                                                                                                                                                               | $\\alpha_{cst}^R$  |\n",
    "| Yes       | Current           | product-destination      |                                                                                                                                                                                                                                                                                                                                                | $\\alpha_{pj}$     |\n",
    "| Yes       | Previous baseline | Product-year             | account for all factors that affect product-level export irrespective of the trade regime in a given year                                                                                                                                                                                                                                      | $\\alpha_{pt}$     |\n",
    "| No        | Previous baseline | firm-product-eligibility | captures all the factors that affect firms regardless of the time and type of regime. This firm‒product pair eliminates the demand shocks that firms face and that are not correlated with the types of status. The fixed effects are also responsible for potential correlations between subsidies, R&D, or trade policies and VAT rebates.   | $\\alpha^{E}_{it}$ |\n",
    "| No        | Previous baseline | HS4-year-eligibility     |                                                                                                                                                                                                                                                                                                                                                | $\\alpha^{E}_{st}$ |\n",
    "| No        | Previous baseline | city-year                | captures the differences in demand, capital intensity, or labor supply that prevail between cities each year                                                                                                                                                                                                                                   | $\\alpha_{ct}$     |\n",
    "| No        | Candidate         | destination-year         | Captures additional level of control, encompassing all the shocks and developments in the economies to which China exports.                                                                                                                                                                                                                    | $\\alpha_{dt}$     |\n",
    "\n",
    "\n",
    "Create the following fixed effect for the baseline regression:\n",
    "\n",
    "**index**\n",
    "\n",
    "* city: `c`\n",
    "* product: `k`\n",
    "* sector: `s`\n",
    "* year: `t`\n",
    "* Destination: `j`\n",
    "* regime: `r`\n",
    "\n",
    "**FE**\n",
    "\n",
    "* city-product: `FE_ck`\n",
    "* City-sector-year: `FE_cst`\n",
    "* City-product-regime: `FE_ckr`\n",
    "* City-sector-regime-year: `FE_csrt`\n",
    "* Product-year: `FE_kt`\n",
    "* Product-destination: `FE_pj`\n",
    "* Destination-year: `FE_jt`"
   ]
  },
  {
   "cell_type": "markdown",
   "metadata": {
    "kernel": "SoS"
   },
   "source": [
    "<!-- #endregion -->"
   ]
  },
  {
   "cell_type": "code",
   "execution_count": null,
   "metadata": {
    "kernel": "SoS"
   },
   "outputs": [],
   "source": [
    "create_fe = True\n",
    "if create_fe:\n",
    "    df_final = df_final#.loc[lambda x: x['cn'] == 2]\n",
    "    #df = pd.read_csv(df_path, dtype = dtypes)\n",
    "    ### city-product\n",
    "    df_final[\"fe_ck\"] = pd.factorize(df_final[\"geocode4_corr\"].astype('str') + \n",
    "                                        df_final[\"hs6\"].astype('str')\n",
    "                                       )[0]\n",
    "    \n",
    "    ### sector-year\n",
    "    df_final[\"fe_st\"] = pd.factorize(\n",
    "                                        df_final[\"hs4\"].astype('str') +\n",
    "                                        df_final[\"year\"].astype('str')\n",
    "                                       )[0]\n",
    "\n",
    "    ### sector-year\n",
    "    df_final[\"fe_ct\"] = pd.factorize(\n",
    "                                        df_final[\"geocode4_corr\"].astype('str') +\n",
    "                                        df_final[\"year\"].astype('str')\n",
    "                                       )[0]\n",
    "    \n",
    "    ### City-sector-year\n",
    "    df_final[\"fe_cst\"] = pd.factorize(df_final[\"geocode4_corr\"].astype('str') + \n",
    "                                        df_final[\"hs4\"].astype('str') +\n",
    "                                        df_final[\"year\"].astype('str')\n",
    "                                       )[0]\n",
    "\n",
    "    ### City-product-regime\n",
    "    df_final[\"fe_ckr\"] = pd.factorize(df[\"geocode4_corr\"].astype('str') + \n",
    "                                        df_final[\"hs6\"].astype('str') +\n",
    "                                        df_final[\"regime\"].astype('str')\n",
    "                                       )[0]\n",
    "\n",
    "    ### City-sector-regime-year\n",
    "    df_final[\"fe_csrt\"] = pd.factorize(df_final[\"geocode4_corr\"].astype('str') + \n",
    "                                        df_final[\"hs4\"].astype('str') +\n",
    "                                        df_final[\"regime\"].astype('str') +\n",
    "                                        df_final[\"year\"].astype('str')\n",
    "                                       )[0]\n",
    "\n",
    "    ## Product-year\n",
    "    df_final[\"fe_kt\"] = pd.factorize(df_final[\"hs6\"].astype('str') + \n",
    "                                        df_final[\"year\"].astype('str')\n",
    "                                       )[0]\n",
    "\n",
    "    ## Product-destination\n",
    "    df_final[\"fe_kj\"] = pd.factorize(df_final[\"hs6\"].astype('str') + \n",
    "                                        df_final[\"country_en\"].astype('str')\n",
    "                                       )[0]\n",
    "\n",
    "    ## Destination-year\n",
    "    df_final[\"fe_jt\"] = pd.factorize(df_final[\"country_en\"].astype('str') + \n",
    "                                        df_final[\"year\"].astype('str')\n",
    "                                       )[0]\n",
    "    \n",
    "    ## Destination-year-regime\n",
    "    df_final[\"fe_jtr\"] = pd.factorize(df_final[\"country_en\"].astype('str') + \n",
    "                                        df_final[\"year\"].astype('str') +\n",
    "                                df_final[\"regime\"].astype('str')\n",
    "                                \n",
    "                                       )[0]\n",
    "\n",
    "    ## city-product-destination\n",
    "    df_final[\"fe_ckj\"] = pd.factorize(df_final[\"geocode4_corr\"].astype('str') + \n",
    "                                        df_final[\"hs6\"].astype('str') + \n",
    "                                        df_final[\"country_en\"].astype('str')\n",
    "                                       )[0]\n",
    "    \n",
    "    ## product destination regime \n",
    "    df_final[\"fe_kjr\"] = pd.factorize(df_final[\"hs6\"].astype('str') + \n",
    "                                        df_final[\"country_en\"].astype('str') + \n",
    "                                        df_final[\"regime\"].astype('str')\n",
    "                                       )[0]\n",
    "    ## Shocks\n",
    "    df_final[\"fe_group_shock\"] = pd.factorize(\n",
    "        df_final[\"hs6\"].astype('str') +\n",
    "        df_final[\"country_en\"].astype('str') + \n",
    "        df_final[\"year\"].astype('str'))[0]\n",
    "    \n",
    "    df_final.to_csv(os.path.join(path_local, filename + '.csv'), index = False)"
   ]
  },
  {
   "cell_type": "code",
   "execution_count": null,
   "metadata": {
    "kernel": "SoS"
   },
   "outputs": [],
   "source": [
    "df_final.groupby(['regime'])['lag_F_C'].describe()"
   ]
  },
  {
   "cell_type": "code",
   "execution_count": null,
   "metadata": {
    "kernel": "SoS"
   },
   "outputs": [],
   "source": [
    "df_final.groupby(['regime'])['lag_C_C'].describe()"
   ]
  },
  {
   "cell_type": "code",
   "execution_count": null,
   "metadata": {
    "kernel": "SoS"
   },
   "outputs": [],
   "source": [
    "df_final.groupby(['regime'])['lag_P_C'].describe()"
   ]
  },
  {
   "cell_type": "markdown",
   "metadata": {
    "kernel": "SoS",
    "nteract": {
     "transient": {
      "deleting": false
     }
    }
   },
   "source": [
    "## Schema Latex table\n",
    "\n",
    "To rename a variable, please use the following template:\n",
    "\n",
    "```\n",
    "{\n",
    "    'old':'XX',\n",
    "    'new':'XX_1'\n",
    "    }\n",
    "```\n",
    "\n",
    "if you need to pass a latex format with `\\`, you need to duplicate it for instance, `\\text` becomes `\\\\text:\n",
    "\n",
    "```\n",
    "{\n",
    "    'old':'working\\_capital\\_i',\n",
    "    'new':'\\\\text{working capital}_i'\n",
    "    }\n",
    "```\n",
    "\n",
    "Then add it to the key `to_rename`"
   ]
  },
  {
   "cell_type": "code",
   "execution_count": null,
   "metadata": {
    "kernel": "SoS",
    "nteract": {
     "transient": {
      "deleting": false
     }
    }
   },
   "outputs": [],
   "source": [
    "add_to_dic = True\n",
    "if add_to_dic:\n",
    "    if os.path.exists(\"schema_table.json\"):\n",
    "        os.remove(\"schema_table.json\")\n",
    "    data = {'to_rename':[], 'to_remove':[]}\n",
    "    dic_rename = [\n",
    "        {\n",
    "        'old':'ln\\_lag\\_tax\\_rebate',\n",
    "        'new':'\\\\text{Ln VAT export tax}_{k, t-1}'\n",
    "        },\n",
    "        {\n",
    "        'old':'ln\\_rebate',\n",
    "        'new':'\\\\text{Ln VAT rebate}_{k, t-1}'\n",
    "        },\n",
    "        {\n",
    "        'old':'ln\\_rebate\\_1',\n",
    "        'new':'\\\\text{Ln VAT rebate}_{k, t-1}'\n",
    "        },\n",
    "        {\n",
    "        'old':'ln\\_rebate\\_2',\n",
    "        'new':'\\\\text{Ln VAT rebate}_{k, t-1}'\n",
    "        },\n",
    "        {\n",
    "        'old':'rebate',\n",
    "        'new':'\\\\text{VAT refund}_{k, t-1}'\n",
    "        },\n",
    "        {\n",
    "        'old':'regimeELIGIBLE',\n",
    "        'new':'\\\\text{Regime}^R'\n",
    "        },\n",
    "        {\n",
    "        'old':'ln\\_lag\\_import\\_tax',\n",
    "        'new':'\\\\text{Import tax,}_{k, t-1}'\n",
    "        },\n",
    "        {\n",
    "        'old':'lag\\_foreign\\_export\\_share\\_ckr',\n",
    "        'new':'\\\\text{lag foreign export share}_{ck, t-1}^R'\n",
    "        },\n",
    "        {\n",
    "        'old':'lag\\_soe\\_export\\_share\\_ckr',\n",
    "        'new':'\\\\text{lag SOE export share}_{ck, t-1}^R'\n",
    "        },\n",
    "        \n",
    "         {\n",
    "        'old':'lag\\_stock\\_ntm',\n",
    "        'new':'\\\\text{lag stock ntm}_{ck, t-1}'\n",
    "        },\n",
    "        \n",
    "        {\n",
    "        'old':'lag\\_frequency',\n",
    "        'new':'\\\\text{lag frequency}_{ck, t-1}'\n",
    "        },\n",
    "        \n",
    "        {\n",
    "        'old':'lag\\_prevalence',\n",
    "        'new':'\\\\text{lag prevalence}_{ck, t-1}'\n",
    "        },\n",
    "        \n",
    "        {\n",
    "        'old':'lag\\_coverage',\n",
    "        'new':'\\\\text{lag coverage}_{ck, t-1}'\n",
    "        }\n",
    "    ]\n",
    "\n",
    "    data['to_rename'].extend(dic_rename)\n",
    "    with open('schema_table.json', 'w') as outfile:\n",
    "        json.dump(data, outfile)"
   ]
  },
  {
   "cell_type": "code",
   "execution_count": null,
   "metadata": {
    "kernel": "SoS"
   },
   "outputs": [],
   "source": [
    "sys.path.append(os.path.join(parent_path, 'utils'))\n",
    "import latex.latex_beautify as lb\n",
    "#%load_ext autoreload\n",
    "#%autoreload 2"
   ]
  },
  {
   "cell_type": "code",
   "execution_count": null,
   "metadata": {
    "kernel": "R"
   },
   "outputs": [],
   "source": [
    "options(warn=-1)\n",
    "library(tidyverse)\n",
    "#library(lfe)\n",
    "#library(lazyeval)\n",
    "library('progress')\n",
    "path = \"../../../utils/latex/table_golatex.R\"\n",
    "source(path)"
   ]
  },
  {
   "cell_type": "code",
   "execution_count": null,
   "metadata": {
    "kernel": "R"
   },
   "outputs": [],
   "source": [
    "library(lfe)"
   ]
  },
  {
   "cell_type": "code",
   "execution_count": null,
   "metadata": {
    "kernel": "R"
   },
   "outputs": [],
   "source": [
    "library(tidyverse)"
   ]
  },
  {
   "cell_type": "code",
   "execution_count": null,
   "metadata": {
    "kernel": "R"
   },
   "outputs": [],
   "source": [
    "%get df_path\n",
    "df_final <- read_csv(df_path) %>%\n",
    "mutate_if(is.character, as.factor) %>%\n",
    "    mutate_at(vars(starts_with(\"fe\")), as.factor) %>%\n",
    "mutate(\n",
    "    regime = relevel(as.factor(regime), ref='NOT_ELIGIBLE'),\n",
    "    ln_rebate = ln_lag_tax_rebate * (-1),\n",
    "    ln_rebate_1 = log((lag_vat_reb_m / lag_vat_m) +1),\n",
    "    ln_rebate_2 = log(lag_vat_reb_m + 1),\n",
    "    rebate = lag_vat_reb_m / lag_vat_m\n",
    "      )"
   ]
  },
  {
   "cell_type": "code",
   "execution_count": null,
   "metadata": {
    "kernel": "R"
   },
   "outputs": [],
   "source": [
    "df_final %>% select(lag_vat_reb_m, lag_vat_m, rebate) %>% head(2)"
   ]
  },
  {
   "cell_type": "code",
   "execution_count": null,
   "metadata": {
    "kernel": "R"
   },
   "outputs": [],
   "source": [
    "df_final %>% group_by(regime) %>%summarize(mean(lag_F_C))"
   ]
  },
  {
   "cell_type": "code",
   "execution_count": null,
   "metadata": {
    "kernel": "R"
   },
   "outputs": [],
   "source": [
    "dim(df_final)"
   ]
  },
  {
   "cell_type": "markdown",
   "metadata": {
    "kernel": "SoS"
   },
   "source": [
    "## Table 1: baseline estimate\n",
    "\n",
    "$$\\begin{aligned} \\text{Quality}_{c,k,j, t}^{R} &=\\alpha \\ln \\text{VAT Rebate}_{k, t-1} \\times \\text { Eligibility }^{R} +\\alpha \\ln \\text{Import tax} \\times \\text { Eligibility }^{R} +X_{c, s, t-1}^{R}+F E_{c,k}^{R}+F E_{k,t}+F E_{j,t}+\\epsilon_{c,k,j, t}^{R} \\end{aligned} $$\n",
    "\n",
    " \n",
    "Use ln_rebate_1 = log((lag_vat_reb_m / lag_vat_m) +1)  → share of rebate and FE → fe_ckr  + fe_kt + fe_jtr\n",
    "\n",
    "* Baseline estimate\n",
    "* Baseline estimate with more controls\n",
    "* Controlling for product-country-year trends\n",
    "* cities presents all years\n",
    "* Keep rebates 17%\n",
    "* Exclude rebates 0% "
   ]
  },
  {
   "cell_type": "markdown",
   "metadata": {
    "kernel": "SoS"
   },
   "source": [
    "### Quality"
   ]
  },
  {
   "cell_type": "code",
   "execution_count": null,
   "metadata": {
    "kernel": "SoS"
   },
   "outputs": [],
   "source": [
    "folder = 'Tables_0'\n",
    "table_nb = 1\n",
    "table = 'table_{}'.format(table_nb)\n",
    "path = os.path.join(folder, table + '.txt')\n",
    "if os.path.exists(folder) == False:\n",
    "        os.mkdir(folder)\n",
    "for ext in ['.txt', '.tex', '.pdf']:\n",
    "    x = [a for a in os.listdir(folder) if a.endswith(ext)]\n",
    "    [os.remove(os.path.join(folder, i)) for i in x]"
   ]
  },
  {
   "cell_type": "code",
   "execution_count": null,
   "metadata": {
    "kernel": "SoS"
   },
   "outputs": [],
   "source": [
    "#pd.read_csv('NTM_HS1996.csv')"
   ]
  },
  {
   "cell_type": "code",
   "execution_count": null,
   "metadata": {
    "kernel": "R"
   },
   "outputs": [],
   "source": [
    "%get path table\n",
    "### Quality\n",
    "t_0 <- felm(kandhelwal_quality ~rebate + ln_lag_import_tax +\n",
    "            lag_foreign_export_share_ckr + lag_soe_export_share_ckr\n",
    "            | fe_ck  + hs6 + fe_jt|0|hs6, df_final %>% filter(regime != 'ELIGIBLE'),\n",
    "            exactDOF = TRUE)\n",
    "\n",
    "t_1 <- felm(kandhelwal_quality ~rebate + ln_lag_import_tax +\n",
    "            lag_foreign_export_share_ckr + lag_soe_export_share_ckr\n",
    "            | fe_ck  + hs6 + fe_jt|0, df_final %>% filter(regime == 'ELIGIBLE'),\n",
    "            exactDOF = TRUE)\n",
    "\n",
    "### focus coef -> benchmark\n",
    "#t_2 <- felm(kandhelwal_quality ~rebate* regime + ln_lag_import_tax * regime+ ln_lag_import_tax \n",
    "#           | fe_ckr  + fe_kt + fe_jtr |0 | hs6, df_final,\n",
    "#            exactDOF = TRUE)\n",
    "#t_2 <- change_target(t_2)\n",
    "print('table 0 done')\n",
    "\n",
    "t_3 <- felm(kandhelwal_quality ~rebate* regime + ln_lag_import_tax * regime+ ln_lag_import_tax +\n",
    "            lag_foreign_export_share_ckr + lag_soe_export_share_ckr\n",
    "            | fe_ckr  + fe_kt + fe_jtr|0 | hs6, df_final,\n",
    "            exactDOF = TRUE)\n",
    "t_3 <- change_target(t_3)\n",
    "print('table 1 done')\n",
    "\n",
    "t_4 <- felm(kandhelwal_quality ~rebate* regime + ln_lag_import_tax * regime+ ln_lag_import_tax+\n",
    "            lag_foreign_export_share_ckr + lag_soe_export_share_ckr\n",
    "            | fe_ckr  + fe_kt + fe_jtr + fe_group_shock|0 | hs6, df_final,\n",
    "            exactDOF = TRUE)\n",
    "t_4 <- change_target(t_4)\n",
    "print('table 2 done')\n",
    "\n",
    "t_5 <- felm(kandhelwal_quality ~rebate* regime + ln_lag_import_tax * regime+ ln_lag_import_tax +\n",
    "            lag_foreign_export_share_ckr + lag_soe_export_share_ckr\n",
    "            | fe_ckr  + fe_kt + fe_jtr|0 | hs6, df_final %>% group_by(geocode4_corr) %>%\n",
    "  mutate(length = length(unique(year))) %>%\n",
    "  filter(length ==8),\n",
    "            exactDOF = TRUE)\n",
    "t_5 <- change_target(t_5)\n",
    "print('table 3 done')\n",
    "\n",
    "t_6 <- felm(kandhelwal_quality ~rebate* regime + ln_lag_import_tax * regime+ ln_lag_import_tax+\n",
    "            lag_foreign_export_share_ckr + lag_soe_export_share_ckr\n",
    "            | fe_ckr  + fe_kt + fe_jtr|0 | hs6, df_final %>% filter(lag_vat_m==17),\n",
    "            exactDOF = TRUE)\n",
    "t_6 <- change_target(t_6)\n",
    "print('table 4 done')\n",
    "\n",
    "t_7 <- felm(kandhelwal_quality ~rebate* regime + ln_lag_import_tax * regime+ ln_lag_import_tax+\n",
    "            lag_foreign_export_share_ckr + lag_soe_export_share_ckr\n",
    "            | fe_ckr  + fe_kt + fe_jtr|0 | hs6, df_final %>% filter(lag_vat_reb_m != 0),\n",
    "            exactDOF = TRUE)\n",
    "t_7 <- change_target(t_7)\n",
    "print('table 5 done')\n",
    "t_8 <- felm(kandhelwal_quality3 ~rebate* regime + ln_lag_import_tax * regime+ ln_lag_import_tax +\n",
    "            lag_foreign_export_share_ckr + lag_soe_export_share_ckr\n",
    "            | fe_ckr  + fe_kt + fe_jtr|0 | hs6, df_final,\n",
    "            exactDOF = TRUE)\n",
    "t_8 <- change_target(t_8)\n",
    "print('table 6 done')\n",
    "\n",
    "t_9 <- felm(kandhelwal_quality5 ~rebate* regime + ln_lag_import_tax * regime+ ln_lag_import_tax +\n",
    "            lag_foreign_export_share_ckr + lag_soe_export_share_ckr\n",
    "            | fe_ckr  + fe_kt + fe_jtr|0 | hs6, df_final,\n",
    "            exactDOF = TRUE)\n",
    "t_9 <- change_target(t_9)\n",
    "print('table 6 done')\n",
    "\n",
    "t_10 <- felm(kandhelwal_quality10 ~rebate* regime + ln_lag_import_tax * regime+ ln_lag_import_tax+\n",
    "            lag_foreign_export_share_ckr + lag_soe_export_share_ckr\n",
    "            | fe_ckr  + fe_kt + fe_jtr + fe_group_shock|0 , df_final,\n",
    "            exactDOF = TRUE)\n",
    "t_10 <- change_target(t_10)\n",
    "\n",
    "\n",
    "dep <- \"Dependent variable: Product quality\"\n",
    "fe1 <- list(\n",
    "    c(\"product\",\n",
    "      \"Yes\", \"Yes\", \"No\", \"No\", \"No\",\"No\", \"No\",\"No\", \"No\",\"No\"\n",
    "     ),\n",
    "    c(\"City-product-regime\",\n",
    "      \"Yes\", \"Yes\", \"Yes\", \"Yes\", \"Yes\",\"Yes\", \"Yes\",\"Yes\", \"Yes\",\"Yes\"\n",
    "     ),\n",
    "    c(\"Product-year\",\n",
    "      \"No\", \"No\", \"Yes\", \"Yes\", \"Yes\",\"Yes\", \"Yes\",\"Yes\", \"Yes\",\"Yes\"\n",
    "     ),\n",
    "    c(\"Destination-year\",\n",
    "      \"Yes\", \"Yes\", \"Yes\", \"Yes\", \"Yes\",\"Yes\", \"Yes\",\"Yes\", \"Yes\",\"Yes\"\n",
    "     )\n",
    ")\n",
    "\n",
    "table_1 <- go_latex(list(\n",
    "    t_0,t_1, #t_2,\n",
    "    t_3, t_4,t_5,t_6, t_7, t_8, t_9,t_10\n",
    "    #, t_8, t_9, t_10, t_11\n",
    "),\n",
    "    title=\"VAT export rebate and product's quality upgrading, baseline regression\",\n",
    "    dep_var = dep,\n",
    "    addFE=fe1,\n",
    "    save=TRUE,\n",
    "    note = FALSE,\n",
    "    name=path\n",
    ") "
   ]
  },
  {
   "cell_type": "code",
   "execution_count": null,
   "metadata": {
    "kernel": "SoS"
   },
   "outputs": [],
   "source": [
    "tbe1  = \"This table estimates eq(XX).\" \\\n",
    "\" Ln VAT rebate is the share entitled to reimboursement at the HS6 product.\" \\\n",
    "\" Note that 'Eligible' refers to the regime entitle to VAT refund, our treatment group.\" \\\n",
    "\" Our control group is processing trade with supplied input, 'Non-Eligible' to VAT refund.\" \\\n",
    "\" Sectors are defined following the Chinese 4-digit GB/T industry.\" \\\n",
    "\" classification and regroup several products.\" \\\n",
    "\" Heteroskedasticity-robust standard errors.\" \\\n",
    "\" clustered at the product level appear inparentheses.\"\\\n",
    "\" \\sym{*} Significance at the 10\\%, \\sym{**} Significance at the 5\\%, \\sym{***} Significance at the 1\\%.\"\n",
    "\n",
    "#multicolumn ={\n",
    "#    'Quality': 4,\n",
    "    #'Price-adjusted': 5,\n",
    "#}\n",
    "multicolumn ={\n",
    "    'Non eligible':1,\n",
    "    'Eligible':1,\n",
    "    'Baseline':1,\n",
    "    'Shocks': 1,\n",
    "    'Balance': 1,\n",
    "    'Only 17\\%': 1,\n",
    "    'No zero rebate': 1,\n",
    "    'Sigma 3': 1,\n",
    "    'Sigma 5': 1,\n",
    "    'Sigma 10': 1\n",
    "}\n",
    "multi_lines_dep = '(city/product/trade regime/year)'\n",
    "new_r = [\n",
    "    #'& Eligible', 'Non-Eligible', \n",
    "    '& All','All benchmark', 'All', 'All benchmark',\n",
    "    #'Eligible', 'Non-Eligible', 'All','All benchmark', 'All', 'All benchmark',\n",
    "]\n",
    "\n",
    "reorder = {\n",
    "    4:0,\n",
    "    5:1\n",
    "}\n",
    "\n",
    "lb.beautify(table_number = table_nb,\n",
    "            reorder_var = reorder,\n",
    "            multi_lines_dep = multi_lines_dep,\n",
    "            #new_row= new_r,\n",
    "            multicolumn = multicolumn,\n",
    "            table_nte = tbe1,\n",
    "            jupyter_preview = True,\n",
    "            resolution = 180,\n",
    "            folder = folder)"
   ]
  },
  {
   "cell_type": "markdown",
   "metadata": {
    "kernel": "SoS"
   },
   "source": [
    "## Table 2: Heterogeneity effect\n",
    "\n",
    "- LDC and DC comes from the world bank classification, and are already in the table\n",
    "- The list of homogeneous goods is in the S3\n",
    "- Small/large city is be computed by using:\n",
    "    - the number of product exported in 2003. If the count of product is above average, then it can be consider as a large firm \n",
    "    - The average quantity\n",
    " \n",
    " \n",
    "* Column 1: Estimate baseline regression subset LDC countries: `income_group_ldc_dc` -> `LDC`\n",
    "* Column 2: Estimate baseline regression subset DC countries: `income_group_ldc_dc` -> `DC`\n",
    "* Column 3: Estimate baseline regression subset Homogeneous goods: `classification` -> `HOMOGENEOUS`\n",
    "* Column 4: Estimate baseline regression subset heterogeneous goods: `classification` -> != `HOMOGENEOUS`\n",
    "* Column 5: Estimate baseline regression subset small cities: `size_product` -> == `SMALL_COUNT`\n",
    "* Column 6: Estimate baseline regression subset large cities: `size_product` -> == `LARGE_COUNT`\n",
    "* Column 7: Estimate baseline regression subset small cities: `size_quantity` -> == `SMALL_QUANTITY`\n",
    "* Column 8: Estimate baseline regression subset large cities: `size_quantity` -> == `LARGE_QUANTITY`\n",
    "\n",
    "Sector is defined as the GBT 4 digits"
   ]
  },
  {
   "cell_type": "code",
   "execution_count": null,
   "metadata": {
    "kernel": "SoS"
   },
   "outputs": [],
   "source": [
    "folder = 'Tables_0'\n",
    "table_nb = 2\n",
    "table = 'table_{}'.format(table_nb)\n",
    "path = os.path.join(folder, table + '.txt')\n",
    "if os.path.exists(folder) == False:\n",
    "        os.mkdir(folder)\n",
    "#for ext in ['.txt', '.tex', '.pdf']:\n",
    "#    x = [a for a in os.listdir(folder) if a.endswith(ext)]\n",
    "#    [os.remove(os.path.join(folder, i)) for i in x]"
   ]
  },
  {
   "cell_type": "code",
   "execution_count": null,
   "metadata": {
    "kernel": "R"
   },
   "outputs": [],
   "source": [
    "temp <- df_final %>% \n",
    "filter(year == \"2003\") %>%\n",
    "#group_by(year, geocode4_corr, hs2) %>%\n",
    "group_by(geocode4_corr, hs4) %>%\n",
    "summarize(sum_quantity = sum(quantity), sum_value = sum(value)) %>%\n",
    "ungroup %>%\n",
    "group_by(geocode4_corr) %>%\n",
    "mutate(\n",
    "    national_avg_q = mean(sum_quantity),\n",
    "    national_m_q = median(sum_quantity),\n",
    "    national_d_q =quantile(sum_quantity,probs = .75),\n",
    "    national_avg_v = mean(sum_value),\n",
    "    national_m_v = median(sum_value),\n",
    "    national_d_v =quantile(sum_value,probs = .75),\n",
    "    size_q_a = ifelse(sum_quantity > national_avg_q, 'LARGE', 'SMALL'),\n",
    "    size_q_md = ifelse(sum_quantity > national_m_q, 'LARGE', 'SMALL'),\n",
    "    size_q_d = ifelse(sum_quantity > national_d_q, 'LARGE', 'SMALL'),\n",
    "    size_v_a = ifelse(sum_value > national_avg_v, 'LARGE', 'SMALL'),\n",
    "    size_v_md = ifelse(sum_value > national_m_v, 'LARGE', 'SMALL'),\n",
    "    size_v_d = ifelse(sum_value > national_d_v, 'LARGE', 'SMALL')\n",
    ") %>%\n",
    "right_join(df_final, by = c(\n",
    "    #'year',\n",
    "    'geocode4_corr',\n",
    "    #\"hs2\",\n",
    "    \"hs4\"\n",
    ")) %>%\n",
    "mutate(\n",
    "    size_q_a = replace_na(size_q_a, \"SMALL\"),\n",
    "    size_q_md = replace_na(size_q_md, \"SMALL\"),\n",
    "    size_q_d = replace_na(size_q_d, \"SMALL\"),\n",
    "    size_v_a = replace_na(size_v_a, \"SMALL\"),\n",
    "    size_v_md = replace_na(size_v_md, \"SMALL\"),\n",
    "    size_v_d = replace_na(size_v_d, \"SMALL\")\n",
    ")"
   ]
  },
  {
   "cell_type": "code",
   "execution_count": null,
   "metadata": {
    "kernel": "R"
   },
   "outputs": [],
   "source": [
    "%get path table\n",
    "#### COUNTRIES\n",
    "t_0 <- felm(kandhelwal_quality ~rebate* regime + ln_lag_import_tax * regime+ ln_lag_import_tax+\n",
    "            lag_foreign_export_share_ckr + lag_soe_export_share_ckr\n",
    "            | fe_ckr  + fe_kt + fe_jtr|0 | hs6, df_final %>% filter(income_group_ldc_dc == 'LDC'),\n",
    "            exactDOF = TRUE)\n",
    "t_0 <- change_target(t_0)\n",
    "print('table 0 done')\n",
    "\n",
    "t_1 <- felm(kandhelwal_quality ~rebate* regime + ln_lag_import_tax * regime+ ln_lag_import_tax+\n",
    "            lag_foreign_export_share_ckr + lag_soe_export_share_ckr\n",
    "            | fe_ckr  + fe_kt + fe_jtr|0 | hs6, df_final %>% filter(income_group_ldc_dc != 'LDC'),\n",
    "            exactDOF = TRUE)\n",
    "t_1 <- change_target(t_1)\n",
    "print('table 1 done')\n",
    "#### GOODS\n",
    "t_2 <- felm(kandhelwal_quality ~rebate* regime + ln_lag_import_tax * regime+ ln_lag_import_tax +\n",
    "            lag_foreign_export_share_ckr + lag_soe_export_share_ckr\n",
    "            | fe_ckr  + fe_kt + fe_jtr|0 | hs6, df_final %>% filter(is.na(homogeneous) | homogeneous == 'HOMOGENEOUS'),\n",
    "            exactDOF = TRUE)\n",
    "t_2 <- change_target(t_2)\n",
    "print('table 2 done')\n",
    "\n",
    "t_3 <- felm(kandhelwal_quality ~rebate* regime + ln_lag_import_tax * regime+ ln_lag_import_tax +\n",
    "            lag_foreign_export_share_ckr + lag_soe_export_share_ckr\n",
    "            | fe_ckr  + fe_kt + fe_jtr|0 | hs6, df_final %>% filter(homogeneous == 'HETEREGENEOUS'),\n",
    "            exactDOF = TRUE)\n",
    "t_3 <- change_target(t_3)\n",
    "print('table 3 done')\n",
    "#### CITIES\n",
    "##### city-industry\n",
    "t_4 <- felm(kandhelwal_quality ~rebate* regime + ln_lag_import_tax * regime+ ln_lag_import_tax+\n",
    "            lag_foreign_export_share_ckr + lag_soe_export_share_ckr\n",
    "            | fe_ckr  + fe_kt + fe_jtr|0 | hs6, temp %>% filter(size_q_d == 'SMALL'),\n",
    "            exactDOF = TRUE)\n",
    "t_4 <- change_target(t_4)\n",
    "print('table 4 done')\n",
    "\n",
    "t_5 <- felm(kandhelwal_quality ~rebate* regime + ln_lag_import_tax * regime+ ln_lag_import_tax+\n",
    "            lag_foreign_export_share_ckr + lag_soe_export_share_ckr\n",
    "            | fe_ckr  + fe_kt + fe_jtr|0 | hs6, temp %>% filter(size_q_d == 'LARGE'),\n",
    "            exactDOF = TRUE)\n",
    "t_5 <- change_target(t_5)\n",
    "print('table 5 done')\n",
    "\n",
    "##### Quantity\n",
    "#t_6 <- felm(kandhelwal_quality ~ln_rebate* regime + ln_lag_import_tax * regime+ ln_lag_import_tax\n",
    "#            | fe_ckr + fe_csrt+fe_kt|0 | hs6, df_final %>% filter(size_quantity == 'SMALL_QUANTITY'),\n",
    "#            exactDOF = TRUE)\n",
    "#t_6 <- change_target(t_6)\n",
    "#print('table 6 done')\n",
    "\n",
    "#t_7 <- felm(kandhelwal_quality ~ln_rebate* regime + ln_lag_import_tax * regime+ ln_lag_import_tax\n",
    "#            | fe_ckr + fe_csrt+fe_kt|0 | hs6, df_final %>% filter(size_quantity == 'LARGE_QUANTITY'),\n",
    "#            exactDOF = TRUE)\n",
    "#t_7 <- change_target(t_7)\n",
    "#print('table 7 done')\n",
    "\n",
    "dep <- \"Dependent variable: Product quality\"\n",
    "fe1 <- list(\n",
    "    c(\"City-product-regime\",\"Yes\", \"Yes\", \"Yes\", \"Yes\",\"Yes\", \"Yes\"),\n",
    "    \n",
    "    c(\"Product-year\",\"Yes\", \"Yes\", \"Yes\", \"Yes\",\"Yes\", \"Yes\"),\n",
    "    \n",
    "    c(\"Destination-year\", \"Yes\", \"Yes\", \"Yes\", \"Yes\",\"Yes\", \"Yes\")\n",
    "             )\n",
    "\n",
    "table_1 <- go_latex(list(\n",
    "    t_0,t_1, t_2, t_3, t_4, t_5\n",
    "),\n",
    "    title=\"VAT export tax and firm’s quality upgrading, characteristics of the destination countries, products, and cities\",\n",
    "    dep_var = dep,\n",
    "    addFE=fe1,\n",
    "    save=TRUE,\n",
    "    note = FALSE,\n",
    "    name=path\n",
    ") "
   ]
  },
  {
   "cell_type": "code",
   "execution_count": null,
   "metadata": {
    "kernel": "SoS"
   },
   "outputs": [],
   "source": [
    "tbe1  = \"\"\"\n",
    "This table estimates eq(3). \n",
    "LDC and DC are defined according to the World Bank country classification.\n",
    "Homogeneous and heterogeneous goods are defined according to the official list of goods`s classification, Rauch (1999).\n",
    "Small and large are computed based on the total quantity exported by city-HS4.\n",
    "When oto total export by city-HS4 above the city average, then the pair city-industry is considered as large.\n",
    "Note that 'Eligible' refers to the regime entitle to VAT refund, our treatment group.\n",
    "Our control group is processing trade with supplied input, 'Non-Eligible' to VAT refund.\n",
    "Sectors are defined following the Chinese 4-digit GB/T industry\n",
    "classification and regroup several products.\n",
    "Heteroskedasticity-robust standard errors\n",
    "clustered at the product level appear inparentheses.\n",
    "\\sym{*} Significance at the 10\\%, \\sym{**} Significance at the 5\\%, \\sym{***} Significance at the 1\\%.\"\"\"\n",
    "\n",
    "multicolumn ={\n",
    "    'LDC': 1,\n",
    "    'DC': 1,\n",
    "    'Homogeneous': 1,\n",
    "    'Heterogeneous': 1,\n",
    "    'Small': 1,\n",
    "    'Large': 1\n",
    "}\n",
    "multi_lines_dep = '(city/product/trade regime/year)'\n",
    "reorder = {\n",
    "    2:0,\n",
    "    3:1\n",
    "}\n",
    "#new_r = ['& Eligible', 'Non-Eligible', 'All', 'All benchmark']\n",
    "lb.beautify(table_number = table_nb,\n",
    "            #multi_lines_dep = None,\n",
    "            reorder_var = reorder,\n",
    "            multi_lines_dep = multi_lines_dep,\n",
    "            new_row= False,\n",
    "            multicolumn = multicolumn,\n",
    "            table_nte = tbe1,\n",
    "            jupyter_preview = True,\n",
    "            resolution = 180,\n",
    "           folder = folder)"
   ]
  },
  {
   "cell_type": "markdown",
   "metadata": {
    "kernel": "SoS"
   },
   "source": [
    "## Table 3: Industry characteristicts\n",
    "\n",
    "* Column 1 excludes rare earth products with the main fixed effect:\n",
    "* Column 2 excludes energy intensive industries with the main fixed effect:\n",
    "* Column 3 excludes high tech industries with the main fixed effect:\n",
    "* Column 4 excludes RD oriented indusrtries with the main fixed effect:\n",
    "* Column 5 excludes High skilled oriented with the main fixed effect:\n",
    "  \n",
    "Sector is defined as the GBT 4 digits"
   ]
  },
  {
   "cell_type": "code",
   "execution_count": null,
   "metadata": {
    "kernel": "SoS"
   },
   "outputs": [],
   "source": [
    "folder = 'Tables_0'\n",
    "table_nb = 3\n",
    "table = 'table_{}'.format(table_nb)\n",
    "path = os.path.join(folder, table + '.txt')\n",
    "if os.path.exists(folder) == False:\n",
    "        os.mkdir(folder)\n",
    "#for ext in ['.txt', '.tex', '.pdf']:\n",
    "#    x = [a for a in os.listdir(folder) if a.endswith(ext)]\n",
    "#    [os.remove(os.path.join(folder, i)) for i in x]"
   ]
  },
  {
   "cell_type": "markdown",
   "metadata": {
    "kernel": "SoS"
   },
   "source": [
    "### Download polluted sectors"
   ]
  },
  {
   "cell_type": "code",
   "execution_count": null,
   "metadata": {
    "kernel": "SoS"
   },
   "outputs": [],
   "source": [
    "db = 'environment'\n",
    "query = \"\"\"\n",
    "WITH temp AS (\n",
    "SELECT ind2, SUM(tso2) as sum_tso2, SUM(tso2) / SUM(ttoutput) as so2_intensity \n",
    "FROM environment.china_city_sector_pollution  \n",
    "WHERE year = '2002'\n",
    "GROUP BY ind2\n",
    "ORDER BY sum_tso2\n",
    "  )\n",
    "  SELECT *\n",
    "  FROM temp\n",
    "  LEFT JOIN (\n",
    "    SELECT cic as ind2, short\n",
    "    FROM chinese_lookup.ind_cic_2_name\n",
    "    ) as ind_name\n",
    "    ON temp.ind2 = ind_name.ind2\n",
    "\"\"\"\n",
    "list_polluted = s3.run_query(\n",
    "            query=query,\n",
    "            database=db,\n",
    "            s3_output='SQL_OUTPUT_ATHENA',\n",
    "            filename='polluted',  # Add filename to print dataframe\n",
    "            destination_key='SQL_OUTPUT_ATHENA/CSV',  #Use it temporarily\n",
    "        )\n",
    "list_polluted"
   ]
  },
  {
   "cell_type": "code",
   "execution_count": null,
   "metadata": {
    "kernel": "SoS"
   },
   "outputs": [],
   "source": [
    "(\n",
    "    list_polluted.assign(\n",
    "        polluted = lambda x: x['sum_tso2'] >=np.quantile(x['sum_tso2'], 0.5),\n",
    "        polluted_int = lambda x: x['so2_intensity'] >=np.quantile(x['so2_intensity'], 0.5),\n",
    "    )\n",
    "    .reindex(columns = ['ind2', 'short', 'polluted', 'polluted_int'])\n",
    "    .rename(columns = {'indus_code':'hs4','ind2':'hs2'})\n",
    "    .to_csv('polluted_vs_no_polluted.csv', index = False)\n",
    ")"
   ]
  },
  {
   "cell_type": "code",
   "execution_count": null,
   "metadata": {
    "kernel": "R"
   },
   "outputs": [],
   "source": [
    "df_final_polluted <-  df_final %>% left_join(\n",
    "    read_csv('polluted_vs_no_polluted.csv',\n",
    "             col_types = cols(hs2 = col_double()))\n",
    ") %>%\n",
    "mutate_at(c('polluted', 'polluted_int'), ~replace(., is.na(.), FALSE))"
   ]
  },
  {
   "cell_type": "code",
   "execution_count": null,
   "metadata": {
    "kernel": "R"
   },
   "outputs": [],
   "source": [
    "table(df_final_polluted$polluted)"
   ]
  },
  {
   "cell_type": "code",
   "execution_count": null,
   "metadata": {
    "kernel": "R"
   },
   "outputs": [],
   "source": [
    "table(df_final_polluted$polluted_int)"
   ]
  },
  {
   "attachments": {
    "dcd45d20-44f0-47f3-bab3-ffe32026149f.png": {
     "image/png": "[encoded data removed]"
    }
   },
   "cell_type": "markdown",
   "metadata": {
    "kernel": "SoS"
   },
   "source": [
    "### Download high tech sectors\n",
    "\n",
    "- We use the economic complexity: https://atlas.cid.harvard.edu/rankings/product and saved in Google Drive: [Product Complexity Rankings 1995 - 2019](https://docs.google.com/spreadsheets/d/1Jzef1jfTT-vMn80cQz1pVgF85QAIxKVIKZhbMUvYxT8/edit?usp=sharing)\n",
    "- see paper: https://www.atlantis-press.com/article/55913101.pdf\n",
    "\n",
    "![image.png](attachment:dcd45d20-44f0-47f3-bab3-ffe32026149f.png)"
   ]
  },
  {
   "cell_type": "code",
   "execution_count": null,
   "metadata": {
    "kernel": "SoS"
   },
   "outputs": [],
   "source": [
    "#!pip install git+https://github.com/thomaspernet/GoogleDrive-python.git"
   ]
  },
  {
   "cell_type": "code",
   "execution_count": null,
   "metadata": {
    "kernel": "python3"
   },
   "outputs": [],
   "source": [
    "from GoogleDrivePy.google_drive import connect_drive\n",
    "from GoogleDrivePy.google_authorization import authorization_service\n",
    "import os\n",
    "import numpy as np\n",
    "import pandas as pd"
   ]
  },
  {
   "cell_type": "code",
   "execution_count": null,
   "metadata": {
    "kernel": "SoS"
   },
   "outputs": [],
   "source": [
    "try:\n",
    "    os.mkdir(\"creds\")\n",
    "except:\n",
    "    pass"
   ]
  },
  {
   "cell_type": "code",
   "execution_count": null,
   "metadata": {
    "kernel": "SoS"
   },
   "outputs": [],
   "source": [
    "s3.download_file(key = \"CREDS/Financial_dependency_pollution/creds/token.pickle\", path_local = \"creds\")"
   ]
  },
  {
   "cell_type": "code",
   "execution_count": null,
   "metadata": {
    "kernel": "python3"
   },
   "outputs": [],
   "source": [
    "auth = authorization_service.get_authorization(\n",
    "    #path_credential_gcp=os.path.join(parent_path, \"creds\", \"service.json\"),\n",
    "    path_credential_drive=os.path.join(os.getcwd(), \"creds\"),\n",
    "    verbose=False,\n",
    "    scope=['https://www.googleapis.com/auth/spreadsheets.readonly',\n",
    "           \"https://www.googleapis.com/auth/drive\"]\n",
    ")\n",
    "gd_auth = auth.authorization_drive(path_secret=os.path.join(\n",
    "    os.getcwd(), \"creds\"))\n",
    "drive = connect_drive.drive_operations(gd_auth)"
   ]
  },
  {
   "cell_type": "code",
   "execution_count": null,
   "metadata": {
    "kernel": "python3"
   },
   "outputs": [],
   "source": [
    "FILENAME_SPREADSHEET = \"Product Complexity Rankings 1995 - 2019\"\n",
    "spreadsheet_id = drive.find_file_id(FILENAME_SPREADSHEET, to_print=False)\n",
    "df_complexity = (\n",
    "    drive.download_data_from_spreadsheet(\n",
    "        sheetID=spreadsheet_id,\n",
    "        sheetName=\"Product Complexity Rankings 1995 - 2019.csv\",\n",
    "        to_dataframe=True,\n",
    "    )\n",
    "    .rename(columns={\"PCI 2002\": \"PCI_2002\"})\n",
    "    .assign(PCI_2002=lambda x: pd.to_numeric(x[\"PCI_2002\"]))\n",
    "    .assign(\n",
    "        hs4=lambda x: np.where(\n",
    "            x[\"HS4 Code\"].astype(\"str\").str.len() == 3,\n",
    "            \"0\" + x[\"HS4 Code\"].astype(\"str\"),\n",
    "            x[\"HS4 Code\"].astype(\"str\"),\n",
    "        ),\n",
    "        rank_2002=lambda x: pd.qcut(\n",
    "            x[\"PCI_2002\"], 4, labels=[\"Low-tech Complexity\", \n",
    "                                      \"Lower-middle-tech\",\n",
    "                                      \"Upper-middle-tech\",\n",
    "                                     \"High-tech\"]\n",
    "        ),\n",
    "        dummy_tech_1 = lambda x: x['rank_2002'].isin([\"Upper-middle-tech\",\n",
    "                                     \"High-tech\"]), # 50%\n",
    "        dummy_tech_2 = lambda x: x['rank_2002'].isin([\"High-tech\"]), #75%\n",
    "        dummy_tech_3 = lambda x:  x['PCI_2002'] >=0.910580, #80%\n",
    "        dummy_tech_4 = lambda x:  x['PCI_2002'] >=1.271060, #90%\n",
    "        dummy_tech_5 = lambda x:  x['PCI_2002'] >=1.535260 #95%\n",
    "    )\n",
    ")\n",
    "df_complexity.to_csv('rank_complexity.csv', index = False)"
   ]
  },
  {
   "cell_type": "code",
   "execution_count": null,
   "metadata": {
    "kernel": "python3"
   },
   "outputs": [],
   "source": [
    "df_complexity.head(2)"
   ]
  },
  {
   "cell_type": "code",
   "execution_count": null,
   "metadata": {
    "kernel": "python3"
   },
   "outputs": [],
   "source": [
    "df_complexity['PCI_2002'].describe(percentiles= [.75, .80, .90, .95])"
   ]
  },
  {
   "cell_type": "code",
   "execution_count": null,
   "metadata": {
    "kernel": "python3"
   },
   "outputs": [],
   "source": [
    "df_complexity.groupby('rank_2002')['PCI_2002'].describe()"
   ]
  },
  {
   "cell_type": "code",
   "execution_count": null,
   "metadata": {
    "kernel": "python3"
   },
   "outputs": [],
   "source": [
    "df_complexity.loc[lambda x: x['rank_2002'].isin(['High-tech'])].sort_values(by = ['PCI_2002']).tail()['Product']"
   ]
  },
  {
   "cell_type": "code",
   "execution_count": null,
   "metadata": {
    "kernel": "R"
   },
   "outputs": [],
   "source": [
    "df_final_1 <- df_final %>% \n",
    "left_join(read_csv('rank_complexity.csv',\n",
    "                                           col_types = cols(\n",
    "                                               hs4 = col_double()\n",
    "                                           )\n",
    "                                          )%>%select(Product,\n",
    "                                           hs4,\n",
    "                                           rank_2002,\n",
    "                                           dummy_tech_1,\n",
    "                                           dummy_tech_2,\n",
    "                                           dummy_tech_3,\n",
    "                                                     dummy_tech_4,\n",
    "                                                     dummy_tech_5\n",
    "                                                    )) %>%\n",
    "mutate_at(c('rank_2002'), ~replace(., is.na(.), 'Low-tech Complexity'))%>%\n",
    "mutate_at(c('dummy_tech_1',\n",
    "            'dummy_tech_2',\n",
    "            'dummy_tech_3',\n",
    "            'dummy_tech_4',\n",
    "            'dummy_tech_5'\n",
    "           ), ~replace(., is.na(.), FALSE),\n",
    "         )\n"
   ]
  },
  {
   "cell_type": "code",
   "execution_count": null,
   "metadata": {
    "kernel": "R"
   },
   "outputs": [],
   "source": [
    "table(df_final_1$dummy_tech_1)"
   ]
  },
  {
   "cell_type": "code",
   "execution_count": null,
   "metadata": {
    "kernel": "R"
   },
   "outputs": [],
   "source": [
    "table(df_final_1$dummy_tech_2)"
   ]
  },
  {
   "cell_type": "code",
   "execution_count": null,
   "metadata": {
    "kernel": "R"
   },
   "outputs": [],
   "source": [
    "table(df_final_1$dummy_tech_3)"
   ]
  },
  {
   "cell_type": "code",
   "execution_count": null,
   "metadata": {
    "kernel": "R"
   },
   "outputs": [],
   "source": [
    "table(df_final_1$dummy_tech_4)"
   ]
  },
  {
   "cell_type": "code",
   "execution_count": null,
   "metadata": {
    "kernel": "R"
   },
   "outputs": [],
   "source": [
    "table(df_final_1$dummy_tech_5)"
   ]
  },
  {
   "cell_type": "markdown",
   "metadata": {
    "kernel": "R"
   },
   "source": [
    "### Download RD oriented"
   ]
  },
  {
   "cell_type": "code",
   "execution_count": null,
   "metadata": {
    "kernel": "SoS"
   },
   "outputs": [],
   "source": [
    "query = \"\"\"\n",
    "WITH test AS (\n",
    "SELECT SUBSTRING(cic, 1, 2) as hs2,\n",
    "SUM(rdfee) as rdfee,\n",
    "SUM(total_asset) as total_asset,\n",
    "CAST(\n",
    "          SUM(rdfee) AS DECIMAL(16, 5)\n",
    "        ) / NULLIF(\n",
    "          CAST(\n",
    "            SUM(total_asset) AS DECIMAL(16, 5)\n",
    "          ), \n",
    "          0\n",
    "        ) AS rd_total_asset,\n",
    "CAST(\n",
    "          SUM(rdfee) AS DECIMAL(16, 5)\n",
    "        ) / NULLIF(\n",
    "          CAST(\n",
    "            SUM(output) AS DECIMAL(16, 5)\n",
    "          ), \n",
    "          0\n",
    "        ) AS rd_output\n",
    "FROM (\n",
    "SELECT \n",
    "cic, rdfee,output,  CASE WHEN (\n",
    "      c80 + c81 + c82 + c79 + tofixed - cudepre + (c91 + c92)\n",
    "    ) - (c95 + c97 + c99) > 0 THEN (c95 + c97 + c99) + ABS(\n",
    "      (\n",
    "        c80 + c81 + c82 + c79 + tofixed - cudepre + (c91 + c92)\n",
    "      ) - (c95 + c97 + c99)\n",
    "    ) ELSE (c95 + c97 + c99) END AS total_right, \n",
    "    CASE WHEN (\n",
    "      c80 + c81 + c82 + c79 + tofixed - cudepre + (c91 + c92)\n",
    "    ) - (c95 + c97 + c99) < 0 THEN (\n",
    "      c80 + c81 + c82 + c79 + tofixed - cudepre + (c91 + c92)\n",
    "    ) + ABS(\n",
    "      (\n",
    "        c80 + c81 + c82 + c79 + tofixed - cudepre + (c91 + c92)\n",
    "      ) - (c95 + c97 + c99)\n",
    "    ) ELSE (\n",
    "      c80 + c81 + c82 + c79 + tofixed - cudepre + (c91 + c92)\n",
    "    ) END AS total_asset\n",
    "    FROM firms_survey.asif_firms_prepared  \n",
    "WHERE year = '2005'\n",
    ")\n",
    "GROUP BY SUBSTRING(cic, 1, 2)\n",
    "ORDER BY rd_total_asset\n",
    ") \n",
    "SELECT *\n",
    "FROM test\n",
    "LEFT JOIN (\n",
    "    SELECT cic as ind2, short\n",
    "    FROM chinese_lookup.ind_cic_2_name\n",
    "    ) as ind_name\n",
    "    ON test.hs2 = ind_name.ind2\n",
    "\"\"\"\n",
    "list_rd = s3.run_query(\n",
    "            query=query,\n",
    "            database=db,\n",
    "            s3_output='SQL_OUTPUT_ATHENA',\n",
    "            filename='rd',  # Add filename to print dataframe\n",
    "            destination_key='SQL_OUTPUT_ATHENA/CSV',  #Use it temporarily\n",
    "        )\n",
    "list_rd"
   ]
  },
  {
   "cell_type": "code",
   "execution_count": null,
   "metadata": {
    "kernel": "SoS"
   },
   "outputs": [],
   "source": [
    "(\n",
    "    list_rd\n",
    "    .assign(\n",
    "        #hs4=lambda x: np.where(\n",
    "        #    x[\"cic\"].astype(\"str\").str.len() == 3,\n",
    "        #    \"0\" + x[\"cic\"].astype(\"str\"),\n",
    "        #   x[\"cic\"].astype(\"str\"),\n",
    "        #),\n",
    "        rd_asset = lambda x: x['rd_total_asset'] >=np.quantile(x['rd_total_asset'], 0.75),\n",
    "        rd_output = lambda x: x['rd_output'] >=np.quantile(x['rd_output'], 0.75)\n",
    "    )\n",
    "    .reindex(columns = [\n",
    "        #'hs4',\n",
    "        'hs2', 'rd_asset', 'rd_output', 'short'\n",
    "    ])\n",
    "    .to_csv('rd_vs_no_rd.csv', index = False)\n",
    ")"
   ]
  },
  {
   "cell_type": "code",
   "execution_count": null,
   "metadata": {
    "kernel": "R"
   },
   "outputs": [],
   "source": [
    "df_final_rd <-  df_final %>% left_join(\n",
    "    read_csv('rd_vs_no_rd.csv',\n",
    "             col_types = cols(\n",
    "                 hs2 = col_double(),\n",
    "                 hs4 = col_double()\n",
    "             ))\n",
    ") %>%\n",
    "mutate_at(c('rd_asset','rd_output'), ~replace(., is.na(.), FALSE))"
   ]
  },
  {
   "cell_type": "code",
   "execution_count": null,
   "metadata": {
    "kernel": "R"
   },
   "outputs": [],
   "source": [
    "table(df_final_rd$rd_output)"
   ]
  },
  {
   "cell_type": "code",
   "execution_count": null,
   "metadata": {
    "kernel": "R"
   },
   "outputs": [],
   "source": [
    "table(df_final_rd$rd_asset)"
   ]
  },
  {
   "cell_type": "markdown",
   "metadata": {
    "kernel": "R"
   },
   "source": [
    "### Dummy"
   ]
  },
  {
   "cell_type": "code",
   "execution_count": null,
   "metadata": {
    "kernel": "R"
   },
   "outputs": [],
   "source": [
    "%get path table\n",
    "t_1 <- felm(kandhelwal_quality ~rebate* regime* polluted + ln_lag_import_tax * regime+ ln_lag_import_tax +\n",
    "            lag_foreign_export_share_ckr + lag_soe_export_share_ckr\n",
    "            | fe_ckr  + fe_kt + fe_jtr|0 | hs6, df_final_polluted,\n",
    "            exactDOF = TRUE)\n",
    "t_1 <- change_target(t_1)\n",
    "\n",
    "print('table 1 done')\n",
    "t_2 <- felm(kandhelwal_quality ~rebate* regime * dummy_tech_2 + ln_lag_import_tax * regime+ ln_lag_import_tax+\n",
    "            lag_foreign_export_share_ckr + lag_soe_export_share_ckr\n",
    "            | fe_ckr  + fe_kt + fe_jtr|0 | hs6, df_final_1,\n",
    "            exactDOF = TRUE)\n",
    "t_2 <- change_target(t_2)\n",
    "print('table 2 done')\n",
    "\n",
    "t_3 <- felm(kandhelwal_quality ~rebate* regime * rd_output + ln_lag_import_tax * regime+ ln_lag_import_tax+\n",
    "            lag_foreign_export_share_ckr + lag_soe_export_share_ckr\n",
    "            | fe_ckr  + fe_kt + fe_jtr|0 | hs6, df_final_rd,\n",
    "            exactDOF = TRUE)\n",
    "t_3 <- change_target(t_3)\n",
    "print('table 4 done')\n",
    "dep <- \"Dependent variable: Product quality\"\n",
    "fe1 <- list(\n",
    "    c(\"City-product-regime\",\"Yes\", \"Yes\", \"Yes\"),\n",
    "    \n",
    "    c(\"Product-year\",\"Yes\", \"Yes\", \"Yes\", \"Yes\",\"Yes\"),\n",
    "    \n",
    "    c(\"Destination-year\", \"Yes\", \"Yes\", \"Yes\")\n",
    "             )\n",
    "\n",
    "table_1 <- go_latex(list(\n",
    "    t_1, t_2, t_3\n",
    "),\n",
    "    title=\"VAT export tax and firm’s quality upgrading, characteristics of sensible sectors\",\n",
    "    dep_var = dep,\n",
    "    addFE=fe1,\n",
    "    save=TRUE,\n",
    "    note = FALSE,\n",
    "    name=path\n",
    ") "
   ]
  },
  {
   "cell_type": "code",
   "execution_count": null,
   "metadata": {
    "kernel": "SoS"
   },
   "outputs": [],
   "source": [
    "tbe1  = \"\"\"\n",
    "This table estimates eq(3). \n",
    "Note that 'Eligible' refers to the regime entitle to VAT refund, our treatment group.\n",
    "Our control group is processing trade with supplied input, 'Non-Eligible' to VAT refund.\n",
    "Sectors are defined following the Chinese 4-digit GB/T industry\n",
    "classification and regroup several products.\n",
    "Heteroskedasticity-robust standard errors\n",
    "clustered at the product level appear inparentheses.\n",
    "\\sym{*} Significance at the 10\\%, \\sym{**} Significance at the 5\\%, \\sym{***} Significance at the 1\\%.\"\"\"\n",
    "\n",
    "multicolumn ={\n",
    "    'Rare-earth': 2,\n",
    "    'Polluted intensive': 2,\n",
    "    'High tech': 2,\n",
    "    'RD oriented': 2,\n",
    "    'High skilled oriented': 2\n",
    "}\n",
    "reorder = {\n",
    "    2:0,\n",
    "    3:1\n",
    "}\n",
    "multi_lines_dep = '(city/product/trade regime/year)'\n",
    "new_r = ['& No', 'Yes', 'No', 'Yes', 'No', 'Yes', 'No', 'Yes', 'No', 'Yes']\n",
    "lb.beautify(table_number = table_nb,\n",
    "            #multi_lines_dep = None,\n",
    "            #reorder_var = reorder,\n",
    "            #multi_lines_dep = multi_lines_dep,\n",
    "            #new_row= new_r,\n",
    "            #multicolumn = multicolumn,\n",
    "            table_nte = tbe1,\n",
    "            jupyter_preview = True,\n",
    "            resolution = 180,\n",
    "            folder = folder)"
   ]
  },
  {
   "cell_type": "markdown",
   "metadata": {
    "kernel": "SoS"
   },
   "source": [
    "### subset"
   ]
  },
  {
   "cell_type": "code",
   "execution_count": null,
   "metadata": {
    "kernel": "SoS"
   },
   "outputs": [],
   "source": [
    "folder = 'Tables_0'\n",
    "table_nb = 4\n",
    "table = 'table_{}'.format(table_nb)\n",
    "path = os.path.join(folder, table + '.txt')"
   ]
  },
  {
   "cell_type": "code",
   "execution_count": null,
   "metadata": {
    "kernel": "R"
   },
   "outputs": [],
   "source": [
    "%get path table\n",
    "#### RARE HEARTH\n",
    "#t_0 <- felm(kandhelwal_quality ~rebate* regime + ln_lag_import_tax * regime+ ln_lag_import_tax+\n",
    "#            lag_foreign_export_share_ckr + lag_soe_export_share_ckr\n",
    "#            | fe_ckr  + fe_kt + fe_jtr|0 | hs6, df_final %>% filter(hs6 != 850511),\n",
    "#            exactDOF = TRUE)\n",
    "#t_0 <- change_target(t_0)\n",
    "#print('table 0 done')\n",
    "\n",
    "#t_1 <- felm(kandhelwal_quality ~rebate* regime + ln_lag_import_tax * regime+ ln_lag_import_tax+\n",
    "#            lag_foreign_export_share_ckr + lag_soe_export_share_ckr\n",
    "#            | fe_ckr  + fe_kt + fe_jtr|0 | hs6, df_final %>% filter(hs6 == 850511),\n",
    "#            exactDOF = TRUE)\n",
    "#t_1 <- change_target(t_1)\n",
    "#print('table 0 done')\n",
    "\n",
    "#### NO LARGE POLLUTED INDUSTRY\n",
    "t_1 <- felm(kandhelwal_quality ~rebate* regime + ln_lag_import_tax * regime+ ln_lag_import_tax +\n",
    "            lag_foreign_export_share_ckr + lag_soe_export_share_ckr\n",
    "            | fe_ckr  + fe_kt + fe_jtr|0 | hs6, df_final_polluted %>% filter(polluted == TRUE),\n",
    "            exactDOF = TRUE)\n",
    "t_1 <- change_target(t_1)\n",
    "print('table 1 done')\n",
    "\n",
    "t_2 <- felm(kandhelwal_quality ~rebate* regime + ln_lag_import_tax * regime+ ln_lag_import_tax +\n",
    "            lag_foreign_export_share_ckr + lag_soe_export_share_ckr\n",
    "            | fe_ckr  + fe_kt + fe_jtr|0 | hs6, df_final_polluted %>% filter(polluted == FALSE),\n",
    "            exactDOF = TRUE)\n",
    "t_2 <- change_target(t_2)\n",
    "print('table 1 done')\n",
    "\n",
    "#### LARGEST COMPLEXITY ->ONE WITH BEST POTENTIAL\n",
    "t_3 <- felm(kandhelwal_quality ~rebate* regime + ln_lag_import_tax * regime+ ln_lag_import_tax+\n",
    "            lag_foreign_export_share_ckr + lag_soe_export_share_ckr\n",
    "            | fe_ckr  + fe_kt + fe_jtr|0 | hs6, df_final_1 %>% filter(dummy_tech_2 == TRUE),\n",
    "            exactDOF = TRUE)\n",
    "t_3 <- change_target(t_3)\n",
    "print('table 2 done')\n",
    "\n",
    "t_4 <- felm(kandhelwal_quality ~rebate* regime + ln_lag_import_tax * regime+ ln_lag_import_tax+\n",
    "            lag_foreign_export_share_ckr + lag_soe_export_share_ckr\n",
    "            | fe_ckr  + fe_kt + fe_jtr|0 | hs6, df_final_1 %>% filter(dummy_tech_2 == FALSE),\n",
    "            exactDOF = TRUE)\n",
    "t_4 <- change_target(t_4)\n",
    "print('table 2 done')\n",
    "#### SKILLED\n",
    "#t_6 <- felm(kandhelwal_quality ~rebate* regime + ln_lag_import_tax * regime+ ln_lag_import_tax+\n",
    "#            lag_foreign_export_share_ckr + lag_soe_export_share_ckr\n",
    "#            | fe_ckr  + fe_kt + fe_jtr|0 | hs6, df_final %>% filter(is.na(skilled)),\n",
    "#            exactDOF = TRUE)\n",
    "#t_6 <- change_target(t_6)\n",
    "#print('table 3 done')\n",
    "\n",
    "#t_7 <- felm(kandhelwal_quality ~rebate* regime + ln_lag_import_tax * regime+ ln_lag_import_tax+\n",
    "#            lag_foreign_export_share_ckr + lag_soe_export_share_ckr\n",
    "#            | fe_ckr  + fe_kt + fe_jtr|0 | hs6, df_final %>% filter(!is.na(skilled)),\n",
    "#            exactDOF = TRUE)\n",
    "#t_7 <- change_target(t_7)\n",
    "#print('table 3 done')\n",
    "##### RD\n",
    "t_5 <- felm(kandhelwal_quality ~rebate* regime + ln_lag_import_tax * regime+ ln_lag_import_tax+\n",
    "            lag_foreign_export_share_ckr + lag_soe_export_share_ckr\n",
    "            | fe_ckr  + fe_kt + fe_jtr|0 | hs6, df_final_rd %>% filter(rd_output == TRUE),\n",
    "            exactDOF = TRUE)\n",
    "t_5 <- change_target(t_5)\n",
    "print('table 3 done')\n",
    "\n",
    "t_6 <- felm(kandhelwal_quality ~rebate* regime + ln_lag_import_tax * regime+ ln_lag_import_tax+\n",
    "            lag_foreign_export_share_ckr + lag_soe_export_share_ckr\n",
    "            | fe_ckr  + fe_kt + fe_jtr|0 | hs6, df_final_rd %>% filter(rd_output == FALSE),\n",
    "            exactDOF = TRUE)\n",
    "t_6 <- change_target(t_6)\n",
    "print('table 3 done')\n",
    "\n",
    "dep <- \"Dependent variable: Product quality\"\n",
    "fe1 <- list(\n",
    "    c(\"City-product-regime\",\"Yes\", \"Yes\", \"Yes\", \"Yes\",\"Yes\",\"Yes\"),\n",
    "    \n",
    "    c(\"Product-year\",\"Yes\", \"Yes\", \"Yes\", \"Yes\",\"Yes\",\"Yes\"),\n",
    "    \n",
    "    c(\"Destination-year\", \"Yes\", \"Yes\", \"Yes\", \"Yes\",\"Yes\", \"Yes\")\n",
    "             )\n",
    "\n",
    "table_1 <- go_latex(list(\n",
    "    t_1, t_2, t_3, t_4, t_5, t_6\n",
    "),\n",
    "    title=\"VAT export tax and firm’s quality upgrading, characteristics of sensible sectors\",\n",
    "    dep_var = dep,\n",
    "    addFE=fe1,\n",
    "    save=TRUE,\n",
    "    note = FALSE,\n",
    "    name=path\n",
    ") "
   ]
  },
  {
   "cell_type": "code",
   "execution_count": null,
   "metadata": {
    "kernel": "SoS"
   },
   "outputs": [],
   "source": [
    "tbe1  = \"\"\"\n",
    "This table estimates eq(3). \n",
    "Note that 'Eligible' refers to the regime entitle to VAT refund, our treatment group.\n",
    "Our control group is processing trade with supplied input, 'Non-Eligible' to VAT refund.\n",
    "Sectors are defined following the Chinese 4-digit GB/T industry\n",
    "classification and regroup several products.\n",
    "Heteroskedasticity-robust standard errors\n",
    "clustered at the product level appear inparentheses.\n",
    "\\sym{*} Significance at the 10\\%, \\sym{**} Significance at the 5\\%, \\sym{***} Significance at the 1\\%.\"\"\"\n",
    "\n",
    "multicolumn ={\n",
    "    #'Rare-earth': 2,\n",
    "    'Polluted intensive': 2,\n",
    "    'High tech': 2,\n",
    "    'RD oriented': 2,\n",
    "    #1'High skilled oriented': 2\n",
    "}\n",
    "reorder = {\n",
    "    2:0,\n",
    "    3:1\n",
    "}\n",
    "multi_lines_dep = '(city/product/trade regime/year)'\n",
    "new_r = ['& Yes', 'No', 'Yes', 'No', 'Yes', 'No']\n",
    "lb.beautify(table_number = table_nb,\n",
    "            #multi_lines_dep = None,\n",
    "            #reorder_var = reorder,\n",
    "            multi_lines_dep = multi_lines_dep,\n",
    "            new_row= new_r,\n",
    "            multicolumn = multicolumn,\n",
    "            table_nte = tbe1,\n",
    "            jupyter_preview = True,\n",
    "            resolution = 180,\n",
    "            folder = folder)"
   ]
  },
  {
   "cell_type": "markdown",
   "metadata": {
    "kernel": "SoS"
   },
   "source": [
    "# Non Tariff Measure\n",
    "\n",
    "- Model is located here: [checkpoint-2562](https://drive.google.com/drive/folders/13rpnm5X5UG-MgLAFb8r1Pu2F-hvGA443?usp=sharing)"
   ]
  },
  {
   "cell_type": "code",
   "execution_count": null,
   "metadata": {
    "kernel": "SoS"
   },
   "outputs": [],
   "source": [
    "folder = 'Tables_0'\n",
    "table_nb = 5\n",
    "table = 'table_{}'.format(table_nb)\n",
    "path = os.path.join(folder, table + '.txt')\n",
    "\n",
    "#for ext in ['.txt', '.tex', '.pdf']:\n",
    "#    x = [a for a in os.listdir(folder) if a.endswith(ext)]\n",
    "#    [os.remove(os.path.join(folder, i)) for i in x]"
   ]
  },
  {
   "cell_type": "code",
   "execution_count": null,
   "metadata": {
    "kernel": "R"
   },
   "outputs": [],
   "source": [
    "%get path table\n",
    "t_0 <- felm(\n",
    "    kandhelwal_quality ~\n",
    "    rebate * regime * lag_stock_ntm + \n",
    "    rebate * regime * lag_frequency + \n",
    "    rebate * regime * lag_prevalence + \n",
    "    rebate * regime * lag_coverage + \n",
    "    ln_lag_import_tax * regime +\n",
    "        ln_lag_import_tax  \n",
    "            | fe_ckr  + fe_kt + fe_jtr |0 | hs6, df_final %>%select(-lag_stock_ntm) %>% \n",
    "    rename(lag_stock_ntm = lag_stock_ntm_china),\n",
    "            exactDOF = TRUE)\n",
    "   \n",
    "#### ENV\n",
    "t_1 <- felm(\n",
    "    kandhelwal_quality ~\n",
    "    rebate * regime * lag_stock_ntm + \n",
    "    rebate * regime * lag_frequency + \n",
    "    rebate * regime * lag_prevalence + \n",
    "    rebate * regime * lag_coverage + \n",
    "    ln_lag_import_tax * regime +\n",
    "        ln_lag_import_tax  \n",
    "            | fe_ckr  + fe_kt + fe_jtr |0 | hs6, df_final %>%select(-lag_stock_ntm) %>% \n",
    "    rename(lag_stock_ntm = lag_stock_ntm_env),\n",
    "            exactDOF = TRUE)\n",
    "\n",
    "### TBT\n",
    "t_2 <- felm(\n",
    "    kandhelwal_quality ~\n",
    "    rebate * regime * lag_stock_ntm + \n",
    "    rebate * regime * lag_frequency + \n",
    "    rebate * regime * lag_prevalence + \n",
    "    rebate * regime * lag_coverage + \n",
    "    ln_lag_import_tax * regime +\n",
    "        ln_lag_import_tax  \n",
    "            | fe_ckr  + fe_kt + fe_jtr |0 | hs6, df_final %>%select(-lag_stock_ntm) %>% \n",
    "    rename(lag_stock_ntm = lag_stock_ntm_TBT),\n",
    "            exactDOF = TRUE)\n",
    "\n",
    "### SPS\n",
    "t_3 <- felm(\n",
    "    kandhelwal_quality ~\n",
    "    rebate * regime * lag_stock_ntm + \n",
    "    rebate * regime * lag_frequency + \n",
    "    rebate * regime * lag_prevalence + \n",
    "    rebate * regime * lag_coverage + \n",
    "    ln_lag_import_tax * regime +\n",
    "        ln_lag_import_tax  \n",
    "            | fe_ckr  + fe_kt + fe_jtr |0 | hs6, df_final %>%select(-lag_stock_ntm) %>% \n",
    "    rename(lag_stock_ntm = lag_stock_ntm_SPS),\n",
    "            exactDOF = TRUE)\n",
    "### ADP\n",
    "t_4 <- felm(\n",
    "    kandhelwal_quality ~\n",
    "    rebate * regime * lag_stock_ntm + \n",
    "    rebate * regime * lag_frequency + \n",
    "    rebate * regime * lag_prevalence + \n",
    "    rebate * regime * lag_coverage + \n",
    "    ln_lag_import_tax * regime +\n",
    "        ln_lag_import_tax  \n",
    "            | fe_ckr  + fe_kt + fe_jtr |0 | hs6, df_final %>%select(-lag_stock_ntm) %>% \n",
    "    rename(lag_stock_ntm = lag_stock_ntm_ADP),\n",
    "            exactDOF = TRUE)\n",
    "### DVP vs L DVP\n",
    "t_5 <- felm(\n",
    "    kandhelwal_quality ~\n",
    "    rebate * regime * lag_stock_ntm + \n",
    "    rebate * regime * lag_frequency + \n",
    "    rebate * regime * lag_prevalence + \n",
    "    rebate * regime * lag_coverage + \n",
    "    ln_lag_import_tax * regime +\n",
    "        ln_lag_import_tax  \n",
    "            | fe_ckr  + fe_kt + fe_jtr |0 | hs6, df_final %>%select(-lag_stock_ntm) %>% \n",
    "    rename(lag_stock_ntm = lag_stock_ntm_dvp_c),\n",
    "            exactDOF = TRUE)\n",
    "\n",
    "### prevalence\n",
    "t_6 <- felm(\n",
    "    kandhelwal_quality ~\n",
    "    rebate * regime * lag_stock_ntm + \n",
    "    rebate * regime * lag_frequency + \n",
    "    rebate * regime * lag_prevalence + \n",
    "    rebate * regime * lag_coverage + \n",
    "    ln_lag_import_tax * regime +\n",
    "        ln_lag_import_tax  \n",
    "            | fe_ckr  + fe_kt + fe_jtr |0 | hs6,  df_final %>%select(-lag_stock_ntm) %>% \n",
    "    rename(lag_stock_ntm = lag_stock_ntm_china),\n",
    "            exactDOF = TRUE)\n",
    "dep <- \"Dependent variable: Product quality\"\n",
    "fe1 <- list(\n",
    "    c(\"City-product-regime\",\"Yes\", \"Yes\", \"Yes\", \"Yes\",\"Yes\",\"Yes\",\"Yes\",\"Yes\"),\n",
    "    \n",
    "    c(\"Product-year\",\"Yes\", \"Yes\", \"Yes\", \"Yes\",\"Yes\",\"Yes\",\"Yes\",\"Yes\"),\n",
    "    \n",
    "    c(\"Destination-year\", \"Yes\", \"Yes\", \"Yes\", \"Yes\",\"Yes\", \"Yes\",\"Yes\",\"Yes\")\n",
    "             )\n",
    "\n",
    "table_1 <- go_latex(list(\n",
    "    t_0,t_1, t_2, t_3, t_4, t_5#, t_6\n",
    "),\n",
    "    title=\"VAT export tax and firm’s quality upgrading NTM anaysis\",\n",
    "    dep_var = dep,\n",
    "    addFE=fe1,\n",
    "    save=TRUE,\n",
    "    note = FALSE,\n",
    "    name=path\n",
    ") "
   ]
  },
  {
   "cell_type": "code",
   "execution_count": null,
   "metadata": {
    "kernel": "SoS"
   },
   "outputs": [],
   "source": [
    "tbe1  = \"\"\"\n",
    "This table estimates eq(3). \n",
    "Note that 'Eligible' refers to the regime entitle to VAT refund, our treatment group.\n",
    "Our control group is processing trade with supplied input, 'Non-Eligible' to VAT refund.\n",
    "Sectors are defined following the Chinese 4-digit GB/T industry\n",
    "classification and regroup several products.\n",
    "Heteroskedasticity-robust standard errors\n",
    "clustered at the product level appear inparentheses.\n",
    "\\sym{*} Significance at the 10\\%, \\sym{**} Significance at the 5\\%, \\sym{***} Significance at the 1\\%.\"\"\"\n",
    "\n",
    "multicolumn ={\n",
    "    'Baseline': 1,\n",
    "    'Environnement': 1,\n",
    "    'classification': 3,\n",
    "    'Developped': 1,\n",
    "    #'Destination': 1\n",
    "}\n",
    "reorder = {\n",
    "    12:2,\n",
    "    #5:1\n",
    "}\n",
    "multi_lines_dep = '(city/product/trade regime/year)'\n",
    "new_r = ['& ', '', 'TBT', 'SPS', 'ADP', '','','']\n",
    "lb.beautify(table_number = table_nb,\n",
    "            #multi_lines_dep = None,\n",
    "            #reorder_var = reorder,\n",
    "            multi_lines_dep = multi_lines_dep,\n",
    "            new_row= new_r,\n",
    "            multicolumn = multicolumn,\n",
    "            table_nte = tbe1,\n",
    "            jupyter_preview = True,\n",
    "            resolution = 180,\n",
    "            folder = folder)"
   ]
  },
  {
   "cell_type": "code",
   "execution_count": null,
   "metadata": {
    "kernel": "R"
   },
   "outputs": [],
   "source": [
    "summary(\n",
    "felm(\n",
    "    kandhelwal_quality ~\n",
    "    rebate * regime * lag_DV_C +\n",
    "    ln_lag_import_tax * regime \n",
    "            | group_id+fe_ckr +fe_kt + fe_jtr|0, df_final\n",
    "    %>% group_by(geocode4_corr,year, regime\n",
    ") %>% mutate(group_id = group_indices())\n",
    "    ,\n",
    "            exactDOF = TRUE)\n",
    ")"
   ]
  },
  {
   "cell_type": "code",
   "execution_count": null,
   "metadata": {
    "kernel": "R"
   },
   "outputs": [],
   "source": [
    "summary(\n",
    "felm(\n",
    "    kandhelwal_quality ~\n",
    "    rebate * regime * DV_C +\n",
    "    ln_lag_import_tax * regime \n",
    "            | group_id+group_id1+fe_ckr +fe_kt + fe_jtr|0, df_final\n",
    "    %>% group_by(geocode4_corr,year, regime\n",
    ") %>% mutate(group_id = group_indices())\n",
    "    ,\n",
    "            exactDOF = TRUE)\n",
    ")"
   ]
  },
  {
   "cell_type": "code",
   "execution_count": null,
   "metadata": {
    "kernel": "R"
   },
   "outputs": [],
   "source": [
    "summary(\n",
    "felm(\n",
    "    kandhelwal_quality ~\n",
    "    rebate * regime * lag_DV_C +\n",
    "    ln_lag_import_tax * regime \n",
    "            | fe_ckr  + fe_kt + fe_jtr |0 | hs6, df_final,\n",
    "            exactDOF = TRUE)\n",
    ")"
   ]
  },
  {
   "cell_type": "code",
   "execution_count": null,
   "metadata": {
    "kernel": "SoS"
   },
   "outputs": [],
   "source": [
    " \"DM_C\",\n",
    "            \"lag_DM_C\",\n",
    "            \"DV_C\",\n",
    "            \"lag_DV_C\""
   ]
  },
  {
   "cell_type": "markdown",
   "metadata": {
    "kernel": "SoS",
    "nteract": {
     "transient": {
      "deleting": false
     }
    }
   },
   "source": [
    "# Generate reports"
   ]
  },
  {
   "cell_type": "code",
   "execution_count": null,
   "metadata": {
    "kernel": "python3",
    "nteract": {
     "transient": {
      "deleting": false
     }
    },
    "outputExpanded": false
   },
   "outputs": [],
   "source": [
    "import os, time, shutil, urllib, ipykernel, json\n",
    "from pathlib import Path\n",
    "from notebook import notebookapp\n",
    "import sys\n",
    "path = os.getcwd()\n",
    "parent_path = str(Path(path).parent.parent.parent)\n",
    "sys.path.append(os.path.join(parent_path, 'utils'))\n",
    "import make_toc"
   ]
  },
  {
   "cell_type": "code",
   "execution_count": null,
   "metadata": {
    "kernel": "python3"
   },
   "outputs": [],
   "source": [
    "name_json = 'parameters_ETL_VAT_rebate_quality_china.json'\n",
    "path_json = os.path.join(str(Path(path).parent.parent), 'utils',name_json)"
   ]
  },
  {
   "cell_type": "code",
   "execution_count": null,
   "metadata": {
    "kernel": "python3",
    "nteract": {
     "transient": {
      "deleting": false
     }
    },
    "outputExpanded": false
   },
   "outputs": [],
   "source": [
    "def create_report(extension = \"html\", keep_code = False, notebookname = None):\n",
    "    \"\"\"\n",
    "    Create a report from the current notebook and save it in the \n",
    "    Report folder (Parent-> child directory)\n",
    "    \n",
    "    1. Exctract the current notbook name\n",
    "    2. Convert the Notebook \n",
    "    3. Move the newly created report\n",
    "    \n",
    "    Args:\n",
    "    extension: string. Can be \"html\", \"pdf\", \"md\"\n",
    "    \n",
    "    \n",
    "    \"\"\"\n",
    "    \n",
    "    ### Get notebook name\n",
    "    connection_file = os.path.basename(ipykernel.get_connection_file())\n",
    "    kernel_id = connection_file.split('-', 1)[0].split('.')[0]\n",
    "\n",
    "    for srv in notebookapp.list_running_servers():\n",
    "        try:\n",
    "            if srv['token']=='' and not srv['password']:  \n",
    "                req = urllib.request.urlopen(srv['url']+'api/sessions')\n",
    "            else:\n",
    "                req = urllib.request.urlopen(srv['url']+ \\\n",
    "                                             'api/sessions?token=' + \\\n",
    "                                             srv['token'])\n",
    "            sessions = json.load(req)\n",
    "            notebookname = sessions[0]['name']\n",
    "        except:\n",
    "            notebookname = notebookname  \n",
    "    \n",
    "    sep = '.'\n",
    "    path = os.getcwd()\n",
    "    #parent_path = str(Path(path).parent)\n",
    "    \n",
    "    ### Path report\n",
    "    #path_report = \"{}/Reports\".format(parent_path)\n",
    "    #path_report = \"{}/Reports\".format(path)\n",
    "    \n",
    "    ### Path destination\n",
    "    name_no_extension = notebookname.split(sep, 1)[0]\n",
    "    source_to_move = name_no_extension +'.{}'.format(extension)\n",
    "    dest = os.path.join(path,'Reports', source_to_move)\n",
    "    \n",
    "    ### Generate notebook\n",
    "    if keep_code:\n",
    "        os.system('jupyter nbconvert --to {} {}'.format(\n",
    "    extension,notebookname))\n",
    "    else:\n",
    "        os.system('jupyter nbconvert --no-input --to {} {}'.format(\n",
    "    extension,notebookname))\n",
    "    \n",
    "    ### Move notebook to report folder\n",
    "    #time.sleep(5)\n",
    "    shutil.move(source_to_move, dest)\n",
    "    print(\"Report Available at this adress:\\n {}\".format(dest))"
   ]
  },
  {
   "cell_type": "code",
   "execution_count": null,
   "metadata": {
    "kernel": "python3",
    "nteract": {
     "transient": {
      "deleting": false
     }
    },
    "outputExpanded": false
   },
   "outputs": [],
   "source": [
    "create_report(extension = \"html\", keep_code = True, notebookname = \"00_baseline_vat_quality.ipynb\")"
   ]
  },
  {
   "cell_type": "code",
   "execution_count": null,
   "metadata": {
    "kernel": "python3"
   },
   "outputs": [],
   "source": [
    "### Update TOC in Github\n",
    "for p in [parent_path,\n",
    "          str(Path(path).parent),\n",
    "          #os.path.join(str(Path(path).parent), \"00_download_data_from\"),\n",
    "          #os.path.join(str(Path(path).parent.parent), \"02_data_analysis\"),\n",
    "          #os.path.join(str(Path(path).parent.parent), \"02_data_analysis\", \"00_statistical_exploration\"),\n",
    "          #os.path.join(str(Path(path).parent.parent), \"02_data_analysis\", \"01_model_estimation\"),\n",
    "         ]:\n",
    "    try:\n",
    "        os.remove(os.path.join(p, 'README.md'))\n",
    "    except:\n",
    "        pass\n",
    "    path_parameter = os.path.join(parent_path,'utils', name_json)\n",
    "    md_lines =  make_toc.create_index(cwd = p, path_parameter = path_parameter)\n",
    "    md_out_fn = os.path.join(p,'README.md')\n",
    "    \n",
    "    if p == parent_path:\n",
    "    \n",
    "        make_toc.replace_index(md_out_fn, md_lines, Header = os.path.basename(p).replace('_', ' '), add_description = True, path_parameter = path_parameter)\n",
    "    else:\n",
    "        make_toc.replace_index(md_out_fn, md_lines, Header = os.path.basename(p).replace('_', ' '), add_description = False)"
   ]
  }
 ],
 "metadata": {
  "jupytext": {
   "formats": "ipynb,md"
  },
  "kernel_info": {
   "name": "python3"
  },
  "kernelspec": {
   "display_name": "SoS",
   "language": "sos",
   "name": "sos"
  },
  "language_info": {
   "codemirror_mode": "sos",
   "file_extension": ".sos",
   "mimetype": "text/x-sos",
   "name": "sos",
   "nbconvert_exporter": "sos_notebook.converter.SoS_Exporter",
   "pygments_lexer": "sos"
  },
  "nteract": {
   "version": "0.26.0"
  },
  "sos": {
   "kernels": [
    [
     "R",
     "ir",
     "R",
     "#DCDCDA",
     "r"
    ],
    [
     "SoS",
     "sos",
     "",
     "",
     "sos"
    ],
    [
     "python3",
     "python3",
     "python",
     "",
     {
      "name": "ipython",
      "version": 3
     }
    ]
   ],
   "version": "0.20.1"
  },
  "toc": {
   "base_numbering": 1,
   "nav_menu": {},
   "number_sections": true,
   "sideBar": true,
   "skip_h1_title": false,
   "title_cell": "Table of Contents",
   "title_sidebar": "Contents",
   "toc_cell": false,
   "toc_position": {},
   "toc_section_display": true,
   "toc_window_display": false
  }
 },
 "nbformat": 4,
 "nbformat_minor": 4
}
