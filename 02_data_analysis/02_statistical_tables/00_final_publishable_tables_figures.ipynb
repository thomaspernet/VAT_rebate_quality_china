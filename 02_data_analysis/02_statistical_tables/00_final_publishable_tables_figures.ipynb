{
 "cells": [
  {
   "cell_type": "markdown",
   "metadata": {
    "kernel": "SoS"
   },
   "source": [
    "# US Name\n",
    " Replicate figure 1 Share of HS6 processing export of 2006\n",
    "\n",
    "\n",
    "# Description\n",
    "\n",
    "- Action: Replicate figure 1 Share of HS6 processing export of 2006\n",
    "- Action: Replicate figure 2 Average VAT rebate share\n",
    "- Action: Replicate figure 3 Distribution of unique rebate share\n",
    "\n",
    "## Variables\n",
    "### Target\n",
    "\n",
    "kandhelwal_quality\n",
    "\n",
    "### Features\n",
    "\n",
    "- lag_tax_rebate\n",
    "\n",
    "## Complementary information\n",
    "\n",
    "\n",
    "\n",
    "# Metadata\n",
    "\n",
    "- Key: 209_VAT_rebate_quality\n",
    "- Epic: Summary statisticts\n",
    "- US: Figures and tables\n",
    "- Task tag: #figures, #summary-statistics, #publish\n",
    "- Analytics reports: \n",
    "\n",
    "# Input Cloud Storage\n",
    "\n",
    "## Table/file\n",
    "\n",
    "**Name**\n",
    "\n",
    "- china_vat_quality\n",
    "\n",
    "**Github**\n",
    "\n",
    "- https://github.com/thomaspernet/VAT_rebate_quality_china/blob/master/01_data_preprocessing/02_transform_tables/04_baseline_vat_quantity_covariates.md\n",
    "\n"
   ]
  },
  {
   "cell_type": "markdown",
   "metadata": {
    "kernel": "SoS"
   },
   "source": [
    "# Connexion server"
   ]
  },
  {
   "cell_type": "code",
   "execution_count": null,
   "metadata": {
    "kernel": "python3"
   },
   "outputs": [],
   "source": [
    "from awsPy.aws_authorization import aws_connector\n",
    "from awsPy.aws_s3 import service_s3\n",
    "from awsPy.aws_glue import service_glue\n",
    "from pathlib import Path\n",
    "import pandas as pd\n",
    "import numpy as np\n",
    "#import seaborn as sns\n",
    "import os, shutil, json\n",
    "import sys\n",
    "\n",
    "path = os.getcwd()\n",
    "parent_path = str(Path(path).parent.parent)\n",
    "\n",
    "\n",
    "name_credential = 'financial_dep_SO2_accessKeys.csv'\n",
    "region = 'eu-west-3'\n",
    "bucket = 'datalake-datascience'\n",
    "path_cred = \"{0}/creds/{1}\".format(parent_path, name_credential)"
   ]
  },
  {
   "cell_type": "code",
   "execution_count": null,
   "metadata": {
    "kernel": "python3"
   },
   "outputs": [],
   "source": [
    "con = aws_connector.aws_instantiate(credential = path_cred,\n",
    "                                       region = region)\n",
    "client= con.client_boto()\n",
    "s3 = service_s3.connect_S3(client = client,\n",
    "                      bucket = bucket, verbose = False)\n",
    "glue = service_glue.connect_glue(client = client) "
   ]
  },
  {
   "cell_type": "code",
   "execution_count": null,
   "metadata": {
    "kernel": "python3"
   },
   "outputs": [],
   "source": [
    "pandas_setting = True\n",
    "if pandas_setting:\n",
    "    #cm = sns.light_palette(\"green\", as_cmap=True)\n",
    "    pd.set_option('display.max_columns', None)\n",
    "    pd.set_option('display.max_colwidth', None)"
   ]
  },
  {
   "cell_type": "code",
   "execution_count": null,
   "metadata": {
    "kernel": "python3",
    "nteract": {
     "transient": {
      "deleting": false
     }
    }
   },
   "outputs": [],
   "source": [
    "os.environ['KMP_DUPLICATE_LIB_OK']='True'\n"
   ]
  },
  {
   "cell_type": "markdown",
   "metadata": {
    "kernel": "SoS"
   },
   "source": [
    "# Replicate figure 1\n",
    "\n",
    "* Replicate figure 2\n",
    "  * ![](https://codahosted.io/docs/0g9ZwZNAQV/blobs/bl-K8WlBVNG9r/6fb521fdb69b80f2bc48eeb26bc6d01320871e8cb73a89f3d26e9e57bf24370fd6b5bead9ec94808fcb0f92f55bc1fa16f1a3c0f7fe2a9aebb996235db23eae396bda5734ca8d4b42aa9a53b9a1ce6fe3c32da0bf835ca3df0eec17e17350b36da4dd173)\n",
    "* Original R code:\n",
    "\n",
    "```\n",
    "####create graph\n",
    "vat$hs2 <- substr(vat$hs6, 1,2)\n",
    "violin <- vat %>%\n",
    "  filter(t==2002) %>%\n",
    "  mutate(share_rebate = vat_reb_m/vat_m) %>%\n",
    "  group_by(hs2) %>%\n",
    "  summarise(mean = mean(share_rebate), sd = sd(share_rebate), n = n()) \n",
    "library(ggthemes)\n",
    "ggplot(violin, aes(x=hs2, y=mean)) + \n",
    "  geom_errorbar(aes(ymin=mean-sd, ymax=mean+sd), width=.2) +\n",
    "  geom_line() +\n",
    "  geom_point() +\n",
    "  scale_x_discrete(breaks=seq(0,98,5)) +\n",
    "  labs(x = \"HS2\", y = \"Average VAT export tax\") + \n",
    "  theme_stata()\n",
    "  #+\n",
    "  #labs(title = \"Dispertion and Average Of VAT export Tax in year 2002, HS2\",\n",
    "  #     caption = \"Each HS2 may contain between 2 and 521 products HS6\", \n",
    "  #     x = \"HS2\", y = \"Average VAT export tax\")\n",
    "\n",
    "ggsave(\"violin.png\")\n",
    "```"
   ]
  },
  {
   "cell_type": "code",
   "execution_count": null,
   "metadata": {
    "kernel": "python3"
   },
   "outputs": [],
   "source": [
    "db = 'chinese_trade'\n",
    "table = 'china_vat_quality'"
   ]
  },
  {
   "cell_type": "code",
   "execution_count": null,
   "metadata": {
    "kernel": "python3",
    "nteract": {
     "transient": {
      "deleting": false
     }
    }
   },
   "outputs": [],
   "source": [
    "query = \"\"\"\n",
    "WITH temp AS (\n",
    "SELECT distinct(hs6),  hs2, lag_vat_reb_m, lag_vat_m\n",
    "FROM {}.{}  \n",
    "WHERE year = '2004'\n",
    ")\n",
    "SELECT hs2, AVG(lag_vat_reb_m/lag_vat_m) as share_rebate, stddev(lag_vat_reb_m/lag_vat_m) as std\n",
    "FROM temp\n",
    "GROUP BY hs2\n",
    "ORDER BY hs2\n",
    "\n",
    "\"\"\".format(db, table)\n",
    "\n",
    "df = s3.run_query(\n",
    "            query=query,\n",
    "            database=db,\n",
    "            s3_output='SQL_OUTPUT_ATHENA',\n",
    "            filename='fig1',  # Add filename to print dataframe\n",
    "            destination_key='SQL_OUTPUT_ATHENA/CSV',  #Use it temporarily\n",
    "            dtype = {'hs6':'string', 'hs2':'string'}\n",
    ")\n",
    "        "
   ]
  },
  {
   "cell_type": "code",
   "execution_count": null,
   "metadata": {
    "kernel": "python3"
   },
   "outputs": [],
   "source": [
    "df.shape"
   ]
  },
  {
   "cell_type": "code",
   "execution_count": null,
   "metadata": {
    "kernel": "python3"
   },
   "outputs": [],
   "source": [
    "df.sort_values(by =['std']).loc[lambda x: x['std'].isin([0])].count()/df.shape[0]"
   ]
  },
  {
   "cell_type": "code",
   "execution_count": null,
   "metadata": {
    "kernel": "python3"
   },
   "outputs": [],
   "source": [
    "import matplotlib.pyplot as plt"
   ]
  },
  {
   "cell_type": "code",
   "execution_count": null,
   "metadata": {
    "kernel": "python3"
   },
   "outputs": [],
   "source": [
    "fig, ax = plt.subplots(figsize=(10, 8))\n",
    "ax.scatter(df['hs2'], df['share_rebate'], label = 'blah')\n",
    "ax.errorbar(df['hs2'], df['share_rebate'], yerr = df['std'], xerr = None, ls='none') \n",
    "ax.spines['right'].set_visible(False)\n",
    "ax.spines['top'].set_visible(False)\n",
    "#ax.set_ylim(df['share_rebate'].min(), 1)\n",
    "ax.set_xlim(df['hs2'].min(), df['hs2'].max())\n",
    "plt.xlabel('HS2')\n",
    "plt.ylabel('Average HS2 VAT rebate')\n",
    "plt.title('Average VAT rebate share and standard error within each HS2 (2003).')\n",
    "plt.savefig(\"Figures/fig_1.png\",\n",
    "            bbox_inches='tight',\n",
    "            dpi=600)"
   ]
  },
  {
   "cell_type": "markdown",
   "metadata": {
    "kernel": "SoS"
   },
   "source": [
    "# Replicate figure 2\n",
    "\n",
    "* replicate figure 3\n",
    "  * ![](https://codahosted.io/docs/0g9ZwZNAQV/blobs/bl-OYoC1g0e4g/c391c33773af4a9314b85dba16030c983645be6178b9b4d72c92fa075cbbe07a4c5bdc3dad396d083ecafc08debf6fa1cebec13a1511ffd63053daeeac9533d478661a687203ccedd50a213eec32eb83766b3b6886b37ced83275e43091d6a8c2869bb27)\n",
    "* Original R code:\n",
    "\n",
    "```\n",
    "#### On regrde le nombre de taux different par année\n",
    "violin <- vat %>%\n",
    "      mutate(share_rebate = vat_reb_m/vat_m,\n",
    "             export_tax= ifelse(share_rebate <0, 0, share_rebate),t = factor(t)) %>%\n",
    "      group_by(t) %>% \n",
    "      distinct(share_rebate) %>%\n",
    "      filter(share_rebate != 0)%>%\n",
    "      arrange(t, share_rebate)\n",
    "violin %>%\n",
    "  group_by(t) %>%\n",
    "  summarize(n = n())\n",
    "\n",
    "ggplot(violin, aes(x=share_rebate)) + geom_density(aes(group=t, colour=t, fill=t), alpha=0.1) +\n",
    "  labs(x = \"Share rebate tax\", y = \"Density\") + \n",
    "  theme_stata()\n",
    "```"
   ]
  },
  {
   "cell_type": "code",
   "execution_count": null,
   "metadata": {
    "kernel": "python3"
   },
   "outputs": [],
   "source": [
    "query = \"\"\"\n",
    "WITH temp AS (\n",
    "SELECT distinct(hs6), year, lag_vat_reb_m/lag_vat_m as share_rebate\n",
    "FROM {}.{}  \n",
    ")\n",
    "SELECT year, hs6, share_rebate\n",
    "FROM temp\n",
    "ORDER BY hs6\n",
    "\"\"\".format(db, table)\n",
    "\n",
    "df = s3.run_query(\n",
    "            query=query,\n",
    "            database=db,\n",
    "            s3_output='SQL_OUTPUT_ATHENA',\n",
    "            filename='fig1',  # Add filename to print dataframe\n",
    "            destination_key='SQL_OUTPUT_ATHENA/CSV',  #Use it temporarily\n",
    "            dtype = {'hs6':'string'}\n",
    ")"
   ]
  },
  {
   "cell_type": "code",
   "execution_count": null,
   "metadata": {
    "kernel": "python3"
   },
   "outputs": [],
   "source": [
    "import seaborn as sns"
   ]
  },
  {
   "cell_type": "code",
   "execution_count": null,
   "metadata": {
    "kernel": "python3"
   },
   "outputs": [],
   "source": [
    "sns.kdeplot(\n",
    "   data=df, x=\"share_rebate\", hue=\"year\",\n",
    "   fill=True, common_norm=False, palette=\"crest\",\n",
    "   alpha=.5, linewidth=0,\n",
    ")"
   ]
  },
  {
   "cell_type": "markdown",
   "metadata": {
    "kernel": "SoS"
   },
   "source": [
    "Create a table"
   ]
  },
  {
   "cell_type": "code",
   "execution_count": null,
   "metadata": {
    "kernel": "python3"
   },
   "outputs": [],
   "source": [
    "df_latex = (\n",
    "    pd.concat(\n",
    "    [\n",
    "        (\n",
    "            df.groupby(\"year\")[\"share_rebate\"]\n",
    "            .describe()\n",
    "            .assign(\n",
    "                count=lambda x: x[\"count\"].astype(\"int\"),\n",
    "                max=lambda x: x[\"max\"].astype(\"int\"),\n",
    "            )\n",
    "            .apply(lambda x: round(x, 2))\n",
    "        ),\n",
    "        (df.groupby(\"year\").agg({\"share_rebate\": \"nunique\"})),\n",
    "    ],\n",
    "    axis=1,\n",
    "    # \n",
    ")\n",
    "    .rename(columns = {'share_rebate':'unique rebate'})\n",
    "    .reindex(columns = ['count','unique rebate', 'mean', 'std', 'min', '25%', '50%', '75%', 'max',\n",
    "       ])\n",
    "    .to_latex()\n",
    ")"
   ]
  },
  {
   "cell_type": "code",
   "execution_count": null,
   "metadata": {
    "kernel": "python3"
   },
   "outputs": [],
   "source": [
    "df_latex"
   ]
  },
  {
   "cell_type": "code",
   "execution_count": null,
   "metadata": {
    "kernel": "python3"
   },
   "outputs": [],
   "source": [
    "import tex2pix\n",
    "from PyPDF2 import PdfFileMerger\n",
    "from wand.image import Image as WImage"
   ]
  },
  {
   "cell_type": "code",
   "execution_count": null,
   "metadata": {
    "kernel": "python3"
   },
   "outputs": [],
   "source": [
    "folder = 'Tables'\n",
    "table_number = 1\n",
    "title = 'Distribution of unique rebate share at the HS6 product level'\n",
    "tb_note = \"\"\"\n",
    "\n",
    "\"\"\"\n",
    "with open('{}/table_{}.tex'.format(folder,table_number), 'w') as fout:\n",
    "    for i in range(len( df_latex)):\n",
    "        if i ==0:\n",
    "            header= \"\\documentclass[preview]{standalone} \\n\\\\usepackage[utf8]{inputenc}\\n\" \\\n",
    "            \"\\\\usepackage{booktabs,caption,threeparttable, siunitx, adjustbox}\\n\\n\" \\\n",
    "            \"\\\\begin{document}\"\n",
    "            top =  '\\n\\\\begin{adjustbox}{width=\\\\textwidth, totalheight=\\\\textheight-2\\\\baselineskip,keepaspectratio}\\n'\n",
    "            table_top = \"\\n\\\\begin{table}[!htbp] \\centering\"\n",
    "            table_title = \"\\n\\caption{%s}\\n\" % title\n",
    "            \n",
    "            fout.write(header)\n",
    "            fout.write(table_top)\n",
    "            fout.write(table_title)\n",
    "            fout.write(top)\n",
    "           \n",
    "        fout.write( df_latex[i])\n",
    "    \n",
    "    bottom =  '\\n\\\\end{adjustbox}\\n'\n",
    "    tb_note_top = \"\\n\\\\begin{tablenotes}\\n\\small\\n\\item\"\n",
    "    table_bottom = \"\\n\\end{table}\"\n",
    "    footer = \"\\n\\n\\\\end{document}\"\n",
    "    tb_note_bottom = \"\\n\\end{tablenotes}\"\n",
    "    fout.write(bottom)\n",
    "    fout.write(tb_note_top)\n",
    "    fout.write(tb_note)\n",
    "    fout.write(tb_note_bottom)\n",
    "    fout.write(table_bottom)\n",
    "    fout.write(footer)\n",
    " \n",
    "f = open('{}/table_{}.tex'.format(folder,table_number))\n",
    "r = tex2pix.Renderer(f, runbibtex=False)\n",
    "r.mkpdf('{}/table_{}.pdf'.format(folder,table_number))\n",
    "img = WImage(filename='{}/table_{}.pdf'.format(folder,table_number),\n",
    "resolution = 200)\n",
    "display(img)"
   ]
  },
  {
   "cell_type": "markdown",
   "metadata": {
    "kernel": "SoS",
    "nteract": {
     "transient": {
      "deleting": false
     }
    }
   },
   "source": [
    "# Generate reports"
   ]
  },
  {
   "cell_type": "code",
   "execution_count": null,
   "metadata": {
    "kernel": "python3",
    "nteract": {
     "transient": {
      "deleting": false
     }
    },
    "outputExpanded": false
   },
   "outputs": [],
   "source": [
    "import os, time, shutil, urllib, ipykernel, json\n",
    "from pathlib import Path\n",
    "from notebook import notebookapp\n",
    "import sys\n",
    "path = os.getcwd()\n",
    "parent_path = str(Path(path).parent.parent)\n",
    "sys.path.append(os.path.join(parent_path, 'utils'))\n",
    "import make_toc\n",
    "import create_report"
   ]
  },
  {
   "cell_type": "code",
   "execution_count": null,
   "metadata": {
    "kernel": "python3"
   },
   "outputs": [],
   "source": [
    "name_json = 'parameters_ETL_VAT_rebate_quality_china.json'\n",
    "path_json = os.path.join(str(Path(path).parent.parent), 'utils',name_json)"
   ]
  },
  {
   "cell_type": "code",
   "execution_count": null,
   "metadata": {
    "kernel": "python3",
    "nteract": {
     "transient": {
      "deleting": false
     }
    },
    "outputExpanded": false
   },
   "outputs": [],
   "source": [
    "create_report.create_report(extension = \"html\", keep_code = False, notebookname = \"00_final_publishable_tables_figures.ipynb\")"
   ]
  },
  {
   "cell_type": "code",
   "execution_count": null,
   "metadata": {
    "kernel": "python3"
   },
   "outputs": [],
   "source": [
    "### Update TOC in Github\n",
    "for p in [parent_path,\n",
    "          str(Path(path).parent),\n",
    "          #os.path.join(str(Path(path).parent), \"00_download_data_from\"),\n",
    "          #os.path.join(str(Path(path).parent.parent), \"02_data_analysis\"),\n",
    "          #os.path.join(str(Path(path).parent.parent), \"02_data_analysis\", \"00_statistical_exploration\"),\n",
    "          #os.path.join(str(Path(path).parent.parent), \"02_data_analysis\", \"01_model_estimation\"),\n",
    "         ]:\n",
    "    try:\n",
    "        os.remove(os.path.join(p, 'README.md'))\n",
    "    except:\n",
    "        pass\n",
    "    path_parameter = os.path.join(parent_path,'utils', name_json)\n",
    "    md_lines =  make_toc.create_index(cwd = p, path_parameter = path_parameter)\n",
    "    md_out_fn = os.path.join(p,'README.md')\n",
    "    \n",
    "    if p == parent_path:\n",
    "    \n",
    "        make_toc.replace_index(md_out_fn, md_lines, Header = os.path.basename(p).replace('_', ' '), add_description = True, path_parameter = path_parameter)\n",
    "    else:\n",
    "        make_toc.replace_index(md_out_fn, md_lines, Header = os.path.basename(p).replace('_', ' '), add_description = False)"
   ]
  }
 ],
 "metadata": {
  "jupytext": {
   "formats": "ipynb,md"
  },
  "kernel_info": {
   "name": "python3"
  },
  "kernelspec": {
   "display_name": "SoS",
   "language": "sos",
   "name": "sos"
  },
  "language_info": {
   "codemirror_mode": "sos",
   "file_extension": ".sos",
   "mimetype": "text/x-sos",
   "name": "sos",
   "nbconvert_exporter": "sos_notebook.converter.SoS_Exporter",
   "pygments_lexer": "sos"
  },
  "nteract": {
   "version": "0.26.0"
  },
  "sos": {
   "kernels": [
    [
     "python3",
     "python3",
     "python",
     "",
     {
      "name": "ipython",
      "version": 3
     }
    ]
   ],
   "version": "0.20.1"
  },
  "toc": {
   "base_numbering": 1,
   "nav_menu": {},
   "number_sections": true,
   "sideBar": true,
   "skip_h1_title": false,
   "title_cell": "Table of Contents",
   "title_sidebar": "Contents",
   "toc_cell": false,
   "toc_position": {},
   "toc_section_display": true,
   "toc_window_display": false
  }
 },
 "nbformat": 4,
 "nbformat_minor": 4
}
