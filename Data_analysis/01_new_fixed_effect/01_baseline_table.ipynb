{
 "cells": [
  {
   "cell_type": "markdown",
   "metadata": {
    "kernel": "SoS"
   },
   "source": [
    "# New Baseline strategy data analysis\n",
    "\n",
    "This notebook has been generated on 2020-07-12 \n",
    "\n",
    "The objective of this notebook is to improve the baseline regression with a new strategy for the fixed effect\n",
    "\n",
    "## Data source \n",
    "\n",
    "The data source of this dataset is:\n",
    "\n",
    "- [vat_rebate_china.gz](https://console.cloud.google.com/storage/browser/_details/chinese_data/paper_project/vat_rebate_china.gz?project=valid-pagoda-132423)\n",
    "\n",
    "### Variable name\n",
    "\n",
    "The variables names and labels are the following:"
   ]
  },
  {
   "cell_type": "markdown",
   "metadata": {
    "kernel": "SoS"
   },
   "source": [
    "<table border=\"1\" class=\"dataframe\">\n",
    "  <thead>\n",
    "    <tr style=\"text-align: right;\">\n",
    "      <th></th>\n",
    "      <th>Variables</th>\n",
    "      <th>Labels</th>\n",
    "      <th>Types</th>\n",
    "    </tr>\n",
    "  </thead>\n",
    "  <tbody>\n",
    "    <tr>\n",
    "      <th>0</th>\n",
    "      <td>int64_field_0</td>\n",
    "      <td>int64_field_0</td>\n",
    "      <td>int64</td>\n",
    "    </tr>\n",
    "    <tr>\n",
    "      <th>1</th>\n",
    "      <td>hs6</td>\n",
    "      <td>hs6</td>\n",
    "      <td>int64</td>\n",
    "    </tr>\n",
    "    <tr>\n",
    "      <th>2</th>\n",
    "      <td>eligible</td>\n",
    "      <td>eligible</td>\n",
    "      <td>bool</td>\n",
    "    </tr>\n",
    "    <tr>\n",
    "      <th>3</th>\n",
    "      <td>geocode4_corr</td>\n",
    "      <td>geocode4_corr</td>\n",
    "      <td>int64</td>\n",
    "    </tr>\n",
    "    <tr>\n",
    "      <th>4</th>\n",
    "      <td>i</td>\n",
    "      <td>i</td>\n",
    "      <td>int64</td>\n",
    "    </tr>\n",
    "    <tr>\n",
    "      <th>5</th>\n",
    "      <td>distance</td>\n",
    "      <td>distance</td>\n",
    "      <td>float64</td>\n",
    "    </tr>\n",
    "    <tr>\n",
    "      <th>6</th>\n",
    "      <td>id_group</td>\n",
    "      <td>id_group</td>\n",
    "      <td>int64</td>\n",
    "    </tr>\n",
    "    <tr>\n",
    "      <th>7</th>\n",
    "      <td>party_id</td>\n",
    "      <td>party_id</td>\n",
    "      <td>int64</td>\n",
    "    </tr>\n",
    "    <tr>\n",
    "      <th>8</th>\n",
    "      <td>goods</td>\n",
    "      <td>goods</td>\n",
    "      <td>object</td>\n",
    "    </tr>\n",
    "    <tr>\n",
    "      <th>9</th>\n",
    "      <td>hs4</td>\n",
    "      <td>hs4</td>\n",
    "      <td>int64</td>\n",
    "    </tr>\n",
    "    <tr>\n",
    "      <th>10</th>\n",
    "      <td>gbt</td>\n",
    "      <td>gbt</td>\n",
    "      <td>int64</td>\n",
    "    </tr>\n",
    "    <tr>\n",
    "      <th>11</th>\n",
    "      <td>t_0</td>\n",
    "      <td>t_0</td>\n",
    "      <td>int64</td>\n",
    "    </tr>\n",
    "    <tr>\n",
    "      <th>12</th>\n",
    "      <td>t</td>\n",
    "      <td>t</td>\n",
    "      <td>int64</td>\n",
    "    </tr>\n",
    "    <tr>\n",
    "      <th>13</th>\n",
    "      <td>export_unit_price</td>\n",
    "      <td>export_unit_price</td>\n",
    "      <td>float64</td>\n",
    "    </tr>\n",
    "    <tr>\n",
    "      <th>14</th>\n",
    "      <td>l_q</td>\n",
    "      <td>l_q</td>\n",
    "      <td>float64</td>\n",
    "    </tr>\n",
    "    <tr>\n",
    "      <th>15</th>\n",
    "      <td>c</td>\n",
    "      <td>c</td>\n",
    "      <td>int64</td>\n",
    "    </tr>\n",
    "    <tr>\n",
    "      <th>16</th>\n",
    "      <td>code</td>\n",
    "      <td>code</td>\n",
    "      <td>int64</td>\n",
    "    </tr>\n",
    "    <tr>\n",
    "      <th>17</th>\n",
    "      <td>quality</td>\n",
    "      <td>quality</td>\n",
    "      <td>float64</td>\n",
    "    </tr>\n",
    "    <tr>\n",
    "      <th>18</th>\n",
    "      <td>density_china_ville</td>\n",
    "      <td>density_china_ville</td>\n",
    "      <td>float64</td>\n",
    "    </tr>\n",
    "    <tr>\n",
    "      <th>19</th>\n",
    "      <td>herf_com_s</td>\n",
    "      <td>herf_com_s</td>\n",
    "      <td>float64</td>\n",
    "    </tr>\n",
    "    <tr>\n",
    "      <th>20</th>\n",
    "      <td>herf_com_o</td>\n",
    "      <td>herf_com_o</td>\n",
    "      <td>float64</td>\n",
    "    </tr>\n",
    "    <tr>\n",
    "      <th>21</th>\n",
    "      <td>average</td>\n",
    "      <td>average</td>\n",
    "      <td>float64</td>\n",
    "    </tr>\n",
    "    <tr>\n",
    "      <th>22</th>\n",
    "      <td>ln_import_tax</td>\n",
    "      <td>ln_import_tax</td>\n",
    "      <td>float64</td>\n",
    "    </tr>\n",
    "    <tr>\n",
    "      <th>23</th>\n",
    "      <td>ln_vat_tax</td>\n",
    "      <td>ln_vat_tax</td>\n",
    "      <td>float64</td>\n",
    "    </tr>\n",
    "    <tr>\n",
    "      <th>24</th>\n",
    "      <td>vat_m</td>\n",
    "      <td>vat_m</td>\n",
    "      <td>float64</td>\n",
    "    </tr>\n",
    "    <tr>\n",
    "      <th>25</th>\n",
    "      <td>vat_reb_m</td>\n",
    "      <td>vat_reb_m</td>\n",
    "      <td>float64</td>\n",
    "    </tr>\n",
    "    <tr>\n",
    "      <th>26</th>\n",
    "      <td>g1</td>\n",
    "      <td>g1</td>\n",
    "      <td>int64</td>\n",
    "    </tr>\n",
    "    <tr>\n",
    "      <th>27</th>\n",
    "      <td>g2</td>\n",
    "      <td>g2</td>\n",
    "      <td>int64</td>\n",
    "    </tr>\n",
    "    <tr>\n",
    "      <th>28</th>\n",
    "      <td>g3</td>\n",
    "      <td>g3</td>\n",
    "      <td>int64</td>\n",
    "    </tr>\n",
    "    <tr>\n",
    "      <th>29</th>\n",
    "      <td>g4</td>\n",
    "      <td>g4</td>\n",
    "      <td>int64</td>\n",
    "    </tr>\n",
    "    <tr>\n",
    "      <th>30</th>\n",
    "      <td>imported_variety</td>\n",
    "      <td>imported_variety</td>\n",
    "      <td>int64</td>\n",
    "    </tr>\n",
    "    <tr>\n",
    "      <th>31</th>\n",
    "      <td>g5</td>\n",
    "      <td>g5</td>\n",
    "      <td>int64</td>\n",
    "    </tr>\n",
    "    <tr>\n",
    "      <th>32</th>\n",
    "      <td>energy</td>\n",
    "      <td>energy</td>\n",
    "      <td>int64</td>\n",
    "    </tr>\n",
    "    <tr>\n",
    "      <th>33</th>\n",
    "      <td>high_tech</td>\n",
    "      <td>high_tech</td>\n",
    "      <td>int64</td>\n",
    "    </tr>\n",
    "    <tr>\n",
    "      <th>34</th>\n",
    "      <td>hi_s_e1</td>\n",
    "      <td>hi_s_e1</td>\n",
    "      <td>int64</td>\n",
    "    </tr>\n",
    "    <tr>\n",
    "      <th>35</th>\n",
    "      <td>hi_s_us1</td>\n",
    "      <td>hi_s_us1</td>\n",
    "      <td>int64</td>\n",
    "    </tr>\n",
    "    <tr>\n",
    "      <th>36</th>\n",
    "      <td>hi_s_e2</td>\n",
    "      <td>hi_s_e2</td>\n",
    "      <td>int64</td>\n",
    "    </tr>\n",
    "    <tr>\n",
    "      <th>37</th>\n",
    "      <td>hi_s_us2</td>\n",
    "      <td>hi_s_us2</td>\n",
    "      <td>int64</td>\n",
    "    </tr>\n",
    "    <tr>\n",
    "      <th>38</th>\n",
    "      <td>rd_o</td>\n",
    "      <td>rd_o</td>\n",
    "      <td>float64</td>\n",
    "    </tr>\n",
    "    <tr>\n",
    "      <th>39</th>\n",
    "      <td>rd_o_mean</td>\n",
    "      <td>rd_o_mean</td>\n",
    "      <td>float64</td>\n",
    "    </tr>\n",
    "    <tr>\n",
    "      <th>40</th>\n",
    "      <td>h_rd_o</td>\n",
    "      <td>h_rd_o</td>\n",
    "      <td>int64</td>\n",
    "    </tr>\n",
    "  </tbody>\n",
    "</table>"
   ]
  },
  {
   "cell_type": "markdown",
   "metadata": {
    "kernel": "SoS"
   },
   "source": [
    "# Analysis\n",
    "\n",
    "Original code from [here](https://drive.google.com/open?id=1V6klFoNaPL30YdFOAonPaQs_v9Tn5rPq)\n",
    "\n",
    "## Load the data\n",
    "\n",
    "Please open links below to download the necessary data, and make sure to locate them in the same path as the notebook, otherwise, change the path.\n",
    "\n",
    "- [vat_rebate_china.gz](https://console.cloud.google.com/storage/browser/_details/chinese_data/paper_project/vat_rebate_china.gz?project=valid-pagoda-132423)\n",
    "- [baci92_2002.csv](https://console.cloud.google.com/storage/browser/_details/chinese_data/paper_project/intermediate_files/baci92_2002.csv?project=valid-pagoda-132423)\n",
    "- [city_list_final.csv](https://console.cloud.google.com/storage/browser/_details/chinese_data/paper_project/intermediate_files/city_list_final.csv?project=valid-pagoda-132423)\n",
    "- [export_2002.csv](https://console.cloud.google.com/storage/browser/_details/chinese_data/paper_project/intermediate_files/export_2002.csv?project=valid-pagoda-132423)\n",
    "\n",
    "We decided to choose this way to load the data since it does not fit our current framework. The main data has been created using stata, which makes it very complicated to reproduce and visualize the pipeline. No documentation is available as well."
   ]
  },
  {
   "cell_type": "code",
   "execution_count": null,
   "metadata": {
    "kernel": "SoS"
   },
   "outputs": [],
   "source": [
    "from GoogleDrivePy.google_authorization import authorization_service\n",
    "from GoogleDrivePy.google_platform import connect_cloud_platform\n",
    "\n",
    "from pathlib import Path\n",
    "import os\n",
    "\n",
    "path = os.getcwd()\n",
    "parent_path = str(Path(path).parent.parent)\n",
    "project = 'valid-pagoda-132423'\n",
    "\n",
    "\n",
    "auth = authorization_service.get_authorization(\n",
    "    path_credential_gcp = \"{}/creds/service.json\".format(parent_path),\n",
    "    verbose = False#\n",
    ")\n",
    "\n",
    "gcp_auth = auth.authorization_gcp()\n",
    "gcp = connect_cloud_platform.connect_console(project = project, \n",
    "                                             service_account = gcp_auth) \n"
   ]
  },
  {
   "cell_type": "code",
   "execution_count": null,
   "metadata": {
    "kernel": "SoS"
   },
   "outputs": [],
   "source": [
    "#query = (\n",
    "#          \"SELECT * \"\n",
    "#            \"FROM China.vat_rebate_china \"\n",
    "\n",
    "#        )\n",
    "\n",
    "#df_final = gcp.upload_data_from_bigquery(query = query, location = 'US')\n",
    "#df_final.head()\n"
   ]
  },
  {
   "cell_type": "code",
   "execution_count": null,
   "metadata": {
    "kernel": "python3"
   },
   "outputs": [],
   "source": [
    "import function.latex_beautify as lb\n",
    "\n",
    "%load_ext autoreload\n",
    "%autoreload 2"
   ]
  },
  {
   "cell_type": "code",
   "execution_count": null,
   "metadata": {
    "kernel": "R"
   },
   "outputs": [],
   "source": [
    "options(warn=-1)\n",
    "library(tidyverse)\n",
    "library(lfe)\n",
    "library(lazyeval)\n",
    "library('progress')\n",
    "path = \"function/table_golatex.R\"\n",
    "source(path)"
   ]
  },
  {
   "cell_type": "code",
   "execution_count": null,
   "metadata": {
    "kernel": "R"
   },
   "outputs": [],
   "source": [
    "\n",
    "df_final <- read_csv('../temporary_local_data/vat_rebate_china.gz')\n",
    "\n",
    "table(df_final$eligible)\n"
   ]
  },
  {
   "cell_type": "markdown",
   "metadata": {
    "kernel": "SoS"
   },
   "source": [
    "# New FE table \n",
    "\n",
    "To check how the FE are created, please refer to [here](https://drive.google.com/open?id=1pyMKTjtGJsVOorFniQDsFWR6b8DxDXYr)\n",
    "\n",
    "```\n",
    "egen g1 = group(id_group hs6 eligible)\n",
    "*egen g1 = group(id_group hs6 )\n",
    "egen g2 = group(i t_0 )\n",
    "egen g3 = group(c t_0)\n",
    "egen g4 = group(hs4 eligible t_0)\n",
    "egen g5 = group(hs6 i t_0)\n",
    "```"
   ]
  },
  {
   "cell_type": "markdown",
   "metadata": {
    "kernel": "SoS"
   },
   "source": [
    "## Table 1: Baseline\n",
    "\n",
    "Output latex table available here\n",
    "\n",
    "- https://www.overleaf.com/project/5e6b52424e39670001dabbb0\n",
    "    - table_1\n",
    "\n",
    "![](https://drive.google.com/uc?export=view&id=1xrybwVOlhUL_76jB8lg0-CcrxsXA0hxk)"
   ]
  },
  {
   "cell_type": "code",
   "execution_count": null,
   "metadata": {
    "kernel": "R"
   },
   "outputs": [],
   "source": [
    "#1    \n",
    "t_1 <- felm(quality ~eligible:ln_vat_tax + imported_variety:t_0\n",
    "            | g1+g2+g3+g4 |0 | id_group, df_final, exactDOF = TRUE)\n",
    "#2\n",
    "t_2 <-felm(quality ~ln_vat_tax+ imported_variety:t_0\n",
    "             | g1+g2+g3+g4 |0 | id_group, df_final, eligible==\"Yes\", exactDOF = TRUE)\n",
    "#3\n",
    "t_3 <-felm(quality ~ln_vat_tax+ imported_variety:t_0\n",
    "             | g1+g2+g3+g4 |0 | id_group, df_final, eligible==\"No\", exactDOF = TRUE)\n",
    "#4\n",
    "t_4 <-felm(quality ~eligible:ln_vat_tax + eligible:ln_import_tax+ imported_variety:t_0\n",
    "             | g1+g2+g3+g4 |0 | id_group, df_final, exactDOF = TRUE)\n",
    "#5\n",
    "t_5 <-felm(quality ~eligible:ln_vat_tax + eligible:ln_import_tax +herf_com_o + imported_variety:t_0\n",
    "             | g1+g2+g3+g4 |0 | id_group, df_final, exactDOF = TRUE)"
   ]
  },
  {
   "cell_type": "code",
   "execution_count": null,
   "metadata": {
    "kernel": "python3"
   },
   "outputs": [],
   "source": [
    "import os\n",
    "try:\n",
    "    os.remove(\"table_1.txt\")\n",
    "except:\n",
    "    pass\n",
    "try:\n",
    "    os.remove(\"table_1.tex\")\n",
    "except:\n",
    "    pass"
   ]
  },
  {
   "cell_type": "code",
   "execution_count": null,
   "metadata": {
    "kernel": "R"
   },
   "outputs": [],
   "source": [
    "dep <- \"Dependent variable: Quality of firm $i$ for product $k$ in city $c$ at year $t$\"\n",
    "table_1 <- go_latex(list(\n",
    "    t_1,\n",
    "    t_2,\n",
    "    t_3,\n",
    "    t_4,\n",
    "    t_5\n",
    "),\n",
    "    title=\"VAT export tax and firm's quality upgrading, baseline regression\",\n",
    "    dep_var = dep,\n",
    "    addFE='',\n",
    "    save=TRUE,\n",
    "    note = FALSE,\n",
    "    name=\"table_1.txt\"\n",
    ")"
   ]
  },
  {
   "cell_type": "code",
   "execution_count": null,
   "metadata": {
    "kernel": "python3"
   },
   "outputs": [],
   "source": [
    "tbe1 = \"This table estimates eq(3). All estimation include firm-hs6, origin city-year,\" \\\n",
    "\"destination-year, HS4-status-year fixed effect. Our regression adds initial firm size trend.\" \\\n",
    "\"Note that $ordinary$ refers to the firms entitle to VAT refund, our treatment group.\" \\\n",
    "\"Our control group is processing trade with supplied input, non eligible to VAT refund.\" \\\n",
    "\"All firms belong to one group only, in consequence, the dummy $ordinary_{i}$ does not vary\"  \\\n",
    "\"within firm over time and is drop from the regression. $i$ stands for the firm,$k$ for\" \\\n",
    "\"the HS6 product, $t$ for the year and $s$ for the sector. Heteroskedasticity-robust standard\" \\\n",
    "\"errors clustered at the firm level appear in parentheses.\"\\\n",
    "\"\\sym{*} Significance at the 10\\%, \\sym{**} Significance at the 5\\%, \\sym{***} Significance at the 1\\%.\""
   ]
  },
  {
   "cell_type": "code",
   "execution_count": null,
   "metadata": {
    "kernel": "python3"
   },
   "outputs": [],
   "source": [
    "lb.beautify(table_number = 1,\n",
    "            new_row= ['','', 'Eligible', 'No Eligible', ''],\n",
    "           table_nte = tbe1,\n",
    "           jupyter_preview = True,\n",
    "            resolution = 150)"
   ]
  },
  {
   "cell_type": "markdown",
   "metadata": {
    "kernel": "python3"
   },
   "source": [
    "# Move tables"
   ]
  },
  {
   "cell_type": "code",
   "execution_count": null,
   "metadata": {
    "kernel": "python3"
   },
   "outputs": [],
   "source": [
    "import glob, os, shutil"
   ]
  },
  {
   "cell_type": "code",
   "execution_count": null,
   "metadata": {
    "kernel": "python3"
   },
   "outputs": [],
   "source": [
    "list(\n",
    "    map(\n",
    "        lambda x: \n",
    "        shutil.move(x, os.path.join(os.getcwd(), 'Tables', x)),\n",
    "        glob.glob('*.txt')\n",
    "        \n",
    "    )\n",
    ")"
   ]
  },
  {
   "cell_type": "code",
   "execution_count": null,
   "metadata": {
    "kernel": "python3"
   },
   "outputs": [],
   "source": [
    "list(\n",
    "    map(\n",
    "        lambda x: \n",
    "        shutil.move(x, os.path.join(os.getcwd(), 'Tables', x)),\n",
    "        glob.glob('*.tex')\n",
    "        \n",
    "    )\n",
    ")"
   ]
  },
  {
   "cell_type": "code",
   "execution_count": null,
   "metadata": {
    "kernel": "python3"
   },
   "outputs": [],
   "source": [
    "list(\n",
    "    map(\n",
    "        os.remove,\n",
    "        glob.glob('*.pdf')\n",
    "        \n",
    "    )\n",
    ")"
   ]
  },
  {
   "cell_type": "markdown",
   "metadata": {
    "kernel": "python3"
   },
   "source": [
    "# Create Report"
   ]
  },
  {
   "cell_type": "code",
   "execution_count": null,
   "metadata": {
    "kernel": "python3"
   },
   "outputs": [],
   "source": [
    "import os, time, shutil\n",
    "from pathlib import Path\n",
    "\n",
    "export = 'pdf' #'html'\n",
    "export = 'html'\n",
    "\n",
    "filename = '01_VAT_replicate_tables'\n",
    "source_fn = filename + '.ipynb'\n",
    "dest_fn = '{}.{}'.format(filename, export)\n",
    "source_to_move = '{}.{}'.format(filename,export)\n",
    "path = os.getcwd()\n",
    "dest = os.path.join(path, 'Reports', dest_fn)\n",
    "os.system('jupyter nbconvert --no-input --to {} {}'.format(export, source_fn))\n",
    "shutil.move(source_to_move, dest)"
   ]
  }
 ],
 "metadata": {
  "jupytext": {
   "formats": "ipynb,md"
  },
  "kernelspec": {
   "display_name": "SoS",
   "language": "sos",
   "name": "sos"
  },
  "language_info": {
   "codemirror_mode": "sos",
   "file_extension": ".sos",
   "mimetype": "text/x-sos",
   "name": "sos",
   "nbconvert_exporter": "sos_notebook.converter.SoS_Exporter",
   "pygments_lexer": "sos"
  },
  "sos": {
   "kernels": [
    [
     "R",
     "ir",
     "R",
     "#DCDCDA",
     "r"
    ],
    [
     "SoS",
     "sos",
     "",
     "",
     "sos"
    ],
    [
     "python3",
     "python3",
     "python3",
     "",
     {
      "name": "ipython",
      "version": 3
     }
    ]
   ],
   "version": "0.20.1"
  }
 },
 "nbformat": 4,
 "nbformat_minor": 4
}
