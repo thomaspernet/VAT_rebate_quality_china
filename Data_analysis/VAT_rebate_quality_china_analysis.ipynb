{
 "cells": [
  {
   "cell_type": "markdown",
   "metadata": {
    "Collapsed": "false",
    "kernel": "SoS"
   },
   "source": [
    "# VAT_rebate_quality_china data analysis\n",
    "\n",
    "This notebook has been generated on 2020-03-12 12:36 \n",
    "\n",
    "The objective of this notebook is to replicate the tables of this [paper](https://drive.google.com/open?id=1BG4xxFm2DAwnQTfXhVD3RVUbm-w4FoQR)\n",
    "\n",
    "## Data source \n",
    "\n",
    "The data source of this dataset is:\n",
    "\n",
    "- [vat_rebate_china.gz](https://console.cloud.google.com/storage/browser/_details/chinese_data/paper_project/vat_rebate_china.gz?project=valid-pagoda-132423)\n",
    "\n",
    "### Variable name\n",
    "\n",
    "The variables names and labels are the following:"
   ]
  },
  {
   "cell_type": "markdown",
   "metadata": {
    "Collapsed": "false",
    "kernel": "SoS"
   },
   "source": [
    "<table border=\"1\" class=\"dataframe\">\n",
    "  <thead>\n",
    "    <tr style=\"text-align: right;\">\n",
    "      <th></th>\n",
    "      <th>Variables</th>\n",
    "      <th>Labels</th>\n",
    "      <th>Types</th>\n",
    "    </tr>\n",
    "  </thead>\n",
    "  <tbody>\n",
    "    <tr>\n",
    "      <th>0</th>\n",
    "      <td>int64_field_0</td>\n",
    "      <td>int64_field_0</td>\n",
    "      <td>int64</td>\n",
    "    </tr>\n",
    "    <tr>\n",
    "      <th>1</th>\n",
    "      <td>hs6</td>\n",
    "      <td>hs6</td>\n",
    "      <td>int64</td>\n",
    "    </tr>\n",
    "    <tr>\n",
    "      <th>2</th>\n",
    "      <td>eligible</td>\n",
    "      <td>eligible</td>\n",
    "      <td>bool</td>\n",
    "    </tr>\n",
    "    <tr>\n",
    "      <th>3</th>\n",
    "      <td>geocode4_corr</td>\n",
    "      <td>geocode4_corr</td>\n",
    "      <td>int64</td>\n",
    "    </tr>\n",
    "    <tr>\n",
    "      <th>4</th>\n",
    "      <td>i</td>\n",
    "      <td>i</td>\n",
    "      <td>int64</td>\n",
    "    </tr>\n",
    "    <tr>\n",
    "      <th>5</th>\n",
    "      <td>distance</td>\n",
    "      <td>distance</td>\n",
    "      <td>float64</td>\n",
    "    </tr>\n",
    "    <tr>\n",
    "      <th>6</th>\n",
    "      <td>id_group</td>\n",
    "      <td>id_group</td>\n",
    "      <td>int64</td>\n",
    "    </tr>\n",
    "    <tr>\n",
    "      <th>7</th>\n",
    "      <td>party_id</td>\n",
    "      <td>party_id</td>\n",
    "      <td>int64</td>\n",
    "    </tr>\n",
    "    <tr>\n",
    "      <th>8</th>\n",
    "      <td>goods</td>\n",
    "      <td>goods</td>\n",
    "      <td>object</td>\n",
    "    </tr>\n",
    "    <tr>\n",
    "      <th>9</th>\n",
    "      <td>hs4</td>\n",
    "      <td>hs4</td>\n",
    "      <td>int64</td>\n",
    "    </tr>\n",
    "    <tr>\n",
    "      <th>10</th>\n",
    "      <td>gbt</td>\n",
    "      <td>gbt</td>\n",
    "      <td>int64</td>\n",
    "    </tr>\n",
    "    <tr>\n",
    "      <th>11</th>\n",
    "      <td>t_0</td>\n",
    "      <td>t_0</td>\n",
    "      <td>int64</td>\n",
    "    </tr>\n",
    "    <tr>\n",
    "      <th>12</th>\n",
    "      <td>t</td>\n",
    "      <td>t</td>\n",
    "      <td>int64</td>\n",
    "    </tr>\n",
    "    <tr>\n",
    "      <th>13</th>\n",
    "      <td>export_unit_price</td>\n",
    "      <td>export_unit_price</td>\n",
    "      <td>float64</td>\n",
    "    </tr>\n",
    "    <tr>\n",
    "      <th>14</th>\n",
    "      <td>l_q</td>\n",
    "      <td>l_q</td>\n",
    "      <td>float64</td>\n",
    "    </tr>\n",
    "    <tr>\n",
    "      <th>15</th>\n",
    "      <td>c</td>\n",
    "      <td>c</td>\n",
    "      <td>int64</td>\n",
    "    </tr>\n",
    "    <tr>\n",
    "      <th>16</th>\n",
    "      <td>code</td>\n",
    "      <td>code</td>\n",
    "      <td>int64</td>\n",
    "    </tr>\n",
    "    <tr>\n",
    "      <th>17</th>\n",
    "      <td>quality</td>\n",
    "      <td>quality</td>\n",
    "      <td>float64</td>\n",
    "    </tr>\n",
    "    <tr>\n",
    "      <th>18</th>\n",
    "      <td>density_china_ville</td>\n",
    "      <td>density_china_ville</td>\n",
    "      <td>float64</td>\n",
    "    </tr>\n",
    "    <tr>\n",
    "      <th>19</th>\n",
    "      <td>herf_com_s</td>\n",
    "      <td>herf_com_s</td>\n",
    "      <td>float64</td>\n",
    "    </tr>\n",
    "    <tr>\n",
    "      <th>20</th>\n",
    "      <td>herf_com_o</td>\n",
    "      <td>herf_com_o</td>\n",
    "      <td>float64</td>\n",
    "    </tr>\n",
    "    <tr>\n",
    "      <th>21</th>\n",
    "      <td>average</td>\n",
    "      <td>average</td>\n",
    "      <td>float64</td>\n",
    "    </tr>\n",
    "    <tr>\n",
    "      <th>22</th>\n",
    "      <td>ln_import_tax</td>\n",
    "      <td>ln_import_tax</td>\n",
    "      <td>float64</td>\n",
    "    </tr>\n",
    "    <tr>\n",
    "      <th>23</th>\n",
    "      <td>ln_vat_tax</td>\n",
    "      <td>ln_vat_tax</td>\n",
    "      <td>float64</td>\n",
    "    </tr>\n",
    "    <tr>\n",
    "      <th>24</th>\n",
    "      <td>vat_m</td>\n",
    "      <td>vat_m</td>\n",
    "      <td>float64</td>\n",
    "    </tr>\n",
    "    <tr>\n",
    "      <th>25</th>\n",
    "      <td>vat_reb_m</td>\n",
    "      <td>vat_reb_m</td>\n",
    "      <td>float64</td>\n",
    "    </tr>\n",
    "    <tr>\n",
    "      <th>26</th>\n",
    "      <td>g1</td>\n",
    "      <td>g1</td>\n",
    "      <td>int64</td>\n",
    "    </tr>\n",
    "    <tr>\n",
    "      <th>27</th>\n",
    "      <td>g2</td>\n",
    "      <td>g2</td>\n",
    "      <td>int64</td>\n",
    "    </tr>\n",
    "    <tr>\n",
    "      <th>28</th>\n",
    "      <td>g3</td>\n",
    "      <td>g3</td>\n",
    "      <td>int64</td>\n",
    "    </tr>\n",
    "    <tr>\n",
    "      <th>29</th>\n",
    "      <td>g4</td>\n",
    "      <td>g4</td>\n",
    "      <td>int64</td>\n",
    "    </tr>\n",
    "    <tr>\n",
    "      <th>30</th>\n",
    "      <td>imported_variety</td>\n",
    "      <td>imported_variety</td>\n",
    "      <td>int64</td>\n",
    "    </tr>\n",
    "    <tr>\n",
    "      <th>31</th>\n",
    "      <td>g5</td>\n",
    "      <td>g5</td>\n",
    "      <td>int64</td>\n",
    "    </tr>\n",
    "    <tr>\n",
    "      <th>32</th>\n",
    "      <td>energy</td>\n",
    "      <td>energy</td>\n",
    "      <td>int64</td>\n",
    "    </tr>\n",
    "    <tr>\n",
    "      <th>33</th>\n",
    "      <td>high_tech</td>\n",
    "      <td>high_tech</td>\n",
    "      <td>int64</td>\n",
    "    </tr>\n",
    "    <tr>\n",
    "      <th>34</th>\n",
    "      <td>hi_s_e1</td>\n",
    "      <td>hi_s_e1</td>\n",
    "      <td>int64</td>\n",
    "    </tr>\n",
    "    <tr>\n",
    "      <th>35</th>\n",
    "      <td>hi_s_us1</td>\n",
    "      <td>hi_s_us1</td>\n",
    "      <td>int64</td>\n",
    "    </tr>\n",
    "    <tr>\n",
    "      <th>36</th>\n",
    "      <td>hi_s_e2</td>\n",
    "      <td>hi_s_e2</td>\n",
    "      <td>int64</td>\n",
    "    </tr>\n",
    "    <tr>\n",
    "      <th>37</th>\n",
    "      <td>hi_s_us2</td>\n",
    "      <td>hi_s_us2</td>\n",
    "      <td>int64</td>\n",
    "    </tr>\n",
    "    <tr>\n",
    "      <th>38</th>\n",
    "      <td>rd_o</td>\n",
    "      <td>rd_o</td>\n",
    "      <td>float64</td>\n",
    "    </tr>\n",
    "    <tr>\n",
    "      <th>39</th>\n",
    "      <td>rd_o_mean</td>\n",
    "      <td>rd_o_mean</td>\n",
    "      <td>float64</td>\n",
    "    </tr>\n",
    "    <tr>\n",
    "      <th>40</th>\n",
    "      <td>h_rd_o</td>\n",
    "      <td>h_rd_o</td>\n",
    "      <td>int64</td>\n",
    "    </tr>\n",
    "  </tbody>\n",
    "</table>"
   ]
  },
  {
   "cell_type": "markdown",
   "metadata": {
    "Collapsed": "false",
    "kernel": "SoS"
   },
   "source": [
    "# Analysis\n",
    "\n",
    "Original code from [here](https://drive.google.com/open?id=1V6klFoNaPL30YdFOAonPaQs_v9Tn5rPq)\n",
    "\n",
    "## Load the data\n",
    "\n",
    "Please open links below to download the necessary data, and make sure to locate them in the same path as the notebook, otherwise, change the path.\n",
    "\n",
    "- [vat_rebate_china.gz](https://console.cloud.google.com/storage/browser/_details/chinese_data/paper_project/vat_rebate_china.gz?project=valid-pagoda-132423)\n",
    "- [baci92_2002.csv](https://console.cloud.google.com/storage/browser/_details/chinese_data/paper_project/intermediate_files/baci92_2002.csv?project=valid-pagoda-132423)\n",
    "- [city_list_final.csv](https://console.cloud.google.com/storage/browser/_details/chinese_data/paper_project/intermediate_files/city_list_final.csv?project=valid-pagoda-132423)\n",
    "- [export_2002.csv](https://console.cloud.google.com/storage/browser/_details/chinese_data/paper_project/intermediate_files/export_2002.csv?project=valid-pagoda-132423)\n",
    "\n",
    "We decided to choose this way to load the data since it does not fit our current framework. The main data has been created using stata, which makes it very complicated to reproduce and visualize the pipeline. No documentation is available as well."
   ]
  },
  {
   "cell_type": "markdown",
   "metadata": {
    "Collapsed": "false",
    "kernel": "SoS"
   },
   "source": [
    "```\n",
    "import pandas as pd\n",
    "from Fast_connectCloud import connector\n",
    "import plotly.express as px\n",
    "\n",
    "gs = connector.open_connection(online_connection = False,\n",
    "                              path_credential = '/Users/Thomas/Google Drive/Projects/Data_science/Google_code_n_Oauth/Client_Oauth/Google_auth//')\n",
    "\n",
    "service = gs.connect_remote('GCP')\n",
    "```"
   ]
  },
  {
   "cell_type": "markdown",
   "metadata": {
    "Collapsed": "false",
    "kernel": "SoS"
   },
   "source": [
    "```\n",
    "#from GoogleDrivePy.google_platform import connect_cloud_platform\n",
    "#project = 'v'\n",
    "#gcp = connect_cloud_platform.connect_console(project = project, \n",
    "#                                             service_account = service['GoogleCloudP'])    \n",
    "#query = (\n",
    "#          \"SELECT * \"\n",
    "#            \"FROM China.vat_rebate_china \"\n",
    "\n",
    "#        )\n",
    "\n",
    "#df_final = gcp.upload_data_from_bigquery(query = query, location = 'US')\n",
    "#df_final.head()\n",
    "```"
   ]
  },
  {
   "cell_type": "code",
   "execution_count": null,
   "metadata": {
    "Collapsed": "false",
    "kernel": "python3"
   },
   "outputs": [],
   "source": [
    "import function.latex_beautify as lb\n",
    "\n",
    "%load_ext autoreload\n",
    "%autoreload 2"
   ]
  },
  {
   "cell_type": "code",
   "execution_count": null,
   "metadata": {
    "Collapsed": "false",
    "kernel": "R"
   },
   "outputs": [],
   "source": [
    "options(warn=-1)\n",
    "library(tidyverse)\n",
    "library(lfe)\n",
    "library(lazyeval)\n",
    "library('progress')\n",
    "path = \"function/table_golatex.R\"\n",
    "source(path)"
   ]
  },
  {
   "cell_type": "code",
   "execution_count": null,
   "metadata": {
    "Collapsed": "false",
    "kernel": "R"
   },
   "outputs": [],
   "source": [
    "\n",
    "df_final <- read_csv('vat_rebate_china.gz')\n",
    "\n",
    "table(df_final$eligible)\n"
   ]
  },
  {
   "cell_type": "markdown",
   "metadata": {
    "Collapsed": "false",
    "kernel": "SoS"
   },
   "source": [
    "# Replicate table "
   ]
  },
  {
   "cell_type": "markdown",
   "metadata": {
    "Collapsed": "true",
    "kernel": "SoS"
   },
   "source": [
    "## Table 1: Baseline\n",
    "\n",
    "Output latex table available here\n",
    "\n",
    "- https://www.overleaf.com/project/5e6b52424e39670001dabbb0\n",
    "    - table_1\n",
    "\n",
    "![](https://drive.google.com/uc?export=view&id=1xrybwVOlhUL_76jB8lg0-CcrxsXA0hxk)"
   ]
  },
  {
   "cell_type": "code",
   "execution_count": null,
   "metadata": {
    "Collapsed": "false",
    "kernel": "R"
   },
   "outputs": [],
   "source": [
    "#1    \n",
    "t_1 <- felm(quality ~eligible:ln_vat_tax + imported_variety:t_0\n",
    "            | g1+g2+g3+g4 |0 | id_group, df_final, exactDOF = TRUE)\n",
    "#2\n",
    "t_2 <-felm(quality ~ln_vat_tax+ imported_variety:t_0\n",
    "             | g1+g2+g3+g4 |0 | id_group, df_final, eligible==\"Yes\", exactDOF = TRUE)\n",
    "#3\n",
    "t_3 <-felm(quality ~ln_vat_tax+ imported_variety:t_0\n",
    "             | g1+g2+g3+g4 |0 | id_group, df_final, eligible==\"No\", exactDOF = TRUE)\n",
    "#4\n",
    "t_4 <-felm(quality ~eligible:ln_vat_tax + eligible:ln_import_tax+ imported_variety:t_0\n",
    "             | g1+g2+g3+g4 |0 | id_group, df_final, exactDOF = TRUE)\n",
    "#5\n",
    "t_5 <-felm(quality ~eligible:ln_vat_tax + eligible:ln_import_tax +herf_com_o + imported_variety:t_0\n",
    "             | g1+g2+g3+g4 |0 | id_group, df_final, exactDOF = TRUE)"
   ]
  },
  {
   "cell_type": "code",
   "execution_count": null,
   "metadata": {
    "Collapsed": "false",
    "kernel": "python3"
   },
   "outputs": [],
   "source": [
    "import os\n",
    "try:\n",
    "    os.remove(\"table_1.txt\")\n",
    "except:\n",
    "    pass\n",
    "try:\n",
    "    os.remove(\"table_1.tex\")\n",
    "except:\n",
    "    pass"
   ]
  },
  {
   "cell_type": "code",
   "execution_count": null,
   "metadata": {
    "Collapsed": "false",
    "kernel": "R"
   },
   "outputs": [],
   "source": [
    "dep <- \"Dependent variable: Quality of firm $i$ for product $k$ in city $c$ at year $t$\"\n",
    "table_1 <- go_latex(list(\n",
    "    t_1,\n",
    "    t_2,\n",
    "    t_3,\n",
    "    t_4,\n",
    "    t_5\n",
    "),\n",
    "    title=\"VAT export tax and firm's quality upgrading, baseline regression\",\n",
    "    dep_var = dep,\n",
    "    addFE='',\n",
    "    save=TRUE,\n",
    "    note = FALSE,\n",
    "    name=\"table_1.txt\"\n",
    ")"
   ]
  },
  {
   "cell_type": "code",
   "execution_count": null,
   "metadata": {
    "Collapsed": "false",
    "kernel": "python3"
   },
   "outputs": [],
   "source": [
    "tbe1 = \"This table estimates eq(3). All estimation include firm-hs6, origin city-year,\" \\\n",
    "\"destination-year, HS4-status-year fixed effect. Our regression adds initial firm size trend.\" \\\n",
    "\"Note that $ordinary$ refers to the firms entitle to VAT refund, our treatment group.\" \\\n",
    "\"Our control group is processing trade with supplied input, non eligible to VAT refund.\" \\\n",
    "\"All firms belong to one group only, in consequence, the dummy $ordinary_{i}$ does not vary\"  \\\n",
    "\"within firm over time and is drop from the regression. $i$ stands for the firm,$k$ for\" \\\n",
    "\"the HS6 product, $t$ for the year and $s$ for the sector. Heteroskedasticity-robust standard\" \\\n",
    "\"errors clustered at the firm level appear in parentheses.\"\\\n",
    "\"\\sym{*} Significance at the 10\\%, \\sym{**} Significance at the 5\\%, \\sym{***} Significance at the 1\\%.\""
   ]
  },
  {
   "cell_type": "code",
   "execution_count": null,
   "metadata": {
    "Collapsed": "false",
    "kernel": "python3"
   },
   "outputs": [],
   "source": [
    "lb.beautify(table_number = 1,\n",
    "            new_row= ['','', 'Eligible', 'No Eligible', ''],\n",
    "           table_nte = tbe1)"
   ]
  },
  {
   "cell_type": "markdown",
   "metadata": {
    "Collapsed": "true",
    "kernel": "python3"
   },
   "source": [
    "## Table 2\n",
    "\n",
    "Output latex table available here\n",
    "\n",
    "- https://www.overleaf.com/project/5e6b52424e39670001dabbb0\n",
    "    - table_2\n",
    "\n",
    "![](https://drive.google.com/uc?export=view&id=1mYW1ab4-fTu3gQC3Soey1th_F23uYMVF)"
   ]
  },
  {
   "cell_type": "code",
   "execution_count": null,
   "metadata": {
    "Collapsed": "false",
    "kernel": "R"
   },
   "outputs": [],
   "source": [
    "##table 2\n",
    "#1\n",
    "t_1 <-felm(quality ~eligible:ln_vat_tax +eligible:ln_import_tax+  herf_com_o +imported_variety:t_0\n",
    "             | g1+g2+g3+g4 |0 | id_group, df_final, develop==\"LDC\", exactDOF = TRUE)\n",
    "#2\n",
    "t_2 <-felm(quality ~eligible:ln_vat_tax +eligible:ln_import_tax+  herf_com_o +imported_variety:t_0\n",
    "           | g1+g2+g3+g4 |0 | id_group, df_final, develop==\"DC\", exactDOF = TRUE)\n",
    "#3\n",
    "t_3 <-felm(quality ~eligible:ln_vat_tax +eligible:ln_import_tax +herf_com_o +imported_variety:t_0\n",
    "             | g1+g2+g3+g4 |0 | id_group, df_final, goods==\"Homogeneous\", exactDOF = TRUE)\n",
    "#4\n",
    "t_4 <-felm(quality ~eligible:ln_vat_tax +eligible:ln_import_tax +herf_com_o +imported_variety:t_0\n",
    "             | g1+g2+g3+g4 |0 | id_group, df_final, goods==\"Heterogeneous\", exactDOF = TRUE)\n",
    "\n",
    "t <- df_final %>%\n",
    "        filter(t ==2002) %>%\n",
    "        group_by(party_id) %>%\n",
    "        summarise(size = n())\n",
    "mean <- t %>%\n",
    "        summarize(mean(size))\n",
    "\n",
    "mean <-  as.list(mean)\n",
    "\n",
    "t <- t %>%\n",
    "  mutate(d_size = ifelse(size > mean,1,0)) %>%\n",
    "  right_join(df_final)%>%\n",
    "  replace_na(list(d_size = 0))\n",
    "\n",
    "t_5 <- felm(quality ~eligible:ln_vat_tax +eligible:ln_import_tax+  herf_com_o +imported_variety:t_0\n",
    "     | g1+g2+g3+g4 |0 | id_group, t, d_size==0, exactDOF = TRUE)\n",
    "\n",
    "t_6 <-felm(quality ~eligible:ln_vat_tax +eligible:ln_import_tax+  herf_com_o +imported_variety:t_0\n",
    "             | g1+g2+g3+g4 |0 | id_group, t, d_size==1, exactDOF = TRUE)\n",
    "\n"
   ]
  },
  {
   "cell_type": "code",
   "execution_count": null,
   "metadata": {
    "Collapsed": "false",
    "kernel": "python3"
   },
   "outputs": [],
   "source": [
    "try:\n",
    "    os.remove(\"table_2.txt\")\n",
    "except:\n",
    "    pass\n",
    "try:\n",
    "    os.remove(\"table_2.tex\")\n",
    "except:\n",
    "    pass"
   ]
  },
  {
   "cell_type": "code",
   "execution_count": null,
   "metadata": {
    "Collapsed": "false",
    "kernel": "R"
   },
   "outputs": [],
   "source": [
    "dep <- \"Dependent variable: Quality of firm $i$ for product $k$ in city $c$ at year $t$\"\n",
    "table_1 <- go_latex(list(\n",
    "    t_1,\n",
    "    t_2,\n",
    "    t_3,\n",
    "    t_4,\n",
    "    t_5,\n",
    "    t_6\n",
    "),\n",
    "    title=\"VAT export tax and firm's quality upgrading, characteristics of \n",
    "the destination countries, products, and companies\",\n",
    "    dep_var = dep,\n",
    "    addFE='',\n",
    "    save=TRUE,\n",
    "    note = FALSE,\n",
    "    name=\"table_2.txt\"\n",
    ")"
   ]
  },
  {
   "cell_type": "code",
   "execution_count": null,
   "metadata": {
    "Collapsed": "false",
    "kernel": "python3"
   },
   "outputs": [],
   "source": [
    "tbe2 = \"All estimation include firm-hs6, origin city-year,\" \\\n",
    "\"destination-year, HS4-status-year fixed effect. Our regression adds initial firm size trend.\" \\\n",
    "\"Note that $ordinary$ refers to the firms entitle to VAT refund, our treatment group.\" \\\n",
    "\"Our control group is processing trade with supplied input, non eligible to VAT refund.\" \\\n",
    "\"All firms belong to one group only, in consequence, the dummy $ordinary_{i}$ does not vary\"  \\\n",
    "\"within firm over time and is drop from the regression. $i$ stands for the firm,$k$ for\" \\\n",
    "\"the HS6 product, $t$ for the year and $s$ for the sector. Heteroskedasticity-robust standard\" \\\n",
    "\"errors clustered at the firm level appear in parentheses.\"\\\n",
    "\"\\sym{*} Significance at the 10\\%, \\sym{**} Significance at the 5\\%, \\sym{***} Significance at the 1\\%.\""
   ]
  },
  {
   "cell_type": "code",
   "execution_count": null,
   "metadata": {
    "Collapsed": "false",
    "kernel": "python3"
   },
   "outputs": [],
   "source": [
    "lb.beautify(table_number = 2,\n",
    "            new_row = ['& LDC',\n",
    "                       'DC',\n",
    "                       'Homogeneous',\n",
    "                       'Heterogeneous',\n",
    "                       'Small Firms',\n",
    "                       'Big Firms'],\n",
    "           table_nte = tbe2)"
   ]
  },
  {
   "cell_type": "markdown",
   "metadata": {
    "Collapsed": "true",
    "kernel": "python3"
   },
   "source": [
    "## Table 3\n",
    "\n",
    "Output latex table available here\n",
    "\n",
    "- https://www.overleaf.com/project/5e6b52424e39670001dabbb0\n",
    "    - table_3\n",
    "    \n",
    "![](https://drive.google.com/uc?export=view&id=1fqKZYhC6q-BN6EFwbZZ3yHJV2oyxv--u)"
   ]
  },
  {
   "cell_type": "code",
   "execution_count": null,
   "metadata": {
    "Collapsed": "false",
    "kernel": "R"
   },
   "outputs": [],
   "source": [
    "t_1 <-felm(quality ~ ln_vat_tax:eligible:density_china_ville + \n",
    "           ln_vat_tax:density_china_ville+eligible:ln_import_tax+  \n",
    "           herf_com_o +imported_variety:t_0\n",
    "             | g1+g2+g3+g4 |0 | id_group, df_final, exactDOF = TRUE)\n",
    "#2\n",
    "t_2 <-felm(quality ~ln_vat_tax+ ln_vat_tax:density_china_ville+ln_import_tax+  \n",
    "           herf_com_o +imported_variety:t_0\n",
    "             | g1+g2+g3+g4 |0 | id_group, df_final, eligible==\"Yes\", exactDOF = TRUE)\n",
    "#3\n",
    "t_3 <-felm(quality ~ln_vat_tax+ ln_vat_tax:density_china_ville+ln_import_tax+  \n",
    "           herf_com_o +imported_variety:t_0\n",
    "             | g1+g2+g3+g4 |0 | id_group, df_final, eligible==\"No\", exactDOF = TRUE)\n",
    "\n",
    "library(data.table)\n",
    "\n",
    "city <- read_csv(\"city_list_final.csv\") \n",
    "dat <- read_csv('export_2002.csv') %>% \n",
    "rename(citycn = city_prod, v = sum_value) %>%\n",
    "inner_join(city, by= \"citycn\") %>%\n",
    "rename(i = geocode4_corr) %>%\n",
    "mutate( i = as.character(i), \n",
    "      v = v/1000)\n",
    "\n",
    "world <- fread(\"baci92_2002.csv\")\n",
    "rca <- world %>%\n",
    "  select(-q, -t) %>%\n",
    "  filter(i !=\"156\" ) %>%\n",
    "  group_by(hs6, i)%>%\n",
    "  summarise(v = sum(v)) %>%\n",
    "  ungroup() %>%\n",
    "  mutate(hs6 = as.character(hs6), i =  as.character(i)) %>%\n",
    "  bind_rows(dat) %>%\n",
    "  mutate(totalX = sum(v)) %>%\n",
    "  group_by(i)%>%\n",
    "  mutate(total_i= sum(v)) %>%\n",
    "  ungroup() %>%\n",
    "  group_by(hs6)%>%\n",
    "  mutate(total_product = sum(v)) %>%\n",
    "  ungroup() %>%\n",
    "  mutate(haut =v/total_i, bas =  total_product/totalX, rca = haut/bas) %>%\n",
    "  mutate(balassa = as.numeric(rca> 1)) %>%\n",
    "  select(i, hs6, balassa) %>%\n",
    "  filter(nchar(i)>3)\n",
    "\n",
    "rca <- rename(rca, geocode4_corr = i) \n",
    "\n",
    "df_final$geocode4_corr <- as.character(df_final$geocode4_corr)\n",
    "df_final$hs6 <- as.character(df_final$hs6)\n",
    "\n",
    "rca <- rca %>%\n",
    "  right_join(df_final, by = c(\"geocode4_corr\", \"hs6\"))\n",
    "rca <- rca %>%\n",
    "  ungroup()%>%\n",
    "  mutate(hs6 = factor(hs6), balassa =ifelse(is.na(balassa),0, balassa)) \n",
    "\n",
    "t_4 <-felm(quality ~ ln_vat_tax:eligible:density_china_ville + ln_vat_tax:density_china_ville\n",
    "             +ln_vat_tax:eligible:balassa + \n",
    "               ln_vat_tax:balassa+eligible:ln_import_tax+  herf_com_o +imported_variety:t_0\n",
    "             | g1+g2+g3+g4 |0 | id_group, rca, exactDOF = TRUE)\n",
    "\n",
    "t_5 <-felm(quality ~ ln_vat_tax:eligible:density_china_ville + ln_vat_tax:density_china_ville\n",
    "             +ln_vat_tax:eligible:herf_com_o + \n",
    "               ln_vat_tax:herf_com_o+eligible:ln_import_tax+  herf_com_o +imported_variety:t_0\n",
    "             | g1+g2+g3+g4 |0 | id_group, df_final, exactDOF = TRUE)"
   ]
  },
  {
   "cell_type": "code",
   "execution_count": null,
   "metadata": {
    "Collapsed": "false",
    "kernel": "python3"
   },
   "outputs": [],
   "source": [
    "import os\n",
    "try:\n",
    "    os.remove(\"table_3.txt\")\n",
    "except:\n",
    "    pass\n",
    "try:\n",
    "    os.remove(\"table_3.tex\")\n",
    "except:\n",
    "    pass"
   ]
  },
  {
   "cell_type": "code",
   "execution_count": null,
   "metadata": {
    "Collapsed": "false",
    "kernel": "R"
   },
   "outputs": [],
   "source": [
    "dep <- \"Dependent variable: Quality of firm $i$ for product $k$ in city $c$ at year $t$\"\n",
    "table_1 <- go_latex(list(\n",
    "    t_1,\n",
    "    t_2,\n",
    "    t_3,\n",
    "    t_4,\n",
    "    t_5\n",
    "),\n",
    "    title=\"VAT export tax and firm's quality upgrading, Effect of density\",\n",
    "    dep_var = dep,\n",
    "    addFE='',\n",
    "    save=TRUE,\n",
    "    note = FALSE,\n",
    "    name=\"table_3.txt\"\n",
    ")"
   ]
  },
  {
   "cell_type": "code",
   "execution_count": null,
   "metadata": {
    "Collapsed": "false",
    "kernel": "python3"
   },
   "outputs": [],
   "source": [
    "tbe3 = \"This table estimates eq(4). All estimation include firm-hs6, origin city-year,\" \\\n",
    "\"destination-year, HS4-status-year fixed effect. Our regression adds initial firm size trend.\" \\\n",
    "\"Note that $ordinary$ refers to the firms entitle to VAT refund, our treatment group.\" \\\n",
    "\"Our control group is processing trade with supplied input, non eligible to VAT refund.\" \\\n",
    "\"All firms belong to one group only, in consequence, the dummy $ordinary_{i}$ does not vary\" \\\n",
    "\"within firm over time and is drop from the regression. $i$ stands for the firm, $c$ for the city,\" \\\n",
    "\"$k$ for the HS6 product, $t$ for the year and $s$ for the sector.\" \\\n",
    "\"Heteroskedasticity-robust standard errors clustered at the firm level appear in parentheses.\" \\\n",
    "\" \\sym{*} Significance at the 10\\%, \\sym{**} Significance at the 5\\%, \\sym{***} Significance at the 1\\%.\"\n",
    "print(tbe3)"
   ]
  },
  {
   "cell_type": "code",
   "execution_count": null,
   "metadata": {
    "Collapsed": "false",
    "kernel": "python3"
   },
   "outputs": [],
   "source": [
    "lb.beautify(table_number = 3,\n",
    "            new_row= ['','', 'Eligible', 'No Eligible', ''],\n",
    "           table_nte = tbe3)"
   ]
  },
  {
   "cell_type": "markdown",
   "metadata": {
    "Collapsed": "true",
    "kernel": "python3"
   },
   "source": [
    "## Table 4\n",
    "\n",
    "Output latex table available here\n",
    "\n",
    "- https://www.overleaf.com/project/5e6b52424e39670001dabbb0\n",
    "    - table_4\n",
    "    \n",
    "![](https://drive.google.com/uc?export=view&id=1TAFYa8Sa9tiLousPLn0ZjOvV9IYhZs1V)"
   ]
  },
  {
   "cell_type": "code",
   "execution_count": null,
   "metadata": {
    "Collapsed": "false",
    "kernel": "R"
   },
   "outputs": [],
   "source": [
    "#1\n",
    "t_1 <-felm(quality ~ln_vat_tax:eligible:density_china_ville + \n",
    "           ln_vat_tax:density_china_ville +eligible:ln_import_tax+ \n",
    "           herf_com_o +imported_variety:t_0\n",
    "             | g1+g2+g3+g4 |0 | id_group, df_final, hs6!=850511,  exactDOF = TRUE)\n",
    "#2\n",
    "t_2 <-felm(quality ~ln_vat_tax:eligible:density_china_ville + \n",
    "           ln_vat_tax:density_china_ville +eligible:ln_import_tax+ \n",
    "           herf_com_o +imported_variety:t_0\n",
    "             | g1+g2+g3+g4 |0 | id_group, df_final, energy==1,  exactDOF = TRUE)\n",
    "#3\n",
    "t_3 <-felm(quality ~ln_vat_tax:eligible:density_china_ville + \n",
    "           ln_vat_tax:density_china_ville+eligible:ln_import_tax+ \n",
    "           herf_com_o +imported_variety:t_0\n",
    "             | g1+g2+g3+g4 |0 | id_group, df_final, high_tech==0,  exactDOF = TRUE)\n",
    "#4\n",
    "t_4 <-felm(quality ~ln_vat_tax:eligible:density_china_ville + \n",
    "           ln_vat_tax:density_china_ville +eligible:ln_import_tax+\n",
    "           herf_com_o +imported_variety:t_0\n",
    "             | g1+g2+g3+g4 |0 | id_group, df_final, h_rd_o==0,  exactDOF = TRUE)\n",
    "#5\n",
    "t_5 <-felm(quality ~ln_vat_tax:eligible:density_china_ville + \n",
    "           ln_vat_tax:density_china_ville +eligible:ln_import_tax+ \n",
    "           herf_com_o +imported_variety:t_0\n",
    "             | g1+g2+g3+g4 |0 | id_group, df_final, hi_s_e1 ==0,  exactDOF = TRUE)"
   ]
  },
  {
   "cell_type": "code",
   "execution_count": null,
   "metadata": {
    "Collapsed": "false",
    "kernel": "python3"
   },
   "outputs": [],
   "source": [
    "try:\n",
    "    os.remove(\"table_4.txt\")\n",
    "except:\n",
    "    pass\n",
    "try:\n",
    "    os.remove(\"table_4.tex\")\n",
    "except:\n",
    "    pass"
   ]
  },
  {
   "cell_type": "code",
   "execution_count": null,
   "metadata": {
    "Collapsed": "false",
    "kernel": "R"
   },
   "outputs": [],
   "source": [
    "dep <- \"Dependent variable: Quality of firm $i$ for product $k$ in city $c$ at year $t$\"\n",
    "table_1 <- go_latex(list(\n",
    "    t_1,\n",
    "    t_2,\n",
    "    t_3,\n",
    "    t_4,\n",
    "    t_5\n",
    "),\n",
    "    title=\"VAT export tax and firm's quality upgrading, subsetting no-sensitive sectors\",\n",
    "    dep_var = dep,\n",
    "    addFE='',\n",
    "    save=TRUE,\n",
    "    note = FALSE,\n",
    "    name=\"table_4.txt\"\n",
    ")"
   ]
  },
  {
   "cell_type": "code",
   "execution_count": null,
   "metadata": {
    "Collapsed": "false",
    "kernel": "python3"
   },
   "outputs": [],
   "source": [
    "tbe4 = \"All estimation include firm-hs6, origin city-year, destination-year,\" \\\n",
    "\"HS4-status-year fixed effect. Our regression adds initial firm size trend.\" \\\n",
    "\"Note that $ordinary$ refers to the firms entitle to VAT refund, our treatment group.\" \\\n",
    "\"Our control group is processing trade with supplied input, non eligible to VAT refund.\" \\\n",
    "\"All firms belong to one group only, in consequence, the dummy $ordinary_{i}$ does not vary\" \\\n",
    "\"within firm over time and is drop from the regression. $i$ stands for the firm, $c$ for the\" \\\n",
    "\"city, $k$ for the HS6 product, $t$ for the year and $s$ for the sector.\" \\\n",
    "\"Heteroskedasticity-robust standard errors clustered at the firm level appear in parentheses.\" \\\n",
    "\"\\sym{*} Significance at the 10\\%, \\sym{**} Significance at the 5\\%, \\sym{***} Significance at the 1\\%.\""
   ]
  },
  {
   "cell_type": "code",
   "execution_count": null,
   "metadata": {
    "Collapsed": "false",
    "kernel": "python3"
   },
   "outputs": [],
   "source": [
    "lb.beautify(table_number=4,\n",
    "            new_row=['& No rare earth',\n",
    "                     'No energy intensive',\n",
    "                     'No High tech',\n",
    "                     'No RD oriented',\n",
    "                     'No High skill oriented'],\n",
    "            table_nte=tbe4)"
   ]
  },
  {
   "cell_type": "markdown",
   "metadata": {
    "Collapsed": "true",
    "kernel": "python3"
   },
   "source": [
    "## Table 5\n",
    "\n",
    "Output latex table available here\n",
    "\n",
    "- https://www.overleaf.com/project/5e6b52424e39670001dabbb0\n",
    "    - table_5\n",
    "    \n",
    "![](https://drive.google.com/uc?export=view&id=1tb7CWX6BYOYUCN38H68EZrjAoqFI9mod)"
   ]
  },
  {
   "cell_type": "code",
   "execution_count": null,
   "metadata": {
    "Collapsed": "false",
    "kernel": "R"
   },
   "outputs": [],
   "source": [
    "#1 g5 = group(hs6 i t_0)\n",
    "t_1 <-felm(quality ~ln_vat_tax:eligible:density_china_ville + \n",
    "           ln_vat_tax:density_china_ville +eligible:ln_import_tax+ \n",
    "           herf_com_o +imported_variety:t_0\n",
    "             | g1+g2+g3+g4+g5 |0 | id_group, df_final, exactDOF = TRUE)\n",
    "\n",
    "temp <- df_final %>%\n",
    "  group_by(id_group) %>%\n",
    "  mutate(length = length(unique(t_0))) %>%\n",
    "  filter(length ==4)\n",
    "#2\n",
    " t_2 <-felm(quality ~ln_vat_tax:eligible:density_china_ville + \n",
    "            ln_vat_tax:density_china_ville +eligible:ln_import_tax+ \n",
    "            herf_com_o +imported_variety:t_0\n",
    "              | g1+g2+g3+g4 |0 | id_group, temp, exactDOF = TRUE)\n",
    "\n",
    " ##### A revoir\n",
    " arrange <- df_final %>%\n",
    "            arrange(id_group, hs6, t_0)\n",
    " \n",
    "#3 switch eligible to non eligle\n",
    "temp <- df_final %>%\n",
    "  group_by(id_group, hs6, t_0) %>%\n",
    "  select(c(\"id_group\",\"hs6\",\"eligible\",\"t_0\")) %>%\n",
    "  arrange(id_group, hs6, t_0) %>%\n",
    "  distinct(.keep_all = TRUE) %>%\n",
    "  ungroup() %>%\n",
    "  group_by(id_group, hs6) %>%\n",
    "  filter(row_number()==1)\n",
    "\n",
    "temp_2 <- df_final %>%\n",
    "  group_by(id_group, hs6, t_0) %>%\n",
    "  select(c(\"id_group\",\"hs6\",\"eligible\",\"t_0\")) %>%\n",
    "  arrange(id_group, hs6, t_0) %>%\n",
    "  distinct(.keep_all = TRUE)%>%\n",
    "  ungroup() %>%\n",
    "  group_by(id_group, hs6) %>%\n",
    "  filter(row_number()==2)\n",
    "  \n",
    "temp_f_no_eli <- temp_2 %>%\n",
    "  filter(eligible ==\"No\")\n",
    "\n",
    "temp_f_eli <- temp %>%\n",
    "  filter(eligible ==\"Yes\") %>%\n",
    "  inner_join(temp_f_no_eli, by = c(\"id_group\",\"hs6\")) \n",
    "\n",
    "temp_f_eli <-temp_f_eli%>%\n",
    "  filter(t_0.x != t_0.y)\n",
    "\n",
    "data_set_d <- df_final %>%\n",
    "  anti_join(temp_f_eli)\n",
    "\n",
    "t_3 <-felm(quality ~ln_vat_tax:eligible:density_china_ville + \n",
    "           ln_vat_tax:density_china_ville +eligible:ln_import_tax+ \n",
    "           herf_com_o +imported_variety:t_0\n",
    "             | g1+g2+g3+g4 |0 | id_group, data_set_d, exactDOF = TRUE)  \n",
    "\n",
    "#4 switch non eligible to eligible\n",
    "temp_f_no_eli <- temp_2 %>%\n",
    "  filter(eligible ==\"Yes\")\n",
    "\n",
    "temp_f_eli <- temp %>%\n",
    "  filter(eligible ==\"No\") %>%\n",
    "  inner_join(temp_f_no_eli, by = c(\"id_group\",\"hs6\")) \n",
    "\n",
    "temp_f_eli <-temp_f_eli%>%\n",
    "  filter(t_0.x != t_0.y)\n",
    "\n",
    "data_set_d <- df_final %>%\n",
    "  anti_join(temp_f_eli)\n",
    "\n",
    "t_4 <-felm(quality ~ln_vat_tax:eligible:density_china_ville + \n",
    "           ln_vat_tax:density_china_ville +eligible:ln_import_tax+ \n",
    "           herf_com_o +imported_variety:t_0\n",
    "           | g1+g2+g3+g4 |0 | id_group, data_set_d, exactDOF = TRUE)  \n",
    "\n",
    "#3\n",
    "t_5 <-felm(quality ~ln_vat_tax:eligible:density_china_ville + \n",
    "           ln_vat_tax:density_china_ville +eligible:ln_import_tax+ \n",
    "           herf_com_o +imported_variety:t_0\n",
    "             | g1+g2+g3+g4 |0 | id_group, df_final, vat_m ==17,  exactDOF = TRUE)\n",
    "\n",
    "#4\n",
    "t_6 <-felm(quality ~ln_vat_tax:eligible:density_china_ville + \n",
    "           ln_vat_tax:density_china_ville +eligible:ln_import_tax+ \n",
    "           herf_com_o +imported_variety:t_0\n",
    "             | g1+g2+g3+g4 |0 | id_group, df_final, vat_reb_m !=0,  exactDOF = TRUE)"
   ]
  },
  {
   "cell_type": "code",
   "execution_count": null,
   "metadata": {
    "Collapsed": "false",
    "kernel": "python3"
   },
   "outputs": [],
   "source": [
    "try:\n",
    "    os.remove(\"table_5.txt\")\n",
    "except:\n",
    "    pass\n",
    "try:\n",
    "    os.remove(\"table_5.tex\")\n",
    "except:\n",
    "    pass"
   ]
  },
  {
   "cell_type": "code",
   "execution_count": null,
   "metadata": {
    "Collapsed": "false",
    "kernel": "R"
   },
   "outputs": [],
   "source": [
    "dep <- \"Dependent variable: Quality of firm $i$ for product $k$ in city $c$ at year $t$\"\n",
    "table_1 <- go_latex(list(\n",
    "    t_1,\n",
    "    t_2,\n",
    "    t_3,\n",
    "    t_4,\n",
    "    t_5,\n",
    "    t_6\n",
    "),\n",
    "    title=\"VAT export tax and firm's quality upgrading\",\n",
    "    dep_var = dep,\n",
    "    addFE='',\n",
    "    save=TRUE,\n",
    "    note = FALSE,\n",
    "    name=\"table_5.txt\"\n",
    ")"
   ]
  },
  {
   "cell_type": "code",
   "execution_count": null,
   "metadata": {
    "Collapsed": "false",
    "kernel": "python3"
   },
   "outputs": [],
   "source": [
    "tb5 = \"All estimation include firm-hs6, origin city-year, destination-year,\" \\\n",
    "\"HS4-status-year fixed effect. Our regression adds initial firm size trend.\" \\\n",
    "\"Note that $ordinary$ refers to the firms entitle to VAT refund, our treatment group.\" \\\n",
    "\"Our control group is processing trade with supplied input, non eligible to VAT refund.\" \\\n",
    "\"All firms belong to one group only, in consequence, the dummy $ordinary_{i}$ does not\" \\\n",
    "\"vary within firm over time and is drop from the regression. $i$ stands for the firm, $c$\" \\\n",
    "\"for the city, $k$ for the HS6 product, $t$ for the year and $s$ for the sector.\" \\\n",
    "\"Heteroskedasticity-robust standard errors clustered at the firm level appear in parentheses.\" \\\n",
    "\"\\sym{*} Significance at the 10\\%, \\sym{**} Significance at the 5\\%, \\sym{***} Significance at the 1\\%\""
   ]
  },
  {
   "cell_type": "code",
   "execution_count": null,
   "metadata": {
    "Collapsed": "false",
    "kernel": "python3"
   },
   "outputs": [],
   "source": [
    "lb.beautify(table_number=5,\n",
    "            new_row=[\n",
    "                '& Shock',\n",
    "                'Balance',\n",
    "                'Eligible to non eligible',\n",
    "                'Non eligible to eligible',\n",
    "                'Only 17\\%',\n",
    "                'No zero rebate'\n",
    "            ],\n",
    "            table_nte=tb5)"
   ]
  }
 ],
 "metadata": {
  "kernelspec": {
   "display_name": "SoS",
   "language": "sos",
   "name": "sos"
  },
  "language_info": {
   "codemirror_mode": "sos",
   "file_extension": ".sos",
   "mimetype": "text/x-sos",
   "name": "sos",
   "nbconvert_exporter": "sos_notebook.converter.SoS_Exporter",
   "pygments_lexer": "sos"
  },
  "sos": {
   "kernels": [
    [
     "R",
     "ir",
     "R",
     "#DCDCDA",
     "r"
    ],
    [
     "python3",
     "python3",
     "python3",
     "",
     {
      "name": "ipython",
      "version": 3
     }
    ]
   ],
   "version": "0.20.6"
  }
 },
 "nbformat": 4,
 "nbformat_minor": 4
}
