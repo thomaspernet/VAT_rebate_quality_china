{
 "cells": [
  {
   "cell_type": "markdown",
   "metadata": {
    "lines_to_next_cell": 0
   },
   "source": [
    "# US Name\n",
    "\n",
    "Transform china product quality table and by merging china_sigmas_hs3 and constructing kandhelwal_quality and others variables\n",
    "\n",
    "\n",
    "# Description\n",
    "\n",
    "- **Step:  Compute Kandhelwal quality**\n",
    "\n",
    "## Variables\n",
    "\n",
    " \n",
    " \n",
    "\n",
    "## Merge\n",
    "\n",
    "china_sigmas_hs3\n",
    "\n",
    "### Complementary information\n",
    "\n",
    "**Reminder** \n",
    "\n",
    "\n",
    "\n",
    "# Target\n",
    "\n",
    "- The file is saved in S3:\n",
    "- bucket: datalake-datascience\n",
    "- path: DATA/ECON/TRADE_DATA/CHINA/PRODUCT_QUALITY\n",
    "- Glue data catalog should be updated\n",
    "- database: chinese_trade\n",
    "- Table prefix: china_\n",
    "- table name: china_product_quality\n",
    "- Analytics\n",
    "- HTML: ANALYTICS/HTML_OUTPUT/china_product_quality\n",
    "- Notebook: ANALYTICS/OUTPUT/china_product_quality\n",
    "\n",
    "# Metadata\n",
    "\n",
    "- Key: 179_VAT_rebate_quality\n",
    "- Epic: Dataset transformation\n",
    "- US: Quality estimate\n",
    "- Task tag: #data-preparation\n",
    "- Analytics reports: https://htmlpreview.github.io/?https://github.com/thomaspernet/VAT_rebate_quality_china/blob/master/00_data_catalog/HTML_ANALYSIS/CHINA_PRODUCT_QUALITY.html\n",
    "\n",
    "# Input Cloud Storage\n",
    "\n",
    "## Table/file\n",
    "\n",
    "**Name**\n",
    "\n",
    "- china_export_tariff_tax\n",
    "- china_sigmas_hs3\n",
    "\n",
    "**Github**\n",
    "\n",
    "- https://github.com/thomaspernet/VAT_rebate_quality_china/blob/master/01_data_preprocessing/02_transform_tables/00_export_vat.md\n",
    "- https://github.com/thomaspernet/VAT_rebate_quality_china/blob/master/01_data_preprocessing/00_download_data/SIGMA/sigma.py\n",
    "\n",
    "# Destination Output/Delivery\n",
    "\n",
    "## Table/file\n",
    "\n",
    "**Name**\n",
    "\n",
    "china_product_quality\n",
    "\n",
    "**GitHub**\n",
    "\n",
    "- https://github.com/thomaspernet/VAT_rebate_quality_china/blob/master/01_data_preprocessing/02_transform_tables/01_preparation_quality.md"
   ]
  },
  {
   "cell_type": "code",
   "execution_count": 1,
   "metadata": {
    "collapsed": false,
    "inputHidden": false,
    "jupyter": {
     "outputs_hidden": false
    },
    "outputHidden": false
   },
   "outputs": [],
   "source": [
    "from awsPy.aws_authorization import aws_connector\n",
    "from awsPy.aws_s3 import service_s3\n",
    "from awsPy.aws_glue import service_glue\n",
    "from pathlib import Path\n",
    "import pandas as pd\n",
    "import numpy as np\n",
    "import seaborn as sns\n",
    "import os, shutil, json, re\n",
    "\n",
    "path = os.getcwd()\n",
    "parent_path = str(Path(path).parent.parent)\n",
    "\n",
    "\n",
    "name_credential = 'financial_dep_SO2_accessKeys.csv'\n",
    "region = 'eu-west-3'\n",
    "bucket = 'datalake-datascience'\n",
    "path_cred = \"{0}/creds/{1}\".format(parent_path, name_credential)"
   ]
  },
  {
   "cell_type": "code",
   "execution_count": 2,
   "metadata": {
    "collapsed": false,
    "inputHidden": false,
    "jupyter": {
     "outputs_hidden": false
    },
    "outputHidden": false
   },
   "outputs": [],
   "source": [
    "con = aws_connector.aws_instantiate(credential = path_cred,\n",
    "                                       region = region)\n",
    "client= con.client_boto()\n",
    "s3 = service_s3.connect_S3(client = client,\n",
    "                      bucket = bucket, verbose = True) \n",
    "glue = service_glue.connect_glue(client = client) "
   ]
  },
  {
   "cell_type": "code",
   "execution_count": 3,
   "metadata": {},
   "outputs": [],
   "source": [
    "pandas_setting = True\n",
    "if pandas_setting:\n",
    "    cm = sns.light_palette(\"green\", as_cmap=True)\n",
    "    pd.set_option('display.max_columns', None)\n",
    "    pd.set_option('display.max_colwidth', None)"
   ]
  },
  {
   "cell_type": "markdown",
   "metadata": {},
   "source": [
    "# Load tables\n",
    "\n",
    "Since we load the data as a Pandas DataFrame, we want to pass the `dtypes`. We load the schema from Glue to guess the types"
   ]
  },
  {
   "cell_type": "markdown",
   "metadata": {},
   "source": [
    "## Load Sigma"
   ]
  },
  {
   "cell_type": "code",
   "execution_count": 4,
   "metadata": {},
   "outputs": [],
   "source": [
    "db = 'chinese_trade'\n",
    "table = 'china_sigmas_hs3'"
   ]
  },
  {
   "cell_type": "code",
   "execution_count": 5,
   "metadata": {},
   "outputs": [
    {
     "data": {
      "text/plain": [
       "{'ccode': 'string', 'cname': 'string', 'sigma': 'float', 'hs3': 'string'}"
      ]
     },
     "execution_count": 5,
     "metadata": {},
     "output_type": "execute_result"
    }
   ],
   "source": [
    "dtypes = {}\n",
    "schema = (glue.get_table_information(database = db,\n",
    "                           table = table)\n",
    "          ['Table']['StorageDescriptor']['Columns']\n",
    "         )\n",
    "for key, value in enumerate(schema):\n",
    "    if value['Type'] in ['varchar(12)']:\n",
    "        format_ = 'string'\n",
    "    elif value['Type'] in ['decimal(21,5)', 'double', 'bigint']:\n",
    "        format_ = 'float'\n",
    "    else:\n",
    "        format_ = value['Type'] \n",
    "    dtypes.update(\n",
    "        {value['Name']:format_}\n",
    "    )\n",
    "dtypes"
   ]
  },
  {
   "cell_type": "code",
   "execution_count": 6,
   "metadata": {},
   "outputs": [
    {
     "data": {
      "text/html": [
       "<div>\n",
       "<style scoped>\n",
       "    .dataframe tbody tr th:only-of-type {\n",
       "        vertical-align: middle;\n",
       "    }\n",
       "\n",
       "    .dataframe tbody tr th {\n",
       "        vertical-align: top;\n",
       "    }\n",
       "\n",
       "    .dataframe thead th {\n",
       "        text-align: right;\n",
       "    }\n",
       "</style>\n",
       "<table border=\"1\" class=\"dataframe\">\n",
       "  <thead>\n",
       "    <tr style=\"text-align: right;\">\n",
       "      <th></th>\n",
       "      <th>ccode</th>\n",
       "      <th>cname</th>\n",
       "      <th>sigma</th>\n",
       "      <th>hs3</th>\n",
       "    </tr>\n",
       "  </thead>\n",
       "  <tbody>\n",
       "    <tr>\n",
       "      <th>0</th>\n",
       "      <td>62</td>\n",
       "      <td>China</td>\n",
       "      <td>108.186410</td>\n",
       "      <td>710</td>\n",
       "    </tr>\n",
       "    <tr>\n",
       "      <th>1</th>\n",
       "      <td>62</td>\n",
       "      <td>China</td>\n",
       "      <td>93.301980</td>\n",
       "      <td>530</td>\n",
       "    </tr>\n",
       "    <tr>\n",
       "      <th>2</th>\n",
       "      <td>62</td>\n",
       "      <td>China</td>\n",
       "      <td>39.281025</td>\n",
       "      <td>852</td>\n",
       "    </tr>\n",
       "    <tr>\n",
       "      <th>3</th>\n",
       "      <td>62</td>\n",
       "      <td>China</td>\n",
       "      <td>33.545135</td>\n",
       "      <td>850</td>\n",
       "    </tr>\n",
       "    <tr>\n",
       "      <th>4</th>\n",
       "      <td>62</td>\n",
       "      <td>China</td>\n",
       "      <td>32.270940</td>\n",
       "      <td>790</td>\n",
       "    </tr>\n",
       "  </tbody>\n",
       "</table>\n",
       "</div>"
      ],
      "text/plain": [
       "  ccode  cname       sigma  hs3\n",
       "0    62  China  108.186410  710\n",
       "1    62  China   93.301980  530\n",
       "2    62  China   39.281025  852\n",
       "3    62  China   33.545135  850\n",
       "4    62  China   32.270940  790"
      ]
     },
     "execution_count": 6,
     "metadata": {},
     "output_type": "execute_result"
    }
   ],
   "source": [
    "query = \"\"\"\n",
    "SELECT * \n",
    "FROM {0}.{1}\n",
    "\"\"\".format(db, table)\n",
    "sigma = (s3.run_query(\n",
    "    query=query,\n",
    "    database=db,\n",
    "    s3_output='SQL_OUTPUT_ATHENA',\n",
    "    filename='sigma',  # Add filename to print dataframe\n",
    "    destination_key=None,  # Add destination key if need to copy output\n",
    "    dtype = dtypes\n",
    ")\n",
    "        )\n",
    "sigma.head()"
   ]
  },
  {
   "cell_type": "markdown",
   "metadata": {},
   "source": [
    "## Load trade data"
   ]
  },
  {
   "cell_type": "code",
   "execution_count": 7,
   "metadata": {},
   "outputs": [
    {
     "data": {
      "text/plain": [
       "{'geocode4_corr': 'string',\n",
       " 'year': 'string',\n",
       " 'regime': 'string',\n",
       " 'hs6': 'string',\n",
       " 'country_en': 'string',\n",
       " 'iso_alpha': 'string',\n",
       " 'quantity': 'float',\n",
       " 'value': 'float',\n",
       " 'unit_price': 'float',\n",
       " 'lag_vat_m': 'float',\n",
       " 'ln_lag_vat_m': 'float',\n",
       " 'lag_vat_reb_m': 'float',\n",
       " 'ln_lag_vat_reb_m': 'float',\n",
       " 'lag_tax_rebate': 'float',\n",
       " 'ln_lag_tax_rebate': 'float',\n",
       " 'lag_import_tax': 'float',\n",
       " 'ln_lag_import_tax': 'float',\n",
       " 'cnt': 'float'}"
      ]
     },
     "execution_count": 7,
     "metadata": {},
     "output_type": "execute_result"
    }
   ],
   "source": [
    "table = 'china_export_tariff_tax'\n",
    "dtypes = {}\n",
    "schema = (glue.get_table_information(database = db,\n",
    "                           table = table)\n",
    "          ['Table']['StorageDescriptor']['Columns']\n",
    "         )\n",
    "for key, value in enumerate(schema):\n",
    "    if value['Type'] in ['varchar(12)']:\n",
    "        format_ = 'string'\n",
    "    elif value['Type'] in ['decimal(21,5)', 'double', 'bigint']:\n",
    "        format_ = 'float'\n",
    "    else:\n",
    "        format_ = value['Type'] \n",
    "    dtypes.update(\n",
    "        {value['Name']:format_}\n",
    "    )\n",
    "dtypes"
   ]
  },
  {
   "cell_type": "code",
   "execution_count": 8,
   "metadata": {},
   "outputs": [],
   "source": [
    "query = \"\"\"\n",
    "SELECT * \n",
    "FROM {0}.{1}\n",
    "\"\"\".format(db, table)\n",
    "df_vat = s3.run_query(\n",
    "    query=query,\n",
    "    database=\"chinese_trade\",\n",
    "    s3_output=\"SQL_OUTPUT_ATHENA\",\n",
    "    filename=\"trade_vat\",  # Add filename to print dataframe\n",
    "    destination_key=None,  # Add destination key if need to copy output\n",
    "    dtype=dtypes,\n",
    ")"
   ]
  },
  {
   "cell_type": "code",
   "execution_count": 9,
   "metadata": {},
   "outputs": [
    {
     "data": {
      "text/html": [
       "<div>\n",
       "<style scoped>\n",
       "    .dataframe tbody tr th:only-of-type {\n",
       "        vertical-align: middle;\n",
       "    }\n",
       "\n",
       "    .dataframe tbody tr th {\n",
       "        vertical-align: top;\n",
       "    }\n",
       "\n",
       "    .dataframe thead th {\n",
       "        text-align: right;\n",
       "    }\n",
       "</style>\n",
       "<table border=\"1\" class=\"dataframe\">\n",
       "  <thead>\n",
       "    <tr style=\"text-align: right;\">\n",
       "      <th></th>\n",
       "      <th>geocode4_corr</th>\n",
       "      <th>year</th>\n",
       "      <th>regime</th>\n",
       "      <th>hs6</th>\n",
       "      <th>country_en</th>\n",
       "      <th>iso_alpha</th>\n",
       "      <th>quantity</th>\n",
       "      <th>value</th>\n",
       "      <th>unit_price</th>\n",
       "      <th>lag_vat_m</th>\n",
       "      <th>ln_lag_vat_m</th>\n",
       "      <th>lag_vat_reb_m</th>\n",
       "      <th>ln_lag_vat_reb_m</th>\n",
       "      <th>lag_tax_rebate</th>\n",
       "      <th>ln_lag_tax_rebate</th>\n",
       "      <th>lag_import_tax</th>\n",
       "      <th>ln_lag_import_tax</th>\n",
       "      <th>cnt</th>\n",
       "    </tr>\n",
       "  </thead>\n",
       "  <tbody>\n",
       "    <tr>\n",
       "      <th>0</th>\n",
       "      <td>1101</td>\n",
       "      <td>2007</td>\n",
       "      <td>ELIGIBLE</td>\n",
       "      <td>843061</td>\n",
       "      <td>Pakistan</td>\n",
       "      <td>PAK</td>\n",
       "      <td>8.0</td>\n",
       "      <td>4900.0</td>\n",
       "      <td>612.50000</td>\n",
       "      <td>17.0</td>\n",
       "      <td>2.890372</td>\n",
       "      <td>17.0</td>\n",
       "      <td>2.890372</td>\n",
       "      <td>0.0</td>\n",
       "      <td>0.0</td>\n",
       "      <td>6.0</td>\n",
       "      <td>1.94591</td>\n",
       "      <td>1.0</td>\n",
       "    </tr>\n",
       "    <tr>\n",
       "      <th>1</th>\n",
       "      <td>1101</td>\n",
       "      <td>2007</td>\n",
       "      <td>ELIGIBLE</td>\n",
       "      <td>843061</td>\n",
       "      <td>Hong Kong</td>\n",
       "      <td>HKG</td>\n",
       "      <td>161.0</td>\n",
       "      <td>25872.0</td>\n",
       "      <td>160.69565</td>\n",
       "      <td>17.0</td>\n",
       "      <td>2.890372</td>\n",
       "      <td>17.0</td>\n",
       "      <td>2.890372</td>\n",
       "      <td>0.0</td>\n",
       "      <td>0.0</td>\n",
       "      <td>6.0</td>\n",
       "      <td>1.94591</td>\n",
       "      <td>1.0</td>\n",
       "    </tr>\n",
       "    <tr>\n",
       "      <th>2</th>\n",
       "      <td>1101</td>\n",
       "      <td>2008</td>\n",
       "      <td>ELIGIBLE</td>\n",
       "      <td>843061</td>\n",
       "      <td>Portugal</td>\n",
       "      <td>PRT</td>\n",
       "      <td>110.0</td>\n",
       "      <td>14366.0</td>\n",
       "      <td>130.60000</td>\n",
       "      <td>17.0</td>\n",
       "      <td>2.890372</td>\n",
       "      <td>17.0</td>\n",
       "      <td>2.890372</td>\n",
       "      <td>0.0</td>\n",
       "      <td>0.0</td>\n",
       "      <td>6.0</td>\n",
       "      <td>1.94591</td>\n",
       "      <td>1.0</td>\n",
       "    </tr>\n",
       "    <tr>\n",
       "      <th>3</th>\n",
       "      <td>1101</td>\n",
       "      <td>2009</td>\n",
       "      <td>NOT_ELIGIBLE</td>\n",
       "      <td>843061</td>\n",
       "      <td>Libya</td>\n",
       "      <td>LBY</td>\n",
       "      <td>74.0</td>\n",
       "      <td>470329.0</td>\n",
       "      <td>6355.79730</td>\n",
       "      <td>17.0</td>\n",
       "      <td>2.890372</td>\n",
       "      <td>17.0</td>\n",
       "      <td>2.890372</td>\n",
       "      <td>0.0</td>\n",
       "      <td>0.0</td>\n",
       "      <td>6.0</td>\n",
       "      <td>1.94591</td>\n",
       "      <td>1.0</td>\n",
       "    </tr>\n",
       "    <tr>\n",
       "      <th>4</th>\n",
       "      <td>1101</td>\n",
       "      <td>2010</td>\n",
       "      <td>NOT_ELIGIBLE</td>\n",
       "      <td>843061</td>\n",
       "      <td>Senegal</td>\n",
       "      <td>SEN</td>\n",
       "      <td>5.0</td>\n",
       "      <td>2970.0</td>\n",
       "      <td>594.00000</td>\n",
       "      <td>17.0</td>\n",
       "      <td>2.890372</td>\n",
       "      <td>17.0</td>\n",
       "      <td>2.890372</td>\n",
       "      <td>0.0</td>\n",
       "      <td>0.0</td>\n",
       "      <td>6.0</td>\n",
       "      <td>1.94591</td>\n",
       "      <td>1.0</td>\n",
       "    </tr>\n",
       "  </tbody>\n",
       "</table>\n",
       "</div>"
      ],
      "text/plain": [
       "  geocode4_corr  year        regime     hs6 country_en iso_alpha  quantity  \\\n",
       "0          1101  2007      ELIGIBLE  843061   Pakistan       PAK       8.0   \n",
       "1          1101  2007      ELIGIBLE  843061  Hong Kong       HKG     161.0   \n",
       "2          1101  2008      ELIGIBLE  843061   Portugal       PRT     110.0   \n",
       "3          1101  2009  NOT_ELIGIBLE  843061      Libya       LBY      74.0   \n",
       "4          1101  2010  NOT_ELIGIBLE  843061    Senegal       SEN       5.0   \n",
       "\n",
       "      value  unit_price  lag_vat_m  ln_lag_vat_m  lag_vat_reb_m  \\\n",
       "0    4900.0   612.50000       17.0      2.890372           17.0   \n",
       "1   25872.0   160.69565       17.0      2.890372           17.0   \n",
       "2   14366.0   130.60000       17.0      2.890372           17.0   \n",
       "3  470329.0  6355.79730       17.0      2.890372           17.0   \n",
       "4    2970.0   594.00000       17.0      2.890372           17.0   \n",
       "\n",
       "   ln_lag_vat_reb_m  lag_tax_rebate  ln_lag_tax_rebate  lag_import_tax  \\\n",
       "0          2.890372             0.0                0.0             6.0   \n",
       "1          2.890372             0.0                0.0             6.0   \n",
       "2          2.890372             0.0                0.0             6.0   \n",
       "3          2.890372             0.0                0.0             6.0   \n",
       "4          2.890372             0.0                0.0             6.0   \n",
       "\n",
       "   ln_lag_import_tax  cnt  \n",
       "0            1.94591  1.0  \n",
       "1            1.94591  1.0  \n",
       "2            1.94591  1.0  \n",
       "3            1.94591  1.0  \n",
       "4            1.94591  1.0  "
      ]
     },
     "execution_count": 9,
     "metadata": {},
     "output_type": "execute_result"
    }
   ],
   "source": [
    "df_vat.head()"
   ]
  },
  {
   "cell_type": "markdown",
   "metadata": {},
   "source": [
    "# Steps\n",
    "1. Merge Sigma\n",
    "2. Create additional variables:\n",
    "    - sigma_price = sigma * log(unit price)\n",
    "    - y = log quantity + sigma_price\n",
    "    - FE_ct = country year fixed effect\n",
    "3. Compute the residual\n",
    "4. Compute quality:\n",
    "    - Adjusted: log(unit price) - residual\n",
    "    - Kandhelwal : residual /(sigma - 1)\n",
    "    \n",
    "## Details\n",
    "\n",
    "From [Fan et al. - Trade Liberalization, Quality, and Export Prices](https://paperpile.com/app/p/98954695-6715-0f43-ac54-55de0ba1cf20)\n",
    "\n",
    "the majority of the trade literature in defining “quality” as unobserved attributes of a variety that make consumers willing to purchase relatively large quantities of the variety despite relatively high prices charged for the variety\n",
    "we estimate the “effective quality” (quality as it enters consumer’s utility) of exported product $h$ shipped to destination country $c$ by firm $f$ in year $t$,$\\left( q _ { f h c t } \\right) ^ { \\eta }$ via the empirical demand equation:\n",
    "\n",
    "$$x _ { f h c t } = q _ { f h c t } ^ { \\eta } p _ { f h c t } ^ { - \\sigma } P _ { c t } ^ { \\sigma - 1 } Y _ { c t }$$\n",
    "\n",
    "\n",
    "Where $x _ { f h c t }$ denotes the demand for a particular firm $f$’s product\n",
    "\n",
    "We take logs of the empirical demand equation, and then use the residual from the following OLS regression to infer quality: \n",
    "\n",
    "$$\\ln \\left( x _ { f h c t } \\right) + \\sigma \\ln \\left( p _ { f h c t } \\right) = \\varphi _ { h } + \\varphi _ { c t } + \\epsilon _ { f h c t }$$\n",
    "\n",
    "where the country-year fixed effect $\\varphi _ { c t }$ collects both the destination price index $P_{ct}$ and income $Y_{ct}$. The product fixed effect $\\varphi _ { h }$ captures the difference in prices and qualitites across product categories due to the inherent characteristics of products.\n",
    "\n",
    "Then estimated quality is $\\ln \\left( \\hat { q } _ { f h c t } \\right) = \\hat { \\epsilon } _ { f h c t }$\n",
    "\n",
    "Consequently, quality-adjusted prices are the observed log prices less estimated effective quality:\n",
    "\n",
    "$$\\ln \\left(\\widetilde{p}_{f h c t}\\right) = \\ln \\left( p _ { f h c t } \\right) - \\ln \\left( \\hat { q } _ { f h c t } \\right)$$ \n",
    "\n",
    "From Khandewal \n",
    "\n",
    "$$\\hat{\\lambda}_{f c d t} \\equiv \\hat{\\epsilon}_{f c h t} /(\\sigma-1)$$"
   ]
  },
  {
   "cell_type": "markdown",
   "metadata": {},
   "source": [
    "We also compute the following variables:\n",
    "\n",
    "- $ \\text{sigma_price} = \\sigma \\ln \\left( \\text{unit_price} \\right)$ \n",
    "- $y = \\ln Quantity + \\text{sigma_price}$\n",
    "- $\\text{FE_ct} = \\varphi _ { c t }$"
   ]
  },
  {
   "cell_type": "code",
   "execution_count": 10,
   "metadata": {},
   "outputs": [],
   "source": [
    "df_quality = (\n",
    "    df_vat.assign(\n",
    "    hs2 = lambda x: x['hs6'].str[:2],\n",
    "    hs3 = lambda x: x['hs6'].str[:3],\n",
    "    hs4 = lambda x: x['hs6'].str[:4],\n",
    "        \n",
    ")\n",
    "    .merge(sigma, how = 'inner')\n",
    "    .assign(\n",
    "        sigma_price = lambda x: x['sigma'].astype('float') * np.log(x['unit_price']),\n",
    "        y = lambda x : np.log(x['quantity']) + x['sigma_price']\n",
    "    )\n",
    ")"
   ]
  },
  {
   "cell_type": "markdown",
   "metadata": {},
   "source": [
    "Compute the Fixed Effect city-year, `FE_ct`"
   ]
  },
  {
   "cell_type": "code",
   "execution_count": 11,
   "metadata": {},
   "outputs": [],
   "source": [
    "df_quality[\"FE_ct\"] = pd.factorize(df_quality[\"year\"].astype('string') + \n",
    "                                   df_quality[\"country_en\"])[0]"
   ]
  },
  {
   "cell_type": "markdown",
   "metadata": {},
   "source": [
    "### Step 3: compute the residual and quality\n",
    "\n",
    "The formula is:\n",
    "\n",
    "$$\\ln \\left( y _ { f h c t } \\right)  = \\varphi _ { h } + \\varphi _ { c t } + \\epsilon _ { f h c t }$$\n",
    "\n",
    "There are two `quality`:\n",
    "\n",
    "1. Price adjusted: $\\ln \\left( p _ { f h c t } \\right) - \\ln \\left( \\hat { q } _ { f h c t } \\right)$\n",
    "2. Khandelwal: $\\hat{\\epsilon}_{f c h t} /(\\sigma-1)$"
   ]
  },
  {
   "cell_type": "code",
   "execution_count": 12,
   "metadata": {},
   "outputs": [],
   "source": [
    "from sklearn.pipeline import make_pipeline\n",
    "from sklearn.linear_model import LinearRegression\n",
    "from sklearn.preprocessing import OneHotEncoder\n",
    "from sklearn.compose import make_column_transformer"
   ]
  },
  {
   "cell_type": "code",
   "execution_count": 13,
   "metadata": {},
   "outputs": [],
   "source": [
    "cat_proc = make_pipeline(\n",
    "    OneHotEncoder()\n",
    ")\n",
    "preprocessor = make_column_transformer(\n",
    "    (cat_proc, tuple(['hs6', 'FE_ct']))\n",
    ")\n",
    "clf = make_pipeline(preprocessor,\n",
    "                    LinearRegression(fit_intercept=True, normalize=False))"
   ]
  },
  {
   "cell_type": "markdown",
   "metadata": {},
   "source": [
    "It takes about 5/6m to compute the weights"
   ]
  },
  {
   "cell_type": "code",
   "execution_count": 14,
   "metadata": {},
   "outputs": [
    {
     "name": "stdout",
     "output_type": "stream",
     "text": [
      "CPU times: user 1min 9s, sys: 44 s, total: 1min 53s\n",
      "Wall time: 1min 54s\n"
     ]
    }
   ],
   "source": [
    "%%time\n",
    "MODEL = clf.fit(df_quality[['hs6', 'FE_ct']], df_quality['y']) "
   ]
  },
  {
   "cell_type": "code",
   "execution_count": 15,
   "metadata": {},
   "outputs": [],
   "source": [
    "df_quality = df_quality.assign(\n",
    "    prediction = lambda x: MODEL.predict(x[['hs6', 'FE_ct']]),\n",
    "    residual = lambda x: x['y'] - x['prediction'],\n",
    "    price_adjusted_quality = lambda x: np.log(x['unit_price']) - x['residual'],\n",
    "    kandhelwal_quality = lambda x: x['residual'] / (x['sigma'].astype('float') -1)\n",
    ")  "
   ]
  },
  {
   "cell_type": "code",
   "execution_count": 16,
   "metadata": {},
   "outputs": [
    {
     "data": {
      "text/html": [
       "<div>\n",
       "<style scoped>\n",
       "    .dataframe tbody tr th:only-of-type {\n",
       "        vertical-align: middle;\n",
       "    }\n",
       "\n",
       "    .dataframe tbody tr th {\n",
       "        vertical-align: top;\n",
       "    }\n",
       "\n",
       "    .dataframe thead th {\n",
       "        text-align: right;\n",
       "    }\n",
       "</style>\n",
       "<table border=\"1\" class=\"dataframe\">\n",
       "  <thead>\n",
       "    <tr style=\"text-align: right;\">\n",
       "      <th></th>\n",
       "      <th>ccode</th>\n",
       "      <th>cname</th>\n",
       "      <th>country_en</th>\n",
       "      <th>iso_alpha</th>\n",
       "      <th>geocode4_corr</th>\n",
       "      <th>year</th>\n",
       "      <th>regime</th>\n",
       "      <th>hs6</th>\n",
       "      <th>hs3</th>\n",
       "      <th>hs4</th>\n",
       "      <th>hs2</th>\n",
       "      <th>quantity</th>\n",
       "      <th>value</th>\n",
       "      <th>unit_price</th>\n",
       "      <th>sigma</th>\n",
       "      <th>sigma_price</th>\n",
       "      <th>y</th>\n",
       "      <th>FE_ct</th>\n",
       "      <th>prediction</th>\n",
       "      <th>residual</th>\n",
       "      <th>price_adjusted_quality</th>\n",
       "      <th>kandhelwal_quality</th>\n",
       "    </tr>\n",
       "  </thead>\n",
       "  <tbody>\n",
       "    <tr>\n",
       "      <th>0</th>\n",
       "      <td>62</td>\n",
       "      <td>China</td>\n",
       "      <td>Pakistan</td>\n",
       "      <td>PAK</td>\n",
       "      <td>1101</td>\n",
       "      <td>2007</td>\n",
       "      <td>ELIGIBLE</td>\n",
       "      <td>843061</td>\n",
       "      <td>843</td>\n",
       "      <td>8430</td>\n",
       "      <td>84</td>\n",
       "      <td>8.0</td>\n",
       "      <td>4900.0</td>\n",
       "      <td>612.50000</td>\n",
       "      <td>2.768799</td>\n",
       "      <td>17.768905</td>\n",
       "      <td>19.848347</td>\n",
       "      <td>0</td>\n",
       "      <td>18.644793</td>\n",
       "      <td>1.203554</td>\n",
       "      <td>5.213995</td>\n",
       "      <td>0.680435</td>\n",
       "    </tr>\n",
       "    <tr>\n",
       "      <th>1</th>\n",
       "      <td>62</td>\n",
       "      <td>China</td>\n",
       "      <td>Hong Kong</td>\n",
       "      <td>HKG</td>\n",
       "      <td>1101</td>\n",
       "      <td>2007</td>\n",
       "      <td>ELIGIBLE</td>\n",
       "      <td>843061</td>\n",
       "      <td>843</td>\n",
       "      <td>8430</td>\n",
       "      <td>84</td>\n",
       "      <td>161.0</td>\n",
       "      <td>25872.0</td>\n",
       "      <td>160.69565</td>\n",
       "      <td>2.768799</td>\n",
       "      <td>14.064150</td>\n",
       "      <td>19.145554</td>\n",
       "      <td>1</td>\n",
       "      <td>16.468298</td>\n",
       "      <td>2.677256</td>\n",
       "      <td>2.402256</td>\n",
       "      <td>1.513601</td>\n",
       "    </tr>\n",
       "    <tr>\n",
       "      <th>2</th>\n",
       "      <td>62</td>\n",
       "      <td>China</td>\n",
       "      <td>Portugal</td>\n",
       "      <td>PRT</td>\n",
       "      <td>1101</td>\n",
       "      <td>2008</td>\n",
       "      <td>ELIGIBLE</td>\n",
       "      <td>843061</td>\n",
       "      <td>843</td>\n",
       "      <td>8430</td>\n",
       "      <td>84</td>\n",
       "      <td>110.0</td>\n",
       "      <td>14366.0</td>\n",
       "      <td>130.60000</td>\n",
       "      <td>2.768799</td>\n",
       "      <td>13.489976</td>\n",
       "      <td>18.190456</td>\n",
       "      <td>2</td>\n",
       "      <td>19.205696</td>\n",
       "      <td>-1.015240</td>\n",
       "      <td>5.887379</td>\n",
       "      <td>-0.573971</td>\n",
       "    </tr>\n",
       "    <tr>\n",
       "      <th>3</th>\n",
       "      <td>62</td>\n",
       "      <td>China</td>\n",
       "      <td>Libya</td>\n",
       "      <td>LBY</td>\n",
       "      <td>1101</td>\n",
       "      <td>2009</td>\n",
       "      <td>NOT_ELIGIBLE</td>\n",
       "      <td>843061</td>\n",
       "      <td>843</td>\n",
       "      <td>8430</td>\n",
       "      <td>84</td>\n",
       "      <td>74.0</td>\n",
       "      <td>470329.0</td>\n",
       "      <td>6355.79730</td>\n",
       "      <td>2.768799</td>\n",
       "      <td>24.246715</td>\n",
       "      <td>28.550780</td>\n",
       "      <td>3</td>\n",
       "      <td>19.335666</td>\n",
       "      <td>9.215114</td>\n",
       "      <td>-0.457992</td>\n",
       "      <td>5.209813</td>\n",
       "    </tr>\n",
       "    <tr>\n",
       "      <th>4</th>\n",
       "      <td>62</td>\n",
       "      <td>China</td>\n",
       "      <td>Senegal</td>\n",
       "      <td>SEN</td>\n",
       "      <td>1101</td>\n",
       "      <td>2010</td>\n",
       "      <td>NOT_ELIGIBLE</td>\n",
       "      <td>843061</td>\n",
       "      <td>843</td>\n",
       "      <td>8430</td>\n",
       "      <td>84</td>\n",
       "      <td>5.0</td>\n",
       "      <td>2970.0</td>\n",
       "      <td>594.00000</td>\n",
       "      <td>2.768799</td>\n",
       "      <td>17.683987</td>\n",
       "      <td>19.293425</td>\n",
       "      <td>4</td>\n",
       "      <td>19.217416</td>\n",
       "      <td>0.076009</td>\n",
       "      <td>6.310871</td>\n",
       "      <td>0.042972</td>\n",
       "    </tr>\n",
       "  </tbody>\n",
       "</table>\n",
       "</div>"
      ],
      "text/plain": [
       "  ccode  cname country_en iso_alpha geocode4_corr  year        regime     hs6  \\\n",
       "0    62  China   Pakistan       PAK          1101  2007      ELIGIBLE  843061   \n",
       "1    62  China  Hong Kong       HKG          1101  2007      ELIGIBLE  843061   \n",
       "2    62  China   Portugal       PRT          1101  2008      ELIGIBLE  843061   \n",
       "3    62  China      Libya       LBY          1101  2009  NOT_ELIGIBLE  843061   \n",
       "4    62  China    Senegal       SEN          1101  2010  NOT_ELIGIBLE  843061   \n",
       "\n",
       "   hs3   hs4 hs2  quantity     value  unit_price     sigma  sigma_price  \\\n",
       "0  843  8430  84       8.0    4900.0   612.50000  2.768799    17.768905   \n",
       "1  843  8430  84     161.0   25872.0   160.69565  2.768799    14.064150   \n",
       "2  843  8430  84     110.0   14366.0   130.60000  2.768799    13.489976   \n",
       "3  843  8430  84      74.0  470329.0  6355.79730  2.768799    24.246715   \n",
       "4  843  8430  84       5.0    2970.0   594.00000  2.768799    17.683987   \n",
       "\n",
       "           y  FE_ct  prediction  residual  price_adjusted_quality  \\\n",
       "0  19.848347      0   18.644793  1.203554                5.213995   \n",
       "1  19.145554      1   16.468298  2.677256                2.402256   \n",
       "2  18.190456      2   19.205696 -1.015240                5.887379   \n",
       "3  28.550780      3   19.335666  9.215114               -0.457992   \n",
       "4  19.293425      4   19.217416  0.076009                6.310871   \n",
       "\n",
       "   kandhelwal_quality  \n",
       "0            0.680435  \n",
       "1            1.513601  \n",
       "2           -0.573971  \n",
       "3            5.209813  \n",
       "4            0.042972  "
      ]
     },
     "execution_count": 16,
     "metadata": {},
     "output_type": "execute_result"
    }
   ],
   "source": [
    "cols_to_keep = [\n",
    "    'ccode',\n",
    "    'cname',\n",
    "    'country_en',\n",
    "    'iso_alpha',\n",
    "    'geocode4_corr',\n",
    "    'year',\n",
    "    'regime',\n",
    "    'hs6',\n",
    "    'hs3',\n",
    "    'hs4',\n",
    "    'hs2',\n",
    "    'quantity',\n",
    "    'value',\n",
    "    'unit_price',\n",
    "    'sigma',\n",
    "    'sigma_price',\n",
    "    'y',\n",
    "    'FE_ct',\n",
    "    'prediction',\n",
    "    'residual',\n",
    "    'price_adjusted_quality',\n",
    "    'kandhelwal_quality']\n",
    "df_quality = df_quality.reindex(columns=cols_to_keep)\n",
    "df_quality.head()"
   ]
  },
  {
   "cell_type": "markdown",
   "metadata": {},
   "source": [
    "Plot the average quality by year\n",
    "\n",
    "![](https://drive.google.com/uc?export=view&id=1Q9KHBwEyx6tTuCU8hsy3_P46uIOm_dB9)"
   ]
  },
  {
   "cell_type": "code",
   "execution_count": 17,
   "metadata": {},
   "outputs": [],
   "source": [
    "import matplotlib.pyplot as plt"
   ]
  },
  {
   "cell_type": "code",
   "execution_count": 18,
   "metadata": {},
   "outputs": [
    {
     "data": {
      "text/plain": [
       "<AxesSubplot:title={'center':'price_adjusted_quality'}, xlabel='year'>"
      ]
     },
     "execution_count": 18,
     "metadata": {},
     "output_type": "execute_result"
    },
    {
     "data": {
      "image/png": "[encoded data removed]",
      "text/plain": [
       "<Figure size 936x576 with 2 Axes>"
      ]
     },
     "metadata": {
      "needs_background": "light"
     },
     "output_type": "display_data"
    }
   ],
   "source": [
    "fig, axes = plt.subplots(nrows=1, ncols=2, figsize=(13,8))\n",
    "(\n",
    "    df_quality\n",
    "    .groupby(['year', 'regime'])['kandhelwal_quality']\n",
    "    .mean()\n",
    "    .unstack(-1)\n",
    "    .plot\n",
    "    .line(ax=axes[0], title = 'kandhelwal_quality')\n",
    ")\n",
    "(\n",
    "    df_quality\n",
    "    .groupby(['year', 'regime'])['price_adjusted_quality']\n",
    "    .mean()\n",
    "    .unstack(-1)\n",
    "    .plot\n",
    "    .line(ax=axes[1], title = 'price_adjusted_quality')\n",
    ")"
   ]
  },
  {
   "cell_type": "markdown",
   "metadata": {},
   "source": [
    "Save locally"
   ]
  },
  {
   "cell_type": "code",
   "execution_count": 19,
   "metadata": {},
   "outputs": [],
   "source": [
    "input_path = os.path.join(parent_path,\"00_data_catalog\", \"temporary_local_data\",  \"china_product_quality.csv\")\n",
    "df_quality.to_csv(input_path, index = False)"
   ]
  },
  {
   "cell_type": "markdown",
   "metadata": {},
   "source": [
    "Save S3: `DATA/ECON/TRADE_DATA/CHINA/PRODUCT_QUALITY`"
   ]
  },
  {
   "cell_type": "code",
   "execution_count": 20,
   "metadata": {},
   "outputs": [],
   "source": [
    "PATH_S3 = \"DATA/ECON/TRADE_DATA/CHINA/PRODUCT_QUALITY\"\n",
    "s3.upload_file(input_path, PATH_S3)"
   ]
  },
  {
   "cell_type": "markdown",
   "metadata": {},
   "source": [
    "# Table `china_product_quality`\n"
   ]
  },
  {
   "cell_type": "markdown",
   "metadata": {},
   "source": [
    "First, we need to delete the table (if exist)"
   ]
  },
  {
   "cell_type": "code",
   "execution_count": 21,
   "metadata": {},
   "outputs": [],
   "source": [
    "DatabaseName = 'chinese_trade'\n",
    "table_name = 'china_product_quality'"
   ]
  },
  {
   "cell_type": "code",
   "execution_count": 22,
   "metadata": {},
   "outputs": [
    {
     "name": "stdout",
     "output_type": "stream",
     "text": [
      "{'ResponseMetadata': {'RequestId': 'e7e5e3b4-d8e0-4eb0-8da4-eaa9804bb918', 'HTTPStatusCode': 200, 'HTTPHeaders': {'date': 'Wed, 24 Mar 2021 06:46:41 GMT', 'content-type': 'application/x-amz-json-1.1', 'content-length': '2', 'connection': 'keep-alive', 'x-amzn-requestid': 'e7e5e3b4-d8e0-4eb0-8da4-eaa9804bb918'}, 'RetryAttempts': 0}}\n"
     ]
    }
   ],
   "source": [
    "try:\n",
    "    response = glue.delete_table(\n",
    "        database=DatabaseName,\n",
    "        table=table_name\n",
    "    )\n",
    "    print(response)\n",
    "except Exception as e:\n",
    "    print(e)"
   ]
  },
  {
   "cell_type": "markdown",
   "metadata": {},
   "source": [
    "# Validate query\n",
    "\n",
    "This step is mandatory to validate the query in the ETL. If you are not sure about the quality of the query, go to the next step."
   ]
  },
  {
   "cell_type": "markdown",
   "metadata": {},
   "source": [
    "To validate the query, please fillin the json below. Don't forget to change the schema so that the crawler can use it.\n",
    "\n",
    "1. Change the schema if needed. It is highly recommanded to add comment to the fields\n",
    "2. Add a partition key:\n",
    "    - Inform if there is group in the table so that, the parser can compute duplicate\n",
    "3. Provide a description -> detail the steps "
   ]
  },
  {
   "cell_type": "markdown",
   "metadata": {},
   "source": [
    "1. Change the schema\n",
    "\n",
    "Bear in mind that CSV SerDe (OpenCSVSerDe) does not support empty fields in columns defined as a numeric data type. All columns with missing values should be saved as string. "
   ]
  },
  {
   "cell_type": "code",
   "execution_count": 23,
   "metadata": {},
   "outputs": [],
   "source": [
    "s3_output = PATH_S3"
   ]
  },
  {
   "cell_type": "code",
   "execution_count": 24,
   "metadata": {},
   "outputs": [
    {
     "name": "stdout",
     "output_type": "stream",
     "text": [
      "{'Name': 'ccode', 'Type': '', 'Comment': ''}\n",
      "{'Name': 'cname', 'Type': '', 'Comment': ''}\n",
      "{'Name': 'country_en', 'Type': '', 'Comment': ''}\n",
      "{'Name': 'iso_alpha', 'Type': '', 'Comment': ''}\n",
      "{'Name': 'geocode4_corr', 'Type': '', 'Comment': ''}\n",
      "{'Name': 'year', 'Type': '', 'Comment': ''}\n",
      "{'Name': 'regime', 'Type': '', 'Comment': ''}\n",
      "{'Name': 'hs6', 'Type': '', 'Comment': ''}\n",
      "{'Name': 'hs3', 'Type': '', 'Comment': ''}\n",
      "{'Name': 'hs4', 'Type': '', 'Comment': ''}\n",
      "{'Name': 'hs2', 'Type': '', 'Comment': ''}\n",
      "{'Name': 'quantity', 'Type': '', 'Comment': ''}\n",
      "{'Name': 'value', 'Type': '', 'Comment': ''}\n",
      "{'Name': 'unit_price', 'Type': '', 'Comment': ''}\n",
      "{'Name': 'sigma', 'Type': '', 'Comment': ''}\n",
      "{'Name': 'sigma_price', 'Type': '', 'Comment': ''}\n",
      "{'Name': 'y', 'Type': '', 'Comment': ''}\n",
      "{'Name': 'FE_ct', 'Type': '', 'Comment': ''}\n",
      "{'Name': 'prediction', 'Type': '', 'Comment': ''}\n",
      "{'Name': 'residual', 'Type': '', 'Comment': ''}\n",
      "{'Name': 'price_adjusted_quality', 'Type': '', 'Comment': ''}\n",
      "{'Name': 'kandhelwal_quality', 'Type': '', 'Comment': ''}\n"
     ]
    }
   ],
   "source": [
    "for i in df_quality.columns:\n",
    "    print({\n",
    "        \"Name\": i,\n",
    "        \"Type\": \"\",\n",
    "        \"Comment\": \"\"\n",
    "    })"
   ]
  },
  {
   "cell_type": "code",
   "execution_count": 25,
   "metadata": {},
   "outputs": [],
   "source": [
    "schema = [\n",
    "    {'Name': 'ccode', 'Type': 'string', 'Comment': 'country code'},\n",
    "{'Name': 'cname', 'Type': 'string', 'Comment': 'country name'},\n",
    "{'Name': 'country_en', 'Type': 'string', 'Comment': 'country name english'},\n",
    "{'Name': 'iso_alpha', 'Type': 'string', 'Comment': ''},\n",
    "{'Name': 'geocode4_corr', 'Type': 'string', 'Comment': 'city code'},\n",
    "{'Name': 'year', 'Type': 'string', 'Comment': 'year'},\n",
    "{'Name': 'regime', 'Type': 'string', 'Comment': 'eligible to vat rebate'},\n",
    "{'Name': 'hs6', 'Type': 'string', 'Comment': 'HS6 6 digits'},\n",
    "{'Name': 'hs3', 'Type': 'string', 'Comment': 'HS3 3 digits'},\n",
    "{'Name': 'hs4', 'Type': 'string', 'Comment': 'HS4 4 digits'},\n",
    "{'Name': 'hs2', 'Type': 'string', 'Comment': 'HS2 2 digits'},\n",
    "{'Name': 'quantity', 'Type': 'float', 'Comment': 'Export quantity'},\n",
    "{'Name': 'value', 'Type': 'float', 'Comment': 'Export value'},\n",
    "{'Name': 'unit_price', 'Type': 'float', 'Comment': 'Export unit price'},\n",
    "{'Name': 'sigma', 'Type': 'float', 'Comment': 'sigma'},\n",
    "{'Name': 'sigma_price', 'Type': 'float', 'Comment': ''},\n",
    "{'Name': 'y', 'Type': 'float', 'Comment': ''},\n",
    "{'Name': 'FE_ct', 'Type': 'int', 'Comment': 'city year fixed effect'},\n",
    "{'Name': 'prediction', 'Type': 'float', 'Comment': 'prediction OLS'},\n",
    "{'Name': 'residual', 'Type': 'float', 'Comment': 'residual OLS'},\n",
    "{'Name': 'price_adjusted_quality', 'Type': 'float', 'Comment': 'price adjusted'},\n",
    "{'Name': 'kandhelwal_quality', 'Type': 'float', 'Comment': 'Kandhelwal quality'}\n",
    "]"
   ]
  },
  {
   "cell_type": "markdown",
   "metadata": {},
   "source": [
    "2. Provide a description"
   ]
  },
  {
   "cell_type": "code",
   "execution_count": 26,
   "metadata": {},
   "outputs": [],
   "source": [
    "description = \"\"\"\n",
    "Compute Kandhelwal quality. The quality is computed at the city product-destination-level for each year in our sample\n",
    "\"\"\""
   ]
  },
  {
   "cell_type": "markdown",
   "metadata": {},
   "source": [
    "3. provide metadata\n",
    "\n",
    "- DatabaseName:\n",
    "- TablePrefix:\n",
    "- input: \n",
    "- filename: Name of the notebook or Python script: to indicate\n",
    "- Task ID: from Coda\n",
    "- index_final_table: a list to indicate if the current table is used to prepare the final table(s). If more than one, pass the index. Start at 0\n",
    "- if_final: A boolean. Indicates if the current table is the final table -> the one the model will be used to be trained"
   ]
  },
  {
   "cell_type": "code",
   "execution_count": 27,
   "metadata": {},
   "outputs": [],
   "source": [
    "name_json = 'parameters_ETL_VAT_rebate_quality_china.json'\n",
    "path_json = os.path.join(str(Path(path).parent.parent), 'utils',name_json)"
   ]
  },
  {
   "cell_type": "code",
   "execution_count": 28,
   "metadata": {},
   "outputs": [],
   "source": [
    "with open(path_json) as json_file:\n",
    "    parameters = json.load(json_file)"
   ]
  },
  {
   "cell_type": "code",
   "execution_count": 29,
   "metadata": {},
   "outputs": [],
   "source": [
    "partition_keys = [\"geocode4_corr\", \"year\", \"regime\",\"hs6\", \"country_en\"]\n",
    "notebookname =  \"01_preparation_quality.ipynb\"\n",
    "index_final_table = [0]\n",
    "if_final = 'False'"
   ]
  },
  {
   "cell_type": "code",
   "execution_count": 30,
   "metadata": {},
   "outputs": [],
   "source": [
    "github_url = os.path.join(\n",
    "    \"https://github.com/\",\n",
    "    parameters['GLOBAL']['GITHUB']['owner'],\n",
    "    parameters['GLOBAL']['GITHUB']['repo_name'],\n",
    "    \"blob/master\",\n",
    "    re.sub(parameters['GLOBAL']['GITHUB']['repo_name'],\n",
    "           '', re.sub(\n",
    "               r\".*(?={})\".format(parameters['GLOBAL']['GITHUB']['repo_name'])\n",
    "               , '', path))[1:],\n",
    "    re.sub('.ipynb','.md',notebookname)\n",
    ")"
   ]
  },
  {
   "cell_type": "markdown",
   "metadata": {},
   "source": [
    "Grab the input name from query: manually add input because data constructed with Python"
   ]
  },
  {
   "cell_type": "code",
   "execution_count": 31,
   "metadata": {},
   "outputs": [],
   "source": [
    "list_input = [\"\", \"\"]\n",
    "#tables = glue.get_tables(full_output = False)\n",
    "#regex_matches = re.findall(r'(?=\\.).*?(?=\\s)|(?=\\.\\\").*?(?=\\\")', query)\n",
    "#for i in regex_matches:\n",
    "#    cleaning = i.lstrip().rstrip().replace('.', '').replace('\"', '')\n",
    "#    if cleaning in tables and cleaning != table_name:\n",
    "#        list_input.append(cleaning)"
   ]
  },
  {
   "cell_type": "code",
   "execution_count": 32,
   "metadata": {},
   "outputs": [
    {
     "data": {
      "text/plain": [
       "{'DatabaseName': 'chinese_trade',\n",
       " 'TableName': 'china_product_quality',\n",
       " 'input': ['', ''],\n",
       " 'target_S3URI': 's3://datalake-datascience/DATA/ECON/TRADE_DATA/CHINA/PRODUCT_QUALITY',\n",
       " 'from_athena': 'True',\n",
       " 'filename': '01_preparation_quality.ipynb',\n",
       " 'index_final_table': [0],\n",
       " 'if_final': 'False',\n",
       " 'github_url': 'https://github.com/thomaspernet/VAT_rebate_quality_china/blob/master/01_data_preprocessing/02_transform_tables/01_preparation_quality.md'}"
      ]
     },
     "execution_count": 32,
     "metadata": {},
     "output_type": "execute_result"
    }
   ],
   "source": [
    "json_etl = {\n",
    "    'description': description,\n",
    "    'query': query,\n",
    "    'schema': schema,\n",
    "    'partition_keys': partition_keys,\n",
    "    'metadata': {\n",
    "        'DatabaseName': DatabaseName,\n",
    "        'TableName': table_name,\n",
    "        'input': list_input,\n",
    "        'target_S3URI': os.path.join('s3://', bucket, s3_output),\n",
    "        'from_athena': 'True',\n",
    "        'filename': notebookname,\n",
    "        'index_final_table' : index_final_table,\n",
    "        'if_final': if_final,\n",
    "         'github_url':github_url\n",
    "    }\n",
    "}\n",
    "json_etl['metadata']"
   ]
  },
  {
   "cell_type": "markdown",
   "metadata": {},
   "source": [
    "**Chose carefully PREPARATION or TRANSFORMATION**"
   ]
  },
  {
   "cell_type": "code",
   "execution_count": 33,
   "metadata": {},
   "outputs": [],
   "source": [
    "index_to_remove = next(\n",
    "                (\n",
    "                    index\n",
    "                    for (index, d) in enumerate(parameters['TABLES']['TRANSFORMATION']['STEPS'])\n",
    "                    if d['metadata']['TableName'] == table_name\n",
    "                ),\n",
    "                None,\n",
    "            )\n",
    "if index_to_remove != None:\n",
    "    parameters['TABLES']['TRANSFORMATION']['STEPS'].pop(index_to_remove)\n",
    "parameters['TABLES']['TRANSFORMATION']['STEPS'].append(json_etl)"
   ]
  },
  {
   "cell_type": "code",
   "execution_count": 34,
   "metadata": {},
   "outputs": [
    {
     "name": "stdout",
     "output_type": "stream",
     "text": [
      "Currently, the ETL has 5 tables\n"
     ]
    }
   ],
   "source": [
    "print(\"Currently, the ETL has {} tables\".format(len(parameters['TABLES']['TRANSFORMATION']['STEPS'])))"
   ]
  },
  {
   "cell_type": "markdown",
   "metadata": {},
   "source": [
    "Save JSON"
   ]
  },
  {
   "cell_type": "code",
   "execution_count": 35,
   "metadata": {},
   "outputs": [],
   "source": [
    "with open(path_json, \"w\") as json_file:\n",
    "    json.dump(parameters, json_file)"
   ]
  },
  {
   "cell_type": "markdown",
   "metadata": {},
   "source": [
    "# Create or update the data catalog\n",
    "\n",
    "The query is saved in the S3 (bucket `datalake-datascience`) but the table is not available yet in the Data Catalog. Use the function `create_table_glue` to generate the table and update the catalog.\n",
    "\n",
    "Few parameters are required:\n",
    "\n",
    "- name_crawler: Name of the crawler\n",
    "- Role: Role to temporary provide an access tho the service\n",
    "- DatabaseName: Name of the database to create the table\n",
    "- TablePrefix: Prefix of the table. Full name of the table will be `TablePrefix` + folder name\n",
    "\n",
    "To update the schema, please use the following structure\n",
    "\n",
    "```\n",
    "schema = [\n",
    "    {\n",
    "        \"Name\": \"VAR1\",\n",
    "        \"Type\": \"\",\n",
    "        \"Comment\": \"\"\n",
    "    },\n",
    "    {\n",
    "        \"Name\": \"VAR2\",\n",
    "        \"Type\": \"\",\n",
    "        \"Comment\": \"\"\n",
    "    }\n",
    "]\n",
    "```"
   ]
  },
  {
   "cell_type": "code",
   "execution_count": 36,
   "metadata": {},
   "outputs": [],
   "source": [
    "TablePrefix = 'china_'\n",
    "name_crawler = \"crawl-industry-name\"\n",
    "Role = 'arn:aws:iam::468786073381:role/AWSGlueServiceRole-crawler-datalake'\n",
    "target_S3URI = os.path.join(\"s3://datalake-datascience\", PATH_S3)"
   ]
  },
  {
   "cell_type": "code",
   "execution_count": 37,
   "metadata": {},
   "outputs": [
    {
     "name": "stdout",
     "output_type": "stream",
     "text": [
      "An error occurred (EntityNotFoundException) when calling the DeleteTable operation: Table china_product_quality not found.\n"
     ]
    },
    {
     "data": {
      "text/plain": [
       "{'Name': 'china_product_quality',\n",
       " 'DatabaseName': 'chinese_trade',\n",
       " 'Owner': 'owner',\n",
       " 'CreateTime': datetime.datetime(2021, 3, 24, 6, 47, 27, tzinfo=tzlocal()),\n",
       " 'UpdateTime': datetime.datetime(2021, 3, 24, 6, 47, 32, tzinfo=tzlocal()),\n",
       " 'LastAccessTime': datetime.datetime(2021, 3, 24, 6, 47, 27, tzinfo=tzlocal()),\n",
       " 'Retention': 0,\n",
       " 'StorageDescriptor': {'Columns': [{'Name': 'ccode',\n",
       "    'Type': 'string',\n",
       "    'Comment': 'country code'},\n",
       "   {'Name': 'cname', 'Type': 'string', 'Comment': 'country name'},\n",
       "   {'Name': 'country_en', 'Type': 'string', 'Comment': 'country name english'},\n",
       "   {'Name': 'iso_alpha', 'Type': 'string', 'Comment': ''},\n",
       "   {'Name': 'geocode4_corr', 'Type': 'string', 'Comment': 'city code'},\n",
       "   {'Name': 'year', 'Type': 'string', 'Comment': 'year'},\n",
       "   {'Name': 'regime', 'Type': 'string', 'Comment': 'eligible to vat rebate'},\n",
       "   {'Name': 'hs6', 'Type': 'string', 'Comment': 'HS6 6 digits'},\n",
       "   {'Name': 'hs3', 'Type': 'string', 'Comment': 'HS3 3 digits'},\n",
       "   {'Name': 'hs4', 'Type': 'string', 'Comment': 'HS4 4 digits'},\n",
       "   {'Name': 'hs2', 'Type': 'string', 'Comment': 'HS2 2 digits'},\n",
       "   {'Name': 'quantity', 'Type': 'float', 'Comment': 'Export quantity'},\n",
       "   {'Name': 'value', 'Type': 'float', 'Comment': 'Export value'},\n",
       "   {'Name': 'unit_price', 'Type': 'float', 'Comment': 'Export unit price'},\n",
       "   {'Name': 'sigma', 'Type': 'float', 'Comment': 'sigma'},\n",
       "   {'Name': 'sigma_price', 'Type': 'float', 'Comment': ''},\n",
       "   {'Name': 'y', 'Type': 'float', 'Comment': ''},\n",
       "   {'Name': 'fe_ct', 'Type': 'bigint'},\n",
       "   {'Name': 'prediction', 'Type': 'float', 'Comment': 'prediction OLS'},\n",
       "   {'Name': 'residual', 'Type': 'float', 'Comment': 'residual OLS'},\n",
       "   {'Name': 'price_adjusted_quality',\n",
       "    'Type': 'float',\n",
       "    'Comment': 'price adjusted'},\n",
       "   {'Name': 'kandhelwal_quality',\n",
       "    'Type': 'float',\n",
       "    'Comment': 'Kandhelwal quality'}],\n",
       "  'Location': 's3://datalake-datascience/DATA/ECON/TRADE_DATA/CHINA/PRODUCT_QUALITY/',\n",
       "  'InputFormat': 'org.apache.hadoop.mapred.TextInputFormat',\n",
       "  'OutputFormat': 'org.apache.hadoop.hive.ql.io.HiveIgnoreKeyTextOutputFormat',\n",
       "  'Compressed': False,\n",
       "  'NumberOfBuckets': -1,\n",
       "  'SerdeInfo': {'SerializationLibrary': 'org.apache.hadoop.hive.serde2.lazy.LazySimpleSerDe',\n",
       "   'Parameters': {'field.delim': ','}},\n",
       "  'BucketColumns': [],\n",
       "  'SortColumns': [],\n",
       "  'Parameters': {'CrawlerSchemaDeserializerVersion': '1.0',\n",
       "   'CrawlerSchemaSerializerVersion': '1.0',\n",
       "   'UPDATED_BY_CRAWLER': 'crawl-industry-name',\n",
       "   'areColumnsQuoted': 'false',\n",
       "   'averageRecordSize': '198',\n",
       "   'classification': 'csv',\n",
       "   'columnsOrdered': 'true',\n",
       "   'compressionType': 'none',\n",
       "   'delimiter': ',',\n",
       "   'exclusions': '[\"s3://datalake-datascience/DATA/ECON/TRADE_DATA/CHINA/PRODUCT_QUALITY/*.csv.metadata\"]',\n",
       "   'objectCount': '1',\n",
       "   'recordCount': '6252460',\n",
       "   'sizeKey': '1237987144',\n",
       "   'skip.header.line.count': '1',\n",
       "   'typeOfData': 'file'},\n",
       "  'StoredAsSubDirectories': False},\n",
       " 'PartitionKeys': [],\n",
       " 'TableType': 'EXTERNAL_TABLE',\n",
       " 'Parameters': {'CrawlerSchemaDeserializerVersion': '1.0',\n",
       "  'CrawlerSchemaSerializerVersion': '1.0',\n",
       "  'UPDATED_BY_CRAWLER': 'crawl-industry-name',\n",
       "  'areColumnsQuoted': 'false',\n",
       "  'averageRecordSize': '198',\n",
       "  'classification': 'csv',\n",
       "  'columnsOrdered': 'true',\n",
       "  'compressionType': 'none',\n",
       "  'delimiter': ',',\n",
       "  'exclusions': '[\"s3://datalake-datascience/DATA/ECON/TRADE_DATA/CHINA/PRODUCT_QUALITY/*.csv.metadata\"]',\n",
       "  'objectCount': '1',\n",
       "  'recordCount': '6252460',\n",
       "  'sizeKey': '1237987144',\n",
       "  'skip.header.line.count': '1',\n",
       "  'typeOfData': 'file'},\n",
       " 'CreatedBy': 'arn:aws:sts::468786073381:assumed-role/AWSGlueServiceRole-crawler-datalake/AWS-Crawler',\n",
       " 'IsRegisteredWithLakeFormation': False,\n",
       " 'CatalogId': '468786073381'}"
      ]
     },
     "execution_count": 37,
     "metadata": {},
     "output_type": "execute_result"
    }
   ],
   "source": [
    "glue.create_table_glue(\n",
    "    target_S3URI,\n",
    "    name_crawler,\n",
    "    Role,\n",
    "    DatabaseName,\n",
    "    TablePrefix,\n",
    "    from_athena=False,\n",
    "    update_schema=schema,\n",
    ")"
   ]
  },
  {
   "cell_type": "code",
   "execution_count": 38,
   "metadata": {},
   "outputs": [],
   "source": [
    "s3_output_example = 'SQL_OUTPUT_ATHENA'"
   ]
  },
  {
   "cell_type": "code",
   "execution_count": 39,
   "metadata": {},
   "outputs": [
    {
     "data": {
      "text/html": [
       "<div>\n",
       "<style scoped>\n",
       "    .dataframe tbody tr th:only-of-type {\n",
       "        vertical-align: middle;\n",
       "    }\n",
       "\n",
       "    .dataframe tbody tr th {\n",
       "        vertical-align: top;\n",
       "    }\n",
       "\n",
       "    .dataframe thead th {\n",
       "        text-align: right;\n",
       "    }\n",
       "</style>\n",
       "<table border=\"1\" class=\"dataframe\">\n",
       "  <thead>\n",
       "    <tr style=\"text-align: right;\">\n",
       "      <th></th>\n",
       "      <th>CNT</th>\n",
       "    </tr>\n",
       "  </thead>\n",
       "  <tbody>\n",
       "    <tr>\n",
       "      <th>0</th>\n",
       "      <td>5746831</td>\n",
       "    </tr>\n",
       "  </tbody>\n",
       "</table>\n",
       "</div>"
      ],
      "text/plain": [
       "       CNT\n",
       "0  5746831"
      ]
     },
     "execution_count": 39,
     "metadata": {},
     "output_type": "execute_result"
    }
   ],
   "source": [
    "query_count = \"\"\"\n",
    "SELECT COUNT(*) AS CNT\n",
    "FROM {}.{} \n",
    "\"\"\".format(DatabaseName, table_name)\n",
    "output = s3.run_query(\n",
    "                    query=query_count,\n",
    "                    database=DatabaseName,\n",
    "                    s3_output=s3_output_example,\n",
    "    filename = 'count_{}'.format(table_name)\n",
    "                )\n",
    "output"
   ]
  },
  {
   "cell_type": "markdown",
   "metadata": {},
   "source": [
    "## Check Duplicates\n",
    "\n",
    "One of the most important step when creating a table is to check if the table contains duplicates. The cell below checks if the table generated before is empty of duplicates. The code uses the JSON file to create the query parsed in Athena. \n",
    "\n",
    "You are required to define the group(s) that Athena will use to compute the duplicate. For instance, your table can be grouped by COL1 and COL2 (need to be string or varchar), then pass the list ['COL1', 'COL2'] "
   ]
  },
  {
   "cell_type": "code",
   "execution_count": 40,
   "metadata": {},
   "outputs": [],
   "source": [
    "#partition_keys = []\n",
    "\n",
    "with open(path_json) as json_file:\n",
    "    parameters = json.load(json_file)"
   ]
  },
  {
   "cell_type": "code",
   "execution_count": 41,
   "metadata": {},
   "outputs": [
    {
     "data": {
      "text/html": [
       "<div>\n",
       "<style scoped>\n",
       "    .dataframe tbody tr th:only-of-type {\n",
       "        vertical-align: middle;\n",
       "    }\n",
       "\n",
       "    .dataframe tbody tr th {\n",
       "        vertical-align: top;\n",
       "    }\n",
       "\n",
       "    .dataframe thead th {\n",
       "        text-align: right;\n",
       "    }\n",
       "</style>\n",
       "<table border=\"1\" class=\"dataframe\">\n",
       "  <thead>\n",
       "    <tr style=\"text-align: right;\">\n",
       "      <th></th>\n",
       "      <th>CNT</th>\n",
       "      <th>CNT_DUPLICATE</th>\n",
       "    </tr>\n",
       "  </thead>\n",
       "  <tbody>\n",
       "    <tr>\n",
       "      <th>0</th>\n",
       "      <td>1</td>\n",
       "      <td>5746831</td>\n",
       "    </tr>\n",
       "  </tbody>\n",
       "</table>\n",
       "</div>"
      ],
      "text/plain": [
       "   CNT  CNT_DUPLICATE\n",
       "0    1        5746831"
      ]
     },
     "metadata": {},
     "output_type": "display_data"
    }
   ],
   "source": [
    "### COUNT DUPLICATES\n",
    "if len(partition_keys) > 0:\n",
    "    groups = ' , '.join(partition_keys)\n",
    "\n",
    "    query_duplicates = parameters[\"ANALYSIS\"]['COUNT_DUPLICATES']['query'].format(\n",
    "                                DatabaseName,table_name,groups\n",
    "                                )\n",
    "    dup = s3.run_query(\n",
    "                                query=query_duplicates,\n",
    "                                database=DatabaseName,\n",
    "                                s3_output=\"SQL_OUTPUT_ATHENA\",\n",
    "                                filename=\"duplicates_{}\".format(table_name))\n",
    "    display(dup)\n"
   ]
  },
  {
   "cell_type": "markdown",
   "metadata": {},
   "source": [
    "## Count missing values"
   ]
  },
  {
   "cell_type": "code",
   "execution_count": 42,
   "metadata": {},
   "outputs": [],
   "source": [
    "#table = 'XX'\n",
    "schema = glue.get_table_information(\n",
    "    database = DatabaseName,\n",
    "    table = table_name\n",
    ")['Table']"
   ]
  },
  {
   "cell_type": "code",
   "execution_count": 43,
   "metadata": {},
   "outputs": [],
   "source": [
    "from datetime import date\n",
    "today = date.today().strftime('%Y%M%d')"
   ]
  },
  {
   "cell_type": "code",
   "execution_count": 44,
   "metadata": {},
   "outputs": [
    {
     "data": {
      "text/html": [
       "<style  type=\"text/css\" >\n",
       "#T_d825c2ae_8c6c_11eb_a918_bbcc4bbfb92brow0_col1{\n",
       "            width:  10em;\n",
       "             height:  80%;\n",
       "            background:  linear-gradient(90deg,#d65f5f 100.0%, transparent 100.0%);\n",
       "        }#T_d825c2ae_8c6c_11eb_a918_bbcc4bbfb92brow1_col1,#T_d825c2ae_8c6c_11eb_a918_bbcc4bbfb92brow2_col1,#T_d825c2ae_8c6c_11eb_a918_bbcc4bbfb92brow3_col1,#T_d825c2ae_8c6c_11eb_a918_bbcc4bbfb92brow4_col1,#T_d825c2ae_8c6c_11eb_a918_bbcc4bbfb92brow5_col1,#T_d825c2ae_8c6c_11eb_a918_bbcc4bbfb92brow6_col1,#T_d825c2ae_8c6c_11eb_a918_bbcc4bbfb92brow7_col1,#T_d825c2ae_8c6c_11eb_a918_bbcc4bbfb92brow8_col1,#T_d825c2ae_8c6c_11eb_a918_bbcc4bbfb92brow9_col1,#T_d825c2ae_8c6c_11eb_a918_bbcc4bbfb92brow10_col1,#T_d825c2ae_8c6c_11eb_a918_bbcc4bbfb92brow11_col1,#T_d825c2ae_8c6c_11eb_a918_bbcc4bbfb92brow12_col1,#T_d825c2ae_8c6c_11eb_a918_bbcc4bbfb92brow13_col1,#T_d825c2ae_8c6c_11eb_a918_bbcc4bbfb92brow14_col1,#T_d825c2ae_8c6c_11eb_a918_bbcc4bbfb92brow15_col1,#T_d825c2ae_8c6c_11eb_a918_bbcc4bbfb92brow16_col1,#T_d825c2ae_8c6c_11eb_a918_bbcc4bbfb92brow17_col1,#T_d825c2ae_8c6c_11eb_a918_bbcc4bbfb92brow18_col1,#T_d825c2ae_8c6c_11eb_a918_bbcc4bbfb92brow19_col1,#T_d825c2ae_8c6c_11eb_a918_bbcc4bbfb92brow20_col1,#T_d825c2ae_8c6c_11eb_a918_bbcc4bbfb92brow21_col1,#T_d825c2ae_8c6c_11eb_a918_bbcc4bbfb92brow22_col1{\n",
       "            width:  10em;\n",
       "             height:  80%;\n",
       "        }</style><table id=\"T_d825c2ae_8c6c_11eb_a918_bbcc4bbfb92b\" ><thead>    <tr>        <th class=\"blank level0\" ></th>        <th class=\"col_heading level0 col0\" >total_missing</th>        <th class=\"col_heading level0 col1\" >total_missing_pct</th>    </tr></thead><tbody>\n",
       "                <tr>\n",
       "                        <th id=\"T_d825c2ae_8c6c_11eb_a918_bbcc4bbfb92blevel0_row0\" class=\"row_heading level0 row0\" >nb_obs</th>\n",
       "                        <td id=\"T_d825c2ae_8c6c_11eb_a918_bbcc4bbfb92brow0_col0\" class=\"data row0 col0\" >5746831</td>\n",
       "                        <td id=\"T_d825c2ae_8c6c_11eb_a918_bbcc4bbfb92brow0_col1\" class=\"data row0 col1\" >100.00%</td>\n",
       "            </tr>\n",
       "            <tr>\n",
       "                        <th id=\"T_d825c2ae_8c6c_11eb_a918_bbcc4bbfb92blevel0_row1\" class=\"row_heading level0 row1\" >quantity</th>\n",
       "                        <td id=\"T_d825c2ae_8c6c_11eb_a918_bbcc4bbfb92brow1_col0\" class=\"data row1 col0\" >0</td>\n",
       "                        <td id=\"T_d825c2ae_8c6c_11eb_a918_bbcc4bbfb92brow1_col1\" class=\"data row1 col1\" >0.00%</td>\n",
       "            </tr>\n",
       "            <tr>\n",
       "                        <th id=\"T_d825c2ae_8c6c_11eb_a918_bbcc4bbfb92blevel0_row2\" class=\"row_heading level0 row2\" >price_adjusted_quality</th>\n",
       "                        <td id=\"T_d825c2ae_8c6c_11eb_a918_bbcc4bbfb92brow2_col0\" class=\"data row2 col0\" >0</td>\n",
       "                        <td id=\"T_d825c2ae_8c6c_11eb_a918_bbcc4bbfb92brow2_col1\" class=\"data row2 col1\" >0.00%</td>\n",
       "            </tr>\n",
       "            <tr>\n",
       "                        <th id=\"T_d825c2ae_8c6c_11eb_a918_bbcc4bbfb92blevel0_row3\" class=\"row_heading level0 row3\" >residual</th>\n",
       "                        <td id=\"T_d825c2ae_8c6c_11eb_a918_bbcc4bbfb92brow3_col0\" class=\"data row3 col0\" >0</td>\n",
       "                        <td id=\"T_d825c2ae_8c6c_11eb_a918_bbcc4bbfb92brow3_col1\" class=\"data row3 col1\" >0.00%</td>\n",
       "            </tr>\n",
       "            <tr>\n",
       "                        <th id=\"T_d825c2ae_8c6c_11eb_a918_bbcc4bbfb92blevel0_row4\" class=\"row_heading level0 row4\" >prediction</th>\n",
       "                        <td id=\"T_d825c2ae_8c6c_11eb_a918_bbcc4bbfb92brow4_col0\" class=\"data row4 col0\" >0</td>\n",
       "                        <td id=\"T_d825c2ae_8c6c_11eb_a918_bbcc4bbfb92brow4_col1\" class=\"data row4 col1\" >0.00%</td>\n",
       "            </tr>\n",
       "            <tr>\n",
       "                        <th id=\"T_d825c2ae_8c6c_11eb_a918_bbcc4bbfb92blevel0_row5\" class=\"row_heading level0 row5\" >fe_ct</th>\n",
       "                        <td id=\"T_d825c2ae_8c6c_11eb_a918_bbcc4bbfb92brow5_col0\" class=\"data row5 col0\" >0</td>\n",
       "                        <td id=\"T_d825c2ae_8c6c_11eb_a918_bbcc4bbfb92brow5_col1\" class=\"data row5 col1\" >0.00%</td>\n",
       "            </tr>\n",
       "            <tr>\n",
       "                        <th id=\"T_d825c2ae_8c6c_11eb_a918_bbcc4bbfb92blevel0_row6\" class=\"row_heading level0 row6\" >y</th>\n",
       "                        <td id=\"T_d825c2ae_8c6c_11eb_a918_bbcc4bbfb92brow6_col0\" class=\"data row6 col0\" >0</td>\n",
       "                        <td id=\"T_d825c2ae_8c6c_11eb_a918_bbcc4bbfb92brow6_col1\" class=\"data row6 col1\" >0.00%</td>\n",
       "            </tr>\n",
       "            <tr>\n",
       "                        <th id=\"T_d825c2ae_8c6c_11eb_a918_bbcc4bbfb92blevel0_row7\" class=\"row_heading level0 row7\" >sigma_price</th>\n",
       "                        <td id=\"T_d825c2ae_8c6c_11eb_a918_bbcc4bbfb92brow7_col0\" class=\"data row7 col0\" >0</td>\n",
       "                        <td id=\"T_d825c2ae_8c6c_11eb_a918_bbcc4bbfb92brow7_col1\" class=\"data row7 col1\" >0.00%</td>\n",
       "            </tr>\n",
       "            <tr>\n",
       "                        <th id=\"T_d825c2ae_8c6c_11eb_a918_bbcc4bbfb92blevel0_row8\" class=\"row_heading level0 row8\" >sigma</th>\n",
       "                        <td id=\"T_d825c2ae_8c6c_11eb_a918_bbcc4bbfb92brow8_col0\" class=\"data row8 col0\" >0</td>\n",
       "                        <td id=\"T_d825c2ae_8c6c_11eb_a918_bbcc4bbfb92brow8_col1\" class=\"data row8 col1\" >0.00%</td>\n",
       "            </tr>\n",
       "            <tr>\n",
       "                        <th id=\"T_d825c2ae_8c6c_11eb_a918_bbcc4bbfb92blevel0_row9\" class=\"row_heading level0 row9\" >unit_price</th>\n",
       "                        <td id=\"T_d825c2ae_8c6c_11eb_a918_bbcc4bbfb92brow9_col0\" class=\"data row9 col0\" >0</td>\n",
       "                        <td id=\"T_d825c2ae_8c6c_11eb_a918_bbcc4bbfb92brow9_col1\" class=\"data row9 col1\" >0.00%</td>\n",
       "            </tr>\n",
       "            <tr>\n",
       "                        <th id=\"T_d825c2ae_8c6c_11eb_a918_bbcc4bbfb92blevel0_row10\" class=\"row_heading level0 row10\" >value</th>\n",
       "                        <td id=\"T_d825c2ae_8c6c_11eb_a918_bbcc4bbfb92brow10_col0\" class=\"data row10 col0\" >0</td>\n",
       "                        <td id=\"T_d825c2ae_8c6c_11eb_a918_bbcc4bbfb92brow10_col1\" class=\"data row10 col1\" >0.00%</td>\n",
       "            </tr>\n",
       "            <tr>\n",
       "                        <th id=\"T_d825c2ae_8c6c_11eb_a918_bbcc4bbfb92blevel0_row11\" class=\"row_heading level0 row11\" >hs2</th>\n",
       "                        <td id=\"T_d825c2ae_8c6c_11eb_a918_bbcc4bbfb92brow11_col0\" class=\"data row11 col0\" >0</td>\n",
       "                        <td id=\"T_d825c2ae_8c6c_11eb_a918_bbcc4bbfb92brow11_col1\" class=\"data row11 col1\" >0.00%</td>\n",
       "            </tr>\n",
       "            <tr>\n",
       "                        <th id=\"T_d825c2ae_8c6c_11eb_a918_bbcc4bbfb92blevel0_row12\" class=\"row_heading level0 row12\" >ccode</th>\n",
       "                        <td id=\"T_d825c2ae_8c6c_11eb_a918_bbcc4bbfb92brow12_col0\" class=\"data row12 col0\" >0</td>\n",
       "                        <td id=\"T_d825c2ae_8c6c_11eb_a918_bbcc4bbfb92brow12_col1\" class=\"data row12 col1\" >0.00%</td>\n",
       "            </tr>\n",
       "            <tr>\n",
       "                        <th id=\"T_d825c2ae_8c6c_11eb_a918_bbcc4bbfb92blevel0_row13\" class=\"row_heading level0 row13\" >hs4</th>\n",
       "                        <td id=\"T_d825c2ae_8c6c_11eb_a918_bbcc4bbfb92brow13_col0\" class=\"data row13 col0\" >0</td>\n",
       "                        <td id=\"T_d825c2ae_8c6c_11eb_a918_bbcc4bbfb92brow13_col1\" class=\"data row13 col1\" >0.00%</td>\n",
       "            </tr>\n",
       "            <tr>\n",
       "                        <th id=\"T_d825c2ae_8c6c_11eb_a918_bbcc4bbfb92blevel0_row14\" class=\"row_heading level0 row14\" >hs3</th>\n",
       "                        <td id=\"T_d825c2ae_8c6c_11eb_a918_bbcc4bbfb92brow14_col0\" class=\"data row14 col0\" >0</td>\n",
       "                        <td id=\"T_d825c2ae_8c6c_11eb_a918_bbcc4bbfb92brow14_col1\" class=\"data row14 col1\" >0.00%</td>\n",
       "            </tr>\n",
       "            <tr>\n",
       "                        <th id=\"T_d825c2ae_8c6c_11eb_a918_bbcc4bbfb92blevel0_row15\" class=\"row_heading level0 row15\" >hs6</th>\n",
       "                        <td id=\"T_d825c2ae_8c6c_11eb_a918_bbcc4bbfb92brow15_col0\" class=\"data row15 col0\" >0</td>\n",
       "                        <td id=\"T_d825c2ae_8c6c_11eb_a918_bbcc4bbfb92brow15_col1\" class=\"data row15 col1\" >0.00%</td>\n",
       "            </tr>\n",
       "            <tr>\n",
       "                        <th id=\"T_d825c2ae_8c6c_11eb_a918_bbcc4bbfb92blevel0_row16\" class=\"row_heading level0 row16\" >regime</th>\n",
       "                        <td id=\"T_d825c2ae_8c6c_11eb_a918_bbcc4bbfb92brow16_col0\" class=\"data row16 col0\" >0</td>\n",
       "                        <td id=\"T_d825c2ae_8c6c_11eb_a918_bbcc4bbfb92brow16_col1\" class=\"data row16 col1\" >0.00%</td>\n",
       "            </tr>\n",
       "            <tr>\n",
       "                        <th id=\"T_d825c2ae_8c6c_11eb_a918_bbcc4bbfb92blevel0_row17\" class=\"row_heading level0 row17\" >year</th>\n",
       "                        <td id=\"T_d825c2ae_8c6c_11eb_a918_bbcc4bbfb92brow17_col0\" class=\"data row17 col0\" >0</td>\n",
       "                        <td id=\"T_d825c2ae_8c6c_11eb_a918_bbcc4bbfb92brow17_col1\" class=\"data row17 col1\" >0.00%</td>\n",
       "            </tr>\n",
       "            <tr>\n",
       "                        <th id=\"T_d825c2ae_8c6c_11eb_a918_bbcc4bbfb92blevel0_row18\" class=\"row_heading level0 row18\" >geocode4_corr</th>\n",
       "                        <td id=\"T_d825c2ae_8c6c_11eb_a918_bbcc4bbfb92brow18_col0\" class=\"data row18 col0\" >0</td>\n",
       "                        <td id=\"T_d825c2ae_8c6c_11eb_a918_bbcc4bbfb92brow18_col1\" class=\"data row18 col1\" >0.00%</td>\n",
       "            </tr>\n",
       "            <tr>\n",
       "                        <th id=\"T_d825c2ae_8c6c_11eb_a918_bbcc4bbfb92blevel0_row19\" class=\"row_heading level0 row19\" >iso_alpha</th>\n",
       "                        <td id=\"T_d825c2ae_8c6c_11eb_a918_bbcc4bbfb92brow19_col0\" class=\"data row19 col0\" >0</td>\n",
       "                        <td id=\"T_d825c2ae_8c6c_11eb_a918_bbcc4bbfb92brow19_col1\" class=\"data row19 col1\" >0.00%</td>\n",
       "            </tr>\n",
       "            <tr>\n",
       "                        <th id=\"T_d825c2ae_8c6c_11eb_a918_bbcc4bbfb92blevel0_row20\" class=\"row_heading level0 row20\" >country_en</th>\n",
       "                        <td id=\"T_d825c2ae_8c6c_11eb_a918_bbcc4bbfb92brow20_col0\" class=\"data row20 col0\" >0</td>\n",
       "                        <td id=\"T_d825c2ae_8c6c_11eb_a918_bbcc4bbfb92brow20_col1\" class=\"data row20 col1\" >0.00%</td>\n",
       "            </tr>\n",
       "            <tr>\n",
       "                        <th id=\"T_d825c2ae_8c6c_11eb_a918_bbcc4bbfb92blevel0_row21\" class=\"row_heading level0 row21\" >cname</th>\n",
       "                        <td id=\"T_d825c2ae_8c6c_11eb_a918_bbcc4bbfb92brow21_col0\" class=\"data row21 col0\" >0</td>\n",
       "                        <td id=\"T_d825c2ae_8c6c_11eb_a918_bbcc4bbfb92brow21_col1\" class=\"data row21 col1\" >0.00%</td>\n",
       "            </tr>\n",
       "            <tr>\n",
       "                        <th id=\"T_d825c2ae_8c6c_11eb_a918_bbcc4bbfb92blevel0_row22\" class=\"row_heading level0 row22\" >kandhelwal_quality</th>\n",
       "                        <td id=\"T_d825c2ae_8c6c_11eb_a918_bbcc4bbfb92brow22_col0\" class=\"data row22 col0\" >0</td>\n",
       "                        <td id=\"T_d825c2ae_8c6c_11eb_a918_bbcc4bbfb92brow22_col1\" class=\"data row22 col1\" >0.00%</td>\n",
       "            </tr>\n",
       "    </tbody></table>"
      ],
      "text/plain": [
       "<pandas.io.formats.style.Styler at 0x7f9f5bda6a30>"
      ]
     },
     "metadata": {},
     "output_type": "display_data"
    }
   ],
   "source": [
    "table_top = parameters[\"ANALYSIS\"][\"COUNT_MISSING\"][\"top\"]\n",
    "table_middle = \"\"\n",
    "table_bottom = parameters[\"ANALYSIS\"][\"COUNT_MISSING\"][\"bottom\"].format(\n",
    "    DatabaseName, table_name\n",
    ")\n",
    "\n",
    "for key, value in enumerate(schema[\"StorageDescriptor\"][\"Columns\"]):\n",
    "    if key == len(schema[\"StorageDescriptor\"][\"Columns\"]) - 1:\n",
    "\n",
    "        table_middle += \"{} \".format(\n",
    "            parameters[\"ANALYSIS\"][\"COUNT_MISSING\"][\"middle\"].format(value[\"Name\"])\n",
    "        )\n",
    "    else:\n",
    "        table_middle += \"{} ,\".format(\n",
    "            parameters[\"ANALYSIS\"][\"COUNT_MISSING\"][\"middle\"].format(value[\"Name\"])\n",
    "        )\n",
    "query = table_top + table_middle + table_bottom\n",
    "output = s3.run_query(\n",
    "    query=query,\n",
    "    database=DatabaseName,\n",
    "    s3_output=\"SQL_OUTPUT_ATHENA\",\n",
    "    filename=\"count_missing\",  ## Add filename to print dataframe\n",
    "    destination_key=None,  ### Add destination key if need to copy output\n",
    ")\n",
    "display(\n",
    "    output.T.rename(columns={0: \"total_missing\"})\n",
    "    .assign(total_missing_pct=lambda x: x[\"total_missing\"] / x.iloc[0, 0])\n",
    "    .sort_values(by=[\"total_missing\"], ascending=False)\n",
    "    .style.format(\"{0:,.2%}\", subset=[\"total_missing_pct\"])\n",
    "    .bar(subset=\"total_missing_pct\", color=[\"#d65f5f\"])\n",
    ")"
   ]
  },
  {
   "cell_type": "markdown",
   "metadata": {},
   "source": [
    "# Update Github Data catalog\n",
    "\n",
    "The data catalog is available in Glue. Although, we might want to get a quick access to the tables in Github. In this part, we are generating a `README.md` in the folder `00_data_catalogue`. All tables used in the project will be added to the catalog. We use the ETL parameter file and the schema in Glue to create the README. \n",
    "\n",
    "Bear in mind the code will erase the previous README. "
   ]
  },
  {
   "cell_type": "code",
   "execution_count": 45,
   "metadata": {},
   "outputs": [],
   "source": [
    "README = \"\"\"\n",
    "# Data Catalogue\n",
    "\n",
    "{}\n",
    "\n",
    "    \"\"\"\n",
    "\n",
    "top_readme = \"\"\"\n",
    "\n",
    "## Table of Content\n",
    "\n",
    "    \"\"\"\n",
    "\n",
    "template = \"\"\"\n",
    "\n",
    "## Table {0}\n",
    "\n",
    "- Database: {1}\n",
    "- S3uri: `{2}`\n",
    "- Partitition: {3}\n",
    "- Script: {5}\n",
    "\n",
    "{4}\n",
    "\n",
    "    \"\"\"\n",
    "github_link = os.path.join(\"https://github.com/\", parameters['GLOBAL']['GITHUB']['owner'],\n",
    "                           parameters['GLOBAL']['GITHUB']['repo_name'], \"tree/master/00_data_catalog#table-\")\n",
    "for key, value in parameters['TABLES'].items():\n",
    "    if key == 'CREATION':\n",
    "        param = 'ALL_SCHEMA'\n",
    "    else:\n",
    "        param = 'STEPS'\n",
    "        \n",
    "    for schema in parameters['TABLES'][key][param]:\n",
    "        description = schema['description']\n",
    "        DatabaseName = schema['metadata']['DatabaseName']\n",
    "        target_S3URI = schema['metadata']['target_S3URI']\n",
    "        partition = schema['partition_keys']\n",
    "        script = schema['metadata']['github_url']\n",
    "        \n",
    "        if param =='ALL_SCHEMA':\n",
    "            table_name_git = '{}{}'.format(\n",
    "                schema['metadata']['TablePrefix'],\n",
    "                os.path.basename(schema['metadata']['target_S3URI']).lower()\n",
    "            )\n",
    "        else:\n",
    "            try:\n",
    "                table_name_git = schema['metadata']['TableName']\n",
    "            except:\n",
    "                table_name_git = '{}{}'.format(\n",
    "                schema['metadata']['TablePrefix'],\n",
    "                os.path.basename(schema['metadata']['target_S3URI']).lower()\n",
    "            )\n",
    "        \n",
    "        tb = pd.json_normalize(schema['schema']).to_markdown()\n",
    "        toc = \"{}{}\".format(github_link, table_name_git)\n",
    "        top_readme += '\\n- [{0}]({1})'.format(table_name_git, toc)\n",
    "\n",
    "        README += template.format(table_name_git,\n",
    "                                  DatabaseName,\n",
    "                                  target_S3URI,\n",
    "                                  partition,\n",
    "                                  tb,\n",
    "                                  script\n",
    "                                  )\n",
    "README = README.format(top_readme)\n",
    "with open(os.path.join(str(Path(path).parent.parent), '00_data_catalog/README.md'), \"w\") as outfile:\n",
    "    outfile.write(README)"
   ]
  },
  {
   "cell_type": "markdown",
   "metadata": {},
   "source": [
    "# Analytics\n",
    "\n",
    "In this part, we are providing basic summary statistic. Since we have created the tables, we can parse the schema in Glue and use our json file to automatically generates the analysis.\n",
    "\n",
    "The cells below execute the job in the key `ANALYSIS`. You need to change the `primary_key` and `secondary_key` "
   ]
  },
  {
   "cell_type": "markdown",
   "metadata": {},
   "source": [
    "For a full analysis of the table, please use the following Lambda function. Be patient, it can takes between 5 to 30 minutes. Times varies according to the number of columns in your dataset.\n",
    "\n",
    "Use the function as follow:\n",
    "\n",
    "- `output_prefix`:  s3://datalake-datascience/ANALYTICS/OUTPUT/TABLE_NAME/\n",
    "- `region`: region where the table is stored\n",
    "- `bucket`: Name of the bucket\n",
    "- `DatabaseName`: Name of the database\n",
    "- `table_name`: Name of the table\n",
    "- `group`: variables name to group to count the duplicates\n",
    "- `primary_key`: Variable name to perform the grouping -> Only one variable for now\n",
    "- `secondary_key`: Variable name to perform the secondary grouping -> Only one variable for now\n",
    "- `proba`: Chi-square analysis probabilitity\n",
    "- `y_var`: Continuous target variables\n",
    "\n",
    "Check the job processing in Sagemaker: https://eu-west-3.console.aws.amazon.com/sagemaker/home?region=eu-west-3#/processing-jobs\n",
    "\n",
    "The notebook is available: https://s3.console.aws.amazon.com/s3/buckets/datalake-datascience?region=eu-west-3&prefix=ANALYTICS/OUTPUT/&showversions=false\n",
    "\n",
    "Please, download the notebook on your local machine, and convert it to HTML:\n",
    "\n",
    "```\n",
    "cd \"/Users/thomas/Downloads/Notebook\"\n",
    "aws s3 cp s3://datalake-datascience/ANALYTICS/OUTPUT/asif_unzip_data_csv/Template_analysis_from_lambda-2020-11-22-08-12-20.ipynb .\n",
    "\n",
    "## convert HTML no code\n",
    "jupyter nbconvert --no-input --to html Template_analysis_from_lambda-2020-11-21-14-30-45.ipynb\n",
    "jupyter nbconvert --to html Template_analysis_from_lambda-2020-11-22-08-12-20.ipynb\n",
    "```\n",
    "\n",
    "Then upload the HTML to: https://s3.console.aws.amazon.com/s3/buckets/datalake-datascience?region=eu-west-3&prefix=ANALYTICS/HTML_OUTPUT/\n",
    "\n",
    "Add a new folder with the table name in upper case"
   ]
  },
  {
   "cell_type": "code",
   "execution_count": null,
   "metadata": {},
   "outputs": [],
   "source": [
    "import boto3\n",
    "\n",
    "key, secret_ = con.load_credential()\n",
    "client_lambda = boto3.client(\n",
    "    'lambda',\n",
    "    aws_access_key_id=key,\n",
    "    aws_secret_access_key=secret_,\n",
    "    region_name = region)"
   ]
  },
  {
   "cell_type": "code",
   "execution_count": null,
   "metadata": {},
   "outputs": [],
   "source": [
    "primary_key = ''\n",
    "secondary_key = ''\n",
    "y_var = ''"
   ]
  },
  {
   "cell_type": "code",
   "execution_count": null,
   "metadata": {},
   "outputs": [],
   "source": [
    "payload = {\n",
    "    \"input_path\": \"s3://datalake-datascience/ANALYTICS/TEMPLATE_NOTEBOOKS/template_analysis_from_lambda.ipynb\",\n",
    "    \"output_prefix\": \"s3://datalake-datascience/ANALYTICS/OUTPUT/{}/\".format(table_name.upper()),\n",
    "    \"parameters\": {\n",
    "        \"region\": \"{}\".format(region),\n",
    "        \"bucket\": \"{}\".format(bucket),\n",
    "        \"DatabaseName\": \"{}\".format(DatabaseName),\n",
    "        \"table_name\": \"{}\".format(table_name),\n",
    "        \"group\": \"{}\".format(','.join(partition_keys)),\n",
    "        \"keys\": \"{},{}\".format(primary_key,secondary_key),\n",
    "        \"y_var\": \"{}\".format(y_var),\n",
    "        \"threshold\":0\n",
    "    },\n",
    "}\n",
    "payload"
   ]
  },
  {
   "cell_type": "code",
   "execution_count": null,
   "metadata": {},
   "outputs": [],
   "source": [
    "response = client_lambda.invoke(\n",
    "    FunctionName='RunNotebook',\n",
    "    InvocationType='RequestResponse',\n",
    "    LogType='Tail',\n",
    "    Payload=json.dumps(payload),\n",
    ")\n",
    "response"
   ]
  },
  {
   "cell_type": "markdown",
   "metadata": {},
   "source": [
    "# Generation report"
   ]
  },
  {
   "cell_type": "code",
   "execution_count": 46,
   "metadata": {},
   "outputs": [],
   "source": [
    "import os, time, shutil, urllib, ipykernel, json\n",
    "from pathlib import Path\n",
    "from notebook import notebookapp\n",
    "import sys\n",
    "sys.path.append(os.path.join(parent_path, 'utils'))\n",
    "import make_toc\n",
    "import create_schema"
   ]
  },
  {
   "cell_type": "code",
   "execution_count": 47,
   "metadata": {},
   "outputs": [],
   "source": [
    "def create_report(extension = \"html\", keep_code = False, notebookname = None):\n",
    "    \"\"\"\n",
    "    Create a report from the current notebook and save it in the \n",
    "    Report folder (Parent-> child directory)\n",
    "    \n",
    "    1. Exctract the current notbook name\n",
    "    2. Convert the Notebook \n",
    "    3. Move the newly created report\n",
    "    \n",
    "    Args:\n",
    "    extension: string. Can be \"html\", \"pdf\", \"md\"\n",
    "    \n",
    "    \n",
    "    \"\"\"\n",
    "    \n",
    "    ### Get notebook name\n",
    "    connection_file = os.path.basename(ipykernel.get_connection_file())\n",
    "    kernel_id = connection_file.split('-', 1)[0].split('.')[0]\n",
    "\n",
    "    for srv in notebookapp.list_running_servers():\n",
    "        try:\n",
    "            if srv['token']=='' and not srv['password']:  \n",
    "                req = urllib.request.urlopen(srv['url']+'api/sessions')\n",
    "            else:\n",
    "                req = urllib.request.urlopen(srv['url']+ \\\n",
    "                                             'api/sessions?token=' + \\\n",
    "                                             srv['token'])\n",
    "            sessions = json.load(req)\n",
    "            notebookname = sessions[0]['name']\n",
    "        except:\n",
    "            notebookname = notebookname  \n",
    "    \n",
    "    sep = '.'\n",
    "    path = os.getcwd()\n",
    "    #parent_path = str(Path(path).parent)\n",
    "    \n",
    "    ### Path report\n",
    "    #path_report = \"{}/Reports\".format(parent_path)\n",
    "    #path_report = \"{}/Reports\".format(path)\n",
    "    \n",
    "    ### Path destination\n",
    "    name_no_extension = notebookname.split(sep, 1)[0]\n",
    "    source_to_move = name_no_extension +'.{}'.format(extension)\n",
    "    dest = os.path.join(path,'Reports', source_to_move)\n",
    "    \n",
    "    ### Generate notebook\n",
    "    if keep_code:\n",
    "        os.system('jupyter nbconvert --to {} {}'.format(\n",
    "    extension,notebookname))\n",
    "    else:\n",
    "        os.system('jupyter nbconvert --no-input --to {} {}'.format(\n",
    "    extension,notebookname))\n",
    "    \n",
    "    ### Move notebook to report folder\n",
    "    #time.sleep(5)\n",
    "    shutil.move(source_to_move, dest)\n",
    "    print(\"Report Available at this adress:\\n {}\".format(dest))"
   ]
  },
  {
   "cell_type": "code",
   "execution_count": 48,
   "metadata": {},
   "outputs": [
    {
     "name": "stdout",
     "output_type": "stream",
     "text": [
      "Report Available at this adress:\n",
      " /home/ec2-user/VAT_rebate_quality_china/01_data_preprocessing/02_transform_tables/Reports/01_preparation_quality.html\n"
     ]
    }
   ],
   "source": [
    "create_report(extension = \"html\", keep_code = True, notebookname =  notebookname)"
   ]
  },
  {
   "cell_type": "code",
   "execution_count": 49,
   "metadata": {},
   "outputs": [],
   "source": [
    "create_schema.create_schema(path_json, path_save_image = os.path.join(parent_path, 'utils'))"
   ]
  },
  {
   "cell_type": "code",
   "execution_count": 50,
   "metadata": {},
   "outputs": [],
   "source": [
    "### Update TOC in Github\n",
    "for p in [parent_path,\n",
    "          str(Path(path).parent),\n",
    "          os.path.join(str(Path(path).parent), \"00_download_data\"),\n",
    "          #os.path.join(str(Path(path).parent.parent), \"02_data_analysis\"),\n",
    "          #os.path.join(str(Path(path).parent.parent), \"02_data_analysis\", \"00_statistical_exploration\"),\n",
    "          #os.path.join(str(Path(path).parent.parent), \"02_data_analysis\", \"01_model_estimation\"),\n",
    "         ]:\n",
    "    try:\n",
    "        os.remove(os.path.join(p, 'README.md'))\n",
    "    except:\n",
    "        pass\n",
    "    path_parameter = os.path.join(parent_path,'utils', name_json)\n",
    "    md_lines =  make_toc.create_index(cwd = p, path_parameter = path_parameter)\n",
    "    md_out_fn = os.path.join(p,'README.md')\n",
    "    \n",
    "    if p == parent_path:\n",
    "    \n",
    "        make_toc.replace_index(md_out_fn, md_lines, Header = os.path.basename(p).replace('_', ' '), add_description = True, path_parameter = path_parameter)\n",
    "    else:\n",
    "        make_toc.replace_index(md_out_fn, md_lines, Header = os.path.basename(p).replace('_', ' '), add_description = False)"
   ]
  }
 ],
 "metadata": {
  "jupytext": {
   "formats": "ipynb,md"
  },
  "kernel_info": {
   "name": "python3"
  },
  "kernelspec": {
   "display_name": "Python 3",
   "language": "python",
   "name": "python3"
  },
  "language_info": {
   "codemirror_mode": {
    "name": "ipython",
    "version": 3
   },
   "file_extension": ".py",
   "mimetype": "text/x-python",
   "name": "python",
   "nbconvert_exporter": "python",
   "pygments_lexer": "ipython3",
   "version": "3.8.5"
  },
  "nteract": {
   "version": "0.22.0"
  },
  "toc": {
   "base_numbering": 1,
   "nav_menu": {},
   "number_sections": true,
   "sideBar": true,
   "skip_h1_title": false,
   "title_cell": "Table of Contents",
   "title_sidebar": "Contents",
   "toc_cell": false,
   "toc_position": {},
   "toc_section_display": true,
   "toc_window_display": false
  }
 },
 "nbformat": 4,
 "nbformat_minor": 4
}
