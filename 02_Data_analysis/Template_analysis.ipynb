{
  "cells": [
    {
      "cell_type": "markdown",
      "source": [
        "# TITLE data analysis\n",
        "\n",
        "This notebook has been generated on XX\n",
        "\n",
        "The objective of this notebook is to YYY\n",
        "\n",
        "## Analysis steps\n",
        "\n",
        "The analysis steps performed in this notebook are the following\n",
        "\n",
        "- Lorem ipsum dolor sit amet\n",
        "- Lorem ipsum dolor sit amet\n",
        "- Lorem ipsum dolor sit amet\n",
        "\n",
        "## Data source \n",
        "\n",
        "The data source of this dataset is:\n",
        "\n",
        "- [XXX](HERE)\n",
        "\n",
        "### Variable name\n",
        "\nThe variables names and labels are the following:"
      ],
      "metadata": {}
    },
    {
      "cell_type": "markdown",
      "source": [],
      "metadata": {}
    },
    {
      "cell_type": "markdown",
      "source": [
        "# Analysis\n",
        "\n## Load the data"
      ],
      "metadata": {}
    },
    {
      "cell_type": "code",
      "source": [
        "import pandas as pd\n",
        "from Fast_connectCloud import connector\n",
        "import plotly.express as px"
      ],
      "outputs": [],
      "execution_count": null,
      "metadata": {}
    },
    {
      "cell_type": "code",
      "source": [
        "gs = connector.open_connection(online_connection = False,\n",
        "                              path_credential = 'pathtoken')\n",
        "\nservice = gs.connect_remote()"
      ],
      "outputs": [],
      "execution_count": null,
      "metadata": {}
    },
    {
      "cell_type": "code",
      "source": [],
      "outputs": [],
      "execution_count": null,
      "metadata": {}
    },
    {
      "cell_type": "markdown",
      "source": [
        "## Analysis 1: "
      ],
      "metadata": {}
    },
    {
      "cell_type": "code",
      "source": [],
      "outputs": [],
      "execution_count": null,
      "metadata": {}
    }
  ],
  "metadata": {
    "kernelspec": {
      "name": "python3",
      "language": "python",
      "display_name": "Python 3"
    },
    "language_info": {
      "name": "python",
      "version": "3.6.7",
      "mimetype": "text/x-python",
      "codemirror_mode": {
        "name": "ipython",
        "version": 3
      },
      "pygments_lexer": "ipython3",
      "nbconvert_exporter": "python",
      "file_extension": ".py"
    },
    "toc": {
      "toc_position": {},
      "skip_h1_title": false,
      "number_sections": true,
      "title_cell": "Table of Contents",
      "toc_window_display": false,
      "base_numbering": 1,
      "toc_section_display": true,
      "title_sidebar": "Contents",
      "toc_cell": false,
      "nav_menu": {},
      "sideBar": true
    },
    "kernel_info": {
      "name": "python3"
    },
    "nteract": {
      "version": "0.12.3"
    }
  },
  "nbformat": 4,
  "nbformat_minor": 2
}