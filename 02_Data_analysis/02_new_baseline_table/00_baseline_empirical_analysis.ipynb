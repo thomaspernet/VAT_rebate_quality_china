{
 "cells": [
  {
   "cell_type": "markdown",
   "metadata": {
    "kernel": "SoS"
   },
   "source": [
    "# Estimate baseline equation \n",
    "\n",
    "This notebook has been generated on 08/14/2020\n",
    "\n",
    "## Objective(s)\n",
    "\n",
    "*  Estimate the baseline regression with the new dataset. The baseline regression is the following:\n",
    "\n",
    "Regress the quality index at the firm, product, city, destination and time  on the VAT rebate tax and eligibility and other control variables plus a bunch of fixed effect detailed later on\n",
    "\n",
    "![](https://drive.google.com/uc?export=view&id=1stdefCGutycsRZU9EuLgUoe3am8tgg5T)\n",
    "\n",
    "* Need to find a negative and significant coefficient\n",
    "* include product-year fixed effect\n",
    "\n",
    "## Metadata\n",
    "\n",
    "* Task type:\n",
    "  * Jupyter Notebook\n",
    "* Users: :\n",
    "  * Thomas Pernet\n",
    "* Watchers:\n",
    "  * Thomas Pernet\n",
    "* Estimated Log points:\n",
    "  * One being a simple task, 15 a very difficult one\n",
    "  *  10\n",
    "* Task tag\n",
    "  *  #linear-regression,#baseline-results,#fixed-effect\n",
    "* Toggl Tag\n",
    "  * #baseline-result\n",
    "\n",
    "## Input Cloud Storage [AWS/GCP]\n",
    "\n",
    "* BigQuery \n",
    "  * Table: quality_vat_export_2003_2010\n",
    "    * Notebook construction file (data lineage) \n",
    "      * md : [01_preparation_quality.md](https://github.com/thomaspernet/VAT_rebate_quality_china/blob/master/01_Data_preprocessing/01_preparation_quality.md)\n",
    "\n",
    "## Destination Output/Delivery\n",
    "\n",
    "1. Latex table (Latex & pdf)\n",
    "  * Description: The table should look like the one from the paper: thomaspernet/VAT_rebate_quality_china: table 1\n",
    "  * Github branch: master \n",
    "  * Folder: [02_Data_analysis/02_new_baseline_table/Tables](https://github.com/thomaspernet/VAT_rebate_quality_china/tree/master/02_Data_analysis/02_new_baseline_table/Tables)\n",
    "\n",
    "## Things to know (Steps, Attention points or new flow of information)\n",
    "\n",
    "* Documentation \n",
    "  * Coda: \n",
    "    * [US 1 Empirical analysis Baseline](https://coda.io/d/VAT-Rebate_d_s12qjWA8O/US-1-Empirical-analysis-Baseline_sugol): Details about FE and baseline regression\n",
    "* Github\n",
    "    1. Repo: [thomaspernet/VAT_rebate_quality_china: New FE table](https://github.com/thomaspernet/VAT_rebate_quality_china/blob/master/02_Data_analysis/01_new_fixed_effect/01_baseline_table.md#new-fe-table) → Table with the fixed effect to reproduce and baseline table"
   ]
  },
  {
   "cell_type": "markdown",
   "metadata": {
    "kernel": "SoS"
   },
   "source": [
    "# Load Dataset\n",
    "\n",
    "## inputs\n",
    "\n",
    "- Filename: quality_vat_export_2003_2010\n",
    "- Link: [BigQuery](https://console.cloud.google.com/bigquery?project=valid-pagoda-132423&p=valid-pagoda-132423&d=China&t=quality_vat_export_2003_2010&page=table)\n",
    "- Type: Table"
   ]
  },
  {
   "cell_type": "code",
   "execution_count": null,
   "metadata": {
    "kernel": "Python 3"
   },
   "outputs": [],
   "source": [
    "import pandas as pd \n",
    "import numpy as np\n",
    "from pathlib import Path\n",
    "import os, re,  requests, json \n",
    "from GoogleDrivePy.google_authorization import authorization_service\n",
    "from GoogleDrivePy.google_platform import connect_cloud_platform"
   ]
  },
  {
   "cell_type": "code",
   "execution_count": null,
   "metadata": {
    "kernel": "Python 3"
   },
   "outputs": [],
   "source": [
    "import function.latex_beautify as lb\n",
    "\n",
    "%load_ext autoreload\n",
    "%autoreload 2"
   ]
  },
  {
   "cell_type": "code",
   "execution_count": 1,
   "metadata": {
    "kernel": "R"
   },
   "outputs": [
    {
     "name": "stderr",
     "output_type": "stream",
     "text": [
      "── \u001b[1mAttaching packages\u001b[22m ─────────────────────────────────────── tidyverse 1.3.0 ──\n",
      "\n",
      "\u001b[32m✔\u001b[39m \u001b[34mggplot2\u001b[39m 3.3.2     \u001b[32m✔\u001b[39m \u001b[34mpurrr  \u001b[39m 0.3.4\n",
      "\u001b[32m✔\u001b[39m \u001b[34mtibble \u001b[39m 3.0.3     \u001b[32m✔\u001b[39m \u001b[34mdplyr  \u001b[39m 1.0.1\n",
      "\u001b[32m✔\u001b[39m \u001b[34mtidyr  \u001b[39m 1.1.1     \u001b[32m✔\u001b[39m \u001b[34mstringr\u001b[39m 1.4.0\n",
      "\u001b[32m✔\u001b[39m \u001b[34mreadr  \u001b[39m 1.3.1     \u001b[32m✔\u001b[39m \u001b[34mforcats\u001b[39m 0.5.0\n",
      "\n",
      "── \u001b[1mConflicts\u001b[22m ────────────────────────────────────────── tidyverse_conflicts() ──\n",
      "\u001b[31m✖\u001b[39m \u001b[34mdplyr\u001b[39m::\u001b[32mfilter()\u001b[39m masks \u001b[34mstats\u001b[39m::filter()\n",
      "\u001b[31m✖\u001b[39m \u001b[34mdplyr\u001b[39m::\u001b[32mlag()\u001b[39m    masks \u001b[34mstats\u001b[39m::lag()\n",
      "\n",
      "Loading required package: Matrix\n",
      "\n",
      "\n",
      "Attaching package: ‘Matrix’\n",
      "\n",
      "\n",
      "The following objects are masked from ‘package:tidyr’:\n",
      "\n",
      "    expand, pack, unpack\n",
      "\n",
      "\n"
     ]
    },
    {
     "ename": "ERROR",
     "evalue": "Error in library(lazyeval): there is no package called ‘lazyeval’\n",
     "output_type": "error",
     "traceback": [
      "Error in library(lazyeval): there is no package called ‘lazyeval’\nTraceback:\n",
      "1. library(lazyeval)"
     ]
    }
   ],
   "source": [
    "options(warn=-1)\n",
    "library(tidyverse)\n",
    "library(lfe)\n",
    "library(lazyeval)\n",
    "library('progress')\n",
    "path = \"function/table_golatex.R\"\n",
    "source(path)"
   ]
  },
  {
   "cell_type": "code",
   "execution_count": null,
   "metadata": {
    "kernel": "SoS"
   },
   "outputs": [],
   "source": [
    "path = os.getcwd()\n",
    "parent_path = str(Path(path).parent)\n",
    "project = 'valid-pagoda-132423'\n",
    "\n",
    "\n",
    "auth = authorization_service.get_authorization(\n",
    "    path_credential_gcp = \"{}/creds/service.json\".format(parent_path),\n",
    "    verbose = False#\n",
    ")\n",
    "\n",
    "gcp_auth = auth.authorization_gcp()\n",
    "gcp = connect_cloud_platform.connect_console(project = project, \n",
    "                                             service_account = gcp_auth) "
   ]
  },
  {
   "cell_type": "code",
   "execution_count": null,
   "metadata": {
    "kernel": "SoS"
   },
   "outputs": [],
   "source": [
    "query = (\n",
    "          \"SELECT * \"\n",
    "            \"FROM China.quality_vat_export_2003_2010 \"\n",
    "\n",
    "        )"
   ]
  },
  {
   "cell_type": "code",
   "execution_count": 2,
   "metadata": {
    "kernel": "R"
   },
   "outputs": [
    {
     "name": "stderr",
     "output_type": "stream",
     "text": [
      "Parsed with column specification:\n",
      "cols(\n",
      "  .default = col_double(),\n",
      "  cityen = \u001b[31mcol_character()\u001b[39m,\n",
      "  regime = \u001b[31mcol_character()\u001b[39m,\n",
      "  Country_en = \u001b[31mcol_character()\u001b[39m,\n",
      "  ISO_alpha = \u001b[31mcol_character()\u001b[39m\n",
      ")\n",
      "\n",
      "See spec(...) for full column specifications.\n",
      "\n"
     ]
    }
   ],
   "source": [
    "#df_final = gcp.upload_data_from_bigquery(query = query, location = 'US')\n",
    "#df_final.head()\n",
    "path = '../../00_Data_catalogue/temporary_local_data/quality_vat_export_2003_2010.csv'\n",
    "df_final <- read_csv(path) %>%\n",
    "mutate_if(is.character, as.factor) %>%\n",
    "    mutate_at(vars(starts_with(\"FE\")), as.factor) %>%\n",
    "mutate(regime = relevel(regime, ref='Not_Eligible'))"
   ]
  },
  {
   "cell_type": "code",
   "execution_count": null,
   "metadata": {
    "kernel": "SoS"
   },
   "outputs": [],
   "source": [
    "#import pandas as pd\n",
    "#path = '../../00_Data_catalogue/temporary_local_data/quality_vat_export_2003_2010.csv'\n",
    "#print(pd.read_csv(path).dtypes.to_markdown())"
   ]
  },
  {
   "cell_type": "markdown",
   "metadata": {
    "kernel": "SoS"
   },
   "source": [
    "# Models to estimate\n",
    "\n",
    "Variables:\n",
    "\n",
    "\n",
    "|       Variables        | Type    |\n",
    "|:-----------------------|:--------|\n",
    "| cityen                 | object  |\n",
    "| geocode4_corr          | int64   |\n",
    "| year                   | int64   |\n",
    "| regime                 | object  |\n",
    "| HS6                    | int64   |\n",
    "| HS4                    | int64   |\n",
    "| HS3                    | int64   |\n",
    "| Country_en             | object  |\n",
    "| ISO_alpha              | object  |\n",
    "| Quantity               | int64   |\n",
    "| value                  | int64   |\n",
    "| unit_price             | float64 |\n",
    "| kandhelwal_quality     | float64 |\n",
    "| price_adjusted_quality | float64 |\n",
    "| lag_tax_rebate         | float64 |\n",
    "| ln_lag_tax_rebate      | float64 |\n",
    "| lag_import_tax         | float64 |\n",
    "| ln_lag_import_tax      | float64 |\n",
    "| sigma                  | float64 |\n",
    "| sigma_price            | float64 |\n",
    "| y                      | float64 |\n",
    "| prediction             | float64 |\n",
    "| residual               | float64 |\n",
    "| FE_cp                  | int64   |\n",
    "| FE_cst                 | int64   |\n",
    "| FE_cpr                 | int64   |\n",
    "| FE_csrt                | int64   |\n",
    "| FE_pt                  | int64   |\n",
    "| FE_pd                  | int64   |\n",
    "| FE_dt                  | int64   |\n",
    "| FE_ct                  | int64   |"
   ]
  },
  {
   "cell_type": "markdown",
   "metadata": {
    "kernel": "SoS"
   },
   "source": [
    "## Fixed Effect\n",
    "\n",
    "| Benchmark | Origin    | Name                     | Description                                                                                                                                                                                                                                                                                                                                    | Math_notebook     |\n",
    "|-----------|-----------|--------------------------|------------------------------------------------------------------------------------------------------------------------------------------------------------------------------------------------------------------------------------------------------------------------------------------------------------------------------------------------|-------------------|\n",
    "| Yes       | Current   | firm-product-eligibility | captures all the factors that affect firms regardless of the time and type of regime. This firm‒product pair eliminates the demand shocks that firms face and that are not correlated with the types of status. The fixed effects are also responsible for potential correlations between subsidies, R&D, or trade policies and VAT rebates.   | $\\alpha^{E}_{it}$ |\n",
    "| Yes       | Current   | HS4-year-eligibility     |                                                                                                                                                                                                                                                                                                                                                | $\\alpha^{E}_{st}$ |\n",
    "| Yes       | Current   | city-year                | captures the differences in demand, capital intensity, or labor supply that prevail between cities each year                                                                                                                                                                                                                                   | $\\alpha_{ct}$     |\n",
    "| Yes       | Current   | destination-year         | Captures additional level of control, encompassing all the shocks and developments in the economies to which China exports.                                                                                                                                                                                                                    | $\\alpha_{dt}$     |\n",
    "|           | Candidate | Product-year             | account for all factors that affect product-level export irrespective of the trade regime in a given year                                                                                                                                                                                                                                      | $\\alpha_{pt}$     |\n",
    "|           | Candidate | product-destination      |                                                                                                                                                                                                                                                                                                                                                | $\\alpha_{pd}$     |\n",
    "|           | Candidate | Product-destination-year |                                                                                                                                                                                                                                                                                                                                                | $\\alpha_{pdt}$    |"
   ]
  },
  {
   "cell_type": "markdown",
   "metadata": {
    "kernel": "SoS"
   },
   "source": [
    "## Table 01\n",
    "\n",
    "Equation to estimate:\n",
    "\n",
    "$$ $$\n",
    "\n",
    "\n",
    "- Overleaf:"
   ]
  },
  {
   "cell_type": "code",
   "execution_count": 18,
   "metadata": {
    "kernel": "R"
   },
   "outputs": [
    {
     "data": {
      "text/plain": [
       "\n",
       "Call:\n",
       "   felm(formula = kandhelwal_quality ~ ln_lag_tax_rebate + ln_lag_import_tax |      FE_cp + FE_cst + FE_pd | 0 | HS6, data = df_final %>% filter(regime ==      \"Eligible\"), exactDOF = TRUE) \n",
       "\n",
       "Residuals:\n",
       "    Min      1Q  Median      3Q     Max \n",
       "-55.833  -0.587   0.000   0.656  55.833 \n",
       "\n",
       "Coefficients:\n",
       "                  Estimate Cluster s.e. t value Pr(>|t|)    \n",
       "ln_lag_tax_rebate -0.26915      0.04787  -5.622    2e-08 ***\n",
       "ln_lag_import_tax  0.01229      0.04290   0.287    0.774    \n",
       "---\n",
       "Signif. codes:  0 ‘***’ 0.001 ‘**’ 0.01 ‘*’ 0.05 ‘.’ 0.1 ‘ ’ 1\n",
       "\n",
       "Residual standard error: 1.875 on 4006510 degrees of freedom\n",
       "Multiple R-squared(full model): 0.4402   Adjusted R-squared: 0.3144 \n",
       "Multiple R-squared(proj model): 0.0001461   Adjusted R-squared: -0.2246 \n",
       "F-statistic(full model, *iid*):3.499 on 900412 and 4006510 DF, p-value: < 2.2e-16 \n",
       "F-statistic(proj model): 15.98 on 2 and 4663 DF, p-value: 1.213e-07 \n",
       "\n"
      ]
     },
     "metadata": {},
     "output_type": "display_data"
    }
   ],
   "source": [
    "t_0 <- felm(kandhelwal_quality ~ln_lag_tax_rebate+ ln_lag_import_tax \n",
    "            | FE_cp + FE_cst+FE_pd|0 | HS6, df_final %>% filter(regime == 'Eligible'),\n",
    "            exactDOF = TRUE)\n",
    "summary(t_0)"
   ]
  },
  {
   "cell_type": "code",
   "execution_count": 17,
   "metadata": {
    "kernel": "R"
   },
   "outputs": [
    {
     "data": {
      "text/plain": [
       "\n",
       "Call:\n",
       "   felm(formula = kandhelwal_quality ~ ln_lag_tax_rebate + ln_lag_import_tax |      FE_cp + FE_cst + FE_pd | 0 | HS6, data = df_final %>% filter(regime !=      \"Eligible\"), exactDOF = TRUE) \n",
       "\n",
       "Residuals:\n",
       "    Min      1Q  Median      3Q     Max \n",
       "-31.779  -0.473   0.000   0.525  23.857 \n",
       "\n",
       "Coefficients:\n",
       "                  Estimate Cluster s.e. t value Pr(>|t|)\n",
       "ln_lag_tax_rebate -0.08788      0.06368  -1.380    0.168\n",
       "ln_lag_import_tax -0.11199      0.09200  -1.217    0.224\n",
       "\n",
       "Residual standard error: 1.934 on 577012 degrees of freedom\n",
       "Multiple R-squared(full model): 0.6387   Adjusted R-squared: 0.4306 \n",
       "Multiple R-squared(proj model): 2.346e-05   Adjusted R-squared: -0.5762 \n",
       "F-statistic(full model, *iid*):3.068 on 332502 and 577012 DF, p-value: < 2.2e-16 \n",
       "F-statistic(proj model):  1.67 on 2 and 4162 DF, p-value: 0.1884 \n",
       "\n"
      ]
     },
     "metadata": {},
     "output_type": "display_data"
    }
   ],
   "source": [
    "t_1 <- felm(kandhelwal_quality ~ln_lag_tax_rebate + ln_lag_import_tax\n",
    "            | FE_cp + FE_cst + FE_pd|0 | HS6, df_final %>% filter(regime != 'Eligible'),\n",
    "            exactDOF = TRUE)\n",
    "summary(t_1)"
   ]
  },
  {
   "cell_type": "code",
   "execution_count": 19,
   "metadata": {
    "kernel": "R"
   },
   "outputs": [
    {
     "data": {
      "text/plain": [
       "\n",
       "Call:\n",
       "   felm(formula = kandhelwal_quality ~ ln_lag_tax_rebate * regime +      ln_lag_import_tax * regime | FE_cpr + FE_csrt + FE_pd | 0 |      HS6, data = df_final, exactDOF = TRUE) \n",
       "\n",
       "Residuals:\n",
       "    Min      1Q  Median      3Q     Max \n",
       "-55.856  -0.593   0.000   0.660  55.856 \n",
       "\n",
       "Coefficients:\n",
       "                                 Estimate Cluster s.e. t value Pr(>|t|)  \n",
       "ln_lag_tax_rebate                -0.11724      0.06144  -1.908   0.0564 .\n",
       "regimeEligible                         NA      0.00000      NA       NA  \n",
       "ln_lag_import_tax                -0.07306      0.08197  -0.891   0.3728  \n",
       "ln_lag_tax_rebate:regimeEligible -0.15361      0.07224  -2.126   0.0335 *\n",
       "regimeEligible:ln_lag_import_tax  0.08477      0.08666   0.978   0.3280  \n",
       "---\n",
       "Signif. codes:  0 ‘***’ 0.001 ‘**’ 0.01 ‘*’ 0.05 ‘.’ 0.1 ‘ ’ 1\n",
       "\n",
       "Residual standard error: 1.908 on 4707517 degrees of freedom\n",
       "Multiple R-squared(full model): 0.4519   Adjusted R-squared: 0.3228 \n",
       "Multiple R-squared(proj model): 0.0001261   Adjusted R-squared: -0.2354 \n",
       "F-statistic(full model, *iid*):  3.5 on 1108920 and 4707517 DF, p-value: < 2.2e-16 \n",
       "F-statistic(proj model):  6.95 on 5 and 4683 DF, p-value: 1.782e-06 \n",
       "\n"
      ]
     },
     "metadata": {},
     "output_type": "display_data"
    }
   ],
   "source": [
    "t_2 <- felm(kandhelwal_quality ~ln_lag_tax_rebate* regime + ln_lag_import_tax * regime\n",
    "            | FE_cpr + FE_csrt + FE_pd|0 | HS6, df_final,\n",
    "            exactDOF = TRUE)\n",
    "summary(t_2)"
   ]
  },
  {
   "cell_type": "code",
   "execution_count": 25,
   "metadata": {
    "kernel": "R"
   },
   "outputs": [
    {
     "data": {
      "text/plain": [
       "\n",
       "Call:\n",
       "   felm(formula = kandhelwal_quality ~ ln_lag_tax_rebate * regime +      ln_lag_import_tax * regime | FE_cpr + FE_csrt + FE_pt | 0 |      HS6, data = df_final, exactDOF = TRUE) \n",
       "\n",
       "Residuals:\n",
       "    Min      1Q  Median      3Q     Max \n",
       "-82.744  -0.669   0.000   0.732  35.425 \n",
       "\n",
       "Coefficients:\n",
       "                                 Estimate Cluster s.e. t value Pr(>|t|)  \n",
       "ln_lag_tax_rebate                      NA      0.00000      NA       NA  \n",
       "regimeEligible                         NA      0.00000      NA       NA  \n",
       "ln_lag_import_tax                      NA      0.00000      NA       NA  \n",
       "ln_lag_tax_rebate:regimeEligible -0.15153      0.08488  -1.785   0.0743 .\n",
       "regimeEligible:ln_lag_import_tax  0.05567      0.10460   0.532   0.5946  \n",
       "---\n",
       "Signif. codes:  0 ‘***’ 0.001 ‘**’ 0.01 ‘*’ 0.05 ‘.’ 0.1 ‘ ’ 1\n",
       "\n",
       "Residual standard error: 2.057 on 5028950 degrees of freedom\n",
       "Multiple R-squared(full model): 0.3196   Adjusted R-squared: 0.2131 \n",
       "Multiple R-squared(proj model): 3.447e-06   Adjusted R-squared: -0.1566 \n",
       "F-statistic(full model, *iid*):    3 on 787487 and 5028950 DF, p-value: < 2.2e-16 \n",
       "F-statistic(proj model): 0.7171 on 5 and 4683 DF, p-value: 0.6105 \n",
       "\n"
      ]
     },
     "metadata": {},
     "output_type": "display_data"
    }
   ],
   "source": [
    "t_3 <- felm(kandhelwal_quality ~ln_lag_tax_rebate* regime + ln_lag_import_tax * regime\n",
    "            | FE_cpr + FE_csrt+FE_pt|0 | HS6, df_final,\n",
    "            exactDOF = TRUE)\n",
    "summary(t_3)"
   ]
  },
  {
   "cell_type": "code",
   "execution_count": null,
   "metadata": {
    "kernel": "SoS"
   },
   "outputs": [],
   "source": [
    "try:\n",
    "    os.remove(\"table_1.txt\")\n",
    "except:\n",
    "    pass\n",
    "try:\n",
    "    os.remove(\"table_1.tex\")\n",
    "except:\n",
    "    pass"
   ]
  },
  {
   "cell_type": "code",
   "execution_count": null,
   "metadata": {
    "kernel": "SoS"
   },
   "outputs": [],
   "source": [
    "dep <- \"Dependent variable: Quality of city $c$ for product $k$ exported to countr $c$ at year $t$\"\n",
    "table_1 <- go_latex(list(\n",
    "    t_1\n",
    "),\n",
    "    title=\"VAT export tax and product's quality upgrading, baseline regression\",\n",
    "    dep_var = dep,\n",
    "    addFE='',\n",
    "    save=TRUE,\n",
    "    note = FALSE,\n",
    "    name=\"table_1.txt\"\n",
    ")"
   ]
  },
  {
   "cell_type": "code",
   "execution_count": null,
   "metadata": {
    "kernel": "SoS"
   },
   "outputs": [],
   "source": [
    "tbe1 = \"\""
   ]
  },
  {
   "cell_type": "code",
   "execution_count": null,
   "metadata": {
    "kernel": "SoS"
   },
   "outputs": [],
   "source": [
    "lb.beautify(table_number = 1,\n",
    "            new_row= False,\n",
    "           table_nte = tbe1,\n",
    "           jupyter_preview = True,\n",
    "            resolution = 150)"
   ]
  },
  {
   "cell_type": "markdown",
   "metadata": {
    "kernel": "SoS"
   },
   "source": [
    "Test Log Export value"
   ]
  },
  {
   "cell_type": "code",
   "execution_count": null,
   "metadata": {
    "kernel": "SoS"
   },
   "outputs": [],
   "source": [
    "t_0 <- felm(log(value) ~ln_lag_tax_rebate* regime + ln_lag_import_tax * regime\n",
    "            | FE_cpr + FE_csrt+FE_pt+ FE_pd|0 | HS6, df_final,\n",
    "            exactDOF = TRUE)\n",
    "summary(t_0)\n",
    "t_1 <- felm(log(value) ~ln_lag_tax_rebate+ ln_lag_import_tax \n",
    "            | FE_cp + FE_cst+FE_pd|0 | HS6, df_final %>% filter(regime == 'Eligible'),\n",
    "            exactDOF = TRUE)\n",
    "summary(t_1)\n",
    "t_2 <- felm(log(value) ~ln_lag_tax_rebate + ln_lag_import_tax\n",
    "            | FE_cp + FE_cst + FE_pd|0 | HS6, df_final %>% filter(regime != 'Eligible'),\n",
    "            exactDOF = TRUE)\n",
    "summary(t_2)\n",
    "t_3 <- felm(log(value) ~ln_lag_tax_rebate* regime + ln_lag_import_tax * regime\n",
    "            | FE_cpr + FE_csrt + FE_pd|0 | HS6, df_final,\n",
    "            exactDOF = TRUE)\n",
    "summary(t_3)"
   ]
  },
  {
   "cell_type": "markdown",
   "metadata": {
    "kernel": "SoS"
   },
   "source": [
    "# CREATE REPORT"
   ]
  },
  {
   "cell_type": "code",
   "execution_count": null,
   "metadata": {
    "kernel": "SoS"
   },
   "outputs": [],
   "source": [
    "import os, time, shutil, urllib, ipykernel, json\n",
    "from pathlib import Path\n",
    "from notebook import notebookapp"
   ]
  },
  {
   "cell_type": "code",
   "execution_count": null,
   "metadata": {
    "kernel": "SoS"
   },
   "outputs": [],
   "source": [
    "def create_report(extension = \"html\"):\n",
    "    \"\"\"\n",
    "    Create a report from the current notebook and save it in the \n",
    "    Report folder (Parent-> child directory)\n",
    "    \n",
    "    1. Exctract the current notbook name\n",
    "    2. Convert the Notebook \n",
    "    3. Move the newly created report\n",
    "    \n",
    "    Args:\n",
    "    extension: string. Can be \"html\", \"pdf\", \"md\"\n",
    "    \n",
    "    \n",
    "    \"\"\"\n",
    "    \n",
    "    ### Get notebook name\n",
    "    connection_file = os.path.basename(ipykernel.get_connection_file())\n",
    "    kernel_id = connection_file.split('-', 1)[1].split('.')[0]\n",
    "\n",
    "    for srv in notebookapp.list_running_servers():\n",
    "        try:\n",
    "            if srv['token']=='' and not srv['password']:  \n",
    "                req = urllib.request.urlopen(srv['url']+'api/sessions')\n",
    "            else:\n",
    "                req = urllib.request.urlopen(srv['url']+ \\\n",
    "                                             'api/sessions?token=' + \\\n",
    "                                             srv['token'])\n",
    "            sessions = json.load(req)\n",
    "            notebookname = sessions[0]['name']\n",
    "        except:\n",
    "            pass  \n",
    "    \n",
    "    sep = '.'\n",
    "    #path = os.getcwd()\n",
    "    #parent_path = str(Path(path).parent)\n",
    "    \n",
    "    ### Path report\n",
    "    #path_report = \"{}/Reports\".format(parent_path)\n",
    "    #path_report = \"{}/Reports\".format(path)\n",
    "    \n",
    "    ### Path destination\n",
    "    name_no_extension = notebookname.split(sep, 1)[0]\n",
    "    source_to_move = name_no_extension +'.{}'.format(extension)\n",
    "    dest = os.path.join(path,'Reports', source_to_move)\n",
    "    \n",
    "    ### Generate notebook\n",
    "    os.system('jupyter nbconvert --no-input --to {} {}'.format(\n",
    "    extension,notebookname))\n",
    "    \n",
    "    ### Move notebook to report folder\n",
    "    #time.sleep(5)\n",
    "    shutil.move(source_to_move, dest)\n",
    "    print(\"Report Available at this adress:\\n {}\".format(dest))"
   ]
  }
 ],
 "metadata": {
  "jupytext": {
   "formats": "ipynb,md"
  },
  "kernelspec": {
   "display_name": "SoS",
   "language": "sos",
   "name": "sos"
  },
  "language_info": {
   "codemirror_mode": "sos",
   "file_extension": ".sos",
   "mimetype": "text/x-sos",
   "name": "sos",
   "nbconvert_exporter": "sos_notebook.converter.SoS_Exporter",
   "pygments_lexer": "sos"
  },
  "sos": {
   "kernels": [
    [
     "Python 3",
     "python3",
     "python3",
     "",
     {
      "name": "ipython",
      "version": 3
     }
    ],
    [
     "R",
     "ir",
     "R",
     "#DCDCDA",
     "r"
    ],
    [
     "SoS",
     "sos",
     "",
     "",
     "sos"
    ]
   ],
   "version": "0.21.13"
  }
 },
 "nbformat": 4,
 "nbformat_minor": 4
}
