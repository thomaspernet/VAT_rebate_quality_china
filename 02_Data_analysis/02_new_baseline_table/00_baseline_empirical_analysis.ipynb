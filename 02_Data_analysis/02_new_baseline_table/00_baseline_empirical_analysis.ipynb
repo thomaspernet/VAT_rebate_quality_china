{
 "cells": [
  {
   "cell_type": "markdown",
   "metadata": {
    "kernel": "SoS"
   },
   "source": [
    "# Estimate baseline equation \n",
    "\n",
    "This notebook has been generated on 08/14/2020\n",
    "\n",
    "## Objective(s)\n",
    "\n",
    "*  Estimate the baseline regression with the new dataset. The baseline regression is the following:\n",
    "\n",
    "Regress the quality index at the firm, product, city, destination and time  on the VAT rebate tax and eligibility and other control variables plus a bunch of fixed effect detailed later on\n",
    "\n",
    "![](https://drive.google.com/uc?export=view&id=1stdefCGutycsRZU9EuLgUoe3am8tgg5T)\n",
    "\n",
    "* Need to find a negative and significant coefficient\n",
    "* include product-year fixed effect\n",
    "\n",
    "## Metadata\n",
    "\n",
    "* Task type:\n",
    "  * Jupyter Notebook\n",
    "* Users: :\n",
    "  * Thomas Pernet\n",
    "* Watchers:\n",
    "  * Thomas Pernet\n",
    "* Estimated Log points:\n",
    "  * One being a simple task, 15 a very difficult one\n",
    "  *  10\n",
    "* Task tag\n",
    "  *  #linear-regression,#baseline-results,#fixed-effect\n",
    "* Toggl Tag\n",
    "  * #baseline-result\n",
    "\n",
    "## Input Cloud Storage [AWS/GCP]\n",
    "\n",
    "* BigQuery \n",
    "  * Table: quality_vat_export_2003_2010\n",
    "    * Notebook construction file (data lineage) \n",
    "      * md : [01_preparation_quality.md](https://github.com/thomaspernet/VAT_rebate_quality_china/blob/master/01_Data_preprocessing/01_preparation_quality.md)\n",
    "\n",
    "## Destination Output/Delivery\n",
    "\n",
    "1. Latex table (Latex & pdf)\n",
    "  * Description: The table should look like the one from the paper: thomaspernet/VAT_rebate_quality_china: table 1\n",
    "  * Github branch: master \n",
    "  * Folder: [02_Data_analysis/02_new_baseline_table/Tables](https://github.com/thomaspernet/VAT_rebate_quality_china/tree/master/02_Data_analysis/02_new_baseline_table/Tables)\n",
    "\n",
    "## Things to know (Steps, Attention points or new flow of information)\n",
    "\n",
    "* Documentation \n",
    "  * Coda: \n",
    "    * [US 1 Empirical analysis Baseline](https://coda.io/d/VAT-Rebate_d_s12qjWA8O/US-1-Empirical-analysis-Baseline_sugol): Details about FE and baseline regression\n",
    "* Github\n",
    "    1. Repo: [thomaspernet/VAT_rebate_quality_china: New FE table](https://github.com/thomaspernet/VAT_rebate_quality_china/blob/master/02_Data_analysis/01_new_fixed_effect/01_baseline_table.md#new-fe-table) → Table with the fixed effect to reproduce and baseline table"
   ]
  },
  {
   "cell_type": "markdown",
   "metadata": {
    "kernel": "SoS"
   },
   "source": [
    "# Load Dataset\n",
    "\n",
    "## inputs\n",
    "\n",
    "- Filename: quality_vat_export_2003_2010\n",
    "- Link: [BigQuery](https://console.cloud.google.com/bigquery?project=valid-pagoda-132423&p=valid-pagoda-132423&d=China&t=quality_vat_export_2003_2010&page=table)\n",
    "- Type: Table"
   ]
  },
  {
   "cell_type": "code",
   "execution_count": null,
   "metadata": {
    "kernel": "Python 3"
   },
   "outputs": [],
   "source": [
    "import pandas as pd \n",
    "import numpy as np\n",
    "from pathlib import Path\n",
    "import os, re,  requests, json \n",
    "from GoogleDrivePy.google_authorization import authorization_service\n",
    "from GoogleDrivePy.google_platform import connect_cloud_platform"
   ]
  },
  {
   "cell_type": "code",
   "execution_count": null,
   "metadata": {
    "kernel": "Python 3"
   },
   "outputs": [],
   "source": [
    "import function.latex_beautify as lb\n",
    "\n",
    "%load_ext autoreload\n",
    "%autoreload 2"
   ]
  },
  {
   "cell_type": "code",
   "execution_count": null,
   "metadata": {
    "kernel": "R"
   },
   "outputs": [],
   "source": [
    "options(warn=-1)\n",
    "library(tidyverse)\n",
    "library(lfe)\n",
    "library(lazyeval)\n",
    "library('progress')\n",
    "path = \"function/table_golatex.R\"\n",
    "source(path)"
   ]
  },
  {
   "cell_type": "code",
   "execution_count": null,
   "metadata": {
    "kernel": "SoS"
   },
   "outputs": [],
   "source": [
    "path = os.getcwd()\n",
    "parent_path = str(Path(path).parent)\n",
    "project = 'valid-pagoda-132423'\n",
    "\n",
    "\n",
    "auth = authorization_service.get_authorization(\n",
    "    path_credential_gcp = \"{}/creds/service.json\".format(parent_path),\n",
    "    verbose = False#\n",
    ")\n",
    "\n",
    "gcp_auth = auth.authorization_gcp()\n",
    "gcp = connect_cloud_platform.connect_console(project = project, \n",
    "                                             service_account = gcp_auth) "
   ]
  },
  {
   "cell_type": "code",
   "execution_count": null,
   "metadata": {
    "kernel": "SoS"
   },
   "outputs": [],
   "source": [
    "query = (\n",
    "          \"SELECT * \"\n",
    "            \"FROM China.quality_vat_export_2003_2010 \"\n",
    "\n",
    "        )"
   ]
  },
  {
   "cell_type": "code",
   "execution_count": null,
   "metadata": {
    "kernel": "R"
   },
   "outputs": [],
   "source": [
    "#df_final = gcp.upload_data_from_bigquery(query = query, location = 'US')\n",
    "#df_final.head()\n",
    "path = '../../00_Data_catalogue/temporary_local_data/quality_vat_export_2003_2010.csv'\n",
    "df_final <- read_csv(path) %>%\n",
    "mutate_if(is.character, as.factor) %>%\n",
    "    mutate_at(vars(starts_with(\"FE\")), as.factor) %>%\n",
    "mutate(regime = relevel(regime, ref='Not_Eligible'))"
   ]
  },
  {
   "cell_type": "code",
   "execution_count": null,
   "metadata": {
    "kernel": "SoS"
   },
   "outputs": [],
   "source": [
    "#import pandas as pd\n",
    "#path = '../../00_Data_catalogue/temporary_local_data/quality_vat_export_2003_2010.csv'\n",
    "#print(pd.read_csv(path).dtypes.to_markdown())"
   ]
  },
  {
   "cell_type": "markdown",
   "metadata": {
    "kernel": "SoS"
   },
   "source": [
    "# Models to estimate\n",
    "\n",
    "Variables:\n",
    "\n",
    "\n",
    "|       Variables        | Type    |\n",
    "|:-----------------------|:--------|\n",
    "| ID                     | int64   |\n",
    "| year                   | int64   |\n",
    "| regime                 | object  |\n",
    "| Trade_type             | object  |\n",
    "| Business_type          | object  |\n",
    "| HS6                    | int64   |\n",
    "| HS4                    | int64   |\n",
    "| HS3                    | int64   |\n",
    "| citycn                 | object  |\n",
    "| geocode4_corr          | int64   |\n",
    "| cityen                 | object  |\n",
    "| destination            | object  |\n",
    "| Country_en             | object  |\n",
    "| ISO_alpha              | object  |\n",
    "| Quantity               | int64   |\n",
    "| value                  | int64   |\n",
    "| unit_price             | float64 |\n",
    "| sigma                  | float64 |\n",
    "| sigma_price            | float64 |\n",
    "| lag_vat_m              | int64   |\n",
    "| lag_vat_reb_m          | int64   |\n",
    "| lag_tax_rebate         | float64 |\n",
    "| ln_lag_tax_rebate      | float64 |\n",
    "| y                      | float64 |\n",
    "| prediction             | float64 |\n",
    "| residual               | float64 |\n",
    "| price_adjusted_quality | float64 |\n",
    "| kandhelwal_quality     | float64 |\n",
    "| FE_ct                  | int64   |\n",
    "| FE_fpr                 | int64   |\n",
    "| FE_str                 | int64   |\n",
    "| FE_dt                  | int64   |\n",
    "| FE_pt                  | int64   |"
   ]
  },
  {
   "cell_type": "markdown",
   "metadata": {
    "kernel": "SoS"
   },
   "source": [
    "## Fixed Effect\n",
    "\n",
    "| Benchmark | Origin    | Name                     | Description                                                                                                                                                                                                                                                                                                                                    | Math_notebook     |\n",
    "|-----------|-----------|--------------------------|------------------------------------------------------------------------------------------------------------------------------------------------------------------------------------------------------------------------------------------------------------------------------------------------------------------------------------------------|-------------------|\n",
    "| Yes       | Current   | firm-product-eligibility | captures all the factors that affect firms regardless of the time and type of regime. This firm‒product pair eliminates the demand shocks that firms face and that are not correlated with the types of status. The fixed effects are also responsible for potential correlations between subsidies, R&D, or trade policies and VAT rebates.   | $\\alpha^{E}_{it}$ |\n",
    "| Yes       | Current   | HS4-year-eligibility     |                                                                                                                                                                                                                                                                                                                                                | $\\alpha^{E}_{st}$ |\n",
    "| Yes       | Current   | city-year                | captures the differences in demand, capital intensity, or labor supply that prevail between cities each year                                                                                                                                                                                                                                   | $\\alpha_{ct}$     |\n",
    "| Yes       | Current   | destination-year         | Captures additional level of control, encompassing all the shocks and developments in the economies to which China exports.                                                                                                                                                                                                                    | $\\alpha_{dt}$     |\n",
    "|           | Candidate | Product-year             | account for all factors that affect product-level export irrespective of the trade regime in a given year                                                                                                                                                                                                                                      | $\\alpha_{pt}$     |\n",
    "|           | Candidate | product-destination      |                                                                                                                                                                                                                                                                                                                                                | $\\alpha_{pd}$     |\n",
    "|           | Candidate | Product-destination-year |                                                                                                                                                                                                                                                                                                                                                | $\\alpha_{pdt}$    |"
   ]
  },
  {
   "cell_type": "markdown",
   "metadata": {
    "kernel": "SoS"
   },
   "source": [
    "## Table XX\n",
    "\n",
    "Equation to estimate:\n",
    "\n",
    "\n",
    "- Overleaf:"
   ]
  },
  {
   "cell_type": "code",
   "execution_count": null,
   "metadata": {
    "kernel": "R"
   },
   "outputs": [],
   "source": [
    "#t_1 <- felm(log(unit_price) ~ln_lag_tax_rebate* regime\n",
    "#            | FE_fpr + FE_str + FE_pt + FE_dt|0 | HS3 + geocode4_corr, df_final,\n",
    "#            exactDOF = TRUE)\n",
    "#summary(t_1)"
   ]
  },
  {
   "cell_type": "code",
   "execution_count": null,
   "metadata": {
    "kernel": "SoS"
   },
   "outputs": [],
   "source": [
    "try:\n",
    "    os.remove(\"table_1.txt\")\n",
    "except:\n",
    "    pass\n",
    "try:\n",
    "    os.remove(\"table_1.tex\")\n",
    "except:\n",
    "    pass"
   ]
  },
  {
   "cell_type": "code",
   "execution_count": null,
   "metadata": {
    "kernel": "SoS"
   },
   "outputs": [],
   "source": [
    "dep <- \"Dependent variable: XX\"\n",
    "table_1 <- go_latex(list(\n",
    "    t_1\n",
    "),\n",
    "    title=\"TITLE\",\n",
    "    dep_var = dep,\n",
    "    addFE='',\n",
    "    save=TRUE,\n",
    "    note = FALSE,\n",
    "    name=\"table_1.txt\"\n",
    ")"
   ]
  },
  {
   "cell_type": "code",
   "execution_count": null,
   "metadata": {
    "kernel": "SoS"
   },
   "outputs": [],
   "source": [
    "tbe1 = \"\""
   ]
  },
  {
   "cell_type": "code",
   "execution_count": null,
   "metadata": {
    "kernel": "SoS"
   },
   "outputs": [],
   "source": [
    "lb.beautify(table_number = 1,\n",
    "            new_row= False,\n",
    "           table_nte = tbe1,\n",
    "           jupyter_preview = True,\n",
    "            resolution = 150)"
   ]
  },
  {
   "cell_type": "markdown",
   "metadata": {
    "kernel": "SoS"
   },
   "source": [
    "# CREATE REPORT"
   ]
  },
  {
   "cell_type": "code",
   "execution_count": null,
   "metadata": {
    "kernel": "SoS"
   },
   "outputs": [],
   "source": [
    "import os, time, shutil, urllib, ipykernel, json\n",
    "from pathlib import Path\n",
    "from notebook import notebookapp"
   ]
  },
  {
   "cell_type": "code",
   "execution_count": null,
   "metadata": {
    "kernel": "SoS"
   },
   "outputs": [],
   "source": [
    "def create_report(extension = \"html\"):\n",
    "    \"\"\"\n",
    "    Create a report from the current notebook and save it in the \n",
    "    Report folder (Parent-> child directory)\n",
    "    \n",
    "    1. Exctract the current notbook name\n",
    "    2. Convert the Notebook \n",
    "    3. Move the newly created report\n",
    "    \n",
    "    Args:\n",
    "    extension: string. Can be \"html\", \"pdf\", \"md\"\n",
    "    \n",
    "    \n",
    "    \"\"\"\n",
    "    \n",
    "    ### Get notebook name\n",
    "    connection_file = os.path.basename(ipykernel.get_connection_file())\n",
    "    kernel_id = connection_file.split('-', 1)[1].split('.')[0]\n",
    "\n",
    "    for srv in notebookapp.list_running_servers():\n",
    "        try:\n",
    "            if srv['token']=='' and not srv['password']:  \n",
    "                req = urllib.request.urlopen(srv['url']+'api/sessions')\n",
    "            else:\n",
    "                req = urllib.request.urlopen(srv['url']+ \\\n",
    "                                             'api/sessions?token=' + \\\n",
    "                                             srv['token'])\n",
    "            sessions = json.load(req)\n",
    "            notebookname = sessions[0]['name']\n",
    "        except:\n",
    "            pass  \n",
    "    \n",
    "    sep = '.'\n",
    "    #path = os.getcwd()\n",
    "    #parent_path = str(Path(path).parent)\n",
    "    \n",
    "    ### Path report\n",
    "    #path_report = \"{}/Reports\".format(parent_path)\n",
    "    #path_report = \"{}/Reports\".format(path)\n",
    "    \n",
    "    ### Path destination\n",
    "    name_no_extension = notebookname.split(sep, 1)[0]\n",
    "    source_to_move = name_no_extension +'.{}'.format(extension)\n",
    "    dest = os.path.join(path,'Reports', source_to_move)\n",
    "    \n",
    "    ### Generate notebook\n",
    "    os.system('jupyter nbconvert --no-input --to {} {}'.format(\n",
    "    extension,notebookname))\n",
    "    \n",
    "    ### Move notebook to report folder\n",
    "    #time.sleep(5)\n",
    "    shutil.move(source_to_move, dest)\n",
    "    print(\"Report Available at this adress:\\n {}\".format(dest))"
   ]
  }
 ],
 "metadata": {
  "jupytext": {
   "formats": "ipynb,md"
  },
  "kernelspec": {
   "display_name": "SoS",
   "language": "sos",
   "name": "sos"
  },
  "language_info": {
   "codemirror_mode": "sos",
   "file_extension": ".sos",
   "mimetype": "text/x-sos",
   "name": "sos",
   "nbconvert_exporter": "sos_notebook.converter.SoS_Exporter",
   "pygments_lexer": "sos"
  },
  "sos": {
   "kernels": [
    [
     "Python 3",
     "python3",
     "python3",
     "",
     {
      "name": "ipython",
      "version": 3
     }
    ],
    [
     "R",
     "ir",
     "R",
     "#DCDCDA",
     "r"
    ],
    [
     "SoS",
     "sos",
     "",
     "",
     "sos"
    ]
   ],
   "version": "0.21.13"
  }
 },
 "nbformat": 4,
 "nbformat_minor": 4
}
