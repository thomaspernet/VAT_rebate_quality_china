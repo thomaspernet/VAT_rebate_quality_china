{
 "cells": [
  {
   "cell_type": "markdown",
   "metadata": {},
   "source": [
    "# Baseline dataset paper Quality data preprocessing\n",
    "\n",
    "This notebook has been generated on XX\n",
    "\n",
    "The objective of this notebook is to YYY\n",
    "\n",
    "## Global steps \n",
    "\n",
    "The global steps to construct the dataset are the following:\n",
    "\n",
    "- Lorem ipsum dolor sit amet\n",
    "- Lorem ipsum dolor sit amet\n",
    "- Lorem ipsum dolor sit amet\n",
    "\n",
    "## Data source \n",
    "\n",
    "The data source to construct the dataset are the following:"
   ]
  },
  {
   "cell_type": "markdown",
   "metadata": {},
   "source": []
  },
  {
   "cell_type": "markdown",
   "metadata": {
    "heading_collapsed": true
   },
   "source": [
    "## Destination\n",
    "\n",
    "The new dataset is available from XXX\n",
    "\n",
    "- GS: None\n",
    "- GCS: None\n",
    "- BG: None"
   ]
  },
  {
   "cell_type": "markdown",
   "metadata": {},
   "source": [
    "# Load Dataset\n"
   ]
  },
  {
   "cell_type": "code",
   "execution_count": null,
   "metadata": {
    "collapsed": false,
    "inputHidden": false,
    "jupyter": {
     "outputs_hidden": false
    },
    "outputHidden": false
   },
   "outputs": [],
   "source": [
    "from Fast_connectCloud import connector\n",
    "from GoogleDrivePy.google_drive import connect_drive\n",
    "from GoogleDrivePy.google_platform import connect_cloud_platform\n",
    "from app_creation import studio\n",
    "import pandas as pd \n",
    "import numpy as np\n",
    "import pandas_profiling\n",
    "from pathlib import Path\n",
    "import os, re,  requests, json "
   ]
  },
  {
   "cell_type": "code",
   "execution_count": null,
   "metadata": {
    "collapsed": false,
    "inputHidden": false,
    "jupyter": {
     "outputs_hidden": false
    },
    "outputHidden": false
   },
   "outputs": [],
   "source": [
    "gs = connector.open_connection(online_connection = False, \n",
    "\tpath_credential = '/PATH_TOKEN/')\n",
    "\n",
    "service_gd = gs.connect_remote(engine = 'GS')\n",
    "service_gcp = gs.connect_remote(engine = 'GCP')\n",
    "\n",
    "gdr = connect_drive.connect_drive(service_gd['GoogleDrive'])\n",
    "\n",
    "project = 'PROJECTNAME'\n",
    "gcp = connect_cloud_platform.connect_console(project = project,\n",
    "\t\t\t\t\t\t\t\t\t\t\t service_account = service_gcp['GoogleCloudP'])"
   ]
  },
  {
   "cell_type": "markdown",
   "metadata": {
    "heading_collapsed": true
   },
   "source": [
    "# Workflow\n",
    "\n",
    "In this section, we will construct the dataset, and document each step of the workflow.\n",
    "\n",
    "Please use the following format for the documentation:\n",
    "\n",
    "- `##` Step 1: XXX\n",
    "- `###` (optional) Underlying process description\n",
    "- `##` Step 2: YYY\n",
    "- `###` (optional) Underlying process description\n",
    "\n",
    "Note: **You need to rename the last dataframe `df_final`**"
   ]
  },
  {
   "cell_type": "code",
   "execution_count": null,
   "metadata": {
    "collapsed": false,
    "inputHidden": false,
    "jupyter": {
     "outputs_hidden": false
    },
    "outputHidden": false
   },
   "outputs": [],
   "source": []
  },
  {
   "cell_type": "markdown",
   "metadata": {},
   "source": [
    "# Profiling\n",
    "\n",
    "In order to get a quick summary statistic of the data, we generate an HTML file with the profiling of the dataset we've just created. \n",
    "\n",
    "The profiling will be available at this URL after you commit a push to GitHub. \n",
    "\n",
    "**You need to rename the final dataframe `df_final` in the previous section to generate the profiling.**"
   ]
  },
  {
   "cell_type": "code",
   "execution_count": null,
   "metadata": {},
   "outputs": [],
   "source": [
    "#### make sure the final dataframe is stored as df_final\n",
    "### Overide the default value: \n",
    "#https://github.com/pandas-profiling/pandas-profiling/blob/master/pandas_profiling/config_default.yaml\n",
    "\n",
    "profile = pandas_profiling.ProfileReport(df_final,\n",
    "                                        check_correlation_pearson = False)\n",
    "name_html = \"NAME.html\"\n",
    "profile.to_file(output_file=name_html)"
   ]
  },
  {
   "cell_type": "markdown",
   "metadata": {},
   "source": [
    "# Upload to cloud\n",
    "\n",
    "The dataset is ready to be shared with your colleagues. \n",
    "\n"
   ]
  },
  {
   "cell_type": "markdown",
   "metadata": {
    "nteract": {
     "transient": {
      "deleting": false
     }
    }
   },
   "source": [
    "# Generate Studio\n",
    "\n",
    "To generate a notebook ready to use in the studio, please fill in the variables below:\n",
    "\n",
    "- 'project_name' : Name of the repository\n",
    "- 'input_datasets' : name of the table\n",
    "- 'sheetnames' : Name of the sheet, if table saved in Google Spreadsheet\n",
    "- 'bigquery_dataset' : Dataset name\n",
    "- 'destination_engine' : 'GCP' or 'GS,\n",
    "- 'path_destination_studio' : path to `Notebooks_Ready_to_use_studio`\n",
    "- 'project' : 'valid-pagoda-132423',\n",
    "- 'username' : \"thomas\",\n",
    "- 'pathtoken' : Path to GCP token,\n",
    "- 'connector' : 'GBQ', ## change to GS if spreadsheet\n",
    "- 'labels' : Add any labels to the variables,\n",
    "- 'date_var' : Date variable"
   ]
  },
  {
   "cell_type": "code",
   "execution_count": null,
   "metadata": {
    "collapsed": false,
    "jupyter": {
     "outputs_hidden": false,
     "source_hidden": false
    },
    "nteract": {
     "transient": {
      "deleting": false
     }
    }
   },
   "outputs": [],
   "source": [
    "labels = []\n",
    "date_var = ''"
   ]
  },
  {
   "cell_type": "code",
   "execution_count": null,
   "metadata": {
    "collapsed": false,
    "jupyter": {
     "outputs_hidden": false,
     "source_hidden": false
    },
    "nteract": {
     "transient": {
      "deleting": false
     }
    }
   },
   "outputs": [],
   "source": [
    "regex = r\"(.*)/(.*)\"\n",
    "path = os.getcwd()\n",
    "parent_path = Path(path).parent\n",
    "test_str = str(parent_path)\n",
    "matches = re.search(regex, test_str)\n",
    "github_repo = matches.group(2)\n",
    "\n",
    "path_credential = '/Users/Thomas/Google Drive/Projects/Data_science/Google_code_n_Oauth/Client_Oauth/Google_auth/'\n",
    "\n",
    "dic_ = {\n",
    "    \n",
    "          'project_name' : github_repo,\n",
    "          'input_datasets' : 'PROJECTNAME',\n",
    "          'sheetnames' : '',\n",
    "          'bigquery_dataset' : 'China',\n",
    "          'destination_engine' : 'GCP',\n",
    "          'path_destination_studio' : os.path.join(test_str,\n",
    "                                       'Notebooks_Ready_to_use_studio'),\n",
    "          'project' : 'valid-pagoda-132423',\n",
    "          'username' : \"thomas\",\n",
    "          'pathtoken' : path_credential,\n",
    "          'connector' : 'GBQ', ## change to GS if spreadsheet\n",
    "          'labels' : labels,\n",
    "          'date_var' : date_var\n",
    "}\n",
    "create_studio = studio.connector_notebook(dic_)\n",
    "create_studio.generate_notebook_studio()"
   ]
  },
  {
   "cell_type": "markdown",
   "metadata": {
    "nteract": {
     "transient": {
      "deleting": false
     }
    }
   },
   "source": [
    "# Add data to catalogue\n",
    "\n",
    "Now that the dataset is ready, you need to add the underlying information to the data catalogue. The data catalogue is stored in [Coda](https://coda.io/d/MasterFile-Database_dvfMWDBnHh8/MetaDatabase_suYFO#_ludIZ), more precisely, in the table named `DataSource`. \n",
    "\n",
    "The cells below helps you to push the information directly to the table using Coda API.\n",
    "\n",
    "The columns are as follow:\n",
    "\n",
    "- `Storage`: Define the location of the table\n",
    "    - GBQ, GS, MongoDB\n",
    "- `Theme`: Define a theme attached to the table\n",
    "    - Accountancy, Complexity, Correspondance, Customer_prediction, Distance, Environment, Finance, Macro, Production, Productivity, Survey, Trade\n",
    "- `Database`: Name of the dataset. Use only for GBQ or MongoDB (collection)\n",
    "    - Business, China, Steamforged, Trade\n",
    "- `Path`:A URL with the path of the location of the dataset\n",
    "- `Filename`: Name of the table\n",
    "- `Description`: Description of the table. Be very specific. \n",
    "- `Source_data`: A list of the data sources used to construct the table.\n",
    "- `Link_methodology`: URL linked to the notebook\n",
    "- `Dataset_documentation`: Github repository attached to the table\n",
    "- `Status`: Status of the table. \n",
    "    - `Closed` if the table won't be altered in the future\n",
    "    - `Active` if the table will be altered in the future\n",
    "- `Profiling`: Specify if the user created a Pandas profiling\n",
    "    - `True` if the profiling has been created\n",
    "    - `False` otherwise\n",
    "- `Profiling_URL`: Profiling URL (link to Github). Always located in `Data_catalogue/table_profiling`\n",
    "- `JupyterStudio`: Specify if the user created a notebook to open the studio\n",
    "    - `True` if the notebook has been created\n",
    "    - `False` otherwise\n",
    "- `JupyterStudio_launcher`: Notebook URL (link to Github). Always located in `Notebooks_Ready_to_use_studio`\n",
    "- `Nb_projects`: Number of projects using this dataset. A Coda formula. Do not update this row\n",
    "- `Created on`: Date of creation. A Coda formula. Do not update this row\n",
    "\n",
    "Remember to commit in GitHub to activate the URL link for the profiling and Studio"
   ]
  },
  {
   "cell_type": "code",
   "execution_count": null,
   "metadata": {
    "collapsed": false,
    "jupyter": {
     "outputs_hidden": false,
     "source_hidden": false
    },
    "nteract": {
     "transient": {
      "deleting": false
     }
    }
   },
   "outputs": [],
   "source": [
    "Storage = 'GBQ'\n",
    "Theme = 'Trade' \n",
    "Database = 'China'\n",
    "Description = \"The table is related to\"\n",
    "Filename = 'PROJECTNAME'\n",
    "Status = 'Active'"
   ]
  },
  {
   "cell_type": "code",
   "execution_count": null,
   "metadata": {
    "collapsed": false,
    "jupyter": {
     "outputs_hidden": false,
     "source_hidden": false
    },
    "nteract": {
     "transient": {
      "deleting": false
     }
    }
   },
   "outputs": [],
   "source": []
  },
  {
   "cell_type": "markdown",
   "metadata": {
    "nteract": {
     "transient": {
      "deleting": false
     }
    }
   },
   "source": [
    "The next cell pushes the information to [Coda](https://coda.io/d/MasterFile-Database_dvfMWDBnHh8/Test-API_suDBp#API_tuDK4)"
   ]
  },
  {
   "cell_type": "code",
   "execution_count": null,
   "metadata": {
    "collapsed": false,
    "jupyter": {
     "outputs_hidden": false,
     "source_hidden": false
    },
    "nteract": {
     "transient": {
      "deleting": false
     }
    }
   },
   "outputs": [],
   "source": [
    "regex = r\"(.*)/(.*)\"\n",
    "path = os.getcwd()\n",
    "parent_path = Path(path).parent\n",
    "test_str = str(parent_path)\n",
    "matches = re.search(regex, test_str)\n",
    "github_repo = matches.group(2)\n",
    "\n",
    "Profiling = True\n",
    "if Profiling:\n",
    "    Profiling_URL = 'http://htmlpreview.github.io/?https://github.com/' \\\n",
    "    'thomaspernet/{}/blob/master/Data_catalogue/table_profiling/{}.html'.format(github_repo,\n",
    "                                                                               Filename)\n",
    "else:\n",
    "    Profiling_URL = ''\n",
    "JupyterStudio = False\n",
    "if JupyterStudio:\n",
    "    JupyterStudio_URL = '\"https://mybinder.org/v2/gh/thomaspernet/{0}/' \\\n",
    "    'master?filepath=Notebooks_Ready_to_use_studio%2F{1}_studio.ipynb'.format(github_repo, Filename)\n",
    "else:\n",
    "    JupyterStudio_URL = ''\n",
    "### BigQuery only \n",
    "path_url = 'https://console.cloud.google.com/bigquery?project=valid-pagoda-132423' \\\n",
    "'&p=valid-pagoda-132423&d=China&t={}&page=table'.format(Filename)\n",
    "\n",
    "Link_methodology = 'https://nbviewer.jupyter.org/github/thomaspernet/' \\\n",
    "    '{0}/blob/master/Data_preprocessing/' \\\n",
    "    '{1}.ipynb'.format(github_repo,\n",
    "    Filename)\n",
    "\n",
    "Dataset_documentation = 'https://github.com/thomaspernet/{}'.format(github_repo)\n",
    "\n",
    "to_add = {\n",
    "    'Storage': Storage,\n",
    "    'Theme': Theme,\n",
    "    'Database': Database,\n",
    "    'Path_url': path_url,\n",
    "    'Filename': Filename,\n",
    "    'Description': Description,\n",
    "    'Source_data': Source_data,\n",
    "    'Link_methodology': Link_methodology,\n",
    "    'Dataset_documentation': Dataset_documentation,\n",
    "    'Status': Status,\n",
    "    'Profiling_URL': Profiling_URL,\n",
    "    'JupyterStudio_launcher': JupyterStudio_URL\n",
    "\n",
    "}\n",
    "cols= []\n",
    "for key, value in to_add.items():\n",
    "    coda = {\n",
    "    'column': key,\n",
    "    'value':value\n",
    "    }\n",
    "    cols.append(coda)\n",
    "    \n",
    "###load token coda\n",
    "with open('token_coda.json') as json_file:\n",
    "    data = json.load(json_file)\n",
    "    \n",
    "token = data[0]['token'] \n",
    "\n",
    "uri = f'https://coda.io/apis/v1beta1/docs/vfMWDBnHh8/tables/grid-HgpAnIEhpP/rows'\n",
    "payload = {\n",
    "  'rows': [\n",
    "    {\n",
    "      'cells': cols,\n",
    "    },\n",
    "  ],\n",
    "}\n",
    "req = requests.post(uri, headers=headers, json=payload)\n",
    "req.raise_for_status() # Throw if there was an error.\n",
    "res = req.json()"
   ]
  },
  {
   "cell_type": "code",
   "execution_count": null,
   "metadata": {
    "collapsed": false,
    "jupyter": {
     "outputs_hidden": false,
     "source_hidden": false
    },
    "nteract": {
     "transient": {
      "deleting": false
     }
    }
   },
   "outputs": [],
   "source": []
  }
 ],
 "metadata": {
  "jupytext": {
   "formats": "ipynb,md"
  },
  "kernel_info": {
   "name": "python3"
  },
  "kernelspec": {
   "display_name": "Python 3",
   "language": "python",
   "name": "python3"
  },
  "language_info": {
   "codemirror_mode": {
    "name": "ipython",
    "version": 3
   },
   "file_extension": ".py",
   "mimetype": "text/x-python",
   "name": "python",
   "nbconvert_exporter": "python",
   "pygments_lexer": "ipython3",
   "version": "3.7.6"
  },
  "nteract": {
   "version": "0.22.0"
  },
  "toc": {
   "base_numbering": 1,
   "nav_menu": {},
   "number_sections": true,
   "sideBar": true,
   "skip_h1_title": false,
   "title_cell": "Table of Contents",
   "title_sidebar": "Contents",
   "toc_cell": false,
   "toc_position": {},
   "toc_section_display": true,
   "toc_window_display": false
  }
 },
 "nbformat": 4,
 "nbformat_minor": 4
}
